{
 "cells": [
  {
   "cell_type": "markdown",
   "metadata": {},
   "source": [
    "#### Investigação Hospfar e outros fornecedores de medicamentos acusados de fraude em licitações e outros crimes, mas que continuam fornecedores do governo federal, quem são, quanto recebem?\n",
    "#### Pagamentos feitos pelo governo federal Atualizados pelo IPCA.\n",
    "##### fonte.:Dados atualizados em 10.5.2018\n",
    "##### Exportado em 3.10.2018\n",
    "##### Fonte: Datascopio (dados.org)\n"
   ]
  },
  {
   "cell_type": "code",
   "execution_count": 1,
   "metadata": {},
   "outputs": [],
   "source": [
    "import pandas as pd"
   ]
  },
  {
   "cell_type": "code",
   "execution_count": 2,
   "metadata": {},
   "outputs": [],
   "source": [
    "hospfar = pd.read_csv('pagto_hospfar.csv', skiprows=2)"
   ]
  },
  {
   "cell_type": "code",
   "execution_count": 3,
   "metadata": {},
   "outputs": [
    {
     "data": {
      "text/html": [
       "<div>\n",
       "<style scoped>\n",
       "    .dataframe tbody tr th:only-of-type {\n",
       "        vertical-align: middle;\n",
       "    }\n",
       "\n",
       "    .dataframe tbody tr th {\n",
       "        vertical-align: top;\n",
       "    }\n",
       "\n",
       "    .dataframe thead th {\n",
       "        text-align: right;\n",
       "    }\n",
       "</style>\n",
       "<table border=\"1\" class=\"dataframe\">\n",
       "  <thead>\n",
       "    <tr style=\"text-align: right;\">\n",
       "      <th></th>\n",
       "      <th>órgão</th>\n",
       "      <th>subordinado a</th>\n",
       "      <th>montante</th>\n",
       "      <th>ano</th>\n",
       "    </tr>\n",
       "  </thead>\n",
       "  <tbody>\n",
       "    <tr>\n",
       "      <th>0</th>\n",
       "      <td>COORDENACAO DE EXECUCAO ORC. E FINANCEIRA</td>\n",
       "      <td>Ministério do Planejamento, Orçamento e Gestão</td>\n",
       "      <td>2098.0</td>\n",
       "      <td>2011.0</td>\n",
       "    </tr>\n",
       "    <tr>\n",
       "      <th>1</th>\n",
       "      <td>COORDENACAO DE EXECUCAO ORC. E FINANCEIRA</td>\n",
       "      <td>Ministério do Planejamento, Orçamento e Gestão</td>\n",
       "      <td>27557.0</td>\n",
       "      <td>2012.0</td>\n",
       "    </tr>\n",
       "    <tr>\n",
       "      <th>2</th>\n",
       "      <td>EMBRAPA/AGROENERGIA</td>\n",
       "      <td>Ministério da Agricultura, Pecuária e Abasteci...</td>\n",
       "      <td>969.0</td>\n",
       "      <td>2011.0</td>\n",
       "    </tr>\n",
       "    <tr>\n",
       "      <th>3</th>\n",
       "      <td>SUPERINTENDÊNCIA DE ADMINISTRAÇÃO DO MF/DF</td>\n",
       "      <td>Ministério da Fazenda</td>\n",
       "      <td>170.0</td>\n",
       "      <td>2012.0</td>\n",
       "    </tr>\n",
       "    <tr>\n",
       "      <th>4</th>\n",
       "      <td>FCDF SSP   POLICIA MILITAR DO DF</td>\n",
       "      <td>Transferências a Estados, Distrito Federal e M...</td>\n",
       "      <td>9.0</td>\n",
       "      <td>2012.0</td>\n",
       "    </tr>\n",
       "  </tbody>\n",
       "</table>\n",
       "</div>"
      ],
      "text/plain": [
       "                                        órgão  \\\n",
       "0   COORDENACAO DE EXECUCAO ORC. E FINANCEIRA   \n",
       "1   COORDENACAO DE EXECUCAO ORC. E FINANCEIRA   \n",
       "2                         EMBRAPA/AGROENERGIA   \n",
       "3  SUPERINTENDÊNCIA DE ADMINISTRAÇÃO DO MF/DF   \n",
       "4            FCDF SSP   POLICIA MILITAR DO DF   \n",
       "\n",
       "                                       subordinado a  montante     ano  \n",
       "0     Ministério do Planejamento, Orçamento e Gestão    2098.0  2011.0  \n",
       "1     Ministério do Planejamento, Orçamento e Gestão   27557.0  2012.0  \n",
       "2  Ministério da Agricultura, Pecuária e Abasteci...     969.0  2011.0  \n",
       "3                              Ministério da Fazenda     170.0  2012.0  \n",
       "4  Transferências a Estados, Distrito Federal e M...       9.0  2012.0  "
      ]
     },
     "execution_count": 3,
     "metadata": {},
     "output_type": "execute_result"
    }
   ],
   "source": [
    "hospfar.head()"
   ]
  },
  {
   "cell_type": "code",
   "execution_count": 4,
   "metadata": {},
   "outputs": [
    {
     "name": "stdout",
     "output_type": "stream",
     "text": [
      "<class 'pandas.core.frame.DataFrame'>\n",
      "RangeIndex: 993 entries, 0 to 992\n",
      "Data columns (total 4 columns):\n",
      "órgão            991 non-null object\n",
      "subordinado a    989 non-null object\n",
      "montante         988 non-null float64\n",
      "ano              987 non-null float64\n",
      "dtypes: float64(2), object(2)\n",
      "memory usage: 31.1+ KB\n"
     ]
    }
   ],
   "source": [
    "hospfar.info()"
   ]
  },
  {
   "cell_type": "code",
   "execution_count": 5,
   "metadata": {},
   "outputs": [
    {
     "data": {
      "text/plain": [
       "array([2011., 2012., 2013., 2014., 2015., 2016., 2017.,   nan])"
      ]
     },
     "execution_count": 5,
     "metadata": {},
     "output_type": "execute_result"
    }
   ],
   "source": [
    "hospfar.ano.unique()"
   ]
  },
  {
   "cell_type": "code",
   "execution_count": 6,
   "metadata": {},
   "outputs": [
    {
     "data": {
      "text/plain": [
       "HOSPITAL GERAL DE FORTALEZA                 14\n",
       "HOSPITAL MILITAR DE AREA DE BRASILIA        14\n",
       "HOSPITAL MILITAR DE AREA DE CAMPO GRANDE    14\n",
       "HOSPITAL CENTRAL DO EXERCITO                13\n",
       "HOSPITAL GERAL DE CURITIBA                  13\n",
       "HOSPITAL DE GUARNICAO DE NATAL              13\n",
       "HOSPITAL NAVAL DE RECIFE                    13\n",
       "HOSPITAL UNIVERSITARIO                      13\n",
       "HOSPITAL GERAL DE BELEM                     13\n",
       "HOSPITAL NAVAL MARCILIO DIAS                13\n",
       "Name: órgão, dtype: int64"
      ]
     },
     "execution_count": 6,
     "metadata": {},
     "output_type": "execute_result"
    }
   ],
   "source": [
    "hospfar['órgão'].value_counts().head(10)"
   ]
  },
  {
   "cell_type": "code",
   "execution_count": 7,
   "metadata": {},
   "outputs": [
    {
     "data": {
      "text/plain": [
       "379365552.0"
      ]
     },
     "execution_count": 7,
     "metadata": {},
     "output_type": "execute_result"
    }
   ],
   "source": [
    "hospfar.montante.sum()"
   ]
  },
  {
   "cell_type": "markdown",
   "metadata": {},
   "source": [
    "### A Hospfar fornece medicamentos para 991 órgãos governamentais, subordinados a 10 ministérios."
   ]
  },
  {
   "cell_type": "code",
   "execution_count": 8,
   "metadata": {},
   "outputs": [
    {
     "data": {
      "text/plain": [
       "991"
      ]
     },
     "execution_count": 8,
     "metadata": {},
     "output_type": "execute_result"
    }
   ],
   "source": [
    "hospfar['órgão'].count()"
   ]
  },
  {
   "cell_type": "markdown",
   "metadata": {},
   "source": [
    "#### Ministérios com contratos com a Hospfar. "
   ]
  },
  {
   "cell_type": "code",
   "execution_count": 9,
   "metadata": {},
   "outputs": [
    {
     "data": {
      "text/plain": [
       "Ministério da Defesa                                       539\n",
       "Ministério da Educação                                     267\n",
       "Ministério da Saúde                                        125\n",
       "Órgão Genérico Geratriz                                     45\n",
       "Transferências a Estados, Distrito Federal e Municípios      6\n",
       "Ministério do Planejamento, Orçamento e Gestão               2\n",
       "Ministério da Agricultura, Pecuária e Abastecimento          1\n",
       "Ministério do Meio Ambiente                                  1\n",
       "379359944                                                    1\n",
       "Ministério da Justiça                                        1\n",
       "Ministério da Fazenda                                        1\n",
       "Name: subordinado a, dtype: int64"
      ]
     },
     "execution_count": 9,
     "metadata": {},
     "output_type": "execute_result"
    }
   ],
   "source": [
    "#Quantos recebimentos por órgão\n",
    "hospfar['subordinado a'].value_counts()"
   ]
  },
  {
   "cell_type": "code",
   "execution_count": 10,
   "metadata": {},
   "outputs": [
    {
     "data": {
      "text/plain": [
       "array(['Ministério do Planejamento, Orçamento e Gestão',\n",
       "       'Ministério da Agricultura, Pecuária e Abastecimento',\n",
       "       'Ministério da Fazenda',\n",
       "       'Transferências a Estados, Distrito Federal e Municípios',\n",
       "       'Ministério da Educação', 'Ministério da Justiça',\n",
       "       'Ministério da Saúde', 'Ministério do Meio Ambiente',\n",
       "       'Ministério da Defesa', 'Órgão Genérico Geratriz', '379359944',\n",
       "       nan], dtype=object)"
      ]
     },
     "execution_count": 10,
     "metadata": {},
     "output_type": "execute_result"
    }
   ],
   "source": [
    "#Lista as despesas do governo federal por ministério\n",
    "hospfar['subordinado a'].unique()"
   ]
  },
  {
   "cell_type": "code",
   "execution_count": 11,
   "metadata": {},
   "outputs": [
    {
     "data": {
      "text/plain": [
       "subordinado a\n",
       "379359944                                                          0.0\n",
       "Ministério da Agricultura, Pecuária e Abastecimento              969.0\n",
       "Ministério da Defesa                                        61823745.0\n",
       "Ministério da Educação                                     100229440.0\n",
       "Ministério da Fazenda                                            170.0\n",
       "Ministério da Justiça                                           3984.0\n",
       "Ministério da Saúde                                        200938067.0\n",
       "Ministério do Meio Ambiente                                     1945.0\n",
       "Ministério do Planejamento, Orçamento e Gestão                 29655.0\n",
       "Transferências a Estados, Distrito Federal e Municípios        78762.0\n",
       "Órgão Genérico Geratriz                                     16258815.0\n",
       "Name: montante, dtype: float64"
      ]
     },
     "execution_count": 11,
     "metadata": {},
     "output_type": "execute_result"
    }
   ],
   "source": [
    "hospfar.groupby('subordinado a')['montante'].sum(ascending=False)"
   ]
  },
  {
   "cell_type": "code",
   "execution_count": 12,
   "metadata": {},
   "outputs": [
    {
     "data": {
      "text/html": [
       "<div>\n",
       "<style scoped>\n",
       "    .dataframe tbody tr th:only-of-type {\n",
       "        vertical-align: middle;\n",
       "    }\n",
       "\n",
       "    .dataframe tbody tr th {\n",
       "        vertical-align: top;\n",
       "    }\n",
       "\n",
       "    .dataframe thead th {\n",
       "        text-align: right;\n",
       "    }\n",
       "</style>\n",
       "<table border=\"1\" class=\"dataframe\">\n",
       "  <thead>\n",
       "    <tr style=\"text-align: right;\">\n",
       "      <th></th>\n",
       "      <th>órgão</th>\n",
       "      <th>subordinado a</th>\n",
       "      <th>montante</th>\n",
       "      <th>ano</th>\n",
       "    </tr>\n",
       "  </thead>\n",
       "  <tbody>\n",
       "    <tr>\n",
       "      <th>311</th>\n",
       "      <td>DEPARTAMENTO DE LOGISTICA EM SAUDE - DLOG</td>\n",
       "      <td>Ministério da Saúde</td>\n",
       "      <td>32605267.0</td>\n",
       "      <td>2014.0</td>\n",
       "    </tr>\n",
       "    <tr>\n",
       "      <th>313</th>\n",
       "      <td>DEPARTAMENTO DE LOGISTICA EM SAUDE - DLOG</td>\n",
       "      <td>Ministério da Saúde</td>\n",
       "      <td>24362304.0</td>\n",
       "      <td>2016.0</td>\n",
       "    </tr>\n",
       "    <tr>\n",
       "      <th>312</th>\n",
       "      <td>DEPARTAMENTO DE LOGISTICA EM SAUDE - DLOG</td>\n",
       "      <td>Ministério da Saúde</td>\n",
       "      <td>20868776.0</td>\n",
       "      <td>2015.0</td>\n",
       "    </tr>\n",
       "    <tr>\n",
       "      <th>314</th>\n",
       "      <td>DEPARTAMENTO DE LOGISTICA EM SAUDE - DLOG</td>\n",
       "      <td>Ministério da Saúde</td>\n",
       "      <td>17175593.0</td>\n",
       "      <td>2017.0</td>\n",
       "    </tr>\n",
       "    <tr>\n",
       "      <th>309</th>\n",
       "      <td>DEPARTAMENTO DE LOGISTICA EM SAUDE - DLOG</td>\n",
       "      <td>Ministério da Saúde</td>\n",
       "      <td>10027996.0</td>\n",
       "      <td>2012.0</td>\n",
       "    </tr>\n",
       "  </tbody>\n",
       "</table>\n",
       "</div>"
      ],
      "text/plain": [
       "                                         órgão        subordinado a  \\\n",
       "311  DEPARTAMENTO DE LOGISTICA EM SAUDE - DLOG  Ministério da Saúde   \n",
       "313  DEPARTAMENTO DE LOGISTICA EM SAUDE - DLOG  Ministério da Saúde   \n",
       "312  DEPARTAMENTO DE LOGISTICA EM SAUDE - DLOG  Ministério da Saúde   \n",
       "314  DEPARTAMENTO DE LOGISTICA EM SAUDE - DLOG  Ministério da Saúde   \n",
       "309  DEPARTAMENTO DE LOGISTICA EM SAUDE - DLOG  Ministério da Saúde   \n",
       "\n",
       "       montante     ano  \n",
       "311  32605267.0  2014.0  \n",
       "313  24362304.0  2016.0  \n",
       "312  20868776.0  2015.0  \n",
       "314  17175593.0  2017.0  \n",
       "309  10027996.0  2012.0  "
      ]
     },
     "execution_count": 12,
     "metadata": {},
     "output_type": "execute_result"
    }
   ],
   "source": [
    "hospfar.nlargest(5, 'montante')"
   ]
  },
  {
   "cell_type": "markdown",
   "metadata": {},
   "source": [
    "#### A Hospfar recebeu um total de 379.365.552,0  em pagamentos entre 2011 e 2017. O DEPARTAMENTO DE LOGISTICA EM SAUDE - DLOG é o maior contratante e o que mais pagou nos anos de 2012 e 2014 até 2017. Total recebido desse órgão  BRL 114.113.823,00 milhões"
   ]
  },
  {
   "cell_type": "code",
   "execution_count": 13,
   "metadata": {},
   "outputs": [
    {
     "data": {
      "text/plain": [
       "114113823.0"
      ]
     },
     "execution_count": 13,
     "metadata": {},
     "output_type": "execute_result"
    }
   ],
   "source": [
    "hospfar[hospfar['órgão'] == 'DEPARTAMENTO DE LOGISTICA EM SAUDE - DLOG'].montante.sum() "
   ]
  },
  {
   "cell_type": "code",
   "execution_count": 14,
   "metadata": {},
   "outputs": [
    {
     "data": {
      "text/plain": [
       "423485.0"
      ]
     },
     "execution_count": 14,
     "metadata": {},
     "output_type": "execute_result"
    }
   ],
   "source": [
    "hospfar[hospfar['órgão'] == 'FUNDACAO NACIONAL DE SAUDE - DF'].montante.sum() "
   ]
  },
  {
   "cell_type": "code",
   "execution_count": 15,
   "metadata": {},
   "outputs": [
    {
     "data": {
      "text/html": [
       "<div>\n",
       "<style scoped>\n",
       "    .dataframe tbody tr th:only-of-type {\n",
       "        vertical-align: middle;\n",
       "    }\n",
       "\n",
       "    .dataframe tbody tr th {\n",
       "        vertical-align: top;\n",
       "    }\n",
       "\n",
       "    .dataframe thead th {\n",
       "        text-align: right;\n",
       "    }\n",
       "</style>\n",
       "<table border=\"1\" class=\"dataframe\">\n",
       "  <thead>\n",
       "    <tr style=\"text-align: right;\">\n",
       "      <th></th>\n",
       "      <th>órgão</th>\n",
       "      <th>subordinado a</th>\n",
       "      <th>montante</th>\n",
       "      <th>ano</th>\n",
       "    </tr>\n",
       "  </thead>\n",
       "  <tbody>\n",
       "    <tr>\n",
       "      <th>275</th>\n",
       "      <td>FUNDACAO OSWALDO CRUZ</td>\n",
       "      <td>Ministério da Saúde</td>\n",
       "      <td>86290.0</td>\n",
       "      <td>2011.0</td>\n",
       "    </tr>\n",
       "    <tr>\n",
       "      <th>276</th>\n",
       "      <td>FUNDACAO OSWALDO CRUZ</td>\n",
       "      <td>Ministério da Saúde</td>\n",
       "      <td>37875.0</td>\n",
       "      <td>2012.0</td>\n",
       "    </tr>\n",
       "    <tr>\n",
       "      <th>277</th>\n",
       "      <td>FUNDACAO OSWALDO CRUZ</td>\n",
       "      <td>Ministério da Saúde</td>\n",
       "      <td>160623.0</td>\n",
       "      <td>2013.0</td>\n",
       "    </tr>\n",
       "    <tr>\n",
       "      <th>278</th>\n",
       "      <td>FUNDACAO OSWALDO CRUZ</td>\n",
       "      <td>Ministério da Saúde</td>\n",
       "      <td>55348.0</td>\n",
       "      <td>2014.0</td>\n",
       "    </tr>\n",
       "    <tr>\n",
       "      <th>279</th>\n",
       "      <td>CENTRO DE PESQUISAS RENE RACHOU</td>\n",
       "      <td>Ministério da Saúde</td>\n",
       "      <td>20131.0</td>\n",
       "      <td>2011.0</td>\n",
       "    </tr>\n",
       "    <tr>\n",
       "      <th>280</th>\n",
       "      <td>INSTITUTO DE TECNOLOGIA EM FARMACOS</td>\n",
       "      <td>Ministério da Saúde</td>\n",
       "      <td>5149.0</td>\n",
       "      <td>2011.0</td>\n",
       "    </tr>\n",
       "    <tr>\n",
       "      <th>281</th>\n",
       "      <td>INSTITUTO DE TECNOLOGIA EM FARMACOS</td>\n",
       "      <td>Ministério da Saúde</td>\n",
       "      <td>9923.0</td>\n",
       "      <td>2016.0</td>\n",
       "    </tr>\n",
       "    <tr>\n",
       "      <th>282</th>\n",
       "      <td>INSTITUTO FERNANDES FIGUEIRA</td>\n",
       "      <td>Ministério da Saúde</td>\n",
       "      <td>58361.0</td>\n",
       "      <td>2011.0</td>\n",
       "    </tr>\n",
       "    <tr>\n",
       "      <th>283</th>\n",
       "      <td>INSTITUTO FERNANDES FIGUEIRA</td>\n",
       "      <td>Ministério da Saúde</td>\n",
       "      <td>83922.0</td>\n",
       "      <td>2012.0</td>\n",
       "    </tr>\n",
       "    <tr>\n",
       "      <th>284</th>\n",
       "      <td>INSTITUTO FERNANDES FIGUEIRA</td>\n",
       "      <td>Ministério da Saúde</td>\n",
       "      <td>75720.0</td>\n",
       "      <td>2013.0</td>\n",
       "    </tr>\n",
       "    <tr>\n",
       "      <th>285</th>\n",
       "      <td>INSTITUTO FERNANDES FIGUEIRA</td>\n",
       "      <td>Ministério da Saúde</td>\n",
       "      <td>84117.0</td>\n",
       "      <td>2014.0</td>\n",
       "    </tr>\n",
       "    <tr>\n",
       "      <th>286</th>\n",
       "      <td>INSTITUTO FERNANDES FIGUEIRA</td>\n",
       "      <td>Ministério da Saúde</td>\n",
       "      <td>64562.0</td>\n",
       "      <td>2015.0</td>\n",
       "    </tr>\n",
       "    <tr>\n",
       "      <th>287</th>\n",
       "      <td>INSTITUTO FERNANDES FIGUEIRA</td>\n",
       "      <td>Ministério da Saúde</td>\n",
       "      <td>39124.0</td>\n",
       "      <td>2016.0</td>\n",
       "    </tr>\n",
       "    <tr>\n",
       "      <th>288</th>\n",
       "      <td>INSTITUTO FERNANDES FIGUEIRA</td>\n",
       "      <td>Ministério da Saúde</td>\n",
       "      <td>1057.0</td>\n",
       "      <td>2017.0</td>\n",
       "    </tr>\n",
       "    <tr>\n",
       "      <th>289</th>\n",
       "      <td>ESCOLA NAC. DE SAUDE PÚBLICA SÉRGIO AROUCA</td>\n",
       "      <td>Ministério da Saúde</td>\n",
       "      <td>529.0</td>\n",
       "      <td>2011.0</td>\n",
       "    </tr>\n",
       "    <tr>\n",
       "      <th>290</th>\n",
       "      <td>ESCOLA NAC. DE SAUDE PÚBLICA SÉRGIO AROUCA</td>\n",
       "      <td>Ministério da Saúde</td>\n",
       "      <td>2037.0</td>\n",
       "      <td>2012.0</td>\n",
       "    </tr>\n",
       "    <tr>\n",
       "      <th>291</th>\n",
       "      <td>INSTITUTO OSWALDO CRUZ</td>\n",
       "      <td>Ministério da Saúde</td>\n",
       "      <td>5139.0</td>\n",
       "      <td>2014.0</td>\n",
       "    </tr>\n",
       "    <tr>\n",
       "      <th>292</th>\n",
       "      <td>HOSPITAL CRISTO REDENTOR S/A</td>\n",
       "      <td>Ministério da Saúde</td>\n",
       "      <td>8829.0</td>\n",
       "      <td>2011.0</td>\n",
       "    </tr>\n",
       "    <tr>\n",
       "      <th>293</th>\n",
       "      <td>HOSPITAL CRISTO REDENTOR S/A</td>\n",
       "      <td>Ministério da Saúde</td>\n",
       "      <td>9137.0</td>\n",
       "      <td>2012.0</td>\n",
       "    </tr>\n",
       "    <tr>\n",
       "      <th>294</th>\n",
       "      <td>HOSPITAL FEMINA S/A</td>\n",
       "      <td>Ministério da Saúde</td>\n",
       "      <td>11564.0</td>\n",
       "      <td>2011.0</td>\n",
       "    </tr>\n",
       "    <tr>\n",
       "      <th>295</th>\n",
       "      <td>HOSPITAL FEMINA S/A</td>\n",
       "      <td>Ministério da Saúde</td>\n",
       "      <td>8381.0</td>\n",
       "      <td>2012.0</td>\n",
       "    </tr>\n",
       "    <tr>\n",
       "      <th>296</th>\n",
       "      <td>HOSPITAL NOSSA SENHORA DA CONCEICAO S/A</td>\n",
       "      <td>Ministério da Saúde</td>\n",
       "      <td>160549.0</td>\n",
       "      <td>2011.0</td>\n",
       "    </tr>\n",
       "    <tr>\n",
       "      <th>297</th>\n",
       "      <td>HOSPITAL NOSSA SENHORA DA CONCEICAO S/A</td>\n",
       "      <td>Ministério da Saúde</td>\n",
       "      <td>68776.0</td>\n",
       "      <td>2012.0</td>\n",
       "    </tr>\n",
       "    <tr>\n",
       "      <th>298</th>\n",
       "      <td>HOSPITAL NOSSA SENHORA DA CONCEICAO S/A</td>\n",
       "      <td>Ministério da Saúde</td>\n",
       "      <td>75475.0</td>\n",
       "      <td>2013.0</td>\n",
       "    </tr>\n",
       "    <tr>\n",
       "      <th>299</th>\n",
       "      <td>HOSPITAL NOSSA SENHORA DA CONCEICAO S/A</td>\n",
       "      <td>Ministério da Saúde</td>\n",
       "      <td>36732.0</td>\n",
       "      <td>2014.0</td>\n",
       "    </tr>\n",
       "    <tr>\n",
       "      <th>300</th>\n",
       "      <td>HOSPITAL NOSSA SENHORA DA CONCEICAO S/A</td>\n",
       "      <td>Ministério da Saúde</td>\n",
       "      <td>62263.0</td>\n",
       "      <td>2015.0</td>\n",
       "    </tr>\n",
       "    <tr>\n",
       "      <th>301</th>\n",
       "      <td>HOSPITAL NOSSA SENHORA DA CONCEICAO S/A</td>\n",
       "      <td>Ministério da Saúde</td>\n",
       "      <td>34753.0</td>\n",
       "      <td>2016.0</td>\n",
       "    </tr>\n",
       "    <tr>\n",
       "      <th>302</th>\n",
       "      <td>HOSPITAL NOSSA SENHORA DA CONCEICAO S/A</td>\n",
       "      <td>Ministério da Saúde</td>\n",
       "      <td>202995.0</td>\n",
       "      <td>2017.0</td>\n",
       "    </tr>\n",
       "    <tr>\n",
       "      <th>303</th>\n",
       "      <td>FUNDACAO NACIONAL DE SAUDE - DF</td>\n",
       "      <td>Ministério da Saúde</td>\n",
       "      <td>355564.0</td>\n",
       "      <td>2011.0</td>\n",
       "    </tr>\n",
       "    <tr>\n",
       "      <th>304</th>\n",
       "      <td>FUNDACAO NACIONAL DE SAUDE - DF</td>\n",
       "      <td>Ministério da Saúde</td>\n",
       "      <td>67921.0</td>\n",
       "      <td>2012.0</td>\n",
       "    </tr>\n",
       "    <tr>\n",
       "      <th>...</th>\n",
       "      <td>...</td>\n",
       "      <td>...</td>\n",
       "      <td>...</td>\n",
       "      <td>...</td>\n",
       "    </tr>\n",
       "    <tr>\n",
       "      <th>370</th>\n",
       "      <td>HOSPITAL FEDERAL DA LAGOA</td>\n",
       "      <td>Ministério da Saúde</td>\n",
       "      <td>185027.0</td>\n",
       "      <td>2017.0</td>\n",
       "    </tr>\n",
       "    <tr>\n",
       "      <th>371</th>\n",
       "      <td>HOSPITAL FEDERAL DO ANDARAI</td>\n",
       "      <td>Ministério da Saúde</td>\n",
       "      <td>1028771.0</td>\n",
       "      <td>2011.0</td>\n",
       "    </tr>\n",
       "    <tr>\n",
       "      <th>372</th>\n",
       "      <td>HOSPITAL FEDERAL DO ANDARAI</td>\n",
       "      <td>Ministério da Saúde</td>\n",
       "      <td>1404859.0</td>\n",
       "      <td>2012.0</td>\n",
       "    </tr>\n",
       "    <tr>\n",
       "      <th>373</th>\n",
       "      <td>HOSPITAL FEDERAL DO ANDARAI</td>\n",
       "      <td>Ministério da Saúde</td>\n",
       "      <td>673644.0</td>\n",
       "      <td>2013.0</td>\n",
       "    </tr>\n",
       "    <tr>\n",
       "      <th>374</th>\n",
       "      <td>HOSPITAL FEDERAL DO ANDARAI</td>\n",
       "      <td>Ministério da Saúde</td>\n",
       "      <td>392681.0</td>\n",
       "      <td>2014.0</td>\n",
       "    </tr>\n",
       "    <tr>\n",
       "      <th>375</th>\n",
       "      <td>HOSPITAL FEDERAL DO ANDARAI</td>\n",
       "      <td>Ministério da Saúde</td>\n",
       "      <td>779087.0</td>\n",
       "      <td>2015.0</td>\n",
       "    </tr>\n",
       "    <tr>\n",
       "      <th>376</th>\n",
       "      <td>HOSPITAL FEDERAL DO ANDARAI</td>\n",
       "      <td>Ministério da Saúde</td>\n",
       "      <td>623345.0</td>\n",
       "      <td>2016.0</td>\n",
       "    </tr>\n",
       "    <tr>\n",
       "      <th>377</th>\n",
       "      <td>HOSPITAL FEDERAL DO ANDARAI</td>\n",
       "      <td>Ministério da Saúde</td>\n",
       "      <td>321759.0</td>\n",
       "      <td>2017.0</td>\n",
       "    </tr>\n",
       "    <tr>\n",
       "      <th>910</th>\n",
       "      <td>DISTRITO SANIT.ESP.INDIGENA MATO GROSSO SUL</td>\n",
       "      <td>Ministério da Saúde</td>\n",
       "      <td>4062.0</td>\n",
       "      <td>2016.0</td>\n",
       "    </tr>\n",
       "    <tr>\n",
       "      <th>911</th>\n",
       "      <td>DISTRITO SANIT.ESP.INDIGENA - PERNAMBUCO</td>\n",
       "      <td>Ministério da Saúde</td>\n",
       "      <td>517.0</td>\n",
       "      <td>2015.0</td>\n",
       "    </tr>\n",
       "    <tr>\n",
       "      <th>912</th>\n",
       "      <td>DISTRITO SANIT.ESP.INDIGENA - LITORAL SUL</td>\n",
       "      <td>Ministério da Saúde</td>\n",
       "      <td>1701.0</td>\n",
       "      <td>2014.0</td>\n",
       "    </tr>\n",
       "    <tr>\n",
       "      <th>913</th>\n",
       "      <td>DISTRITO SANIT.ESP.INDIGENA - PORTO VELHO</td>\n",
       "      <td>Ministério da Saúde</td>\n",
       "      <td>3143.0</td>\n",
       "      <td>2015.0</td>\n",
       "    </tr>\n",
       "    <tr>\n",
       "      <th>914</th>\n",
       "      <td>DISTRITO SANIT.ESP.INDIGENA - BAHIA</td>\n",
       "      <td>Ministério da Saúde</td>\n",
       "      <td>2224.0</td>\n",
       "      <td>2016.0</td>\n",
       "    </tr>\n",
       "    <tr>\n",
       "      <th>915</th>\n",
       "      <td>DISTRITO SANIT.ESP.INDIGENA - CUIABA</td>\n",
       "      <td>Ministério da Saúde</td>\n",
       "      <td>4437.0</td>\n",
       "      <td>2015.0</td>\n",
       "    </tr>\n",
       "    <tr>\n",
       "      <th>916</th>\n",
       "      <td>DISTRITO SANIT.ESP.INDIGENA - CUIABA</td>\n",
       "      <td>Ministério da Saúde</td>\n",
       "      <td>2246.0</td>\n",
       "      <td>2016.0</td>\n",
       "    </tr>\n",
       "    <tr>\n",
       "      <th>917</th>\n",
       "      <td>DISTRITO SANIT.ESP.INDIGENA - POTIGUARA</td>\n",
       "      <td>Ministério da Saúde</td>\n",
       "      <td>839.0</td>\n",
       "      <td>2014.0</td>\n",
       "    </tr>\n",
       "    <tr>\n",
       "      <th>918</th>\n",
       "      <td>DISTRITO SANIT.ESP.INDIGENA - POTIGUARA</td>\n",
       "      <td>Ministério da Saúde</td>\n",
       "      <td>1273.0</td>\n",
       "      <td>2015.0</td>\n",
       "    </tr>\n",
       "    <tr>\n",
       "      <th>919</th>\n",
       "      <td>DISTRITO SANIT.ESP.INDIGENA - LESTE RR</td>\n",
       "      <td>Ministério da Saúde</td>\n",
       "      <td>13795.0</td>\n",
       "      <td>2013.0</td>\n",
       "    </tr>\n",
       "    <tr>\n",
       "      <th>920</th>\n",
       "      <td>DISTRITO SANIT.ESP.INDIGENA - MARANHAO</td>\n",
       "      <td>Ministério da Saúde</td>\n",
       "      <td>16513.0</td>\n",
       "      <td>2015.0</td>\n",
       "    </tr>\n",
       "    <tr>\n",
       "      <th>921</th>\n",
       "      <td>DISTRITO SANIT.ESP.INDIGENA GUAMA TOCANTINS</td>\n",
       "      <td>Ministério da Saúde</td>\n",
       "      <td>17360.0</td>\n",
       "      <td>2014.0</td>\n",
       "    </tr>\n",
       "    <tr>\n",
       "      <th>922</th>\n",
       "      <td>DISTRITO SANIT.ESP.INDIGENA GUAMA TOCANTINS</td>\n",
       "      <td>Ministério da Saúde</td>\n",
       "      <td>5837.0</td>\n",
       "      <td>2015.0</td>\n",
       "    </tr>\n",
       "    <tr>\n",
       "      <th>923</th>\n",
       "      <td>DISTRITO SANIT.ESP.INDIGENA GUAMA TOCANTINS</td>\n",
       "      <td>Ministério da Saúde</td>\n",
       "      <td>8081.0</td>\n",
       "      <td>2016.0</td>\n",
       "    </tr>\n",
       "    <tr>\n",
       "      <th>924</th>\n",
       "      <td>DISTRITO SANIT.ESP.INDIGENA - VILHENA</td>\n",
       "      <td>Ministério da Saúde</td>\n",
       "      <td>967.0</td>\n",
       "      <td>2015.0</td>\n",
       "    </tr>\n",
       "    <tr>\n",
       "      <th>925</th>\n",
       "      <td>DISTRITO SANIT.ESP.INDIGENA - YANOMAMI</td>\n",
       "      <td>Ministério da Saúde</td>\n",
       "      <td>10121.0</td>\n",
       "      <td>2013.0</td>\n",
       "    </tr>\n",
       "    <tr>\n",
       "      <th>926</th>\n",
       "      <td>DISTRITO SANIT.ESP.INDIGENA - YANOMAMI</td>\n",
       "      <td>Ministério da Saúde</td>\n",
       "      <td>27090.0</td>\n",
       "      <td>2014.0</td>\n",
       "    </tr>\n",
       "    <tr>\n",
       "      <th>927</th>\n",
       "      <td>DISTRITO SANIT.ESP.INDIGENA - YANOMAMI</td>\n",
       "      <td>Ministério da Saúde</td>\n",
       "      <td>24846.0</td>\n",
       "      <td>2015.0</td>\n",
       "    </tr>\n",
       "    <tr>\n",
       "      <th>929</th>\n",
       "      <td>DISTRITO SANIT.ESP.INDIGENA - XAVANTE</td>\n",
       "      <td>Ministério da Saúde</td>\n",
       "      <td>5636.0</td>\n",
       "      <td>2014.0</td>\n",
       "    </tr>\n",
       "    <tr>\n",
       "      <th>946</th>\n",
       "      <td>INST.NACIONAL DE INFECTOLOGIA EVANDRO CHAGAS</td>\n",
       "      <td>Ministério da Saúde</td>\n",
       "      <td>30260.0</td>\n",
       "      <td>2014.0</td>\n",
       "    </tr>\n",
       "    <tr>\n",
       "      <th>947</th>\n",
       "      <td>INST.NACIONAL DE INFECTOLOGIA EVANDRO CHAGAS</td>\n",
       "      <td>Ministério da Saúde</td>\n",
       "      <td>37394.0</td>\n",
       "      <td>2015.0</td>\n",
       "    </tr>\n",
       "    <tr>\n",
       "      <th>948</th>\n",
       "      <td>INST.NACIONAL DE INFECTOLOGIA EVANDRO CHAGAS</td>\n",
       "      <td>Ministério da Saúde</td>\n",
       "      <td>47846.0</td>\n",
       "      <td>2016.0</td>\n",
       "    </tr>\n",
       "  </tbody>\n",
       "</table>\n",
       "<p>125 rows × 4 columns</p>\n",
       "</div>"
      ],
      "text/plain": [
       "                                            órgão        subordinado a  \\\n",
       "275                         FUNDACAO OSWALDO CRUZ  Ministério da Saúde   \n",
       "276                         FUNDACAO OSWALDO CRUZ  Ministério da Saúde   \n",
       "277                         FUNDACAO OSWALDO CRUZ  Ministério da Saúde   \n",
       "278                         FUNDACAO OSWALDO CRUZ  Ministério da Saúde   \n",
       "279               CENTRO DE PESQUISAS RENE RACHOU  Ministério da Saúde   \n",
       "280           INSTITUTO DE TECNOLOGIA EM FARMACOS  Ministério da Saúde   \n",
       "281           INSTITUTO DE TECNOLOGIA EM FARMACOS  Ministério da Saúde   \n",
       "282                  INSTITUTO FERNANDES FIGUEIRA  Ministério da Saúde   \n",
       "283                  INSTITUTO FERNANDES FIGUEIRA  Ministério da Saúde   \n",
       "284                  INSTITUTO FERNANDES FIGUEIRA  Ministério da Saúde   \n",
       "285                  INSTITUTO FERNANDES FIGUEIRA  Ministério da Saúde   \n",
       "286                  INSTITUTO FERNANDES FIGUEIRA  Ministério da Saúde   \n",
       "287                  INSTITUTO FERNANDES FIGUEIRA  Ministério da Saúde   \n",
       "288                  INSTITUTO FERNANDES FIGUEIRA  Ministério da Saúde   \n",
       "289    ESCOLA NAC. DE SAUDE PÚBLICA SÉRGIO AROUCA  Ministério da Saúde   \n",
       "290    ESCOLA NAC. DE SAUDE PÚBLICA SÉRGIO AROUCA  Ministério da Saúde   \n",
       "291                        INSTITUTO OSWALDO CRUZ  Ministério da Saúde   \n",
       "292                  HOSPITAL CRISTO REDENTOR S/A  Ministério da Saúde   \n",
       "293                  HOSPITAL CRISTO REDENTOR S/A  Ministério da Saúde   \n",
       "294                           HOSPITAL FEMINA S/A  Ministério da Saúde   \n",
       "295                           HOSPITAL FEMINA S/A  Ministério da Saúde   \n",
       "296       HOSPITAL NOSSA SENHORA DA CONCEICAO S/A  Ministério da Saúde   \n",
       "297       HOSPITAL NOSSA SENHORA DA CONCEICAO S/A  Ministério da Saúde   \n",
       "298       HOSPITAL NOSSA SENHORA DA CONCEICAO S/A  Ministério da Saúde   \n",
       "299       HOSPITAL NOSSA SENHORA DA CONCEICAO S/A  Ministério da Saúde   \n",
       "300       HOSPITAL NOSSA SENHORA DA CONCEICAO S/A  Ministério da Saúde   \n",
       "301       HOSPITAL NOSSA SENHORA DA CONCEICAO S/A  Ministério da Saúde   \n",
       "302       HOSPITAL NOSSA SENHORA DA CONCEICAO S/A  Ministério da Saúde   \n",
       "303               FUNDACAO NACIONAL DE SAUDE - DF  Ministério da Saúde   \n",
       "304               FUNDACAO NACIONAL DE SAUDE - DF  Ministério da Saúde   \n",
       "..                                            ...                  ...   \n",
       "370                     HOSPITAL FEDERAL DA LAGOA  Ministério da Saúde   \n",
       "371                   HOSPITAL FEDERAL DO ANDARAI  Ministério da Saúde   \n",
       "372                   HOSPITAL FEDERAL DO ANDARAI  Ministério da Saúde   \n",
       "373                   HOSPITAL FEDERAL DO ANDARAI  Ministério da Saúde   \n",
       "374                   HOSPITAL FEDERAL DO ANDARAI  Ministério da Saúde   \n",
       "375                   HOSPITAL FEDERAL DO ANDARAI  Ministério da Saúde   \n",
       "376                   HOSPITAL FEDERAL DO ANDARAI  Ministério da Saúde   \n",
       "377                   HOSPITAL FEDERAL DO ANDARAI  Ministério da Saúde   \n",
       "910   DISTRITO SANIT.ESP.INDIGENA MATO GROSSO SUL  Ministério da Saúde   \n",
       "911      DISTRITO SANIT.ESP.INDIGENA - PERNAMBUCO  Ministério da Saúde   \n",
       "912     DISTRITO SANIT.ESP.INDIGENA - LITORAL SUL  Ministério da Saúde   \n",
       "913     DISTRITO SANIT.ESP.INDIGENA - PORTO VELHO  Ministério da Saúde   \n",
       "914           DISTRITO SANIT.ESP.INDIGENA - BAHIA  Ministério da Saúde   \n",
       "915          DISTRITO SANIT.ESP.INDIGENA - CUIABA  Ministério da Saúde   \n",
       "916          DISTRITO SANIT.ESP.INDIGENA - CUIABA  Ministério da Saúde   \n",
       "917       DISTRITO SANIT.ESP.INDIGENA - POTIGUARA  Ministério da Saúde   \n",
       "918       DISTRITO SANIT.ESP.INDIGENA - POTIGUARA  Ministério da Saúde   \n",
       "919        DISTRITO SANIT.ESP.INDIGENA - LESTE RR  Ministério da Saúde   \n",
       "920        DISTRITO SANIT.ESP.INDIGENA - MARANHAO  Ministério da Saúde   \n",
       "921   DISTRITO SANIT.ESP.INDIGENA GUAMA TOCANTINS  Ministério da Saúde   \n",
       "922   DISTRITO SANIT.ESP.INDIGENA GUAMA TOCANTINS  Ministério da Saúde   \n",
       "923   DISTRITO SANIT.ESP.INDIGENA GUAMA TOCANTINS  Ministério da Saúde   \n",
       "924         DISTRITO SANIT.ESP.INDIGENA - VILHENA  Ministério da Saúde   \n",
       "925        DISTRITO SANIT.ESP.INDIGENA - YANOMAMI  Ministério da Saúde   \n",
       "926        DISTRITO SANIT.ESP.INDIGENA - YANOMAMI  Ministério da Saúde   \n",
       "927        DISTRITO SANIT.ESP.INDIGENA - YANOMAMI  Ministério da Saúde   \n",
       "929         DISTRITO SANIT.ESP.INDIGENA - XAVANTE  Ministério da Saúde   \n",
       "946  INST.NACIONAL DE INFECTOLOGIA EVANDRO CHAGAS  Ministério da Saúde   \n",
       "947  INST.NACIONAL DE INFECTOLOGIA EVANDRO CHAGAS  Ministério da Saúde   \n",
       "948  INST.NACIONAL DE INFECTOLOGIA EVANDRO CHAGAS  Ministério da Saúde   \n",
       "\n",
       "      montante     ano  \n",
       "275    86290.0  2011.0  \n",
       "276    37875.0  2012.0  \n",
       "277   160623.0  2013.0  \n",
       "278    55348.0  2014.0  \n",
       "279    20131.0  2011.0  \n",
       "280     5149.0  2011.0  \n",
       "281     9923.0  2016.0  \n",
       "282    58361.0  2011.0  \n",
       "283    83922.0  2012.0  \n",
       "284    75720.0  2013.0  \n",
       "285    84117.0  2014.0  \n",
       "286    64562.0  2015.0  \n",
       "287    39124.0  2016.0  \n",
       "288     1057.0  2017.0  \n",
       "289      529.0  2011.0  \n",
       "290     2037.0  2012.0  \n",
       "291     5139.0  2014.0  \n",
       "292     8829.0  2011.0  \n",
       "293     9137.0  2012.0  \n",
       "294    11564.0  2011.0  \n",
       "295     8381.0  2012.0  \n",
       "296   160549.0  2011.0  \n",
       "297    68776.0  2012.0  \n",
       "298    75475.0  2013.0  \n",
       "299    36732.0  2014.0  \n",
       "300    62263.0  2015.0  \n",
       "301    34753.0  2016.0  \n",
       "302   202995.0  2017.0  \n",
       "303   355564.0  2011.0  \n",
       "304    67921.0  2012.0  \n",
       "..         ...     ...  \n",
       "370   185027.0  2017.0  \n",
       "371  1028771.0  2011.0  \n",
       "372  1404859.0  2012.0  \n",
       "373   673644.0  2013.0  \n",
       "374   392681.0  2014.0  \n",
       "375   779087.0  2015.0  \n",
       "376   623345.0  2016.0  \n",
       "377   321759.0  2017.0  \n",
       "910     4062.0  2016.0  \n",
       "911      517.0  2015.0  \n",
       "912     1701.0  2014.0  \n",
       "913     3143.0  2015.0  \n",
       "914     2224.0  2016.0  \n",
       "915     4437.0  2015.0  \n",
       "916     2246.0  2016.0  \n",
       "917      839.0  2014.0  \n",
       "918     1273.0  2015.0  \n",
       "919    13795.0  2013.0  \n",
       "920    16513.0  2015.0  \n",
       "921    17360.0  2014.0  \n",
       "922     5837.0  2015.0  \n",
       "923     8081.0  2016.0  \n",
       "924      967.0  2015.0  \n",
       "925    10121.0  2013.0  \n",
       "926    27090.0  2014.0  \n",
       "927    24846.0  2015.0  \n",
       "929     5636.0  2014.0  \n",
       "946    30260.0  2014.0  \n",
       "947    37394.0  2015.0  \n",
       "948    47846.0  2016.0  \n",
       "\n",
       "[125 rows x 4 columns]"
      ]
     },
     "execution_count": 15,
     "metadata": {},
     "output_type": "execute_result"
    }
   ],
   "source": [
    "hospfar[hospfar['subordinado a'] == 'Ministério da Saúde']"
   ]
  },
  {
   "cell_type": "code",
   "execution_count": 16,
   "metadata": {},
   "outputs": [
    {
     "data": {
      "text/plain": [
       "<pandas.core.groupby.groupby.DataFrameGroupBy object at 0x000001C484E5A0B8>"
      ]
     },
     "execution_count": 16,
     "metadata": {},
     "output_type": "execute_result"
    }
   ],
   "source": [
    "hospfar.groupby('órgão')"
   ]
  },
  {
   "cell_type": "code",
   "execution_count": 17,
   "metadata": {},
   "outputs": [],
   "source": [
    "%matplotlib inline"
   ]
  },
  {
   "cell_type": "code",
   "execution_count": 18,
   "metadata": {},
   "outputs": [
    {
     "data": {
      "text/plain": [
       "subordinado a\n",
       "379359944                                                          0.0\n",
       "Ministério da Agricultura, Pecuária e Abastecimento              969.0\n",
       "Ministério da Defesa                                        61823745.0\n",
       "Ministério da Educação                                     100229440.0\n",
       "Ministério da Fazenda                                            170.0\n",
       "Ministério da Justiça                                           3984.0\n",
       "Ministério da Saúde                                        200938067.0\n",
       "Ministério do Meio Ambiente                                     1945.0\n",
       "Ministério do Planejamento, Orçamento e Gestão                 29655.0\n",
       "Transferências a Estados, Distrito Federal e Municípios        78762.0\n",
       "Órgão Genérico Geratriz                                     16258815.0\n",
       "Name: montante, dtype: float64"
      ]
     },
     "execution_count": 18,
     "metadata": {},
     "output_type": "execute_result"
    }
   ],
   "source": [
    "hospfar.groupby('subordinado a')['montante'].sum()"
   ]
  },
  {
   "cell_type": "code",
   "execution_count": 19,
   "metadata": {},
   "outputs": [],
   "source": [
    "fat_hospfar = hospfar.groupby('subordinado a')['montante'].sum()"
   ]
  },
  {
   "cell_type": "code",
   "execution_count": 20,
   "metadata": {},
   "outputs": [
    {
     "data": {
      "text/plain": [
       "<matplotlib.axes._subplots.AxesSubplot at 0x1c4858fb1d0>"
      ]
     },
     "execution_count": 20,
     "metadata": {},
     "output_type": "execute_result"
    },
    {
     "data": {
      "image/png": "[encoded data removed]",
      "text/plain": [
       "<Figure size 432x288 with 1 Axes>"
      ]
     },
     "metadata": {},
     "output_type": "display_data"
    }
   ],
   "source": [
    "fat_hospfar.plot.bar()\n"
   ]
  },
  {
   "cell_type": "code",
   "execution_count": 21,
   "metadata": {},
   "outputs": [],
   "source": [
    "gov = hospfar[hospfar['subordinado a'] != '379359944'].copy()    #limpa inconsistência nos dados"
   ]
  },
  {
   "cell_type": "code",
   "execution_count": 22,
   "metadata": {},
   "outputs": [
    {
     "name": "stdout",
     "output_type": "stream",
     "text": [
      "<class 'pandas.core.frame.DataFrame'>\n",
      "Int64Index: 992 entries, 0 to 992\n",
      "Data columns (total 4 columns):\n",
      "órgão            990 non-null object\n",
      "subordinado a    988 non-null object\n",
      "montante         988 non-null float64\n",
      "ano              987 non-null float64\n",
      "dtypes: float64(2), object(2)\n",
      "memory usage: 38.8+ KB\n"
     ]
    }
   ],
   "source": [
    "gov.info()"
   ]
  },
  {
   "cell_type": "code",
   "execution_count": 23,
   "metadata": {},
   "outputs": [
    {
     "data": {
      "text/plain": [
       "array(['Ministério do Planejamento, Orçamento e Gestão',\n",
       "       'Ministério da Agricultura, Pecuária e Abastecimento',\n",
       "       'Ministério da Fazenda',\n",
       "       'Transferências a Estados, Distrito Federal e Municípios',\n",
       "       'Ministério da Educação', 'Ministério da Justiça',\n",
       "       'Ministério da Saúde', 'Ministério do Meio Ambiente',\n",
       "       'Ministério da Defesa', 'Órgão Genérico Geratriz', nan],\n",
       "      dtype=object)"
      ]
     },
     "execution_count": 23,
     "metadata": {},
     "output_type": "execute_result"
    }
   ],
   "source": [
    "gov['subordinado a'].unique()"
   ]
  },
  {
   "cell_type": "code",
   "execution_count": 24,
   "metadata": {},
   "outputs": [
    {
     "data": {
      "text/plain": [
       "379365552.0"
      ]
     },
     "execution_count": 24,
     "metadata": {},
     "output_type": "execute_result"
    }
   ],
   "source": [
    "gov['montante'].sum()"
   ]
  },
  {
   "cell_type": "code",
   "execution_count": 25,
   "metadata": {},
   "outputs": [
    {
     "data": {
      "text/plain": [
       "24154.5"
      ]
     },
     "execution_count": 25,
     "metadata": {},
     "output_type": "execute_result"
    }
   ],
   "source": [
    "gov['montante'].median()"
   ]
  },
  {
   "cell_type": "code",
   "execution_count": 26,
   "metadata": {},
   "outputs": [
    {
     "data": {
      "text/plain": [
       "32605267.0"
      ]
     },
     "execution_count": 26,
     "metadata": {},
     "output_type": "execute_result"
    }
   ],
   "source": [
    "gov['montante'].max()\n",
    "\n",
    "#o maior valor de contrato"
   ]
  },
  {
   "cell_type": "code",
   "execution_count": 27,
   "metadata": {},
   "outputs": [
    {
     "data": {
      "text/plain": [
       "órgão            77\n",
       "subordinado a    77\n",
       "montante         77\n",
       "ano              77\n",
       "dtype: int64"
      ]
     },
     "execution_count": 27,
     "metadata": {},
     "output_type": "execute_result"
    }
   ],
   "source": [
    "#Qts pagamentos maiores que a média e maiores de um milhão? \n",
    "gov[(gov['montante'] >= 24154.5) & (gov['montante'] > 1000000.0)].count()\n",
    "\n",
    "### 77 desses pagamentos foram superiores a 1 mihão de reais"
   ]
  },
  {
   "cell_type": "code",
   "execution_count": 28,
   "metadata": {},
   "outputs": [],
   "source": [
    "acima_media = gov[(gov['montante'] > 2000000.0)]"
   ]
  },
  {
   "cell_type": "code",
   "execution_count": 29,
   "metadata": {},
   "outputs": [
    {
     "data": {
      "text/plain": [
       "órgão            32\n",
       "subordinado a    32\n",
       "montante         32\n",
       "ano              32\n",
       "dtype: int64"
      ]
     },
     "execution_count": 29,
     "metadata": {},
     "output_type": "execute_result"
    }
   ],
   "source": [
    "acima_media.count()\n",
    "\n",
    "# 32 foram superiores a dois milhões"
   ]
  },
  {
   "cell_type": "code",
   "execution_count": 30,
   "metadata": {},
   "outputs": [
    {
     "data": {
      "text/plain": [
       "array(['HOSPITAL DAS CLINICAS DA UFGO', 'HOSPITAL CLINICAS/UFMG',\n",
       "       'HOSPITAL DE CLINICAS DA UFPR',\n",
       "       'HOSPITAL UNIVERSITARIO MARIA AP. PEDROSSIAM',\n",
       "       'DEPARTAMENTO DE LOGISTICA EM SAUDE - DLOG',\n",
       "       'HOSPITAL FEDERAL DE BONSUCESSO',\n",
       "       'INSTITUTO NACIONAL DO CANCER - RJ',\n",
       "       'HOSPITAL CENTRAL DO EXERCITO', 'HOSPITAL NAVAL MARCILIO DIAS',\n",
       "       'UNIFESP-HOSP. UNIVERSITARIO', 'EBSERH HUMAP-UFMS'], dtype=object)"
      ]
     },
     "execution_count": 30,
     "metadata": {},
     "output_type": "execute_result"
    }
   ],
   "source": [
    "acima_media['órgão'].unique()\n",
    "\n",
    "# Entre os órgãos que mantém contratos acima de dois milhões estão:"
   ]
  },
  {
   "cell_type": "code",
   "execution_count": 31,
   "metadata": {},
   "outputs": [
    {
     "data": {
      "text/plain": [
       "Ministério da Saúde        14\n",
       "Ministério da Educação     11\n",
       "Ministério da Defesa        5\n",
       "Órgão Genérico Geratriz     2\n",
       "Name: subordinado a, dtype: int64"
      ]
     },
     "execution_count": 31,
     "metadata": {},
     "output_type": "execute_result"
    }
   ],
   "source": [
    "acima_media['subordinado a'].value_counts()"
   ]
  },
  {
   "cell_type": "code",
   "execution_count": 32,
   "metadata": {},
   "outputs": [
    {
     "data": {
      "text/plain": [
       "2014.0    6\n",
       "2017.0    5\n",
       "2015.0    5\n",
       "2013.0    5\n",
       "2011.0    5\n",
       "2012.0    4\n",
       "2016.0    2\n",
       "Name: ano, dtype: int64"
      ]
     },
     "execution_count": 32,
     "metadata": {},
     "output_type": "execute_result"
    }
   ],
   "source": [
    "acima_media['ano'].value_counts()"
   ]
  },
  {
   "cell_type": "code",
   "execution_count": 33,
   "metadata": {},
   "outputs": [
    {
     "data": {
      "text/plain": [
       "212563477.0"
      ]
     },
     "execution_count": 33,
     "metadata": {},
     "output_type": "execute_result"
    }
   ],
   "source": [
    "acima_media['montante'].sum()"
   ]
  },
  {
   "cell_type": "code",
   "execution_count": 34,
   "metadata": {},
   "outputs": [
    {
     "data": {
      "text/plain": [
       "1.7847165343461144"
      ]
     },
     "execution_count": 34,
     "metadata": {},
     "output_type": "execute_result"
    }
   ],
   "source": [
    "gov['montante'].sum() / acima_media['montante'].sum()"
   ]
  },
  {
   "cell_type": "code",
   "execution_count": 35,
   "metadata": {},
   "outputs": [
    {
     "data": {
      "text/html": [
       "<div>\n",
       "<style scoped>\n",
       "    .dataframe tbody tr th:only-of-type {\n",
       "        vertical-align: middle;\n",
       "    }\n",
       "\n",
       "    .dataframe tbody tr th {\n",
       "        vertical-align: top;\n",
       "    }\n",
       "\n",
       "    .dataframe thead th {\n",
       "        text-align: right;\n",
       "    }\n",
       "</style>\n",
       "<table border=\"1\" class=\"dataframe\">\n",
       "  <thead>\n",
       "    <tr style=\"text-align: right;\">\n",
       "      <th></th>\n",
       "      <th>órgão</th>\n",
       "      <th>subordinado a</th>\n",
       "      <th>montante</th>\n",
       "      <th>ano</th>\n",
       "    </tr>\n",
       "  </thead>\n",
       "  <tbody>\n",
       "    <tr>\n",
       "      <th>311</th>\n",
       "      <td>DEPARTAMENTO DE LOGISTICA EM SAUDE - DLOG</td>\n",
       "      <td>Ministério da Saúde</td>\n",
       "      <td>32605267.0</td>\n",
       "      <td>2014.0</td>\n",
       "    </tr>\n",
       "    <tr>\n",
       "      <th>313</th>\n",
       "      <td>DEPARTAMENTO DE LOGISTICA EM SAUDE - DLOG</td>\n",
       "      <td>Ministério da Saúde</td>\n",
       "      <td>24362304.0</td>\n",
       "      <td>2016.0</td>\n",
       "    </tr>\n",
       "    <tr>\n",
       "      <th>312</th>\n",
       "      <td>DEPARTAMENTO DE LOGISTICA EM SAUDE - DLOG</td>\n",
       "      <td>Ministério da Saúde</td>\n",
       "      <td>20868776.0</td>\n",
       "      <td>2015.0</td>\n",
       "    </tr>\n",
       "    <tr>\n",
       "      <th>314</th>\n",
       "      <td>DEPARTAMENTO DE LOGISTICA EM SAUDE - DLOG</td>\n",
       "      <td>Ministério da Saúde</td>\n",
       "      <td>17175593.0</td>\n",
       "      <td>2017.0</td>\n",
       "    </tr>\n",
       "    <tr>\n",
       "      <th>309</th>\n",
       "      <td>DEPARTAMENTO DE LOGISTICA EM SAUDE - DLOG</td>\n",
       "      <td>Ministério da Saúde</td>\n",
       "      <td>10027996.0</td>\n",
       "      <td>2012.0</td>\n",
       "    </tr>\n",
       "    <tr>\n",
       "      <th>323</th>\n",
       "      <td>INSTITUTO NACIONAL DO CANCER - RJ</td>\n",
       "      <td>Ministério da Saúde</td>\n",
       "      <td>9834093.0</td>\n",
       "      <td>2012.0</td>\n",
       "    </tr>\n",
       "    <tr>\n",
       "      <th>324</th>\n",
       "      <td>INSTITUTO NACIONAL DO CANCER - RJ</td>\n",
       "      <td>Ministério da Saúde</td>\n",
       "      <td>9091322.0</td>\n",
       "      <td>2013.0</td>\n",
       "    </tr>\n",
       "    <tr>\n",
       "      <th>326</th>\n",
       "      <td>INSTITUTO NACIONAL DO CANCER - RJ</td>\n",
       "      <td>Ministério da Saúde</td>\n",
       "      <td>7733056.0</td>\n",
       "      <td>2015.0</td>\n",
       "    </tr>\n",
       "    <tr>\n",
       "      <th>325</th>\n",
       "      <td>INSTITUTO NACIONAL DO CANCER - RJ</td>\n",
       "      <td>Ministério da Saúde</td>\n",
       "      <td>7691444.0</td>\n",
       "      <td>2014.0</td>\n",
       "    </tr>\n",
       "    <tr>\n",
       "      <th>38</th>\n",
       "      <td>HOSPITAL DAS CLINICAS DA UFGO</td>\n",
       "      <td>Ministério da Educação</td>\n",
       "      <td>5580946.0</td>\n",
       "      <td>2012.0</td>\n",
       "    </tr>\n",
       "  </tbody>\n",
       "</table>\n",
       "</div>"
      ],
      "text/plain": [
       "                                         órgão           subordinado a  \\\n",
       "311  DEPARTAMENTO DE LOGISTICA EM SAUDE - DLOG     Ministério da Saúde   \n",
       "313  DEPARTAMENTO DE LOGISTICA EM SAUDE - DLOG     Ministério da Saúde   \n",
       "312  DEPARTAMENTO DE LOGISTICA EM SAUDE - DLOG     Ministério da Saúde   \n",
       "314  DEPARTAMENTO DE LOGISTICA EM SAUDE - DLOG     Ministério da Saúde   \n",
       "309  DEPARTAMENTO DE LOGISTICA EM SAUDE - DLOG     Ministério da Saúde   \n",
       "323          INSTITUTO NACIONAL DO CANCER - RJ     Ministério da Saúde   \n",
       "324          INSTITUTO NACIONAL DO CANCER - RJ     Ministério da Saúde   \n",
       "326          INSTITUTO NACIONAL DO CANCER - RJ     Ministério da Saúde   \n",
       "325          INSTITUTO NACIONAL DO CANCER - RJ     Ministério da Saúde   \n",
       "38               HOSPITAL DAS CLINICAS DA UFGO  Ministério da Educação   \n",
       "\n",
       "       montante     ano  \n",
       "311  32605267.0  2014.0  \n",
       "313  24362304.0  2016.0  \n",
       "312  20868776.0  2015.0  \n",
       "314  17175593.0  2017.0  \n",
       "309  10027996.0  2012.0  \n",
       "323   9834093.0  2012.0  \n",
       "324   9091322.0  2013.0  \n",
       "326   7733056.0  2015.0  \n",
       "325   7691444.0  2014.0  \n",
       "38    5580946.0  2012.0  "
      ]
     },
     "execution_count": 35,
     "metadata": {},
     "output_type": "execute_result"
    }
   ],
   "source": [
    "gov.sort_values('montante', ascending=False).head(10)"
   ]
  },
  {
   "cell_type": "code",
   "execution_count": 36,
   "metadata": {},
   "outputs": [
    {
     "data": {
      "text/html": [
       "<div>\n",
       "<style scoped>\n",
       "    .dataframe tbody tr th:only-of-type {\n",
       "        vertical-align: middle;\n",
       "    }\n",
       "\n",
       "    .dataframe tbody tr th {\n",
       "        vertical-align: top;\n",
       "    }\n",
       "\n",
       "    .dataframe thead th {\n",
       "        text-align: right;\n",
       "    }\n",
       "</style>\n",
       "<table border=\"1\" class=\"dataframe\">\n",
       "  <thead>\n",
       "    <tr style=\"text-align: right;\">\n",
       "      <th></th>\n",
       "      <th>órgão</th>\n",
       "      <th>subordinado a</th>\n",
       "      <th>montante</th>\n",
       "      <th>ano</th>\n",
       "    </tr>\n",
       "  </thead>\n",
       "  <tbody>\n",
       "    <tr>\n",
       "      <th>311</th>\n",
       "      <td>DEPARTAMENTO DE LOGISTICA EM SAUDE - DLOG</td>\n",
       "      <td>Ministério da Saúde</td>\n",
       "      <td>32605267.0</td>\n",
       "      <td>2014.0</td>\n",
       "    </tr>\n",
       "    <tr>\n",
       "      <th>313</th>\n",
       "      <td>DEPARTAMENTO DE LOGISTICA EM SAUDE - DLOG</td>\n",
       "      <td>Ministério da Saúde</td>\n",
       "      <td>24362304.0</td>\n",
       "      <td>2016.0</td>\n",
       "    </tr>\n",
       "    <tr>\n",
       "      <th>312</th>\n",
       "      <td>DEPARTAMENTO DE LOGISTICA EM SAUDE - DLOG</td>\n",
       "      <td>Ministério da Saúde</td>\n",
       "      <td>20868776.0</td>\n",
       "      <td>2015.0</td>\n",
       "    </tr>\n",
       "    <tr>\n",
       "      <th>314</th>\n",
       "      <td>DEPARTAMENTO DE LOGISTICA EM SAUDE - DLOG</td>\n",
       "      <td>Ministério da Saúde</td>\n",
       "      <td>17175593.0</td>\n",
       "      <td>2017.0</td>\n",
       "    </tr>\n",
       "    <tr>\n",
       "      <th>309</th>\n",
       "      <td>DEPARTAMENTO DE LOGISTICA EM SAUDE - DLOG</td>\n",
       "      <td>Ministério da Saúde</td>\n",
       "      <td>10027996.0</td>\n",
       "      <td>2012.0</td>\n",
       "    </tr>\n",
       "    <tr>\n",
       "      <th>323</th>\n",
       "      <td>INSTITUTO NACIONAL DO CANCER - RJ</td>\n",
       "      <td>Ministério da Saúde</td>\n",
       "      <td>9834093.0</td>\n",
       "      <td>2012.0</td>\n",
       "    </tr>\n",
       "    <tr>\n",
       "      <th>324</th>\n",
       "      <td>INSTITUTO NACIONAL DO CANCER - RJ</td>\n",
       "      <td>Ministério da Saúde</td>\n",
       "      <td>9091322.0</td>\n",
       "      <td>2013.0</td>\n",
       "    </tr>\n",
       "    <tr>\n",
       "      <th>326</th>\n",
       "      <td>INSTITUTO NACIONAL DO CANCER - RJ</td>\n",
       "      <td>Ministério da Saúde</td>\n",
       "      <td>7733056.0</td>\n",
       "      <td>2015.0</td>\n",
       "    </tr>\n",
       "    <tr>\n",
       "      <th>325</th>\n",
       "      <td>INSTITUTO NACIONAL DO CANCER - RJ</td>\n",
       "      <td>Ministério da Saúde</td>\n",
       "      <td>7691444.0</td>\n",
       "      <td>2014.0</td>\n",
       "    </tr>\n",
       "    <tr>\n",
       "      <th>38</th>\n",
       "      <td>HOSPITAL DAS CLINICAS DA UFGO</td>\n",
       "      <td>Ministério da Educação</td>\n",
       "      <td>5580946.0</td>\n",
       "      <td>2012.0</td>\n",
       "    </tr>\n",
       "  </tbody>\n",
       "</table>\n",
       "</div>"
      ],
      "text/plain": [
       "                                         órgão           subordinado a  \\\n",
       "311  DEPARTAMENTO DE LOGISTICA EM SAUDE - DLOG     Ministério da Saúde   \n",
       "313  DEPARTAMENTO DE LOGISTICA EM SAUDE - DLOG     Ministério da Saúde   \n",
       "312  DEPARTAMENTO DE LOGISTICA EM SAUDE - DLOG     Ministério da Saúde   \n",
       "314  DEPARTAMENTO DE LOGISTICA EM SAUDE - DLOG     Ministério da Saúde   \n",
       "309  DEPARTAMENTO DE LOGISTICA EM SAUDE - DLOG     Ministério da Saúde   \n",
       "323          INSTITUTO NACIONAL DO CANCER - RJ     Ministério da Saúde   \n",
       "324          INSTITUTO NACIONAL DO CANCER - RJ     Ministério da Saúde   \n",
       "326          INSTITUTO NACIONAL DO CANCER - RJ     Ministério da Saúde   \n",
       "325          INSTITUTO NACIONAL DO CANCER - RJ     Ministério da Saúde   \n",
       "38               HOSPITAL DAS CLINICAS DA UFGO  Ministério da Educação   \n",
       "\n",
       "       montante     ano  \n",
       "311  32605267.0  2014.0  \n",
       "313  24362304.0  2016.0  \n",
       "312  20868776.0  2015.0  \n",
       "314  17175593.0  2017.0  \n",
       "309  10027996.0  2012.0  \n",
       "323   9834093.0  2012.0  \n",
       "324   9091322.0  2013.0  \n",
       "326   7733056.0  2015.0  \n",
       "325   7691444.0  2014.0  \n",
       "38    5580946.0  2012.0  "
      ]
     },
     "execution_count": 36,
     "metadata": {},
     "output_type": "execute_result"
    }
   ],
   "source": [
    "acima_media.sort_values('montante', ascending=False).head(10)"
   ]
  },
  {
   "cell_type": "code",
   "execution_count": 37,
   "metadata": {},
   "outputs": [
    {
     "data": {
      "text/plain": [
       "379365552.0"
      ]
     },
     "execution_count": 37,
     "metadata": {},
     "output_type": "execute_result"
    }
   ],
   "source": [
    "gov['montante'].sum()"
   ]
  },
  {
   "cell_type": "code",
   "execution_count": 38,
   "metadata": {},
   "outputs": [
    {
     "data": {
      "text/html": [
       "<div>\n",
       "<style scoped>\n",
       "    .dataframe tbody tr th:only-of-type {\n",
       "        vertical-align: middle;\n",
       "    }\n",
       "\n",
       "    .dataframe tbody tr th {\n",
       "        vertical-align: top;\n",
       "    }\n",
       "\n",
       "    .dataframe thead th {\n",
       "        text-align: right;\n",
       "    }\n",
       "</style>\n",
       "<table border=\"1\" class=\"dataframe\">\n",
       "  <thead>\n",
       "    <tr style=\"text-align: right;\">\n",
       "      <th></th>\n",
       "      <th>órgão</th>\n",
       "      <th>subordinado a</th>\n",
       "      <th>montante</th>\n",
       "      <th>ano</th>\n",
       "    </tr>\n",
       "  </thead>\n",
       "  <tbody>\n",
       "    <tr>\n",
       "      <th>311</th>\n",
       "      <td>DEPARTAMENTO DE LOGISTICA EM SAUDE - DLOG</td>\n",
       "      <td>Ministério da Saúde</td>\n",
       "      <td>32605267.0</td>\n",
       "      <td>2014.0</td>\n",
       "    </tr>\n",
       "  </tbody>\n",
       "</table>\n",
       "</div>"
      ],
      "text/plain": [
       "                                         órgão        subordinado a  \\\n",
       "311  DEPARTAMENTO DE LOGISTICA EM SAUDE - DLOG  Ministério da Saúde   \n",
       "\n",
       "       montante     ano  \n",
       "311  32605267.0  2014.0  "
      ]
     },
     "execution_count": 38,
     "metadata": {},
     "output_type": "execute_result"
    }
   ],
   "source": [
    "#De qual órgão governamental a Hospfar recebeu mais dinheiro?\n",
    "gov[gov['montante'] == gov['montante'].max()]"
   ]
  },
  {
   "cell_type": "code",
   "execution_count": 39,
   "metadata": {},
   "outputs": [
    {
     "data": {
      "text/plain": [
       "HOSPITAL MILITAR DE AREA DE BRASILIA        14\n",
       "HOSPITAL MILITAR DE AREA DE CAMPO GRANDE    14\n",
       "HOSPITAL GERAL DE FORTALEZA                 14\n",
       "HOSPITAL UNIVERSITARIO                      13\n",
       "HOSPITAL NAVAL MARCILIO DIAS                13\n",
       "HOSPITAL GERAL DE CURITIBA                  13\n",
       "HOSPITAL CENTRAL DO EXERCITO                13\n",
       "HOSPITAL GERAL DE BELEM                     13\n",
       "HOSPITAL NAVAL DE RECIFE                    13\n",
       "HOSPITAL NAVAL DE LADARIO                   12\n",
       "Name: órgão, dtype: int64"
      ]
     },
     "execution_count": 39,
     "metadata": {},
     "output_type": "execute_result"
    }
   ],
   "source": [
    "gov.groupby('montante')['órgão'].max().value_counts(ascending=False).head(10)"
   ]
  },
  {
   "cell_type": "code",
   "execution_count": 40,
   "metadata": {},
   "outputs": [
    {
     "data": {
      "text/plain": [
       "2013.0    154\n",
       "2014.0    152\n",
       "2011.0    152\n",
       "2012.0    149\n",
       "2015.0    145\n",
       "2016.0    137\n",
       "2017.0     88\n",
       "Name: ano, dtype: int64"
      ]
     },
     "execution_count": 40,
     "metadata": {},
     "output_type": "execute_result"
    }
   ],
   "source": [
    "gov.groupby('montante')['ano'].max().value_counts(ascending=False)"
   ]
  },
  {
   "cell_type": "code",
   "execution_count": 41,
   "metadata": {},
   "outputs": [],
   "source": [
    "#Qtd de pagamentos recebidos entre os anos de 2013 a 2017\n",
    "recebido = gov.groupby('montante')['ano'].max().value_counts(ascending=False)"
   ]
  },
  {
   "cell_type": "code",
   "execution_count": 42,
   "metadata": {},
   "outputs": [],
   "source": [
    "%matplotlib inline"
   ]
  },
  {
   "cell_type": "code",
   "execution_count": 43,
   "metadata": {},
   "outputs": [
    {
     "data": {
      "text/plain": [
       "<matplotlib.axes._subplots.AxesSubplot at 0x1c485a439e8>"
      ]
     },
     "execution_count": 43,
     "metadata": {},
     "output_type": "execute_result"
    },
    {
     "data": {
      "image/png": "[encoded data removed]",
      "text/plain": [
       "<Figure size 432x288 with 1 Axes>"
      ]
     },
     "metadata": {},
     "output_type": "display_data"
    }
   ],
   "source": [
    "recebido.plot.bar()   "
   ]
  },
  {
   "cell_type": "code",
   "execution_count": 44,
   "metadata": {},
   "outputs": [
    {
     "data": {
      "text/html": [
       "<div>\n",
       "<style scoped>\n",
       "    .dataframe tbody tr th:only-of-type {\n",
       "        vertical-align: middle;\n",
       "    }\n",
       "\n",
       "    .dataframe tbody tr th {\n",
       "        vertical-align: top;\n",
       "    }\n",
       "\n",
       "    .dataframe thead th {\n",
       "        text-align: right;\n",
       "    }\n",
       "</style>\n",
       "<table border=\"1\" class=\"dataframe\">\n",
       "  <thead>\n",
       "    <tr style=\"text-align: right;\">\n",
       "      <th></th>\n",
       "      <th>órgão</th>\n",
       "      <th>subordinado a</th>\n",
       "      <th>montante</th>\n",
       "      <th>ano</th>\n",
       "    </tr>\n",
       "    <tr>\n",
       "      <th>montante</th>\n",
       "      <th></th>\n",
       "      <th></th>\n",
       "      <th></th>\n",
       "      <th></th>\n",
       "    </tr>\n",
       "  </thead>\n",
       "  <tbody>\n",
       "    <tr>\n",
       "      <th>308</th>\n",
       "      <td>DEPARTAMENTO DE LOGISTICA EM SAUDE - DLOG</td>\n",
       "      <td>Ministério da Saúde</td>\n",
       "      <td>5525970.0</td>\n",
       "      <td>2011.0</td>\n",
       "    </tr>\n",
       "    <tr>\n",
       "      <th>309</th>\n",
       "      <td>DEPARTAMENTO DE LOGISTICA EM SAUDE - DLOG</td>\n",
       "      <td>Ministério da Saúde</td>\n",
       "      <td>10027996.0</td>\n",
       "      <td>2012.0</td>\n",
       "    </tr>\n",
       "    <tr>\n",
       "      <th>324</th>\n",
       "      <td>INSTITUTO NACIONAL DO CANCER - RJ</td>\n",
       "      <td>Ministério da Saúde</td>\n",
       "      <td>9091322.0</td>\n",
       "      <td>2013.0</td>\n",
       "    </tr>\n",
       "    <tr>\n",
       "      <th>311</th>\n",
       "      <td>DEPARTAMENTO DE LOGISTICA EM SAUDE - DLOG</td>\n",
       "      <td>Ministério da Saúde</td>\n",
       "      <td>32605267.0</td>\n",
       "      <td>2014.0</td>\n",
       "    </tr>\n",
       "    <tr>\n",
       "      <th>312</th>\n",
       "      <td>DEPARTAMENTO DE LOGISTICA EM SAUDE - DLOG</td>\n",
       "      <td>Ministério da Saúde</td>\n",
       "      <td>20868776.0</td>\n",
       "      <td>2015.0</td>\n",
       "    </tr>\n",
       "    <tr>\n",
       "      <th>313</th>\n",
       "      <td>DEPARTAMENTO DE LOGISTICA EM SAUDE - DLOG</td>\n",
       "      <td>Ministério da Saúde</td>\n",
       "      <td>24362304.0</td>\n",
       "      <td>2016.0</td>\n",
       "    </tr>\n",
       "    <tr>\n",
       "      <th>314</th>\n",
       "      <td>DEPARTAMENTO DE LOGISTICA EM SAUDE - DLOG</td>\n",
       "      <td>Ministério da Saúde</td>\n",
       "      <td>17175593.0</td>\n",
       "      <td>2017.0</td>\n",
       "    </tr>\n",
       "  </tbody>\n",
       "</table>\n",
       "</div>"
      ],
      "text/plain": [
       "                                              órgão        subordinado a  \\\n",
       "montante                                                                   \n",
       "308       DEPARTAMENTO DE LOGISTICA EM SAUDE - DLOG  Ministério da Saúde   \n",
       "309       DEPARTAMENTO DE LOGISTICA EM SAUDE - DLOG  Ministério da Saúde   \n",
       "324               INSTITUTO NACIONAL DO CANCER - RJ  Ministério da Saúde   \n",
       "311       DEPARTAMENTO DE LOGISTICA EM SAUDE - DLOG  Ministério da Saúde   \n",
       "312       DEPARTAMENTO DE LOGISTICA EM SAUDE - DLOG  Ministério da Saúde   \n",
       "313       DEPARTAMENTO DE LOGISTICA EM SAUDE - DLOG  Ministério da Saúde   \n",
       "314       DEPARTAMENTO DE LOGISTICA EM SAUDE - DLOG  Ministério da Saúde   \n",
       "\n",
       "            montante     ano  \n",
       "montante                      \n",
       "308        5525970.0  2011.0  \n",
       "309       10027996.0  2012.0  \n",
       "324        9091322.0  2013.0  \n",
       "311       32605267.0  2014.0  \n",
       "312       20868776.0  2015.0  \n",
       "313       24362304.0  2016.0  \n",
       "314       17175593.0  2017.0  "
      ]
     },
     "execution_count": 44,
     "metadata": {},
     "output_type": "execute_result"
    }
   ],
   "source": [
    "gov.reindex(gov.groupby('ano')['montante'].idxmax())"
   ]
  },
  {
   "cell_type": "code",
   "execution_count": 45,
   "metadata": {},
   "outputs": [
    {
     "data": {
      "text/html": [
       "<div>\n",
       "<style scoped>\n",
       "    .dataframe tbody tr th:only-of-type {\n",
       "        vertical-align: middle;\n",
       "    }\n",
       "\n",
       "    .dataframe tbody tr th {\n",
       "        vertical-align: top;\n",
       "    }\n",
       "\n",
       "    .dataframe thead th {\n",
       "        text-align: right;\n",
       "    }\n",
       "</style>\n",
       "<table border=\"1\" class=\"dataframe\">\n",
       "  <thead>\n",
       "    <tr style=\"text-align: right;\">\n",
       "      <th></th>\n",
       "      <th>órgão</th>\n",
       "      <th>subordinado a</th>\n",
       "      <th>montante</th>\n",
       "      <th>ano</th>\n",
       "    </tr>\n",
       "  </thead>\n",
       "  <tbody>\n",
       "    <tr>\n",
       "      <th>311</th>\n",
       "      <td>DEPARTAMENTO DE LOGISTICA EM SAUDE - DLOG</td>\n",
       "      <td>Ministério da Saúde</td>\n",
       "      <td>32605267.0</td>\n",
       "      <td>2014.0</td>\n",
       "    </tr>\n",
       "    <tr>\n",
       "      <th>313</th>\n",
       "      <td>DEPARTAMENTO DE LOGISTICA EM SAUDE - DLOG</td>\n",
       "      <td>Ministério da Saúde</td>\n",
       "      <td>24362304.0</td>\n",
       "      <td>2016.0</td>\n",
       "    </tr>\n",
       "    <tr>\n",
       "      <th>312</th>\n",
       "      <td>DEPARTAMENTO DE LOGISTICA EM SAUDE - DLOG</td>\n",
       "      <td>Ministério da Saúde</td>\n",
       "      <td>20868776.0</td>\n",
       "      <td>2015.0</td>\n",
       "    </tr>\n",
       "    <tr>\n",
       "      <th>314</th>\n",
       "      <td>DEPARTAMENTO DE LOGISTICA EM SAUDE - DLOG</td>\n",
       "      <td>Ministério da Saúde</td>\n",
       "      <td>17175593.0</td>\n",
       "      <td>2017.0</td>\n",
       "    </tr>\n",
       "    <tr>\n",
       "      <th>309</th>\n",
       "      <td>DEPARTAMENTO DE LOGISTICA EM SAUDE - DLOG</td>\n",
       "      <td>Ministério da Saúde</td>\n",
       "      <td>10027996.0</td>\n",
       "      <td>2012.0</td>\n",
       "    </tr>\n",
       "  </tbody>\n",
       "</table>\n",
       "</div>"
      ],
      "text/plain": [
       "                                         órgão        subordinado a  \\\n",
       "311  DEPARTAMENTO DE LOGISTICA EM SAUDE - DLOG  Ministério da Saúde   \n",
       "313  DEPARTAMENTO DE LOGISTICA EM SAUDE - DLOG  Ministério da Saúde   \n",
       "312  DEPARTAMENTO DE LOGISTICA EM SAUDE - DLOG  Ministério da Saúde   \n",
       "314  DEPARTAMENTO DE LOGISTICA EM SAUDE - DLOG  Ministério da Saúde   \n",
       "309  DEPARTAMENTO DE LOGISTICA EM SAUDE - DLOG  Ministério da Saúde   \n",
       "\n",
       "       montante     ano  \n",
       "311  32605267.0  2014.0  \n",
       "313  24362304.0  2016.0  \n",
       "312  20868776.0  2015.0  \n",
       "314  17175593.0  2017.0  \n",
       "309  10027996.0  2012.0  "
      ]
     },
     "execution_count": 45,
     "metadata": {},
     "output_type": "execute_result"
    }
   ],
   "source": [
    "gov.nlargest(5, 'montante')"
   ]
  },
  {
   "cell_type": "code",
   "execution_count": 46,
   "metadata": {},
   "outputs": [
    {
     "data": {
      "text/html": [
       "<div>\n",
       "<style scoped>\n",
       "    .dataframe tbody tr th:only-of-type {\n",
       "        vertical-align: middle;\n",
       "    }\n",
       "\n",
       "    .dataframe tbody tr th {\n",
       "        vertical-align: top;\n",
       "    }\n",
       "\n",
       "    .dataframe thead th {\n",
       "        text-align: right;\n",
       "    }\n",
       "</style>\n",
       "<table border=\"1\" class=\"dataframe\">\n",
       "  <thead>\n",
       "    <tr style=\"text-align: right;\">\n",
       "      <th></th>\n",
       "      <th>órgão</th>\n",
       "      <th>subordinado a</th>\n",
       "      <th>montante</th>\n",
       "      <th>ano</th>\n",
       "    </tr>\n",
       "  </thead>\n",
       "  <tbody>\n",
       "    <tr>\n",
       "      <th>317</th>\n",
       "      <td>HOSPITAL FEDERAL DE BONSUCESSO</td>\n",
       "      <td>Ministério da Saúde</td>\n",
       "      <td>2054949.0</td>\n",
       "      <td>2013.0</td>\n",
       "    </tr>\n",
       "    <tr>\n",
       "      <th>936</th>\n",
       "      <td>UNIFESP-HOSP. UNIVERSITARIO</td>\n",
       "      <td>Órgão Genérico Geratriz</td>\n",
       "      <td>2126401.0</td>\n",
       "      <td>2016.0</td>\n",
       "    </tr>\n",
       "    <tr>\n",
       "      <th>328</th>\n",
       "      <td>INSTITUTO NACIONAL DO CANCER - RJ</td>\n",
       "      <td>Ministério da Saúde</td>\n",
       "      <td>2133614.0</td>\n",
       "      <td>2017.0</td>\n",
       "    </tr>\n",
       "    <tr>\n",
       "      <th>271</th>\n",
       "      <td>HOSPITAL UNIVERSITARIO MARIA AP. PEDROSSIAM</td>\n",
       "      <td>Ministério da Educação</td>\n",
       "      <td>2154588.0</td>\n",
       "      <td>2014.0</td>\n",
       "    </tr>\n",
       "    <tr>\n",
       "      <th>688</th>\n",
       "      <td>HOSPITAL NAVAL MARCILIO DIAS</td>\n",
       "      <td>Ministério da Defesa</td>\n",
       "      <td>2198543.0</td>\n",
       "      <td>2015.0</td>\n",
       "    </tr>\n",
       "  </tbody>\n",
       "</table>\n",
       "</div>"
      ],
      "text/plain": [
       "                                           órgão            subordinado a  \\\n",
       "317               HOSPITAL FEDERAL DE BONSUCESSO      Ministério da Saúde   \n",
       "936                  UNIFESP-HOSP. UNIVERSITARIO  Órgão Genérico Geratriz   \n",
       "328            INSTITUTO NACIONAL DO CANCER - RJ      Ministério da Saúde   \n",
       "271  HOSPITAL UNIVERSITARIO MARIA AP. PEDROSSIAM   Ministério da Educação   \n",
       "688                 HOSPITAL NAVAL MARCILIO DIAS     Ministério da Defesa   \n",
       "\n",
       "      montante     ano  \n",
       "317  2054949.0  2013.0  \n",
       "936  2126401.0  2016.0  \n",
       "328  2133614.0  2017.0  \n",
       "271  2154588.0  2014.0  \n",
       "688  2198543.0  2015.0  "
      ]
     },
     "execution_count": 46,
     "metadata": {},
     "output_type": "execute_result"
    }
   ],
   "source": [
    "acima_media.nsmallest(5, 'montante')"
   ]
  },
  {
   "cell_type": "code",
   "execution_count": 47,
   "metadata": {},
   "outputs": [
    {
     "data": {
      "text/html": [
       "<div>\n",
       "<style scoped>\n",
       "    .dataframe tbody tr th:only-of-type {\n",
       "        vertical-align: middle;\n",
       "    }\n",
       "\n",
       "    .dataframe tbody tr th {\n",
       "        vertical-align: top;\n",
       "    }\n",
       "\n",
       "    .dataframe thead th {\n",
       "        text-align: right;\n",
       "    }\n",
       "</style>\n",
       "<table border=\"1\" class=\"dataframe\">\n",
       "  <thead>\n",
       "    <tr style=\"text-align: right;\">\n",
       "      <th></th>\n",
       "      <th>órgão</th>\n",
       "      <th>montante</th>\n",
       "    </tr>\n",
       "  </thead>\n",
       "  <tbody>\n",
       "    <tr>\n",
       "      <th>0</th>\n",
       "      <td>1 BATALHAO DE COMUNICACOES</td>\n",
       "      <td>88.0</td>\n",
       "    </tr>\n",
       "    <tr>\n",
       "      <th>1</th>\n",
       "      <td>1 BATALHAO DE COMUNICACOES DIVISIONARIO</td>\n",
       "      <td>1721.0</td>\n",
       "    </tr>\n",
       "    <tr>\n",
       "      <th>2</th>\n",
       "      <td>10 REGIMENTO DE CAVALARIA MECANIZADO</td>\n",
       "      <td>4321.0</td>\n",
       "    </tr>\n",
       "    <tr>\n",
       "      <th>3</th>\n",
       "      <td>11 BATALAHO DE ENGENHARIA DE CONSTRUCAO</td>\n",
       "      <td>19355.0</td>\n",
       "    </tr>\n",
       "    <tr>\n",
       "      <th>4</th>\n",
       "      <td>11. DEPOSITO DE SUPRIMENTO</td>\n",
       "      <td>74364.0</td>\n",
       "    </tr>\n",
       "    <tr>\n",
       "      <th>5</th>\n",
       "      <td>14 GRUPO DE ARTILHARIA DE CAMPANHA</td>\n",
       "      <td>838.0</td>\n",
       "    </tr>\n",
       "    <tr>\n",
       "      <th>6</th>\n",
       "      <td>14 REGIMENTO DE CAVALARIA MECANIZADO</td>\n",
       "      <td>2095.0</td>\n",
       "    </tr>\n",
       "    <tr>\n",
       "      <th>7</th>\n",
       "      <td>15 BATALHAO LOGISTICO</td>\n",
       "      <td>11326.0</td>\n",
       "    </tr>\n",
       "    <tr>\n",
       "      <th>8</th>\n",
       "      <td>15 GRUPO DE ART DE CAMPANHA AUTOPROPULSADO</td>\n",
       "      <td>3607.0</td>\n",
       "    </tr>\n",
       "    <tr>\n",
       "      <th>9</th>\n",
       "      <td>16 BATALHAO LOGISTICO</td>\n",
       "      <td>2116.0</td>\n",
       "    </tr>\n",
       "  </tbody>\n",
       "</table>\n",
       "</div>"
      ],
      "text/plain": [
       "                                        órgão  montante\n",
       "0                  1 BATALHAO DE COMUNICACOES      88.0\n",
       "1     1 BATALHAO DE COMUNICACOES DIVISIONARIO    1721.0\n",
       "2        10 REGIMENTO DE CAVALARIA MECANIZADO    4321.0\n",
       "3     11 BATALAHO DE ENGENHARIA DE CONSTRUCAO   19355.0\n",
       "4                  11. DEPOSITO DE SUPRIMENTO   74364.0\n",
       "5          14 GRUPO DE ARTILHARIA DE CAMPANHA     838.0\n",
       "6        14 REGIMENTO DE CAVALARIA MECANIZADO    2095.0\n",
       "7                       15 BATALHAO LOGISTICO   11326.0\n",
       "8  15 GRUPO DE ART DE CAMPANHA AUTOPROPULSADO    3607.0\n",
       "9                       16 BATALHAO LOGISTICO    2116.0"
      ]
     },
     "execution_count": 47,
     "metadata": {},
     "output_type": "execute_result"
    }
   ],
   "source": [
    "gov.groupby('órgão')['montante'].sum().reset_index().head(10)"
   ]
  },
  {
   "cell_type": "code",
   "execution_count": 48,
   "metadata": {},
   "outputs": [
    {
     "data": {
      "text/plain": [
       "ano\n",
       "2011.0    46041168.0\n",
       "2012.0    58272369.0\n",
       "2013.0    48181282.0\n",
       "2014.0    76931307.0\n",
       "2015.0    55366905.0\n",
       "2016.0    46973703.0\n",
       "2017.0    47593204.0\n",
       "Name: montante, dtype: float64"
      ]
     },
     "execution_count": 48,
     "metadata": {},
     "output_type": "execute_result"
    }
   ],
   "source": [
    "gov.groupby('ano')['montante'].sum()"
   ]
  },
  {
   "cell_type": "code",
   "execution_count": 49,
   "metadata": {},
   "outputs": [],
   "source": [
    "import matplotlib as plt\n",
    "%matplotlib inline"
   ]
  },
  {
   "cell_type": "code",
   "execution_count": 50,
   "metadata": {},
   "outputs": [],
   "source": [
    "faturamento_ano = gov.groupby('ano')['montante'].sum()"
   ]
  },
  {
   "cell_type": "code",
   "execution_count": 51,
   "metadata": {},
   "outputs": [
    {
     "data": {
      "text/plain": [
       "<matplotlib.axes._subplots.AxesSubplot at 0x1c486a8ca90>"
      ]
     },
     "execution_count": 51,
     "metadata": {},
     "output_type": "execute_result"
    },
    {
     "data": {
      "image/png": "[encoded data removed]",
      "text/plain": [
       "<Figure size 432x288 with 1 Axes>"
      ]
     },
     "metadata": {},
     "output_type": "display_data"
    }
   ],
   "source": [
    "faturamento_ano.plot.barh()"
   ]
  },
  {
   "cell_type": "markdown",
   "metadata": {},
   "source": [
    "#### Com os dados do Portal da Transparência [https://www.comprasgovernamentais.gov.br/index.php/transparencia],  as sanções previstas na lei de licitações. A empresa é acusada de favorecimento ilegal em contratação departamento de Saúde, acusada pelo Ministério Público Federal de fraude em licitação e desvio de dinheiro público por superfaturamento de medicamentos vendidos ao Estado Mato Grosso, o MPF processa a empresa e pede a devolução aos cofres públicos de 320.520,00 (USD). \n",
    "#### Há acusações contra a empresa Hospfar Indústria e Comércio de Produtos Hospitalares e seus sócios, Brandão de Souza Rezende, Moisés Alves de Oliveira Neto e Marcelo Reis Perillo por lavagem de dinheiro desviado de contratos com o governo federal, a acusação é do Tribunal de Contas da União e Polícia Federal. \n",
    "#### Também acusada de formação de cartel, associação criminosa e fraude em licitações no Estado de Goiás e do Tocantins. A investigação pelo Ministério Público Estadual de Goiás. Os sócios da empresa Brandão De Souza Resende, Marcelo Reis Perillo, Moises Alves De Oliveira Neto também foram denunciados por associação criminosa e fraude em licitações.\n",
    "#### A Corregedoria Geral da União acusa a empresa de  superfaturamento de preços de medicamentos e fraude em licitações em Brasilia e há mais acusações no Pará.\n"
   ]
  },
  {
   "cell_type": "code",
   "execution_count": 52,
   "metadata": {},
   "outputs": [
    {
     "data": {
      "text/html": [
       "<div>\n",
       "<style scoped>\n",
       "    .dataframe tbody tr th:only-of-type {\n",
       "        vertical-align: middle;\n",
       "    }\n",
       "\n",
       "    .dataframe tbody tr th {\n",
       "        vertical-align: top;\n",
       "    }\n",
       "\n",
       "    .dataframe thead th {\n",
       "        text-align: right;\n",
       "    }\n",
       "</style>\n",
       "<table border=\"1\" class=\"dataframe\">\n",
       "  <thead>\n",
       "    <tr style=\"text-align: right;\">\n",
       "      <th></th>\n",
       "      <th>Id</th>\n",
       "      <th>CNPJ</th>\n",
       "      <th>CPF</th>\n",
       "      <th>Tipo pessoa</th>\n",
       "      <th>Número do Processo</th>\n",
       "      <th>Unidade Cadastradora</th>\n",
       "      <th>Tipo de Ocorrência</th>\n",
       "    </tr>\n",
       "  </thead>\n",
       "  <tbody>\n",
       "    <tr>\n",
       "      <th>0</th>\n",
       "      <td>45018</td>\n",
       "      <td>Fornecedor 26.921.908/0001-21:  HOSPFAR INDUST...</td>\n",
       "      <td>NaN</td>\n",
       "      <td>PJ</td>\n",
       "      <td>230720124520691</td>\n",
       "      <td>153261: HOSPITAL CLINICAS/UFMG</td>\n",
       "      <td>2: Multa - Lei nº 8666/93, art. 87, inc. II</td>\n",
       "    </tr>\n",
       "    <tr>\n",
       "      <th>1</th>\n",
       "      <td>45019</td>\n",
       "      <td>Fornecedor 26.921.908/0001-21:  HOSPFAR INDUST...</td>\n",
       "      <td>NaN</td>\n",
       "      <td>PJ</td>\n",
       "      <td>250059.54119506</td>\n",
       "      <td>250059: INSTITUTO NACIONAL DE CARDIOLOGIA</td>\n",
       "      <td>8: Legado</td>\n",
       "    </tr>\n",
       "    <tr>\n",
       "      <th>2</th>\n",
       "      <td>45020</td>\n",
       "      <td>Fornecedor 26.921.908/0001-21:  HOSPFAR INDUST...</td>\n",
       "      <td>NaN</td>\n",
       "      <td>PJ</td>\n",
       "      <td>230720124520691</td>\n",
       "      <td>153261: HOSPITAL CLINICAS/UFMG</td>\n",
       "      <td>2: Multa - Lei nº 8666/93, art. 87, inc. II</td>\n",
       "    </tr>\n",
       "    <tr>\n",
       "      <th>3</th>\n",
       "      <td>45021</td>\n",
       "      <td>Fornecedor 26.921.908/0001-21:  HOSPFAR INDUST...</td>\n",
       "      <td>NaN</td>\n",
       "      <td>PJ</td>\n",
       "      <td>250059172005-41</td>\n",
       "      <td>250059: INSTITUTO NACIONAL DE CARDIOLOGIA</td>\n",
       "      <td>8: Legado</td>\n",
       "    </tr>\n",
       "    <tr>\n",
       "      <th>4</th>\n",
       "      <td>45022</td>\n",
       "      <td>Fornecedor 26.921.908/0001-21:  HOSPFAR INDUST...</td>\n",
       "      <td>NaN</td>\n",
       "      <td>PJ</td>\n",
       "      <td>23992006</td>\n",
       "      <td>70014: TRE-TRIBUNAL REGIONAL ELEITORAL/MG</td>\n",
       "      <td>8: Legado</td>\n",
       "    </tr>\n",
       "  </tbody>\n",
       "</table>\n",
       "</div>"
      ],
      "text/plain": [
       "      Id                                               CNPJ  CPF Tipo pessoa  \\\n",
       "0  45018  Fornecedor 26.921.908/0001-21:  HOSPFAR INDUST...  NaN          PJ   \n",
       "1  45019  Fornecedor 26.921.908/0001-21:  HOSPFAR INDUST...  NaN          PJ   \n",
       "2  45020  Fornecedor 26.921.908/0001-21:  HOSPFAR INDUST...  NaN          PJ   \n",
       "3  45021  Fornecedor 26.921.908/0001-21:  HOSPFAR INDUST...  NaN          PJ   \n",
       "4  45022  Fornecedor 26.921.908/0001-21:  HOSPFAR INDUST...  NaN          PJ   \n",
       "\n",
       "  Número do Processo                       Unidade Cadastradora  \\\n",
       "0    230720124520691             153261: HOSPITAL CLINICAS/UFMG   \n",
       "1    250059.54119506  250059: INSTITUTO NACIONAL DE CARDIOLOGIA   \n",
       "2    230720124520691             153261: HOSPITAL CLINICAS/UFMG   \n",
       "3    250059172005-41  250059: INSTITUTO NACIONAL DE CARDIOLOGIA   \n",
       "4           23992006  70014: TRE-TRIBUNAL REGIONAL ELEITORAL/MG   \n",
       "\n",
       "                            Tipo de Ocorrência  \n",
       "0  2: Multa - Lei nº 8666/93, art. 87, inc. II  \n",
       "1                                    8: Legado  \n",
       "2  2: Multa - Lei nº 8666/93, art. 87, inc. II  \n",
       "3                                    8: Legado  \n",
       "4                                    8: Legado  "
      ]
     },
     "execution_count": 52,
     "metadata": {},
     "output_type": "execute_result"
    }
   ],
   "source": [
    "ocorre_hospfar = pd.read_csv('ocorrencias_fornecedores_hospfar.csv')\n",
    "ocorre_hospfar.head()"
   ]
  },
  {
   "cell_type": "code",
   "execution_count": 53,
   "metadata": {},
   "outputs": [],
   "source": [
    "ocorre_hospfar.drop('CPF', axis=1, inplace=True)"
   ]
  },
  {
   "cell_type": "code",
   "execution_count": 54,
   "metadata": {},
   "outputs": [],
   "source": [
    "ocorre_hospfar.drop('Tipo pessoa', axis=1, inplace=True)"
   ]
  },
  {
   "cell_type": "code",
   "execution_count": 55,
   "metadata": {},
   "outputs": [
    {
     "data": {
      "text/plain": [
       "Index(['Id', 'CNPJ', 'Número do Processo', 'Unidade Cadastradora',\n",
       "       'Tipo de Ocorrência'],\n",
       "      dtype='object')"
      ]
     },
     "execution_count": 55,
     "metadata": {},
     "output_type": "execute_result"
    }
   ],
   "source": [
    "ocorre_hospfar.columns"
   ]
  },
  {
   "cell_type": "code",
   "execution_count": 56,
   "metadata": {},
   "outputs": [],
   "source": [
    "ocorre = pd.read_csv('ocorrencias_fornecedores_hospfar.csv',usecols=[4, 5, 6])"
   ]
  },
  {
   "cell_type": "code",
   "execution_count": 57,
   "metadata": {},
   "outputs": [
    {
     "data": {
      "text/html": [
       "<div>\n",
       "<style scoped>\n",
       "    .dataframe tbody tr th:only-of-type {\n",
       "        vertical-align: middle;\n",
       "    }\n",
       "\n",
       "    .dataframe tbody tr th {\n",
       "        vertical-align: top;\n",
       "    }\n",
       "\n",
       "    .dataframe thead th {\n",
       "        text-align: right;\n",
       "    }\n",
       "</style>\n",
       "<table border=\"1\" class=\"dataframe\">\n",
       "  <thead>\n",
       "    <tr style=\"text-align: right;\">\n",
       "      <th></th>\n",
       "      <th>Número do Processo</th>\n",
       "      <th>Unidade Cadastradora</th>\n",
       "      <th>Tipo de Ocorrência</th>\n",
       "    </tr>\n",
       "  </thead>\n",
       "  <tbody>\n",
       "    <tr>\n",
       "      <th>0</th>\n",
       "      <td>230720124520691</td>\n",
       "      <td>153261: HOSPITAL CLINICAS/UFMG</td>\n",
       "      <td>2: Multa - Lei nº 8666/93, art. 87, inc. II</td>\n",
       "    </tr>\n",
       "    <tr>\n",
       "      <th>1</th>\n",
       "      <td>250059.54119506</td>\n",
       "      <td>250059: INSTITUTO NACIONAL DE CARDIOLOGIA</td>\n",
       "      <td>8: Legado</td>\n",
       "    </tr>\n",
       "    <tr>\n",
       "      <th>2</th>\n",
       "      <td>230720124520691</td>\n",
       "      <td>153261: HOSPITAL CLINICAS/UFMG</td>\n",
       "      <td>2: Multa - Lei nº 8666/93, art. 87, inc. II</td>\n",
       "    </tr>\n",
       "    <tr>\n",
       "      <th>3</th>\n",
       "      <td>250059172005-41</td>\n",
       "      <td>250059: INSTITUTO NACIONAL DE CARDIOLOGIA</td>\n",
       "      <td>8: Legado</td>\n",
       "    </tr>\n",
       "    <tr>\n",
       "      <th>4</th>\n",
       "      <td>23992006</td>\n",
       "      <td>70014: TRE-TRIBUNAL REGIONAL ELEITORAL/MG</td>\n",
       "      <td>8: Legado</td>\n",
       "    </tr>\n",
       "  </tbody>\n",
       "</table>\n",
       "</div>"
      ],
      "text/plain": [
       "  Número do Processo                       Unidade Cadastradora  \\\n",
       "0    230720124520691             153261: HOSPITAL CLINICAS/UFMG   \n",
       "1    250059.54119506  250059: INSTITUTO NACIONAL DE CARDIOLOGIA   \n",
       "2    230720124520691             153261: HOSPITAL CLINICAS/UFMG   \n",
       "3    250059172005-41  250059: INSTITUTO NACIONAL DE CARDIOLOGIA   \n",
       "4           23992006  70014: TRE-TRIBUNAL REGIONAL ELEITORAL/MG   \n",
       "\n",
       "                            Tipo de Ocorrência  \n",
       "0  2: Multa - Lei nº 8666/93, art. 87, inc. II  \n",
       "1                                    8: Legado  \n",
       "2  2: Multa - Lei nº 8666/93, art. 87, inc. II  \n",
       "3                                    8: Legado  \n",
       "4                                    8: Legado  "
      ]
     },
     "execution_count": 57,
     "metadata": {},
     "output_type": "execute_result"
    }
   ],
   "source": [
    "ocorre.head()"
   ]
  },
  {
   "cell_type": "code",
   "execution_count": 58,
   "metadata": {},
   "outputs": [],
   "source": [
    "ocorre.columns = ['processo', 'orgao', 'ocorrencia']   #mudando o nome das colunas"
   ]
  },
  {
   "cell_type": "code",
   "execution_count": 59,
   "metadata": {},
   "outputs": [
    {
     "name": "stdout",
     "output_type": "stream",
     "text": [
      "<class 'pandas.core.frame.DataFrame'>\n",
      "RangeIndex: 530 entries, 0 to 529\n",
      "Data columns (total 3 columns):\n",
      "processo      530 non-null object\n",
      "orgao         530 non-null object\n",
      "ocorrencia    530 non-null object\n",
      "dtypes: object(3)\n",
      "memory usage: 12.5+ KB\n"
     ]
    }
   ],
   "source": [
    "ocorre.info()"
   ]
  },
  {
   "cell_type": "code",
   "execution_count": 60,
   "metadata": {},
   "outputs": [
    {
     "data": {
      "text/plain": [
       "2: Multa - Lei nº 8666/93, art. 87, inc. II                    487\n",
       "1: Advertência - Lei nº 8666/93, art. 87, inc. I                28\n",
       "8: Legado                                                        9\n",
       "7: Outros Tipos de Ocorrência                                    3\n",
       "3: Suspensão Temporária - Lei nº 8666/93, art. 87, inc. III      3\n",
       "Name: ocorrencia, dtype: int64"
      ]
     },
     "execution_count": 60,
     "metadata": {},
     "output_type": "execute_result"
    }
   ],
   "source": [
    "ocorre['ocorrencia'].value_counts()"
   ]
  },
  {
   "cell_type": "code",
   "execution_count": 61,
   "metadata": {},
   "outputs": [
    {
     "data": {
      "text/plain": [
       "530"
      ]
     },
     "execution_count": 61,
     "metadata": {},
     "output_type": "execute_result"
    }
   ],
   "source": [
    "ocorre['ocorrencia'].count()"
   ]
  },
  {
   "cell_type": "code",
   "execution_count": 62,
   "metadata": {},
   "outputs": [
    {
     "data": {
      "text/plain": [
       "926119: SECRETARIA DE ESTADO DE SAÚDE - GDF           366\n",
       "153261: HOSPITAL CLINICAS/UFMG                        125\n",
       "154035: HOSPITAL UNIV. GAFFREE E GUINELE DA UNIRIO      4\n",
       "255000: MS-FUNDACAO NACIONAL DE SAUDE/DF                4\n",
       "160165: 8. DEPOSITO DE SUPRIMENTO                       4\n",
       "925450: HOSPITAL OPHIR LOYOLA                           4\n",
       "250059: INSTITUTO NACIONAL DE CARDIOLOGIA               3\n",
       "20001: SENADO FEDERAL                                   3\n",
       "250052: INSTITUTO NACIONAL DO CANCER - RJ               3\n",
       "250057: INSTITUTO NACIONAL DE TRAUMATO-ORTOPEDIA        3\n",
       "Name: orgao, dtype: int64"
      ]
     },
     "execution_count": 62,
     "metadata": {},
     "output_type": "execute_result"
    }
   ],
   "source": [
    "ocorre['orgao'].value_counts().head(10)"
   ]
  },
  {
   "cell_type": "code",
   "execution_count": 63,
   "metadata": {},
   "outputs": [
    {
     "data": {
      "text/plain": [
       "16943420.0"
      ]
     },
     "execution_count": 63,
     "metadata": {},
     "output_type": "execute_result"
    }
   ],
   "source": [
    "gov[gov['órgão'] == 'HOSPITAL CLINICAS/UFMG'].montante.sum()"
   ]
  },
  {
   "cell_type": "code",
   "execution_count": 64,
   "metadata": {},
   "outputs": [
    {
     "data": {
      "text/plain": [
       "42879396.0"
      ]
     },
     "execution_count": 64,
     "metadata": {},
     "output_type": "execute_result"
    }
   ],
   "source": [
    "gov[gov['órgão'] == 'INSTITUTO NACIONAL DO CANCER - RJ'].montante.sum()"
   ]
  },
  {
   "cell_type": "code",
   "execution_count": 65,
   "metadata": {},
   "outputs": [
    {
     "data": {
      "text/plain": [
       "órgão            7\n",
       "subordinado a    7\n",
       "montante         7\n",
       "ano              7\n",
       "dtype: int64"
      ]
     },
     "execution_count": 65,
     "metadata": {},
     "output_type": "execute_result"
    }
   ],
   "source": [
    "gov[gov['órgão'] == 'HOSPITAL CLINICAS/UFMG'].count()"
   ]
  },
  {
   "cell_type": "code",
   "execution_count": 66,
   "metadata": {},
   "outputs": [
    {
     "data": {
      "text/plain": [
       "órgão            HOSPITAL CLINICAS/UFMG\n",
       "subordinado a    Ministério da Educação\n",
       "montante                    4.75983e+06\n",
       "ano                                2017\n",
       "dtype: object"
      ]
     },
     "execution_count": 66,
     "metadata": {},
     "output_type": "execute_result"
    }
   ],
   "source": [
    "gov[gov['órgão'] == 'HOSPITAL CLINICAS/UFMG'].max()"
   ]
  },
  {
   "cell_type": "markdown",
   "metadata": {},
   "source": [
    "#### Cruzando dados das outras empresas pertencentes aos sócios da Hospfar.\n",
    "##### Dados atualizados em 10.5.2018 Exportado em 3.10.2018 Fonte: Datascopio (dados.org)"
   ]
  },
  {
   "cell_type": "code",
   "execution_count": 67,
   "metadata": {},
   "outputs": [],
   "source": [
    "moises = pd.read_csv('empresa_moises.csv', skiprows=1)"
   ]
  },
  {
   "cell_type": "code",
   "execution_count": 68,
   "metadata": {},
   "outputs": [
    {
     "data": {
      "text/html": [
       "<div>\n",
       "<style scoped>\n",
       "    .dataframe tbody tr th:only-of-type {\n",
       "        vertical-align: middle;\n",
       "    }\n",
       "\n",
       "    .dataframe tbody tr th {\n",
       "        vertical-align: top;\n",
       "    }\n",
       "\n",
       "    .dataframe thead th {\n",
       "        text-align: right;\n",
       "    }\n",
       "</style>\n",
       "<table border=\"1\" class=\"dataframe\">\n",
       "  <thead>\n",
       "    <tr style=\"text-align: right;\">\n",
       "      <th></th>\n",
       "      <th>Empresa</th>\n",
       "      <th>CNPJ</th>\n",
       "      <th>Estado</th>\n",
       "      <th>Sócios e administradores</th>\n",
       "      <th>CNPJ.1</th>\n",
       "      <th>Tipo</th>\n",
       "    </tr>\n",
       "  </thead>\n",
       "  <tbody>\n",
       "    <tr>\n",
       "      <th>0</th>\n",
       "      <td>CONSTRUTORA E INCORPORADORA MIRANTI S/A</td>\n",
       "      <td>07.082.862/0001-50</td>\n",
       "      <td>GO</td>\n",
       "      <td>MOISES ALVES DE OLIVEIRA NETO</td>\n",
       "      <td>NaN</td>\n",
       "      <td>Diretor</td>\n",
       "    </tr>\n",
       "    <tr>\n",
       "      <th>1</th>\n",
       "      <td>EMI - INVESTIMENTOS, PARTICIPACOES &amp; EMPREENDI...</td>\n",
       "      <td>03.599.161/0001-31</td>\n",
       "      <td>GO</td>\n",
       "      <td>MOISES ALVES DE OLIVEIRA NETO</td>\n",
       "      <td>NaN</td>\n",
       "      <td>Sócio-Administrador</td>\n",
       "    </tr>\n",
       "    <tr>\n",
       "      <th>2</th>\n",
       "      <td>F.B.M. INDUSTRIA FARMACEUTICA LTDA</td>\n",
       "      <td>02.060.549/0001-05</td>\n",
       "      <td>GO</td>\n",
       "      <td>MOISES ALVES DE OLIVEIRA NETO</td>\n",
       "      <td>NaN</td>\n",
       "      <td>Sócio-Administrador</td>\n",
       "    </tr>\n",
       "    <tr>\n",
       "      <th>3</th>\n",
       "      <td>G4 - EMPREENDIMENTOS E PARTICIPACOES LTDA</td>\n",
       "      <td>07.760.787/0001-39</td>\n",
       "      <td>GO</td>\n",
       "      <td>MOISES ALVES DE OLIVEIRA NETO</td>\n",
       "      <td>NaN</td>\n",
       "      <td>Sócio</td>\n",
       "    </tr>\n",
       "    <tr>\n",
       "      <th>4</th>\n",
       "      <td>HOSPFAR INDUSTRIA E COMERCIO DE PRODUTOS HOSPI...</td>\n",
       "      <td>26.921.908/0001-21</td>\n",
       "      <td>GO</td>\n",
       "      <td>MOISES ALVES DE OLIVEIRA NETO</td>\n",
       "      <td>NaN</td>\n",
       "      <td>Diretor</td>\n",
       "    </tr>\n",
       "  </tbody>\n",
       "</table>\n",
       "</div>"
      ],
      "text/plain": [
       "                                             Empresa                CNPJ  \\\n",
       "0            CONSTRUTORA E INCORPORADORA MIRANTI S/A  07.082.862/0001-50   \n",
       "1  EMI - INVESTIMENTOS, PARTICIPACOES & EMPREENDI...  03.599.161/0001-31   \n",
       "2                 F.B.M. INDUSTRIA FARMACEUTICA LTDA  02.060.549/0001-05   \n",
       "3          G4 - EMPREENDIMENTOS E PARTICIPACOES LTDA  07.760.787/0001-39   \n",
       "4  HOSPFAR INDUSTRIA E COMERCIO DE PRODUTOS HOSPI...  26.921.908/0001-21   \n",
       "\n",
       "  Estado       Sócios e administradores  CNPJ.1                 Tipo  \n",
       "0     GO  MOISES ALVES DE OLIVEIRA NETO     NaN              Diretor  \n",
       "1     GO  MOISES ALVES DE OLIVEIRA NETO     NaN  Sócio-Administrador  \n",
       "2     GO  MOISES ALVES DE OLIVEIRA NETO     NaN  Sócio-Administrador  \n",
       "3     GO  MOISES ALVES DE OLIVEIRA NETO     NaN                Sócio  \n",
       "4     GO  MOISES ALVES DE OLIVEIRA NETO     NaN              Diretor  "
      ]
     },
     "execution_count": 68,
     "metadata": {},
     "output_type": "execute_result"
    }
   ],
   "source": [
    "moises.head()"
   ]
  },
  {
   "cell_type": "code",
   "execution_count": 69,
   "metadata": {},
   "outputs": [],
   "source": [
    "moises.drop('CNPJ.1', axis=1, inplace=True)"
   ]
  },
  {
   "cell_type": "code",
   "execution_count": 70,
   "metadata": {},
   "outputs": [
    {
     "name": "stdout",
     "output_type": "stream",
     "text": [
      "<class 'pandas.core.frame.DataFrame'>\n",
      "RangeIndex: 17 entries, 0 to 16\n",
      "Data columns (total 5 columns):\n",
      "Empresa                     17 non-null object\n",
      "CNPJ                        17 non-null object\n",
      "Estado                      17 non-null object\n",
      "Sócios e administradores    17 non-null object\n",
      "Tipo                        17 non-null object\n",
      "dtypes: object(5)\n",
      "memory usage: 760.0+ bytes\n"
     ]
    }
   ],
   "source": [
    "moises.info()"
   ]
  },
  {
   "cell_type": "code",
   "execution_count": 71,
   "metadata": {},
   "outputs": [
    {
     "data": {
      "text/plain": [
       "0               CONSTRUTORA E INCORPORADORA MIRANTI S/A\n",
       "1     EMI - INVESTIMENTOS, PARTICIPACOES & EMPREENDI...\n",
       "2                    F.B.M. INDUSTRIA FARMACEUTICA LTDA\n",
       "3             G4 - EMPREENDIMENTOS E PARTICIPACOES LTDA\n",
       "4     HOSPFAR INDUSTRIA E COMERCIO DE PRODUTOS HOSPI...\n",
       "5                            JETLOG LOGISTICA LTDA - ME\n",
       "6     KEDRION BRASIL DISTRIBUIDORA DE PRODUTOS HOSPI...\n",
       "7            LOGIFAR ADMINISTRADORA LOGISTICA LTDA - ME\n",
       "8            LOGIFAR ADMINISTRADORA LOGISTICA LTDA - ME\n",
       "9                             M3 PHARMA DO BRASIL LTDA.\n",
       "10                               MMB PARTICIPACOES LTDA\n",
       "11                             MODAZA AGROPECUARIA LTDA\n",
       "12                   MOMAR CONSULTORIA EMPRESARIAL LTDA\n",
       "13               NOVE ADMINISTRACAO E PARTICIPACOES S.A\n",
       "14        PATRIA PARTICIPACOES E INVESTIMENTOS - EIRELI\n",
       "15            SPE - GMB PARTICIPACOES IMOBILIARIAS LTDA\n",
       "16                    TRANSFAR TRANSPORTADORA LTDA - ME\n",
       "Name: Empresa, dtype: object"
      ]
     },
     "execution_count": 71,
     "metadata": {},
     "output_type": "execute_result"
    }
   ],
   "source": [
    "moises.Empresa"
   ]
  },
  {
   "cell_type": "code",
   "execution_count": 72,
   "metadata": {},
   "outputs": [
    {
     "data": {
      "text/plain": [
       "Index(['Empresa', 'CNPJ', 'Estado', 'Sócios e administradores', 'Tipo'], dtype='object')"
      ]
     },
     "execution_count": 72,
     "metadata": {},
     "output_type": "execute_result"
    }
   ],
   "source": [
    "moises.columns"
   ]
  },
  {
   "cell_type": "code",
   "execution_count": 73,
   "metadata": {},
   "outputs": [],
   "source": [
    "socio1 = moises.Empresa"
   ]
  },
  {
   "cell_type": "code",
   "execution_count": 74,
   "metadata": {},
   "outputs": [
    {
     "data": {
      "text/plain": [
       "0               CONSTRUTORA E INCORPORADORA MIRANTI S/A\n",
       "1     EMI - INVESTIMENTOS, PARTICIPACOES & EMPREENDI...\n",
       "2                    F.B.M. INDUSTRIA FARMACEUTICA LTDA\n",
       "3             G4 - EMPREENDIMENTOS E PARTICIPACOES LTDA\n",
       "4     HOSPFAR INDUSTRIA E COMERCIO DE PRODUTOS HOSPI...\n",
       "5                            JETLOG LOGISTICA LTDA - ME\n",
       "6     KEDRION BRASIL DISTRIBUIDORA DE PRODUTOS HOSPI...\n",
       "7            LOGIFAR ADMINISTRADORA LOGISTICA LTDA - ME\n",
       "8            LOGIFAR ADMINISTRADORA LOGISTICA LTDA - ME\n",
       "9                             M3 PHARMA DO BRASIL LTDA.\n",
       "10                               MMB PARTICIPACOES LTDA\n",
       "11                             MODAZA AGROPECUARIA LTDA\n",
       "12                   MOMAR CONSULTORIA EMPRESARIAL LTDA\n",
       "13               NOVE ADMINISTRACAO E PARTICIPACOES S.A\n",
       "14        PATRIA PARTICIPACOES E INVESTIMENTOS - EIRELI\n",
       "15            SPE - GMB PARTICIPACOES IMOBILIARIAS LTDA\n",
       "16                    TRANSFAR TRANSPORTADORA LTDA - ME\n",
       "Name: Empresa, dtype: object"
      ]
     },
     "execution_count": 74,
     "metadata": {},
     "output_type": "execute_result"
    }
   ],
   "source": [
    "socio1"
   ]
  },
  {
   "cell_type": "code",
   "execution_count": 75,
   "metadata": {},
   "outputs": [],
   "source": [
    "marcelo = pd.read_csv('empresa_marcelo.csv', skiprows=1)"
   ]
  },
  {
   "cell_type": "code",
   "execution_count": 76,
   "metadata": {},
   "outputs": [
    {
     "data": {
      "text/html": [
       "<div>\n",
       "<style scoped>\n",
       "    .dataframe tbody tr th:only-of-type {\n",
       "        vertical-align: middle;\n",
       "    }\n",
       "\n",
       "    .dataframe tbody tr th {\n",
       "        vertical-align: top;\n",
       "    }\n",
       "\n",
       "    .dataframe thead th {\n",
       "        text-align: right;\n",
       "    }\n",
       "</style>\n",
       "<table border=\"1\" class=\"dataframe\">\n",
       "  <thead>\n",
       "    <tr style=\"text-align: right;\">\n",
       "      <th></th>\n",
       "      <th>CP3 PARTICIPACOES LTDA</th>\n",
       "      <th>CNPJ</th>\n",
       "      <th>Estado</th>\n",
       "      <th>Sócios e administradores</th>\n",
       "      <th>CNPJ.1</th>\n",
       "      <th>Tipo</th>\n",
       "    </tr>\n",
       "  </thead>\n",
       "  <tbody>\n",
       "    <tr>\n",
       "      <th>0</th>\n",
       "      <td>BIOTEC BIOLOGICA INDUSTRIA FARMACEUTICA LTDA -...</td>\n",
       "      <td>10.446.719/0001-04</td>\n",
       "      <td>GO</td>\n",
       "      <td>MARCELO REIS PERILLO</td>\n",
       "      <td>NaN</td>\n",
       "      <td>Sócio-Administrador</td>\n",
       "    </tr>\n",
       "    <tr>\n",
       "      <th>1</th>\n",
       "      <td>CP3 PARTICIPACOES LTDA</td>\n",
       "      <td>23.994.088/0001-00</td>\n",
       "      <td>GO</td>\n",
       "      <td>MARCELO REIS PERILLO</td>\n",
       "      <td>NaN</td>\n",
       "      <td>Sócio-Administrador</td>\n",
       "    </tr>\n",
       "    <tr>\n",
       "      <th>2</th>\n",
       "      <td>DISTRIBUIDORA DE PROD.FARMACEUTICOS HALEX LTDA</td>\n",
       "      <td>69.078.855/0001-31</td>\n",
       "      <td>SP</td>\n",
       "      <td>MARCELO REIS PERILLO</td>\n",
       "      <td>NaN</td>\n",
       "      <td>Sócio-Administrador</td>\n",
       "    </tr>\n",
       "    <tr>\n",
       "      <th>3</th>\n",
       "      <td>F.B.M. INDUSTRIA FARMACEUTICA LTDA</td>\n",
       "      <td>02.060.549/0001-05</td>\n",
       "      <td>GO</td>\n",
       "      <td>MARCELO REIS PERILLO</td>\n",
       "      <td>NaN</td>\n",
       "      <td>Sócio-Administrador</td>\n",
       "    </tr>\n",
       "    <tr>\n",
       "      <th>4</th>\n",
       "      <td>HJP ASSESSORIA FARMACEUTICA LTDA - EPP</td>\n",
       "      <td>05.775.529/0001-09</td>\n",
       "      <td>GO</td>\n",
       "      <td>MARCELO REIS PERILLO</td>\n",
       "      <td>NaN</td>\n",
       "      <td>Sócio-Administrador</td>\n",
       "    </tr>\n",
       "    <tr>\n",
       "      <th>5</th>\n",
       "      <td>HOSPFAR INDUSTRIA E COMERCIO DE PRODUTOS HOSPI...</td>\n",
       "      <td>26.921.908/0001-21</td>\n",
       "      <td>GO</td>\n",
       "      <td>MARCELO REIS PERILLO</td>\n",
       "      <td>NaN</td>\n",
       "      <td>Administrador</td>\n",
       "    </tr>\n",
       "    <tr>\n",
       "      <th>6</th>\n",
       "      <td>JETLOG LOGISTICA LTDA - ME</td>\n",
       "      <td>12.723.621/0001-82</td>\n",
       "      <td>GO</td>\n",
       "      <td>MARCELO REIS PERILLO</td>\n",
       "      <td>NaN</td>\n",
       "      <td>Sócio-Administrador</td>\n",
       "    </tr>\n",
       "    <tr>\n",
       "      <th>7</th>\n",
       "      <td>KEDRION BRASIL DISTRIBUIDORA DE PRODUTOS HOSPI...</td>\n",
       "      <td>09.284.952/0001-59</td>\n",
       "      <td>GO</td>\n",
       "      <td>MARCELO REIS PERILLO</td>\n",
       "      <td>NaN</td>\n",
       "      <td>Administrador</td>\n",
       "    </tr>\n",
       "    <tr>\n",
       "      <th>8</th>\n",
       "      <td>LOGIFAR ADMINISTRADORA LOGISTICA LTDA - ME</td>\n",
       "      <td>05.811.214/0001-61</td>\n",
       "      <td>DF</td>\n",
       "      <td>MARCELO REIS PERILLO</td>\n",
       "      <td>NaN</td>\n",
       "      <td>Sócio-Administrador</td>\n",
       "    </tr>\n",
       "    <tr>\n",
       "      <th>9</th>\n",
       "      <td>LOGIFAR ADMINISTRADORA LOGISTICA LTDA - ME</td>\n",
       "      <td>05.767.208/0001-54</td>\n",
       "      <td>GO</td>\n",
       "      <td>MARCELO REIS PERILLO</td>\n",
       "      <td>NaN</td>\n",
       "      <td>Sócio-Administrador</td>\n",
       "    </tr>\n",
       "    <tr>\n",
       "      <th>10</th>\n",
       "      <td>MMB PARTICIPACOES LTDA</td>\n",
       "      <td>22.244.903/0001-50</td>\n",
       "      <td>GO</td>\n",
       "      <td>MARCELO REIS PERILLO</td>\n",
       "      <td>NaN</td>\n",
       "      <td>Sócio-Administrador</td>\n",
       "    </tr>\n",
       "    <tr>\n",
       "      <th>11</th>\n",
       "      <td>MOMAR CONSULTORIA EMPRESARIAL LTDA</td>\n",
       "      <td>02.199.667/0001-90</td>\n",
       "      <td>GO</td>\n",
       "      <td>MARCELO REIS PERILLO</td>\n",
       "      <td>NaN</td>\n",
       "      <td>Sócio-Administrador</td>\n",
       "    </tr>\n",
       "    <tr>\n",
       "      <th>12</th>\n",
       "      <td>MRP PARTICIPACOES E INVESTIMENTOS - EIRELI</td>\n",
       "      <td>23.501.688/0001-99</td>\n",
       "      <td>GO</td>\n",
       "      <td>MARCELO REIS PERILLO</td>\n",
       "      <td>NaN</td>\n",
       "      <td>Titular Pessoa Física Residente ou Domiciliado...</td>\n",
       "    </tr>\n",
       "    <tr>\n",
       "      <th>13</th>\n",
       "      <td>PETROPOLIS COMERCIO IMPORTACAO E EXPORTACAO LT...</td>\n",
       "      <td>14.714.619/0001-72</td>\n",
       "      <td>GO</td>\n",
       "      <td>MARCELO REIS PERILLO</td>\n",
       "      <td>NaN</td>\n",
       "      <td>Sócio-Administrador</td>\n",
       "    </tr>\n",
       "    <tr>\n",
       "      <th>14</th>\n",
       "      <td>SPE - GMB PARTICIPACOES IMOBILIARIAS LTDA</td>\n",
       "      <td>22.971.169/0001-21</td>\n",
       "      <td>GO</td>\n",
       "      <td>MARCELO REIS PERILLO</td>\n",
       "      <td>NaN</td>\n",
       "      <td>Administrador</td>\n",
       "    </tr>\n",
       "    <tr>\n",
       "      <th>15</th>\n",
       "      <td>TRANSFAR TRANSPORTADORA LTDA - ME</td>\n",
       "      <td>05.767.204/0001-76</td>\n",
       "      <td>GO</td>\n",
       "      <td>MARCELO REIS PERILLO</td>\n",
       "      <td>NaN</td>\n",
       "      <td>Sócio-Administrador</td>\n",
       "    </tr>\n",
       "  </tbody>\n",
       "</table>\n",
       "</div>"
      ],
      "text/plain": [
       "                               CP3 PARTICIPACOES LTDA                CNPJ  \\\n",
       "0   BIOTEC BIOLOGICA INDUSTRIA FARMACEUTICA LTDA -...  10.446.719/0001-04   \n",
       "1                              CP3 PARTICIPACOES LTDA  23.994.088/0001-00   \n",
       "2      DISTRIBUIDORA DE PROD.FARMACEUTICOS HALEX LTDA  69.078.855/0001-31   \n",
       "3                  F.B.M. INDUSTRIA FARMACEUTICA LTDA  02.060.549/0001-05   \n",
       "4              HJP ASSESSORIA FARMACEUTICA LTDA - EPP  05.775.529/0001-09   \n",
       "5   HOSPFAR INDUSTRIA E COMERCIO DE PRODUTOS HOSPI...  26.921.908/0001-21   \n",
       "6                          JETLOG LOGISTICA LTDA - ME  12.723.621/0001-82   \n",
       "7   KEDRION BRASIL DISTRIBUIDORA DE PRODUTOS HOSPI...  09.284.952/0001-59   \n",
       "8          LOGIFAR ADMINISTRADORA LOGISTICA LTDA - ME  05.811.214/0001-61   \n",
       "9          LOGIFAR ADMINISTRADORA LOGISTICA LTDA - ME  05.767.208/0001-54   \n",
       "10                             MMB PARTICIPACOES LTDA  22.244.903/0001-50   \n",
       "11                 MOMAR CONSULTORIA EMPRESARIAL LTDA  02.199.667/0001-90   \n",
       "12         MRP PARTICIPACOES E INVESTIMENTOS - EIRELI  23.501.688/0001-99   \n",
       "13  PETROPOLIS COMERCIO IMPORTACAO E EXPORTACAO LT...  14.714.619/0001-72   \n",
       "14          SPE - GMB PARTICIPACOES IMOBILIARIAS LTDA  22.971.169/0001-21   \n",
       "15                  TRANSFAR TRANSPORTADORA LTDA - ME  05.767.204/0001-76   \n",
       "\n",
       "   Estado Sócios e administradores  CNPJ.1  \\\n",
       "0      GO     MARCELO REIS PERILLO     NaN   \n",
       "1      GO     MARCELO REIS PERILLO     NaN   \n",
       "2      SP     MARCELO REIS PERILLO     NaN   \n",
       "3      GO     MARCELO REIS PERILLO     NaN   \n",
       "4      GO     MARCELO REIS PERILLO     NaN   \n",
       "5      GO     MARCELO REIS PERILLO     NaN   \n",
       "6      GO     MARCELO REIS PERILLO     NaN   \n",
       "7      GO     MARCELO REIS PERILLO     NaN   \n",
       "8      DF     MARCELO REIS PERILLO     NaN   \n",
       "9      GO     MARCELO REIS PERILLO     NaN   \n",
       "10     GO     MARCELO REIS PERILLO     NaN   \n",
       "11     GO     MARCELO REIS PERILLO     NaN   \n",
       "12     GO     MARCELO REIS PERILLO     NaN   \n",
       "13     GO     MARCELO REIS PERILLO     NaN   \n",
       "14     GO     MARCELO REIS PERILLO     NaN   \n",
       "15     GO     MARCELO REIS PERILLO     NaN   \n",
       "\n",
       "                                                 Tipo  \n",
       "0                                 Sócio-Administrador  \n",
       "1                                 Sócio-Administrador  \n",
       "2                                 Sócio-Administrador  \n",
       "3                                 Sócio-Administrador  \n",
       "4                                 Sócio-Administrador  \n",
       "5                                       Administrador  \n",
       "6                                 Sócio-Administrador  \n",
       "7                                       Administrador  \n",
       "8                                 Sócio-Administrador  \n",
       "9                                 Sócio-Administrador  \n",
       "10                                Sócio-Administrador  \n",
       "11                                Sócio-Administrador  \n",
       "12  Titular Pessoa Física Residente ou Domiciliado...  \n",
       "13                                Sócio-Administrador  \n",
       "14                                      Administrador  \n",
       "15                                Sócio-Administrador  "
      ]
     },
     "execution_count": 76,
     "metadata": {},
     "output_type": "execute_result"
    }
   ],
   "source": [
    "marcelo"
   ]
  },
  {
   "cell_type": "code",
   "execution_count": 77,
   "metadata": {},
   "outputs": [],
   "source": [
    "marcelo.columns = ['Empresa', 'CNPJ', 'Estado', 'Sócios e administradores','CNPJ_1', 'Tipo']"
   ]
  },
  {
   "cell_type": "code",
   "execution_count": 78,
   "metadata": {},
   "outputs": [],
   "source": [
    "marcelo.drop('CNPJ_1', axis=1, inplace=True)"
   ]
  },
  {
   "cell_type": "code",
   "execution_count": 79,
   "metadata": {},
   "outputs": [
    {
     "name": "stdout",
     "output_type": "stream",
     "text": [
      "<class 'pandas.core.frame.DataFrame'>\n",
      "RangeIndex: 16 entries, 0 to 15\n",
      "Data columns (total 5 columns):\n",
      "Empresa                     16 non-null object\n",
      "CNPJ                        16 non-null object\n",
      "Estado                      16 non-null object\n",
      "Sócios e administradores    16 non-null object\n",
      "Tipo                        16 non-null object\n",
      "dtypes: object(5)\n",
      "memory usage: 720.0+ bytes\n"
     ]
    }
   ],
   "source": [
    "marcelo.info()"
   ]
  },
  {
   "cell_type": "code",
   "execution_count": 80,
   "metadata": {},
   "outputs": [
    {
     "data": {
      "text/plain": [
       "0     BIOTEC BIOLOGICA INDUSTRIA FARMACEUTICA LTDA -...\n",
       "1                                CP3 PARTICIPACOES LTDA\n",
       "2        DISTRIBUIDORA DE PROD.FARMACEUTICOS HALEX LTDA\n",
       "3                    F.B.M. INDUSTRIA FARMACEUTICA LTDA\n",
       "4                HJP ASSESSORIA FARMACEUTICA LTDA - EPP\n",
       "5     HOSPFAR INDUSTRIA E COMERCIO DE PRODUTOS HOSPI...\n",
       "6                            JETLOG LOGISTICA LTDA - ME\n",
       "7     KEDRION BRASIL DISTRIBUIDORA DE PRODUTOS HOSPI...\n",
       "8            LOGIFAR ADMINISTRADORA LOGISTICA LTDA - ME\n",
       "9            LOGIFAR ADMINISTRADORA LOGISTICA LTDA - ME\n",
       "10                               MMB PARTICIPACOES LTDA\n",
       "11                   MOMAR CONSULTORIA EMPRESARIAL LTDA\n",
       "12           MRP PARTICIPACOES E INVESTIMENTOS - EIRELI\n",
       "13    PETROPOLIS COMERCIO IMPORTACAO E EXPORTACAO LT...\n",
       "14            SPE - GMB PARTICIPACOES IMOBILIARIAS LTDA\n",
       "15                    TRANSFAR TRANSPORTADORA LTDA - ME\n",
       "Name: Empresa, dtype: object"
      ]
     },
     "execution_count": 80,
     "metadata": {},
     "output_type": "execute_result"
    }
   ],
   "source": [
    "socio2 = marcelo.Empresa\n",
    "socio2"
   ]
  },
  {
   "cell_type": "markdown",
   "metadata": {},
   "source": [
    "#### Marcelo Reis, Brandão de Souza Rezende e Moises são sócios de 7 empreesas juntos: F.B.M; Kedrion; Jetlog; M.M.B; SPE-GMB,  Hospfar e Transfar Transportadora. Brandão foi candidato a prefeito em 2008 [ https://noticias.uol.com.br/politica/politicos-brasil/2008/prefeito/06101960-brandao-rezende.jhtm] e candidato de novo em 2012, cpf 218.983.831-20, Nao eleito, Prefeito, PMDB, TO, TUPIRATINS, Bens declarados 29.652.750,9 (BRL)\n"
   ]
  },
  {
   "cell_type": "code",
   "execution_count": 81,
   "metadata": {},
   "outputs": [],
   "source": [
    "brandao = pd.read_csv('empresas_brandao.csv')\n",
    "brandao.drop('CNPJ.1', axis=1, inplace=True)"
   ]
  },
  {
   "cell_type": "code",
   "execution_count": 82,
   "metadata": {},
   "outputs": [
    {
     "name": "stdout",
     "output_type": "stream",
     "text": [
      "<class 'pandas.core.frame.DataFrame'>\n",
      "RangeIndex: 11 entries, 0 to 10\n",
      "Data columns (total 5 columns):\n",
      "Empresa                     11 non-null object\n",
      "CNPJ                        11 non-null object\n",
      "Estado                      11 non-null object\n",
      "Sócios e administradores    11 non-null object\n",
      "Tipo                        11 non-null object\n",
      "dtypes: object(5)\n",
      "memory usage: 520.0+ bytes\n"
     ]
    }
   ],
   "source": [
    "brandao.info()"
   ]
  },
  {
   "cell_type": "code",
   "execution_count": 83,
   "metadata": {},
   "outputs": [
    {
     "data": {
      "text/plain": [
       "0         BRASHE PARTICIPACOES E INVESTIMENTOS - EIRELI\n",
       "1                    CHITAO E BRANDAO AGROPECUARIA LTDA\n",
       "2                    F.B.M. INDUSTRIA FARMACEUTICA LTDA\n",
       "3     HOSPFAR INDUSTRIA E COMERCIO DE PRODUTOS HOSPI...\n",
       "4                            JETLOG LOGISTICA LTDA - ME\n",
       "5     KEDRION BRASIL DISTRIBUIDORA DE PRODUTOS HOSPI...\n",
       "6            LOGIFAR ADMINISTRADORA LOGISTICA LTDA - ME\n",
       "7            LOGIFAR ADMINISTRADORA LOGISTICA LTDA - ME\n",
       "8                                MMB PARTICIPACOES LTDA\n",
       "9             SPE - GMB PARTICIPACOES IMOBILIARIAS LTDA\n",
       "10                    TRANSFAR TRANSPORTADORA LTDA - ME\n",
       "Name: Empresa, dtype: object"
      ]
     },
     "execution_count": 83,
     "metadata": {},
     "output_type": "execute_result"
    }
   ],
   "source": [
    "brandao['Empresa']"
   ]
  },
  {
   "cell_type": "code",
   "execution_count": 84,
   "metadata": {},
   "outputs": [
    {
     "data": {
      "text/plain": [
       "0    BRASHE PARTICIPACOES E INVESTIMENTOS - EIRELI\n",
       "1               CHITAO E BRANDAO AGROPECUARIA LTDA\n",
       "Name: Empresa, dtype: object"
      ]
     },
     "execution_count": 84,
     "metadata": {},
     "output_type": "execute_result"
    }
   ],
   "source": [
    "socio3 = brandao.Empresa\n",
    "socio3.head(2)"
   ]
  },
  {
   "cell_type": "code",
   "execution_count": 85,
   "metadata": {},
   "outputs": [
    {
     "data": {
      "text/html": [
       "<div>\n",
       "<style scoped>\n",
       "    .dataframe tbody tr th:only-of-type {\n",
       "        vertical-align: middle;\n",
       "    }\n",
       "\n",
       "    .dataframe tbody tr th {\n",
       "        vertical-align: top;\n",
       "    }\n",
       "\n",
       "    .dataframe thead th {\n",
       "        text-align: right;\n",
       "    }\n",
       "</style>\n",
       "<table border=\"1\" class=\"dataframe\">\n",
       "  <thead>\n",
       "    <tr style=\"text-align: right;\">\n",
       "      <th></th>\n",
       "      <th>Empresa</th>\n",
       "      <th>CNPJ_x</th>\n",
       "      <th>Estado_x</th>\n",
       "      <th>Sócios e administradores_x</th>\n",
       "      <th>Tipo_x</th>\n",
       "      <th>CNPJ_y</th>\n",
       "      <th>Estado_y</th>\n",
       "      <th>Sócios e administradores_y</th>\n",
       "      <th>Tipo_y</th>\n",
       "    </tr>\n",
       "  </thead>\n",
       "  <tbody>\n",
       "    <tr>\n",
       "      <th>0</th>\n",
       "      <td>F.B.M. INDUSTRIA FARMACEUTICA LTDA</td>\n",
       "      <td>02.060.549/0001-05</td>\n",
       "      <td>GO</td>\n",
       "      <td>MOISES ALVES DE OLIVEIRA NETO</td>\n",
       "      <td>Sócio-Administrador</td>\n",
       "      <td>02.060.549/0001-05</td>\n",
       "      <td>GO</td>\n",
       "      <td>MARCELO REIS PERILLO</td>\n",
       "      <td>Sócio-Administrador</td>\n",
       "    </tr>\n",
       "    <tr>\n",
       "      <th>1</th>\n",
       "      <td>HOSPFAR INDUSTRIA E COMERCIO DE PRODUTOS HOSPI...</td>\n",
       "      <td>26.921.908/0001-21</td>\n",
       "      <td>GO</td>\n",
       "      <td>MOISES ALVES DE OLIVEIRA NETO</td>\n",
       "      <td>Diretor</td>\n",
       "      <td>26.921.908/0001-21</td>\n",
       "      <td>GO</td>\n",
       "      <td>MARCELO REIS PERILLO</td>\n",
       "      <td>Administrador</td>\n",
       "    </tr>\n",
       "    <tr>\n",
       "      <th>2</th>\n",
       "      <td>JETLOG LOGISTICA LTDA - ME</td>\n",
       "      <td>12.723.621/0001-82</td>\n",
       "      <td>GO</td>\n",
       "      <td>MOISES ALVES DE OLIVEIRA NETO</td>\n",
       "      <td>Sócio</td>\n",
       "      <td>12.723.621/0001-82</td>\n",
       "      <td>GO</td>\n",
       "      <td>MARCELO REIS PERILLO</td>\n",
       "      <td>Sócio-Administrador</td>\n",
       "    </tr>\n",
       "    <tr>\n",
       "      <th>3</th>\n",
       "      <td>KEDRION BRASIL DISTRIBUIDORA DE PRODUTOS HOSPI...</td>\n",
       "      <td>09.284.952/0001-59</td>\n",
       "      <td>GO</td>\n",
       "      <td>MOISES ALVES DE OLIVEIRA NETO</td>\n",
       "      <td>Administrador</td>\n",
       "      <td>09.284.952/0001-59</td>\n",
       "      <td>GO</td>\n",
       "      <td>MARCELO REIS PERILLO</td>\n",
       "      <td>Administrador</td>\n",
       "    </tr>\n",
       "    <tr>\n",
       "      <th>4</th>\n",
       "      <td>LOGIFAR ADMINISTRADORA LOGISTICA LTDA - ME</td>\n",
       "      <td>05.811.214/0001-61</td>\n",
       "      <td>DF</td>\n",
       "      <td>MOISES ALVES DE OLIVEIRA NETO</td>\n",
       "      <td>Sócio-Administrador</td>\n",
       "      <td>05.811.214/0001-61</td>\n",
       "      <td>DF</td>\n",
       "      <td>MARCELO REIS PERILLO</td>\n",
       "      <td>Sócio-Administrador</td>\n",
       "    </tr>\n",
       "    <tr>\n",
       "      <th>5</th>\n",
       "      <td>LOGIFAR ADMINISTRADORA LOGISTICA LTDA - ME</td>\n",
       "      <td>05.811.214/0001-61</td>\n",
       "      <td>DF</td>\n",
       "      <td>MOISES ALVES DE OLIVEIRA NETO</td>\n",
       "      <td>Sócio-Administrador</td>\n",
       "      <td>05.767.208/0001-54</td>\n",
       "      <td>GO</td>\n",
       "      <td>MARCELO REIS PERILLO</td>\n",
       "      <td>Sócio-Administrador</td>\n",
       "    </tr>\n",
       "    <tr>\n",
       "      <th>6</th>\n",
       "      <td>LOGIFAR ADMINISTRADORA LOGISTICA LTDA - ME</td>\n",
       "      <td>05.767.208/0001-54</td>\n",
       "      <td>GO</td>\n",
       "      <td>MOISES ALVES DE OLIVEIRA NETO</td>\n",
       "      <td>Sócio-Administrador</td>\n",
       "      <td>05.811.214/0001-61</td>\n",
       "      <td>DF</td>\n",
       "      <td>MARCELO REIS PERILLO</td>\n",
       "      <td>Sócio-Administrador</td>\n",
       "    </tr>\n",
       "    <tr>\n",
       "      <th>7</th>\n",
       "      <td>LOGIFAR ADMINISTRADORA LOGISTICA LTDA - ME</td>\n",
       "      <td>05.767.208/0001-54</td>\n",
       "      <td>GO</td>\n",
       "      <td>MOISES ALVES DE OLIVEIRA NETO</td>\n",
       "      <td>Sócio-Administrador</td>\n",
       "      <td>05.767.208/0001-54</td>\n",
       "      <td>GO</td>\n",
       "      <td>MARCELO REIS PERILLO</td>\n",
       "      <td>Sócio-Administrador</td>\n",
       "    </tr>\n",
       "    <tr>\n",
       "      <th>8</th>\n",
       "      <td>MMB PARTICIPACOES LTDA</td>\n",
       "      <td>22.244.903/0001-50</td>\n",
       "      <td>GO</td>\n",
       "      <td>MOISES ALVES DE OLIVEIRA NETO</td>\n",
       "      <td>Sócio-Administrador</td>\n",
       "      <td>22.244.903/0001-50</td>\n",
       "      <td>GO</td>\n",
       "      <td>MARCELO REIS PERILLO</td>\n",
       "      <td>Sócio-Administrador</td>\n",
       "    </tr>\n",
       "    <tr>\n",
       "      <th>9</th>\n",
       "      <td>MOMAR CONSULTORIA EMPRESARIAL LTDA</td>\n",
       "      <td>02.199.667/0001-90</td>\n",
       "      <td>GO</td>\n",
       "      <td>MOISES ALVES DE OLIVEIRA NETO</td>\n",
       "      <td>Sócio</td>\n",
       "      <td>02.199.667/0001-90</td>\n",
       "      <td>GO</td>\n",
       "      <td>MARCELO REIS PERILLO</td>\n",
       "      <td>Sócio-Administrador</td>\n",
       "    </tr>\n",
       "    <tr>\n",
       "      <th>10</th>\n",
       "      <td>SPE - GMB PARTICIPACOES IMOBILIARIAS LTDA</td>\n",
       "      <td>22.971.169/0001-21</td>\n",
       "      <td>GO</td>\n",
       "      <td>MOISES ALVES DE OLIVEIRA NETO</td>\n",
       "      <td>Administrador</td>\n",
       "      <td>22.971.169/0001-21</td>\n",
       "      <td>GO</td>\n",
       "      <td>MARCELO REIS PERILLO</td>\n",
       "      <td>Administrador</td>\n",
       "    </tr>\n",
       "    <tr>\n",
       "      <th>11</th>\n",
       "      <td>TRANSFAR TRANSPORTADORA LTDA - ME</td>\n",
       "      <td>05.767.204/0001-76</td>\n",
       "      <td>GO</td>\n",
       "      <td>MOISES ALVES DE OLIVEIRA NETO</td>\n",
       "      <td>Sócio-Administrador</td>\n",
       "      <td>05.767.204/0001-76</td>\n",
       "      <td>GO</td>\n",
       "      <td>MARCELO REIS PERILLO</td>\n",
       "      <td>Sócio-Administrador</td>\n",
       "    </tr>\n",
       "  </tbody>\n",
       "</table>\n",
       "</div>"
      ],
      "text/plain": [
       "                                              Empresa              CNPJ_x  \\\n",
       "0                  F.B.M. INDUSTRIA FARMACEUTICA LTDA  02.060.549/0001-05   \n",
       "1   HOSPFAR INDUSTRIA E COMERCIO DE PRODUTOS HOSPI...  26.921.908/0001-21   \n",
       "2                          JETLOG LOGISTICA LTDA - ME  12.723.621/0001-82   \n",
       "3   KEDRION BRASIL DISTRIBUIDORA DE PRODUTOS HOSPI...  09.284.952/0001-59   \n",
       "4          LOGIFAR ADMINISTRADORA LOGISTICA LTDA - ME  05.811.214/0001-61   \n",
       "5          LOGIFAR ADMINISTRADORA LOGISTICA LTDA - ME  05.811.214/0001-61   \n",
       "6          LOGIFAR ADMINISTRADORA LOGISTICA LTDA - ME  05.767.208/0001-54   \n",
       "7          LOGIFAR ADMINISTRADORA LOGISTICA LTDA - ME  05.767.208/0001-54   \n",
       "8                              MMB PARTICIPACOES LTDA  22.244.903/0001-50   \n",
       "9                  MOMAR CONSULTORIA EMPRESARIAL LTDA  02.199.667/0001-90   \n",
       "10          SPE - GMB PARTICIPACOES IMOBILIARIAS LTDA  22.971.169/0001-21   \n",
       "11                  TRANSFAR TRANSPORTADORA LTDA - ME  05.767.204/0001-76   \n",
       "\n",
       "   Estado_x     Sócios e administradores_x               Tipo_x  \\\n",
       "0        GO  MOISES ALVES DE OLIVEIRA NETO  Sócio-Administrador   \n",
       "1        GO  MOISES ALVES DE OLIVEIRA NETO              Diretor   \n",
       "2        GO  MOISES ALVES DE OLIVEIRA NETO                Sócio   \n",
       "3        GO  MOISES ALVES DE OLIVEIRA NETO        Administrador   \n",
       "4        DF  MOISES ALVES DE OLIVEIRA NETO  Sócio-Administrador   \n",
       "5        DF  MOISES ALVES DE OLIVEIRA NETO  Sócio-Administrador   \n",
       "6        GO  MOISES ALVES DE OLIVEIRA NETO  Sócio-Administrador   \n",
       "7        GO  MOISES ALVES DE OLIVEIRA NETO  Sócio-Administrador   \n",
       "8        GO  MOISES ALVES DE OLIVEIRA NETO  Sócio-Administrador   \n",
       "9        GO  MOISES ALVES DE OLIVEIRA NETO                Sócio   \n",
       "10       GO  MOISES ALVES DE OLIVEIRA NETO        Administrador   \n",
       "11       GO  MOISES ALVES DE OLIVEIRA NETO  Sócio-Administrador   \n",
       "\n",
       "                CNPJ_y Estado_y Sócios e administradores_y  \\\n",
       "0   02.060.549/0001-05       GO       MARCELO REIS PERILLO   \n",
       "1   26.921.908/0001-21       GO       MARCELO REIS PERILLO   \n",
       "2   12.723.621/0001-82       GO       MARCELO REIS PERILLO   \n",
       "3   09.284.952/0001-59       GO       MARCELO REIS PERILLO   \n",
       "4   05.811.214/0001-61       DF       MARCELO REIS PERILLO   \n",
       "5   05.767.208/0001-54       GO       MARCELO REIS PERILLO   \n",
       "6   05.811.214/0001-61       DF       MARCELO REIS PERILLO   \n",
       "7   05.767.208/0001-54       GO       MARCELO REIS PERILLO   \n",
       "8   22.244.903/0001-50       GO       MARCELO REIS PERILLO   \n",
       "9   02.199.667/0001-90       GO       MARCELO REIS PERILLO   \n",
       "10  22.971.169/0001-21       GO       MARCELO REIS PERILLO   \n",
       "11  05.767.204/0001-76       GO       MARCELO REIS PERILLO   \n",
       "\n",
       "                 Tipo_y  \n",
       "0   Sócio-Administrador  \n",
       "1         Administrador  \n",
       "2   Sócio-Administrador  \n",
       "3         Administrador  \n",
       "4   Sócio-Administrador  \n",
       "5   Sócio-Administrador  \n",
       "6   Sócio-Administrador  \n",
       "7   Sócio-Administrador  \n",
       "8   Sócio-Administrador  \n",
       "9   Sócio-Administrador  \n",
       "10        Administrador  \n",
       "11  Sócio-Administrador  "
      ]
     },
     "execution_count": 85,
     "metadata": {},
     "output_type": "execute_result"
    }
   ],
   "source": [
    "pd.merge(moises, marcelo, on='Empresa')"
   ]
  },
  {
   "cell_type": "code",
   "execution_count": 86,
   "metadata": {},
   "outputs": [],
   "source": [
    "planilha1 = pd.merge(moises, marcelo, on='Empresa')"
   ]
  },
  {
   "cell_type": "code",
   "execution_count": 87,
   "metadata": {},
   "outputs": [
    {
     "data": {
      "text/html": [
       "<div>\n",
       "<style scoped>\n",
       "    .dataframe tbody tr th:only-of-type {\n",
       "        vertical-align: middle;\n",
       "    }\n",
       "\n",
       "    .dataframe tbody tr th {\n",
       "        vertical-align: top;\n",
       "    }\n",
       "\n",
       "    .dataframe thead th {\n",
       "        text-align: right;\n",
       "    }\n",
       "</style>\n",
       "<table border=\"1\" class=\"dataframe\">\n",
       "  <thead>\n",
       "    <tr style=\"text-align: right;\">\n",
       "      <th></th>\n",
       "      <th>Empresa</th>\n",
       "      <th>CNPJ_x</th>\n",
       "      <th>Estado_x</th>\n",
       "      <th>Sócios e administradores_x</th>\n",
       "      <th>Tipo_x</th>\n",
       "      <th>CNPJ_y</th>\n",
       "      <th>Estado_y</th>\n",
       "      <th>Sócios e administradores_y</th>\n",
       "      <th>Tipo_y</th>\n",
       "    </tr>\n",
       "  </thead>\n",
       "  <tbody>\n",
       "    <tr>\n",
       "      <th>0</th>\n",
       "      <td>F.B.M. INDUSTRIA FARMACEUTICA LTDA</td>\n",
       "      <td>02.060.549/0001-05</td>\n",
       "      <td>GO</td>\n",
       "      <td>MOISES ALVES DE OLIVEIRA NETO</td>\n",
       "      <td>Sócio-Administrador</td>\n",
       "      <td>02.060.549/0001-05</td>\n",
       "      <td>GO</td>\n",
       "      <td>MARCELO REIS PERILLO</td>\n",
       "      <td>Sócio-Administrador</td>\n",
       "    </tr>\n",
       "    <tr>\n",
       "      <th>1</th>\n",
       "      <td>HOSPFAR INDUSTRIA E COMERCIO DE PRODUTOS HOSPI...</td>\n",
       "      <td>26.921.908/0001-21</td>\n",
       "      <td>GO</td>\n",
       "      <td>MOISES ALVES DE OLIVEIRA NETO</td>\n",
       "      <td>Diretor</td>\n",
       "      <td>26.921.908/0001-21</td>\n",
       "      <td>GO</td>\n",
       "      <td>MARCELO REIS PERILLO</td>\n",
       "      <td>Administrador</td>\n",
       "    </tr>\n",
       "    <tr>\n",
       "      <th>2</th>\n",
       "      <td>JETLOG LOGISTICA LTDA - ME</td>\n",
       "      <td>12.723.621/0001-82</td>\n",
       "      <td>GO</td>\n",
       "      <td>MOISES ALVES DE OLIVEIRA NETO</td>\n",
       "      <td>Sócio</td>\n",
       "      <td>12.723.621/0001-82</td>\n",
       "      <td>GO</td>\n",
       "      <td>MARCELO REIS PERILLO</td>\n",
       "      <td>Sócio-Administrador</td>\n",
       "    </tr>\n",
       "    <tr>\n",
       "      <th>3</th>\n",
       "      <td>KEDRION BRASIL DISTRIBUIDORA DE PRODUTOS HOSPI...</td>\n",
       "      <td>09.284.952/0001-59</td>\n",
       "      <td>GO</td>\n",
       "      <td>MOISES ALVES DE OLIVEIRA NETO</td>\n",
       "      <td>Administrador</td>\n",
       "      <td>09.284.952/0001-59</td>\n",
       "      <td>GO</td>\n",
       "      <td>MARCELO REIS PERILLO</td>\n",
       "      <td>Administrador</td>\n",
       "    </tr>\n",
       "    <tr>\n",
       "      <th>4</th>\n",
       "      <td>LOGIFAR ADMINISTRADORA LOGISTICA LTDA - ME</td>\n",
       "      <td>05.811.214/0001-61</td>\n",
       "      <td>DF</td>\n",
       "      <td>MOISES ALVES DE OLIVEIRA NETO</td>\n",
       "      <td>Sócio-Administrador</td>\n",
       "      <td>05.811.214/0001-61</td>\n",
       "      <td>DF</td>\n",
       "      <td>MARCELO REIS PERILLO</td>\n",
       "      <td>Sócio-Administrador</td>\n",
       "    </tr>\n",
       "  </tbody>\n",
       "</table>\n",
       "</div>"
      ],
      "text/plain": [
       "                                             Empresa              CNPJ_x  \\\n",
       "0                 F.B.M. INDUSTRIA FARMACEUTICA LTDA  02.060.549/0001-05   \n",
       "1  HOSPFAR INDUSTRIA E COMERCIO DE PRODUTOS HOSPI...  26.921.908/0001-21   \n",
       "2                         JETLOG LOGISTICA LTDA - ME  12.723.621/0001-82   \n",
       "3  KEDRION BRASIL DISTRIBUIDORA DE PRODUTOS HOSPI...  09.284.952/0001-59   \n",
       "4         LOGIFAR ADMINISTRADORA LOGISTICA LTDA - ME  05.811.214/0001-61   \n",
       "\n",
       "  Estado_x     Sócios e administradores_x               Tipo_x  \\\n",
       "0       GO  MOISES ALVES DE OLIVEIRA NETO  Sócio-Administrador   \n",
       "1       GO  MOISES ALVES DE OLIVEIRA NETO              Diretor   \n",
       "2       GO  MOISES ALVES DE OLIVEIRA NETO                Sócio   \n",
       "3       GO  MOISES ALVES DE OLIVEIRA NETO        Administrador   \n",
       "4       DF  MOISES ALVES DE OLIVEIRA NETO  Sócio-Administrador   \n",
       "\n",
       "               CNPJ_y Estado_y Sócios e administradores_y               Tipo_y  \n",
       "0  02.060.549/0001-05       GO       MARCELO REIS PERILLO  Sócio-Administrador  \n",
       "1  26.921.908/0001-21       GO       MARCELO REIS PERILLO        Administrador  \n",
       "2  12.723.621/0001-82       GO       MARCELO REIS PERILLO  Sócio-Administrador  \n",
       "3  09.284.952/0001-59       GO       MARCELO REIS PERILLO        Administrador  \n",
       "4  05.811.214/0001-61       DF       MARCELO REIS PERILLO  Sócio-Administrador  "
      ]
     },
     "execution_count": 87,
     "metadata": {},
     "output_type": "execute_result"
    }
   ],
   "source": [
    "planilha1.head()"
   ]
  },
  {
   "cell_type": "code",
   "execution_count": 88,
   "metadata": {},
   "outputs": [
    {
     "data": {
      "text/html": [
       "<div>\n",
       "<style scoped>\n",
       "    .dataframe tbody tr th:only-of-type {\n",
       "        vertical-align: middle;\n",
       "    }\n",
       "\n",
       "    .dataframe tbody tr th {\n",
       "        vertical-align: top;\n",
       "    }\n",
       "\n",
       "    .dataframe thead th {\n",
       "        text-align: right;\n",
       "    }\n",
       "</style>\n",
       "<table border=\"1\" class=\"dataframe\">\n",
       "  <thead>\n",
       "    <tr style=\"text-align: right;\">\n",
       "      <th></th>\n",
       "      <th>Empresa</th>\n",
       "      <th>CNPJ_x</th>\n",
       "      <th>Estado_x</th>\n",
       "      <th>Sócios e administradores_x</th>\n",
       "      <th>Tipo_x</th>\n",
       "      <th>CNPJ_y</th>\n",
       "      <th>Estado_y</th>\n",
       "      <th>Sócios e administradores_y</th>\n",
       "      <th>Tipo_y</th>\n",
       "      <th>CNPJ</th>\n",
       "      <th>Estado</th>\n",
       "      <th>Sócios e administradores</th>\n",
       "      <th>Tipo</th>\n",
       "    </tr>\n",
       "  </thead>\n",
       "  <tbody>\n",
       "    <tr>\n",
       "      <th>0</th>\n",
       "      <td>F.B.M. INDUSTRIA FARMACEUTICA LTDA</td>\n",
       "      <td>02.060.549/0001-05</td>\n",
       "      <td>GO</td>\n",
       "      <td>MOISES ALVES DE OLIVEIRA NETO</td>\n",
       "      <td>Sócio-Administrador</td>\n",
       "      <td>02.060.549/0001-05</td>\n",
       "      <td>GO</td>\n",
       "      <td>MARCELO REIS PERILLO</td>\n",
       "      <td>Sócio-Administrador</td>\n",
       "      <td>02.060.549/0001-05</td>\n",
       "      <td>GO</td>\n",
       "      <td>BRANDAO DE SOUSA REZENDE</td>\n",
       "      <td>Sócio-Administrador</td>\n",
       "    </tr>\n",
       "    <tr>\n",
       "      <th>1</th>\n",
       "      <td>HOSPFAR INDUSTRIA E COMERCIO DE PRODUTOS HOSPI...</td>\n",
       "      <td>26.921.908/0001-21</td>\n",
       "      <td>GO</td>\n",
       "      <td>MOISES ALVES DE OLIVEIRA NETO</td>\n",
       "      <td>Diretor</td>\n",
       "      <td>26.921.908/0001-21</td>\n",
       "      <td>GO</td>\n",
       "      <td>MARCELO REIS PERILLO</td>\n",
       "      <td>Administrador</td>\n",
       "      <td>26.921.908/0001-21</td>\n",
       "      <td>GO</td>\n",
       "      <td>BRANDAO DE SOUSA REZENDE</td>\n",
       "      <td>Diretor</td>\n",
       "    </tr>\n",
       "    <tr>\n",
       "      <th>2</th>\n",
       "      <td>JETLOG LOGISTICA LTDA - ME</td>\n",
       "      <td>12.723.621/0001-82</td>\n",
       "      <td>GO</td>\n",
       "      <td>MOISES ALVES DE OLIVEIRA NETO</td>\n",
       "      <td>Sócio</td>\n",
       "      <td>12.723.621/0001-82</td>\n",
       "      <td>GO</td>\n",
       "      <td>MARCELO REIS PERILLO</td>\n",
       "      <td>Sócio-Administrador</td>\n",
       "      <td>12.723.621/0001-82</td>\n",
       "      <td>GO</td>\n",
       "      <td>BRANDAO DE SOUSA REZENDE</td>\n",
       "      <td>Sócio</td>\n",
       "    </tr>\n",
       "    <tr>\n",
       "      <th>3</th>\n",
       "      <td>KEDRION BRASIL DISTRIBUIDORA DE PRODUTOS HOSPI...</td>\n",
       "      <td>09.284.952/0001-59</td>\n",
       "      <td>GO</td>\n",
       "      <td>MOISES ALVES DE OLIVEIRA NETO</td>\n",
       "      <td>Administrador</td>\n",
       "      <td>09.284.952/0001-59</td>\n",
       "      <td>GO</td>\n",
       "      <td>MARCELO REIS PERILLO</td>\n",
       "      <td>Administrador</td>\n",
       "      <td>09.284.952/0001-59</td>\n",
       "      <td>GO</td>\n",
       "      <td>BRANDAO DE SOUSA REZENDE</td>\n",
       "      <td>Administrador</td>\n",
       "    </tr>\n",
       "    <tr>\n",
       "      <th>4</th>\n",
       "      <td>LOGIFAR ADMINISTRADORA LOGISTICA LTDA - ME</td>\n",
       "      <td>05.811.214/0001-61</td>\n",
       "      <td>DF</td>\n",
       "      <td>MOISES ALVES DE OLIVEIRA NETO</td>\n",
       "      <td>Sócio-Administrador</td>\n",
       "      <td>05.811.214/0001-61</td>\n",
       "      <td>DF</td>\n",
       "      <td>MARCELO REIS PERILLO</td>\n",
       "      <td>Sócio-Administrador</td>\n",
       "      <td>05.811.214/0001-61</td>\n",
       "      <td>DF</td>\n",
       "      <td>BRANDAO DE SOUSA REZENDE</td>\n",
       "      <td>Sócio-Administrador</td>\n",
       "    </tr>\n",
       "    <tr>\n",
       "      <th>5</th>\n",
       "      <td>LOGIFAR ADMINISTRADORA LOGISTICA LTDA - ME</td>\n",
       "      <td>05.811.214/0001-61</td>\n",
       "      <td>DF</td>\n",
       "      <td>MOISES ALVES DE OLIVEIRA NETO</td>\n",
       "      <td>Sócio-Administrador</td>\n",
       "      <td>05.811.214/0001-61</td>\n",
       "      <td>DF</td>\n",
       "      <td>MARCELO REIS PERILLO</td>\n",
       "      <td>Sócio-Administrador</td>\n",
       "      <td>05.767.208/0001-54</td>\n",
       "      <td>GO</td>\n",
       "      <td>BRANDAO DE SOUSA REZENDE</td>\n",
       "      <td>Sócio-Administrador</td>\n",
       "    </tr>\n",
       "    <tr>\n",
       "      <th>6</th>\n",
       "      <td>LOGIFAR ADMINISTRADORA LOGISTICA LTDA - ME</td>\n",
       "      <td>05.811.214/0001-61</td>\n",
       "      <td>DF</td>\n",
       "      <td>MOISES ALVES DE OLIVEIRA NETO</td>\n",
       "      <td>Sócio-Administrador</td>\n",
       "      <td>05.767.208/0001-54</td>\n",
       "      <td>GO</td>\n",
       "      <td>MARCELO REIS PERILLO</td>\n",
       "      <td>Sócio-Administrador</td>\n",
       "      <td>05.811.214/0001-61</td>\n",
       "      <td>DF</td>\n",
       "      <td>BRANDAO DE SOUSA REZENDE</td>\n",
       "      <td>Sócio-Administrador</td>\n",
       "    </tr>\n",
       "    <tr>\n",
       "      <th>7</th>\n",
       "      <td>LOGIFAR ADMINISTRADORA LOGISTICA LTDA - ME</td>\n",
       "      <td>05.811.214/0001-61</td>\n",
       "      <td>DF</td>\n",
       "      <td>MOISES ALVES DE OLIVEIRA NETO</td>\n",
       "      <td>Sócio-Administrador</td>\n",
       "      <td>05.767.208/0001-54</td>\n",
       "      <td>GO</td>\n",
       "      <td>MARCELO REIS PERILLO</td>\n",
       "      <td>Sócio-Administrador</td>\n",
       "      <td>05.767.208/0001-54</td>\n",
       "      <td>GO</td>\n",
       "      <td>BRANDAO DE SOUSA REZENDE</td>\n",
       "      <td>Sócio-Administrador</td>\n",
       "    </tr>\n",
       "    <tr>\n",
       "      <th>8</th>\n",
       "      <td>LOGIFAR ADMINISTRADORA LOGISTICA LTDA - ME</td>\n",
       "      <td>05.767.208/0001-54</td>\n",
       "      <td>GO</td>\n",
       "      <td>MOISES ALVES DE OLIVEIRA NETO</td>\n",
       "      <td>Sócio-Administrador</td>\n",
       "      <td>05.811.214/0001-61</td>\n",
       "      <td>DF</td>\n",
       "      <td>MARCELO REIS PERILLO</td>\n",
       "      <td>Sócio-Administrador</td>\n",
       "      <td>05.811.214/0001-61</td>\n",
       "      <td>DF</td>\n",
       "      <td>BRANDAO DE SOUSA REZENDE</td>\n",
       "      <td>Sócio-Administrador</td>\n",
       "    </tr>\n",
       "    <tr>\n",
       "      <th>9</th>\n",
       "      <td>LOGIFAR ADMINISTRADORA LOGISTICA LTDA - ME</td>\n",
       "      <td>05.767.208/0001-54</td>\n",
       "      <td>GO</td>\n",
       "      <td>MOISES ALVES DE OLIVEIRA NETO</td>\n",
       "      <td>Sócio-Administrador</td>\n",
       "      <td>05.811.214/0001-61</td>\n",
       "      <td>DF</td>\n",
       "      <td>MARCELO REIS PERILLO</td>\n",
       "      <td>Sócio-Administrador</td>\n",
       "      <td>05.767.208/0001-54</td>\n",
       "      <td>GO</td>\n",
       "      <td>BRANDAO DE SOUSA REZENDE</td>\n",
       "      <td>Sócio-Administrador</td>\n",
       "    </tr>\n",
       "    <tr>\n",
       "      <th>10</th>\n",
       "      <td>LOGIFAR ADMINISTRADORA LOGISTICA LTDA - ME</td>\n",
       "      <td>05.767.208/0001-54</td>\n",
       "      <td>GO</td>\n",
       "      <td>MOISES ALVES DE OLIVEIRA NETO</td>\n",
       "      <td>Sócio-Administrador</td>\n",
       "      <td>05.767.208/0001-54</td>\n",
       "      <td>GO</td>\n",
       "      <td>MARCELO REIS PERILLO</td>\n",
       "      <td>Sócio-Administrador</td>\n",
       "      <td>05.811.214/0001-61</td>\n",
       "      <td>DF</td>\n",
       "      <td>BRANDAO DE SOUSA REZENDE</td>\n",
       "      <td>Sócio-Administrador</td>\n",
       "    </tr>\n",
       "    <tr>\n",
       "      <th>11</th>\n",
       "      <td>LOGIFAR ADMINISTRADORA LOGISTICA LTDA - ME</td>\n",
       "      <td>05.767.208/0001-54</td>\n",
       "      <td>GO</td>\n",
       "      <td>MOISES ALVES DE OLIVEIRA NETO</td>\n",
       "      <td>Sócio-Administrador</td>\n",
       "      <td>05.767.208/0001-54</td>\n",
       "      <td>GO</td>\n",
       "      <td>MARCELO REIS PERILLO</td>\n",
       "      <td>Sócio-Administrador</td>\n",
       "      <td>05.767.208/0001-54</td>\n",
       "      <td>GO</td>\n",
       "      <td>BRANDAO DE SOUSA REZENDE</td>\n",
       "      <td>Sócio-Administrador</td>\n",
       "    </tr>\n",
       "    <tr>\n",
       "      <th>12</th>\n",
       "      <td>MMB PARTICIPACOES LTDA</td>\n",
       "      <td>22.244.903/0001-50</td>\n",
       "      <td>GO</td>\n",
       "      <td>MOISES ALVES DE OLIVEIRA NETO</td>\n",
       "      <td>Sócio-Administrador</td>\n",
       "      <td>22.244.903/0001-50</td>\n",
       "      <td>GO</td>\n",
       "      <td>MARCELO REIS PERILLO</td>\n",
       "      <td>Sócio-Administrador</td>\n",
       "      <td>22.244.903/0001-50</td>\n",
       "      <td>GO</td>\n",
       "      <td>BRANDAO DE SOUSA REZENDE</td>\n",
       "      <td>Sócio-Administrador</td>\n",
       "    </tr>\n",
       "    <tr>\n",
       "      <th>13</th>\n",
       "      <td>SPE - GMB PARTICIPACOES IMOBILIARIAS LTDA</td>\n",
       "      <td>22.971.169/0001-21</td>\n",
       "      <td>GO</td>\n",
       "      <td>MOISES ALVES DE OLIVEIRA NETO</td>\n",
       "      <td>Administrador</td>\n",
       "      <td>22.971.169/0001-21</td>\n",
       "      <td>GO</td>\n",
       "      <td>MARCELO REIS PERILLO</td>\n",
       "      <td>Administrador</td>\n",
       "      <td>22.971.169/0001-21</td>\n",
       "      <td>GO</td>\n",
       "      <td>BRANDAO DE SOUSA REZENDE</td>\n",
       "      <td>Administrador</td>\n",
       "    </tr>\n",
       "    <tr>\n",
       "      <th>14</th>\n",
       "      <td>TRANSFAR TRANSPORTADORA LTDA - ME</td>\n",
       "      <td>05.767.204/0001-76</td>\n",
       "      <td>GO</td>\n",
       "      <td>MOISES ALVES DE OLIVEIRA NETO</td>\n",
       "      <td>Sócio-Administrador</td>\n",
       "      <td>05.767.204/0001-76</td>\n",
       "      <td>GO</td>\n",
       "      <td>MARCELO REIS PERILLO</td>\n",
       "      <td>Sócio-Administrador</td>\n",
       "      <td>05.767.204/0001-76</td>\n",
       "      <td>GO</td>\n",
       "      <td>BRANDAO DE SOUSA REZENDE</td>\n",
       "      <td>Sócio-Administrador</td>\n",
       "    </tr>\n",
       "  </tbody>\n",
       "</table>\n",
       "</div>"
      ],
      "text/plain": [
       "                                              Empresa              CNPJ_x  \\\n",
       "0                  F.B.M. INDUSTRIA FARMACEUTICA LTDA  02.060.549/0001-05   \n",
       "1   HOSPFAR INDUSTRIA E COMERCIO DE PRODUTOS HOSPI...  26.921.908/0001-21   \n",
       "2                          JETLOG LOGISTICA LTDA - ME  12.723.621/0001-82   \n",
       "3   KEDRION BRASIL DISTRIBUIDORA DE PRODUTOS HOSPI...  09.284.952/0001-59   \n",
       "4          LOGIFAR ADMINISTRADORA LOGISTICA LTDA - ME  05.811.214/0001-61   \n",
       "5          LOGIFAR ADMINISTRADORA LOGISTICA LTDA - ME  05.811.214/0001-61   \n",
       "6          LOGIFAR ADMINISTRADORA LOGISTICA LTDA - ME  05.811.214/0001-61   \n",
       "7          LOGIFAR ADMINISTRADORA LOGISTICA LTDA - ME  05.811.214/0001-61   \n",
       "8          LOGIFAR ADMINISTRADORA LOGISTICA LTDA - ME  05.767.208/0001-54   \n",
       "9          LOGIFAR ADMINISTRADORA LOGISTICA LTDA - ME  05.767.208/0001-54   \n",
       "10         LOGIFAR ADMINISTRADORA LOGISTICA LTDA - ME  05.767.208/0001-54   \n",
       "11         LOGIFAR ADMINISTRADORA LOGISTICA LTDA - ME  05.767.208/0001-54   \n",
       "12                             MMB PARTICIPACOES LTDA  22.244.903/0001-50   \n",
       "13          SPE - GMB PARTICIPACOES IMOBILIARIAS LTDA  22.971.169/0001-21   \n",
       "14                  TRANSFAR TRANSPORTADORA LTDA - ME  05.767.204/0001-76   \n",
       "\n",
       "   Estado_x     Sócios e administradores_x               Tipo_x  \\\n",
       "0        GO  MOISES ALVES DE OLIVEIRA NETO  Sócio-Administrador   \n",
       "1        GO  MOISES ALVES DE OLIVEIRA NETO              Diretor   \n",
       "2        GO  MOISES ALVES DE OLIVEIRA NETO                Sócio   \n",
       "3        GO  MOISES ALVES DE OLIVEIRA NETO        Administrador   \n",
       "4        DF  MOISES ALVES DE OLIVEIRA NETO  Sócio-Administrador   \n",
       "5        DF  MOISES ALVES DE OLIVEIRA NETO  Sócio-Administrador   \n",
       "6        DF  MOISES ALVES DE OLIVEIRA NETO  Sócio-Administrador   \n",
       "7        DF  MOISES ALVES DE OLIVEIRA NETO  Sócio-Administrador   \n",
       "8        GO  MOISES ALVES DE OLIVEIRA NETO  Sócio-Administrador   \n",
       "9        GO  MOISES ALVES DE OLIVEIRA NETO  Sócio-Administrador   \n",
       "10       GO  MOISES ALVES DE OLIVEIRA NETO  Sócio-Administrador   \n",
       "11       GO  MOISES ALVES DE OLIVEIRA NETO  Sócio-Administrador   \n",
       "12       GO  MOISES ALVES DE OLIVEIRA NETO  Sócio-Administrador   \n",
       "13       GO  MOISES ALVES DE OLIVEIRA NETO        Administrador   \n",
       "14       GO  MOISES ALVES DE OLIVEIRA NETO  Sócio-Administrador   \n",
       "\n",
       "                CNPJ_y Estado_y Sócios e administradores_y  \\\n",
       "0   02.060.549/0001-05       GO       MARCELO REIS PERILLO   \n",
       "1   26.921.908/0001-21       GO       MARCELO REIS PERILLO   \n",
       "2   12.723.621/0001-82       GO       MARCELO REIS PERILLO   \n",
       "3   09.284.952/0001-59       GO       MARCELO REIS PERILLO   \n",
       "4   05.811.214/0001-61       DF       MARCELO REIS PERILLO   \n",
       "5   05.811.214/0001-61       DF       MARCELO REIS PERILLO   \n",
       "6   05.767.208/0001-54       GO       MARCELO REIS PERILLO   \n",
       "7   05.767.208/0001-54       GO       MARCELO REIS PERILLO   \n",
       "8   05.811.214/0001-61       DF       MARCELO REIS PERILLO   \n",
       "9   05.811.214/0001-61       DF       MARCELO REIS PERILLO   \n",
       "10  05.767.208/0001-54       GO       MARCELO REIS PERILLO   \n",
       "11  05.767.208/0001-54       GO       MARCELO REIS PERILLO   \n",
       "12  22.244.903/0001-50       GO       MARCELO REIS PERILLO   \n",
       "13  22.971.169/0001-21       GO       MARCELO REIS PERILLO   \n",
       "14  05.767.204/0001-76       GO       MARCELO REIS PERILLO   \n",
       "\n",
       "                 Tipo_y                CNPJ Estado  Sócios e administradores  \\\n",
       "0   Sócio-Administrador  02.060.549/0001-05     GO  BRANDAO DE SOUSA REZENDE   \n",
       "1         Administrador  26.921.908/0001-21     GO  BRANDAO DE SOUSA REZENDE   \n",
       "2   Sócio-Administrador  12.723.621/0001-82     GO  BRANDAO DE SOUSA REZENDE   \n",
       "3         Administrador  09.284.952/0001-59     GO  BRANDAO DE SOUSA REZENDE   \n",
       "4   Sócio-Administrador  05.811.214/0001-61     DF  BRANDAO DE SOUSA REZENDE   \n",
       "5   Sócio-Administrador  05.767.208/0001-54     GO  BRANDAO DE SOUSA REZENDE   \n",
       "6   Sócio-Administrador  05.811.214/0001-61     DF  BRANDAO DE SOUSA REZENDE   \n",
       "7   Sócio-Administrador  05.767.208/0001-54     GO  BRANDAO DE SOUSA REZENDE   \n",
       "8   Sócio-Administrador  05.811.214/0001-61     DF  BRANDAO DE SOUSA REZENDE   \n",
       "9   Sócio-Administrador  05.767.208/0001-54     GO  BRANDAO DE SOUSA REZENDE   \n",
       "10  Sócio-Administrador  05.811.214/0001-61     DF  BRANDAO DE SOUSA REZENDE   \n",
       "11  Sócio-Administrador  05.767.208/0001-54     GO  BRANDAO DE SOUSA REZENDE   \n",
       "12  Sócio-Administrador  22.244.903/0001-50     GO  BRANDAO DE SOUSA REZENDE   \n",
       "13        Administrador  22.971.169/0001-21     GO  BRANDAO DE SOUSA REZENDE   \n",
       "14  Sócio-Administrador  05.767.204/0001-76     GO  BRANDAO DE SOUSA REZENDE   \n",
       "\n",
       "                   Tipo  \n",
       "0   Sócio-Administrador  \n",
       "1               Diretor  \n",
       "2                 Sócio  \n",
       "3         Administrador  \n",
       "4   Sócio-Administrador  \n",
       "5   Sócio-Administrador  \n",
       "6   Sócio-Administrador  \n",
       "7   Sócio-Administrador  \n",
       "8   Sócio-Administrador  \n",
       "9   Sócio-Administrador  \n",
       "10  Sócio-Administrador  \n",
       "11  Sócio-Administrador  \n",
       "12  Sócio-Administrador  \n",
       "13        Administrador  \n",
       "14  Sócio-Administrador  "
      ]
     },
     "execution_count": 88,
     "metadata": {},
     "output_type": "execute_result"
    }
   ],
   "source": [
    "pd.merge(planilha1, brandao, on='Empresa')"
   ]
  },
  {
   "cell_type": "code",
   "execution_count": 89,
   "metadata": {},
   "outputs": [],
   "source": [
    "empresas_comuns = pd.merge(planilha1, brandao, on='Empresa')"
   ]
  },
  {
   "cell_type": "code",
   "execution_count": 90,
   "metadata": {},
   "outputs": [
    {
     "data": {
      "text/plain": [
       "LOGIFAR ADMINISTRADORA LOGISTICA LTDA - ME                     8\n",
       "SPE - GMB PARTICIPACOES IMOBILIARIAS LTDA                      1\n",
       "F.B.M. INDUSTRIA FARMACEUTICA LTDA                             1\n",
       "HOSPFAR INDUSTRIA E COMERCIO DE PRODUTOS HOSPITALARES S.A.     1\n",
       "JETLOG LOGISTICA LTDA - ME                                     1\n",
       "MMB PARTICIPACOES LTDA                                         1\n",
       "KEDRION BRASIL DISTRIBUIDORA DE PRODUTOS HOSPITALARES LTDA.    1\n",
       "TRANSFAR TRANSPORTADORA LTDA - ME                              1\n",
       "Name: Empresa, dtype: int64"
      ]
     },
     "execution_count": 90,
     "metadata": {},
     "output_type": "execute_result"
    }
   ],
   "source": [
    "empresas_comuns['Empresa'].value_counts()    "
   ]
  },
  {
   "cell_type": "markdown",
   "metadata": {},
   "source": [
    "#### Quantas empresas pertencentes aos 3 sócios são fornecedores do governo federal e quanto receberam?\n",
    "#### A busca mostrou que a F.B.M também é fornecedora do GF. \n",
    "###### Planilha gerada = pagto_fbm.csv.\n",
    "#### Pagamentos feitos pelo governo federal Atualizados pelo IPCA para F.B.M. INDUSTRIA FARMACEUTICA LTDA (02.060.549/0001-05)\n",
    "##### Dados atualizados em 10.5.2018\n",
    "##### Exportado em 13.10.2018\n",
    "###### Fonte: Datascópio (dados.org)"
   ]
  },
  {
   "cell_type": "code",
   "execution_count": 91,
   "metadata": {},
   "outputs": [],
   "source": [
    "fbm = pd.read_csv('pagto_fbm.csv')"
   ]
  },
  {
   "cell_type": "code",
   "execution_count": 92,
   "metadata": {},
   "outputs": [
    {
     "data": {
      "text/html": [
       "<div>\n",
       "<style scoped>\n",
       "    .dataframe tbody tr th:only-of-type {\n",
       "        vertical-align: middle;\n",
       "    }\n",
       "\n",
       "    .dataframe tbody tr th {\n",
       "        vertical-align: top;\n",
       "    }\n",
       "\n",
       "    .dataframe thead th {\n",
       "        text-align: right;\n",
       "    }\n",
       "</style>\n",
       "<table border=\"1\" class=\"dataframe\">\n",
       "  <thead>\n",
       "    <tr style=\"text-align: right;\">\n",
       "      <th></th>\n",
       "      <th>órgão</th>\n",
       "      <th>Subordinado a</th>\n",
       "      <th>Montante</th>\n",
       "      <th>Ano</th>\n",
       "    </tr>\n",
       "  </thead>\n",
       "  <tbody>\n",
       "    <tr>\n",
       "      <th>0</th>\n",
       "      <td>COORDENACAO DE EXECUCAO ORC. E FINANCEIRA</td>\n",
       "      <td>Ministério do Planejamento, Orçamento e Gestão</td>\n",
       "      <td>972</td>\n",
       "      <td>2012</td>\n",
       "    </tr>\n",
       "    <tr>\n",
       "      <th>1</th>\n",
       "      <td>INST.BRAS.DE INFORM. EM CIENCIA E TECNOLOGIA</td>\n",
       "      <td>Ministério da Ciência e Tecnologia</td>\n",
       "      <td>2259</td>\n",
       "      <td>2013</td>\n",
       "    </tr>\n",
       "    <tr>\n",
       "      <th>2</th>\n",
       "      <td>FCDF SSP   POLICIA CIVIL DO DF</td>\n",
       "      <td>Transferências a Estados, Distrito Federal e M...</td>\n",
       "      <td>224</td>\n",
       "      <td>2013</td>\n",
       "    </tr>\n",
       "    <tr>\n",
       "      <th>3</th>\n",
       "      <td>UNIVERSIDADE FEDERAL DE ALAGOAS</td>\n",
       "      <td>Ministério da Educação</td>\n",
       "      <td>1203</td>\n",
       "      <td>2012</td>\n",
       "    </tr>\n",
       "    <tr>\n",
       "      <th>4</th>\n",
       "      <td>MATERNIDADE CLIMERIO DE OLIVEIRA</td>\n",
       "      <td>Ministério da Educação</td>\n",
       "      <td>666</td>\n",
       "      <td>2011</td>\n",
       "    </tr>\n",
       "  </tbody>\n",
       "</table>\n",
       "</div>"
      ],
      "text/plain": [
       "                                          órgão  \\\n",
       "0     COORDENACAO DE EXECUCAO ORC. E FINANCEIRA   \n",
       "1  INST.BRAS.DE INFORM. EM CIENCIA E TECNOLOGIA   \n",
       "2                FCDF SSP   POLICIA CIVIL DO DF   \n",
       "3               UNIVERSIDADE FEDERAL DE ALAGOAS   \n",
       "4              MATERNIDADE CLIMERIO DE OLIVEIRA   \n",
       "\n",
       "                                       Subordinado a  Montante   Ano  \n",
       "0     Ministério do Planejamento, Orçamento e Gestão       972  2012  \n",
       "1                 Ministério da Ciência e Tecnologia      2259  2013  \n",
       "2  Transferências a Estados, Distrito Federal e M...       224  2013  \n",
       "3                             Ministério da Educação      1203  2012  \n",
       "4                             Ministério da Educação       666  2011  "
      ]
     },
     "execution_count": 92,
     "metadata": {},
     "output_type": "execute_result"
    }
   ],
   "source": [
    "fbm.head()"
   ]
  },
  {
   "cell_type": "code",
   "execution_count": 93,
   "metadata": {},
   "outputs": [
    {
     "name": "stdout",
     "output_type": "stream",
     "text": [
      "<class 'pandas.core.frame.DataFrame'>\n",
      "RangeIndex: 308 entries, 0 to 307\n",
      "Data columns (total 4 columns):\n",
      "órgão            308 non-null object\n",
      "Subordinado a    308 non-null object\n",
      "Montante         308 non-null int64\n",
      "Ano              308 non-null int64\n",
      "dtypes: int64(2), object(2)\n",
      "memory usage: 9.7+ KB\n"
     ]
    }
   ],
   "source": [
    "fbm.info()"
   ]
  },
  {
   "cell_type": "code",
   "execution_count": 94,
   "metadata": {},
   "outputs": [
    {
     "data": {
      "text/plain": [
       "HOSPITAL MILITAR DE AREA DE BRASILIA             10\n",
       "HOSPITAL GERAL DO RIO DE JANEIRO                  8\n",
       "HOSPITAL DAS CLINICAS DA UFGO                     7\n",
       "HOSPITAL UNIVERSITARIO DE BRASILIA - HUB          7\n",
       "HOSPITAL NAVAL MARCILIO DIAS                      7\n",
       "INSTITUTO FERNANDES FIGUEIRA                      7\n",
       "HOSPITAL UNIVERSITARIO                            7\n",
       "MATERNIDADE ESCOLA DA UFRJ                        6\n",
       "HOSPITAL UNIVERSITARIO C. ANTONIO MORAIS/UFES     6\n",
       "HOSPITAL NAVAL DE BRASILIA                        6\n",
       "Name: órgão, dtype: int64"
      ]
     },
     "execution_count": 94,
     "metadata": {},
     "output_type": "execute_result"
    }
   ],
   "source": [
    "fbm['órgão'].value_counts().head(10)"
   ]
  },
  {
   "cell_type": "code",
   "execution_count": 95,
   "metadata": {},
   "outputs": [
    {
     "data": {
      "text/plain": [
       "308"
      ]
     },
     "execution_count": 95,
     "metadata": {},
     "output_type": "execute_result"
    }
   ],
   "source": [
    "fbm['órgão'].count()"
   ]
  },
  {
   "cell_type": "code",
   "execution_count": 96,
   "metadata": {},
   "outputs": [
    {
     "data": {
      "text/plain": [
       "array(['Ministério do Planejamento, Orçamento e Gestão',\n",
       "       'Ministério da Ciência e Tecnologia',\n",
       "       'Transferências a Estados, Distrito Federal e Municípios',\n",
       "       'Ministério da Educação', 'Ministério da Justiça',\n",
       "       'Ministério da Saúde', 'Ministério dos Transportes',\n",
       "       'Ministério do Meio Ambiente', 'Ministério da Defesa',\n",
       "       'Órgão Genérico Geratriz'], dtype=object)"
      ]
     },
     "execution_count": 96,
     "metadata": {},
     "output_type": "execute_result"
    }
   ],
   "source": [
    "fbm['Subordinado a'].unique()"
   ]
  },
  {
   "cell_type": "code",
   "execution_count": 97,
   "metadata": {},
   "outputs": [
    {
     "data": {
      "text/plain": [
       "23123777"
      ]
     },
     "execution_count": 97,
     "metadata": {},
     "output_type": "execute_result"
    }
   ],
   "source": [
    "fbm['Montante'].sum()"
   ]
  },
  {
   "cell_type": "code",
   "execution_count": 98,
   "metadata": {},
   "outputs": [
    {
     "data": {
      "text/html": [
       "<div>\n",
       "<style scoped>\n",
       "    .dataframe tbody tr th:only-of-type {\n",
       "        vertical-align: middle;\n",
       "    }\n",
       "\n",
       "    .dataframe tbody tr th {\n",
       "        vertical-align: top;\n",
       "    }\n",
       "\n",
       "    .dataframe thead th {\n",
       "        text-align: right;\n",
       "    }\n",
       "</style>\n",
       "<table border=\"1\" class=\"dataframe\">\n",
       "  <thead>\n",
       "    <tr style=\"text-align: right;\">\n",
       "      <th></th>\n",
       "      <th>órgão</th>\n",
       "      <th>Montante</th>\n",
       "    </tr>\n",
       "  </thead>\n",
       "  <tbody>\n",
       "    <tr>\n",
       "      <th>0</th>\n",
       "      <td>11. DEPOSITO DE SUPRIMENTO</td>\n",
       "      <td>537</td>\n",
       "    </tr>\n",
       "    <tr>\n",
       "      <th>1</th>\n",
       "      <td>14 GRUPO DE ARTILHARIA DE CAMPANHA</td>\n",
       "      <td>8792</td>\n",
       "    </tr>\n",
       "    <tr>\n",
       "      <th>2</th>\n",
       "      <td>16 BATALHAO LOGISTICO</td>\n",
       "      <td>1012</td>\n",
       "    </tr>\n",
       "    <tr>\n",
       "      <th>3</th>\n",
       "      <td>24 BATALHAO DE CACADORES</td>\n",
       "      <td>9855</td>\n",
       "    </tr>\n",
       "    <tr>\n",
       "      <th>4</th>\n",
       "      <td>BASE ADMINISTRATIVA DA BDA DE OP.ESPECIAISS</td>\n",
       "      <td>41197</td>\n",
       "    </tr>\n",
       "    <tr>\n",
       "      <th>5</th>\n",
       "      <td>BASE ADMINISTRATIVA DO C COM G E EX</td>\n",
       "      <td>450</td>\n",
       "    </tr>\n",
       "    <tr>\n",
       "      <th>6</th>\n",
       "      <td>BASE AEREA DE CAMPO GRANDE</td>\n",
       "      <td>7398</td>\n",
       "    </tr>\n",
       "    <tr>\n",
       "      <th>7</th>\n",
       "      <td>BASE AEREA DE FORTALEZA</td>\n",
       "      <td>24288</td>\n",
       "    </tr>\n",
       "    <tr>\n",
       "      <th>8</th>\n",
       "      <td>BASE AEREA DE SALVADOR</td>\n",
       "      <td>48</td>\n",
       "    </tr>\n",
       "    <tr>\n",
       "      <th>9</th>\n",
       "      <td>BATALHAO DE POLICIA DO EXERCITO DE BRASILIA</td>\n",
       "      <td>1428</td>\n",
       "    </tr>\n",
       "  </tbody>\n",
       "</table>\n",
       "</div>"
      ],
      "text/plain": [
       "                                         órgão  Montante\n",
       "0                   11. DEPOSITO DE SUPRIMENTO       537\n",
       "1           14 GRUPO DE ARTILHARIA DE CAMPANHA      8792\n",
       "2                        16 BATALHAO LOGISTICO      1012\n",
       "3                     24 BATALHAO DE CACADORES      9855\n",
       "4  BASE ADMINISTRATIVA DA BDA DE OP.ESPECIAISS     41197\n",
       "5          BASE ADMINISTRATIVA DO C COM G E EX       450\n",
       "6                   BASE AEREA DE CAMPO GRANDE      7398\n",
       "7                      BASE AEREA DE FORTALEZA     24288\n",
       "8                       BASE AEREA DE SALVADOR        48\n",
       "9  BATALHAO DE POLICIA DO EXERCITO DE BRASILIA      1428"
      ]
     },
     "execution_count": 98,
     "metadata": {},
     "output_type": "execute_result"
    }
   ],
   "source": [
    "fbm.groupby('órgão')['Montante'].sum().reset_index().head(10)"
   ]
  },
  {
   "cell_type": "code",
   "execution_count": 99,
   "metadata": {},
   "outputs": [
    {
     "data": {
      "text/html": [
       "<div>\n",
       "<style scoped>\n",
       "    .dataframe tbody tr th:only-of-type {\n",
       "        vertical-align: middle;\n",
       "    }\n",
       "\n",
       "    .dataframe tbody tr th {\n",
       "        vertical-align: top;\n",
       "    }\n",
       "\n",
       "    .dataframe thead th {\n",
       "        text-align: right;\n",
       "    }\n",
       "</style>\n",
       "<table border=\"1\" class=\"dataframe\">\n",
       "  <thead>\n",
       "    <tr style=\"text-align: right;\">\n",
       "      <th></th>\n",
       "      <th>órgão</th>\n",
       "      <th>Subordinado a</th>\n",
       "      <th>Montante</th>\n",
       "      <th>Ano</th>\n",
       "    </tr>\n",
       "  </thead>\n",
       "  <tbody>\n",
       "    <tr>\n",
       "      <th>145</th>\n",
       "      <td>DEPARTAMENTO DE LOGISTICA EM SAUDE - DLOG</td>\n",
       "      <td>Ministério da Saúde</td>\n",
       "      <td>2413123</td>\n",
       "      <td>2013</td>\n",
       "    </tr>\n",
       "  </tbody>\n",
       "</table>\n",
       "</div>"
      ],
      "text/plain": [
       "                                         órgão        Subordinado a  Montante  \\\n",
       "145  DEPARTAMENTO DE LOGISTICA EM SAUDE - DLOG  Ministério da Saúde   2413123   \n",
       "\n",
       "      Ano  \n",
       "145  2013  "
      ]
     },
     "execution_count": 99,
     "metadata": {},
     "output_type": "execute_result"
    }
   ],
   "source": [
    "fbm[fbm['Montante'] == fbm['Montante'].max()]"
   ]
  },
  {
   "cell_type": "markdown",
   "metadata": {},
   "source": [
    "#### O DEPARTAMENTO DE LOGISTICA EM SAUDE - DLOG, do Ministério da Saúde também mantém contrato com a FBM que pertence aos mesmos sócios da Hospfar e foi o que mais pagou a empresa em 2013. Seis órgãos fizeram pagamentos superiores a 1 mihão, 3 desses pagamentos são do Departamento de Log´sitica em Saúde entre 2012-2014."
   ]
  },
  {
   "cell_type": "code",
   "execution_count": 100,
   "metadata": {},
   "outputs": [
    {
     "data": {
      "text/plain": [
       "5404754"
      ]
     },
     "execution_count": 100,
     "metadata": {},
     "output_type": "execute_result"
    }
   ],
   "source": [
    "fbm[fbm['órgão'] == 'DEPARTAMENTO DE LOGISTICA EM SAUDE - DLOG'].Montante.sum() "
   ]
  },
  {
   "cell_type": "code",
   "execution_count": 101,
   "metadata": {},
   "outputs": [
    {
     "data": {
      "text/plain": [
       "array([2012, 2013, 2014, 2015], dtype=int64)"
      ]
     },
     "execution_count": 101,
     "metadata": {},
     "output_type": "execute_result"
    }
   ],
   "source": [
    "fbm[fbm['órgão'] == 'DEPARTAMENTO DE LOGISTICA EM SAUDE - DLOG'].Ano.unique()"
   ]
  },
  {
   "cell_type": "code",
   "execution_count": 102,
   "metadata": {},
   "outputs": [
    {
     "data": {
      "text/html": [
       "<div>\n",
       "<style scoped>\n",
       "    .dataframe tbody tr th:only-of-type {\n",
       "        vertical-align: middle;\n",
       "    }\n",
       "\n",
       "    .dataframe tbody tr th {\n",
       "        vertical-align: top;\n",
       "    }\n",
       "\n",
       "    .dataframe thead th {\n",
       "        text-align: right;\n",
       "    }\n",
       "</style>\n",
       "<table border=\"1\" class=\"dataframe\">\n",
       "  <thead>\n",
       "    <tr style=\"text-align: right;\">\n",
       "      <th></th>\n",
       "      <th>órgão</th>\n",
       "      <th>Subordinado a</th>\n",
       "      <th>Montante</th>\n",
       "      <th>Ano</th>\n",
       "    </tr>\n",
       "  </thead>\n",
       "  <tbody>\n",
       "    <tr>\n",
       "      <th>20</th>\n",
       "      <td>HOSPITAL DAS CLINICAS DA UFGO</td>\n",
       "      <td>Ministério da Educação</td>\n",
       "      <td>2202633</td>\n",
       "      <td>2017</td>\n",
       "    </tr>\n",
       "    <tr>\n",
       "      <th>111</th>\n",
       "      <td>HOSPITAL DE CLÍNICAS DA UFTM</td>\n",
       "      <td>Ministério da Educação</td>\n",
       "      <td>1370202</td>\n",
       "      <td>2017</td>\n",
       "    </tr>\n",
       "    <tr>\n",
       "      <th>144</th>\n",
       "      <td>DEPARTAMENTO DE LOGISTICA EM SAUDE - DLOG</td>\n",
       "      <td>Ministério da Saúde</td>\n",
       "      <td>1614009</td>\n",
       "      <td>2012</td>\n",
       "    </tr>\n",
       "    <tr>\n",
       "      <th>145</th>\n",
       "      <td>DEPARTAMENTO DE LOGISTICA EM SAUDE - DLOG</td>\n",
       "      <td>Ministério da Saúde</td>\n",
       "      <td>2413123</td>\n",
       "      <td>2013</td>\n",
       "    </tr>\n",
       "    <tr>\n",
       "      <th>146</th>\n",
       "      <td>DEPARTAMENTO DE LOGISTICA EM SAUDE - DLOG</td>\n",
       "      <td>Ministério da Saúde</td>\n",
       "      <td>1027297</td>\n",
       "      <td>2014</td>\n",
       "    </tr>\n",
       "    <tr>\n",
       "      <th>303</th>\n",
       "      <td>EBSERH - HOSPITAL UNIVERSIT�RIO DE BRASILIA</td>\n",
       "      <td>Órgão Genérico Geratriz</td>\n",
       "      <td>1151486</td>\n",
       "      <td>2017</td>\n",
       "    </tr>\n",
       "  </tbody>\n",
       "</table>\n",
       "</div>"
      ],
      "text/plain": [
       "                                           órgão            Subordinado a  \\\n",
       "20                 HOSPITAL DAS CLINICAS DA UFGO   Ministério da Educação   \n",
       "111                 HOSPITAL DE CLÍNICAS DA UFTM   Ministério da Educação   \n",
       "144    DEPARTAMENTO DE LOGISTICA EM SAUDE - DLOG      Ministério da Saúde   \n",
       "145    DEPARTAMENTO DE LOGISTICA EM SAUDE - DLOG      Ministério da Saúde   \n",
       "146    DEPARTAMENTO DE LOGISTICA EM SAUDE - DLOG      Ministério da Saúde   \n",
       "303  EBSERH - HOSPITAL UNIVERSIT�RIO DE BRASILIA  Órgão Genérico Geratriz   \n",
       "\n",
       "     Montante   Ano  \n",
       "20    2202633  2017  \n",
       "111   1370202  2017  \n",
       "144   1614009  2012  \n",
       "145   2413123  2013  \n",
       "146   1027297  2014  \n",
       "303   1151486  2017  "
      ]
     },
     "execution_count": 102,
     "metadata": {},
     "output_type": "execute_result"
    }
   ],
   "source": [
    "fbm[(fbm['Montante'] >= 1000000.0)]"
   ]
  },
  {
   "cell_type": "code",
   "execution_count": 103,
   "metadata": {},
   "outputs": [
    {
     "data": {
      "text/plain": [
       "Ministério da Educação                                     130\n",
       "Ministério da Defesa                                       125\n",
       "Ministério da Saúde                                         39\n",
       "Órgão Genérico Geratriz                                      5\n",
       "Ministério dos Transportes                                   2\n",
       "Transferências a Estados, Distrito Federal e Municípios      2\n",
       "Ministério da Justiça                                        2\n",
       "Ministério do Planejamento, Orçamento e Gestão               1\n",
       "Ministério do Meio Ambiente                                  1\n",
       "Ministério da Ciência e Tecnologia                           1\n",
       "Name: Subordinado a, dtype: int64"
      ]
     },
     "execution_count": 103,
     "metadata": {},
     "output_type": "execute_result"
    }
   ],
   "source": [
    "fbm['Subordinado a'].value_counts()"
   ]
  },
  {
   "cell_type": "code",
   "execution_count": 104,
   "metadata": {},
   "outputs": [
    {
     "data": {
      "text/html": [
       "<div>\n",
       "<style scoped>\n",
       "    .dataframe tbody tr th:only-of-type {\n",
       "        vertical-align: middle;\n",
       "    }\n",
       "\n",
       "    .dataframe tbody tr th {\n",
       "        vertical-align: top;\n",
       "    }\n",
       "\n",
       "    .dataframe thead th {\n",
       "        text-align: right;\n",
       "    }\n",
       "</style>\n",
       "<table border=\"1\" class=\"dataframe\">\n",
       "  <thead>\n",
       "    <tr style=\"text-align: right;\">\n",
       "      <th></th>\n",
       "      <th>órgão</th>\n",
       "      <th>Subordinado a</th>\n",
       "      <th>Montante</th>\n",
       "      <th>Ano</th>\n",
       "    </tr>\n",
       "  </thead>\n",
       "  <tbody>\n",
       "    <tr>\n",
       "      <th>145</th>\n",
       "      <td>DEPARTAMENTO DE LOGISTICA EM SAUDE - DLOG</td>\n",
       "      <td>Ministério da Saúde</td>\n",
       "      <td>2413123</td>\n",
       "      <td>2013</td>\n",
       "    </tr>\n",
       "    <tr>\n",
       "      <th>20</th>\n",
       "      <td>HOSPITAL DAS CLINICAS DA UFGO</td>\n",
       "      <td>Ministério da Educação</td>\n",
       "      <td>2202633</td>\n",
       "      <td>2017</td>\n",
       "    </tr>\n",
       "    <tr>\n",
       "      <th>144</th>\n",
       "      <td>DEPARTAMENTO DE LOGISTICA EM SAUDE - DLOG</td>\n",
       "      <td>Ministério da Saúde</td>\n",
       "      <td>1614009</td>\n",
       "      <td>2012</td>\n",
       "    </tr>\n",
       "    <tr>\n",
       "      <th>111</th>\n",
       "      <td>HOSPITAL DE CLÍNICAS DA UFTM</td>\n",
       "      <td>Ministério da Educação</td>\n",
       "      <td>1370202</td>\n",
       "      <td>2017</td>\n",
       "    </tr>\n",
       "    <tr>\n",
       "      <th>303</th>\n",
       "      <td>EBSERH - HOSPITAL UNIVERSIT�RIO DE BRASILIA</td>\n",
       "      <td>Órgão Genérico Geratriz</td>\n",
       "      <td>1151486</td>\n",
       "      <td>2017</td>\n",
       "    </tr>\n",
       "  </tbody>\n",
       "</table>\n",
       "</div>"
      ],
      "text/plain": [
       "                                           órgão            Subordinado a  \\\n",
       "145    DEPARTAMENTO DE LOGISTICA EM SAUDE - DLOG      Ministério da Saúde   \n",
       "20                 HOSPITAL DAS CLINICAS DA UFGO   Ministério da Educação   \n",
       "144    DEPARTAMENTO DE LOGISTICA EM SAUDE - DLOG      Ministério da Saúde   \n",
       "111                 HOSPITAL DE CLÍNICAS DA UFTM   Ministério da Educação   \n",
       "303  EBSERH - HOSPITAL UNIVERSIT�RIO DE BRASILIA  Órgão Genérico Geratriz   \n",
       "\n",
       "     Montante   Ano  \n",
       "145   2413123  2013  \n",
       "20    2202633  2017  \n",
       "144   1614009  2012  \n",
       "111   1370202  2017  \n",
       "303   1151486  2017  "
      ]
     },
     "execution_count": 104,
     "metadata": {},
     "output_type": "execute_result"
    }
   ],
   "source": [
    "fbm.nlargest(5, 'Montante')"
   ]
  },
  {
   "cell_type": "code",
   "execution_count": 105,
   "metadata": {},
   "outputs": [
    {
     "data": {
      "text/plain": [
       "23123777"
      ]
     },
     "execution_count": 105,
     "metadata": {},
     "output_type": "execute_result"
    }
   ],
   "source": [
    "fbm.Montante.sum()"
   ]
  },
  {
   "cell_type": "code",
   "execution_count": 106,
   "metadata": {},
   "outputs": [
    {
     "data": {
      "text/plain": [
       "402489329.0"
      ]
     },
     "execution_count": 106,
     "metadata": {},
     "output_type": "execute_result"
    }
   ],
   "source": [
    "#Valores recebidos pelas duas empresas fornecedoras do governo federal, pertecentes aos 3 sócios\n",
    "fbm.Montante.sum() + hospfar.montante.sum()"
   ]
  },
  {
   "cell_type": "code",
   "execution_count": 107,
   "metadata": {},
   "outputs": [
    {
     "data": {
      "text/plain": [
       "Ano\n",
       "2011    3942384\n",
       "2012    3457330\n",
       "2013    4317037\n",
       "2014    2693478\n",
       "2015    1687259\n",
       "2016    1472950\n",
       "2017    5553339\n",
       "Name: Montante, dtype: int64"
      ]
     },
     "execution_count": 107,
     "metadata": {},
     "output_type": "execute_result"
    }
   ],
   "source": [
    "fbm.groupby('Ano')['Montante'].sum()"
   ]
  },
  {
   "cell_type": "code",
   "execution_count": 108,
   "metadata": {},
   "outputs": [],
   "source": [
    "fatura_ano = fbm.groupby('Ano')['Montante'].sum()"
   ]
  },
  {
   "cell_type": "code",
   "execution_count": 109,
   "metadata": {},
   "outputs": [],
   "source": [
    "%matplotlib inline"
   ]
  },
  {
   "cell_type": "code",
   "execution_count": 110,
   "metadata": {},
   "outputs": [
    {
     "data": {
      "text/plain": [
       "<matplotlib.axes._subplots.AxesSubplot at 0x1c486b245c0>"
      ]
     },
     "execution_count": 110,
     "metadata": {},
     "output_type": "execute_result"
    },
    {
     "data": {
      "image/png": "[encoded data removed]",
      "text/plain": [
       "<Figure size 432x288 with 1 Axes>"
      ]
     },
     "metadata": {},
     "output_type": "display_data"
    }
   ],
   "source": [
    "fatura_ano.plot.barh()"
   ]
  },
  {
   "cell_type": "code",
   "execution_count": 111,
   "metadata": {},
   "outputs": [
    {
     "data": {
      "text/html": [
       "<div>\n",
       "<style scoped>\n",
       "    .dataframe tbody tr th:only-of-type {\n",
       "        vertical-align: middle;\n",
       "    }\n",
       "\n",
       "    .dataframe tbody tr th {\n",
       "        vertical-align: top;\n",
       "    }\n",
       "\n",
       "    .dataframe thead th {\n",
       "        text-align: right;\n",
       "    }\n",
       "</style>\n",
       "<table border=\"1\" class=\"dataframe\">\n",
       "  <thead>\n",
       "    <tr style=\"text-align: right;\">\n",
       "      <th></th>\n",
       "      <th>órgão</th>\n",
       "      <th>Subordinado a</th>\n",
       "      <th>Montante</th>\n",
       "      <th>Ano</th>\n",
       "    </tr>\n",
       "    <tr>\n",
       "      <th>Montante</th>\n",
       "      <th></th>\n",
       "      <th></th>\n",
       "      <th></th>\n",
       "      <th></th>\n",
       "    </tr>\n",
       "  </thead>\n",
       "  <tbody>\n",
       "    <tr>\n",
       "      <th>222</th>\n",
       "      <td>HOSPITAL NAVAL MARCILIO DIAS</td>\n",
       "      <td>Ministério da Defesa</td>\n",
       "      <td>412896</td>\n",
       "      <td>2011</td>\n",
       "    </tr>\n",
       "    <tr>\n",
       "      <th>144</th>\n",
       "      <td>DEPARTAMENTO DE LOGISTICA EM SAUDE - DLOG</td>\n",
       "      <td>Ministério da Saúde</td>\n",
       "      <td>1614009</td>\n",
       "      <td>2012</td>\n",
       "    </tr>\n",
       "    <tr>\n",
       "      <th>145</th>\n",
       "      <td>DEPARTAMENTO DE LOGISTICA EM SAUDE - DLOG</td>\n",
       "      <td>Ministério da Saúde</td>\n",
       "      <td>2413123</td>\n",
       "      <td>2013</td>\n",
       "    </tr>\n",
       "    <tr>\n",
       "      <th>146</th>\n",
       "      <td>DEPARTAMENTO DE LOGISTICA EM SAUDE - DLOG</td>\n",
       "      <td>Ministério da Saúde</td>\n",
       "      <td>1027297</td>\n",
       "      <td>2014</td>\n",
       "    </tr>\n",
       "    <tr>\n",
       "      <th>58</th>\n",
       "      <td>HOSPITAL UNIVERSITARIO DE BRASILIA - HUB</td>\n",
       "      <td>Ministério da Educação</td>\n",
       "      <td>389047</td>\n",
       "      <td>2015</td>\n",
       "    </tr>\n",
       "    <tr>\n",
       "      <th>59</th>\n",
       "      <td>HOSPITAL UNIVERSITARIO DE BRASILIA - HUB</td>\n",
       "      <td>Ministério da Educação</td>\n",
       "      <td>467969</td>\n",
       "      <td>2016</td>\n",
       "    </tr>\n",
       "    <tr>\n",
       "      <th>20</th>\n",
       "      <td>HOSPITAL DAS CLINICAS DA UFGO</td>\n",
       "      <td>Ministério da Educação</td>\n",
       "      <td>2202633</td>\n",
       "      <td>2017</td>\n",
       "    </tr>\n",
       "  </tbody>\n",
       "</table>\n",
       "</div>"
      ],
      "text/plain": [
       "                                              órgão           Subordinado a  \\\n",
       "Montante                                                                      \n",
       "222                    HOSPITAL NAVAL MARCILIO DIAS    Ministério da Defesa   \n",
       "144       DEPARTAMENTO DE LOGISTICA EM SAUDE - DLOG     Ministério da Saúde   \n",
       "145       DEPARTAMENTO DE LOGISTICA EM SAUDE - DLOG     Ministério da Saúde   \n",
       "146       DEPARTAMENTO DE LOGISTICA EM SAUDE - DLOG     Ministério da Saúde   \n",
       "58         HOSPITAL UNIVERSITARIO DE BRASILIA - HUB  Ministério da Educação   \n",
       "59         HOSPITAL UNIVERSITARIO DE BRASILIA - HUB  Ministério da Educação   \n",
       "20                    HOSPITAL DAS CLINICAS DA UFGO  Ministério da Educação   \n",
       "\n",
       "          Montante   Ano  \n",
       "Montante                  \n",
       "222         412896  2011  \n",
       "144        1614009  2012  \n",
       "145        2413123  2013  \n",
       "146        1027297  2014  \n",
       "58          389047  2015  \n",
       "59          467969  2016  \n",
       "20         2202633  2017  "
      ]
     },
     "execution_count": 111,
     "metadata": {},
     "output_type": "execute_result"
    }
   ],
   "source": [
    "fbm.reindex(fbm.groupby('Ano')['Montante'].idxmax())"
   ]
  },
  {
   "cell_type": "code",
   "execution_count": 112,
   "metadata": {},
   "outputs": [],
   "source": [
    "maiores = fbm.reindex(fbm.groupby('Ano')['Montante'].idxmax())"
   ]
  },
  {
   "cell_type": "code",
   "execution_count": 113,
   "metadata": {},
   "outputs": [
    {
     "data": {
      "text/plain": [
       "órgão            HOSPITAL UNIVERSITARIO DE BRASILIA - HUB\n",
       "Subordinado a                         Ministério da Saúde\n",
       "Montante                                          2413123\n",
       "Ano                                                  2017\n",
       "dtype: object"
      ]
     },
     "execution_count": 113,
     "metadata": {},
     "output_type": "execute_result"
    }
   ],
   "source": [
    "maiores.max()"
   ]
  },
  {
   "cell_type": "code",
   "execution_count": 114,
   "metadata": {},
   "outputs": [
    {
     "data": {
      "text/plain": [
       "5054429"
      ]
     },
     "execution_count": 114,
     "metadata": {},
     "output_type": "execute_result"
    }
   ],
   "source": [
    "#Quanto recebeu do órgão que mais pagou a outras empresa a Hospfar\n",
    "\n",
    "maiores[maiores['órgão'] == 'DEPARTAMENTO DE LOGISTICA EM SAUDE - DLOG'].Montante.sum()"
   ]
  },
  {
   "cell_type": "code",
   "execution_count": 115,
   "metadata": {},
   "outputs": [
    {
     "data": {
      "text/plain": [
       "857016"
      ]
     },
     "execution_count": 115,
     "metadata": {},
     "output_type": "execute_result"
    }
   ],
   "source": [
    "maiores[maiores['órgão'] == 'HOSPITAL UNIVERSITARIO DE BRASILIA - HUB'].Montante.sum()"
   ]
  },
  {
   "cell_type": "code",
   "execution_count": 116,
   "metadata": {},
   "outputs": [
    {
     "data": {
      "text/plain": [
       "402489329.0"
      ]
     },
     "execution_count": 116,
     "metadata": {},
     "output_type": "execute_result"
    }
   ],
   "source": [
    "#Soma de quantos as empresas dos sócios/acusados receberam do governo federal por fornecimento de medicamentos. \n",
    "#Soma da Hospfar e FBM entre 2012-2017\n",
    "gov['montante'].sum() + fbm.Montante.sum()"
   ]
  },
  {
   "cell_type": "code",
   "execution_count": 117,
   "metadata": {},
   "outputs": [
    {
     "data": {
      "text/html": [
       "<div>\n",
       "<style scoped>\n",
       "    .dataframe tbody tr th:only-of-type {\n",
       "        vertical-align: middle;\n",
       "    }\n",
       "\n",
       "    .dataframe tbody tr th {\n",
       "        vertical-align: top;\n",
       "    }\n",
       "\n",
       "    .dataframe thead th {\n",
       "        text-align: right;\n",
       "    }\n",
       "</style>\n",
       "<table border=\"1\" class=\"dataframe\">\n",
       "  <thead>\n",
       "    <tr style=\"text-align: right;\">\n",
       "      <th></th>\n",
       "      <th>órgão</th>\n",
       "      <th>Subordinado a</th>\n",
       "      <th>Montante</th>\n",
       "      <th>Ano</th>\n",
       "    </tr>\n",
       "  </thead>\n",
       "  <tbody>\n",
       "    <tr>\n",
       "      <th>145</th>\n",
       "      <td>DEPARTAMENTO DE LOGISTICA EM SAUDE - DLOG</td>\n",
       "      <td>Ministério da Saúde</td>\n",
       "      <td>2413123</td>\n",
       "      <td>2013</td>\n",
       "    </tr>\n",
       "  </tbody>\n",
       "</table>\n",
       "</div>"
      ],
      "text/plain": [
       "                                         órgão        Subordinado a  Montante  \\\n",
       "145  DEPARTAMENTO DE LOGISTICA EM SAUDE - DLOG  Ministério da Saúde   2413123   \n",
       "\n",
       "      Ano  \n",
       "145  2013  "
      ]
     },
     "execution_count": 117,
     "metadata": {},
     "output_type": "execute_result"
    }
   ],
   "source": [
    "#De qual órgão governamental a FBM recebeu mais dinheiro?\n",
    "fbm[fbm['Montante'] == fbm['Montante'].max()]"
   ]
  },
  {
   "cell_type": "markdown",
   "metadata": {},
   "source": [
    "####  O DEPARTAMENTO DE LOGISTICA EM SAUDE - DLOG é o órgão que paga os valores mais altos, tanto para a Hospfar quanto para FBM."
   ]
  },
  {
   "cell_type": "markdown",
   "metadata": {},
   "source": [
    "##### A 'BIOTEC BIOLOGICA INDUSTRIA FARMACEUTICA' que tem como sócio Marcelo Reis Perillo, primo do ex--- Marconi Perillo também fornece ao governo federal. Pagamentos feitos pelo governo federal Atualizados pelo IPCA; (BIOTEC BIOLOGICA INDUSTRIA FARMACEUTICA LTDA - EPP 10.446.719/0001-04), Dados atualizados em 10.5.2018, Exportado em 13.10.2018\n",
    "##### Fonte: Datascópio (dados.org)"
   ]
  },
  {
   "cell_type": "code",
   "execution_count": 118,
   "metadata": {},
   "outputs": [
    {
     "data": {
      "text/html": [
       "<div>\n",
       "<style scoped>\n",
       "    .dataframe tbody tr th:only-of-type {\n",
       "        vertical-align: middle;\n",
       "    }\n",
       "\n",
       "    .dataframe tbody tr th {\n",
       "        vertical-align: top;\n",
       "    }\n",
       "\n",
       "    .dataframe thead th {\n",
       "        text-align: right;\n",
       "    }\n",
       "</style>\n",
       "<table border=\"1\" class=\"dataframe\">\n",
       "  <thead>\n",
       "    <tr style=\"text-align: right;\">\n",
       "      <th></th>\n",
       "      <th>órgão</th>\n",
       "      <th>Subordinado a</th>\n",
       "      <th>Montante</th>\n",
       "      <th>Ano</th>\n",
       "    </tr>\n",
       "  </thead>\n",
       "  <tbody>\n",
       "    <tr>\n",
       "      <th>0</th>\n",
       "      <td>HOSPITAL UNIVERSITARIO LAURO WANDERLEY-UFPB</td>\n",
       "      <td>Ministério da Educação</td>\n",
       "      <td>23144</td>\n",
       "      <td>2014</td>\n",
       "    </tr>\n",
       "    <tr>\n",
       "      <th>1</th>\n",
       "      <td>UNIVERSIDADE FEDERAL DO PARANA</td>\n",
       "      <td>Ministério da Educação</td>\n",
       "      <td>2252</td>\n",
       "      <td>2014</td>\n",
       "    </tr>\n",
       "    <tr>\n",
       "      <th>2</th>\n",
       "      <td>HOSPITAL DE CLINICAS DE PORTO ALEGRE</td>\n",
       "      <td>Ministério da Educação</td>\n",
       "      <td>14991</td>\n",
       "      <td>2014</td>\n",
       "    </tr>\n",
       "    <tr>\n",
       "      <th>3</th>\n",
       "      <td>HOSPITAL DE CLINICAS DE PORTO ALEGRE</td>\n",
       "      <td>Ministério da Educação</td>\n",
       "      <td>18333</td>\n",
       "      <td>2015</td>\n",
       "    </tr>\n",
       "    <tr>\n",
       "      <th>4</th>\n",
       "      <td>HOSPITAL UNIVERSITARIO</td>\n",
       "      <td>Ministério da Educação</td>\n",
       "      <td>22919</td>\n",
       "      <td>2014</td>\n",
       "    </tr>\n",
       "  </tbody>\n",
       "</table>\n",
       "</div>"
      ],
      "text/plain": [
       "                                         órgão           Subordinado a  \\\n",
       "0  HOSPITAL UNIVERSITARIO LAURO WANDERLEY-UFPB  Ministério da Educação   \n",
       "1               UNIVERSIDADE FEDERAL DO PARANA  Ministério da Educação   \n",
       "2         HOSPITAL DE CLINICAS DE PORTO ALEGRE  Ministério da Educação   \n",
       "3         HOSPITAL DE CLINICAS DE PORTO ALEGRE  Ministério da Educação   \n",
       "4                       HOSPITAL UNIVERSITARIO  Ministério da Educação   \n",
       "\n",
       "   Montante   Ano  \n",
       "0     23144  2014  \n",
       "1      2252  2014  \n",
       "2     14991  2014  \n",
       "3     18333  2015  \n",
       "4     22919  2014  "
      ]
     },
     "execution_count": 118,
     "metadata": {},
     "output_type": "execute_result"
    }
   ],
   "source": [
    "biotec = pd.read_csv('pagto_biotec.csv')\n",
    "biotec"
   ]
  },
  {
   "cell_type": "code",
   "execution_count": 119,
   "metadata": {},
   "outputs": [
    {
     "data": {
      "text/html": [
       "<div>\n",
       "<style scoped>\n",
       "    .dataframe tbody tr th:only-of-type {\n",
       "        vertical-align: middle;\n",
       "    }\n",
       "\n",
       "    .dataframe tbody tr th {\n",
       "        vertical-align: top;\n",
       "    }\n",
       "\n",
       "    .dataframe thead th {\n",
       "        text-align: right;\n",
       "    }\n",
       "</style>\n",
       "<table border=\"1\" class=\"dataframe\">\n",
       "  <thead>\n",
       "    <tr style=\"text-align: right;\">\n",
       "      <th></th>\n",
       "      <th>órgão</th>\n",
       "      <th>Subordinado a</th>\n",
       "      <th>Montante</th>\n",
       "      <th>Ano</th>\n",
       "    </tr>\n",
       "  </thead>\n",
       "  <tbody>\n",
       "  </tbody>\n",
       "</table>\n",
       "</div>"
      ],
      "text/plain": [
       "Empty DataFrame\n",
       "Columns: [órgão, Subordinado a, Montante, Ano]\n",
       "Index: []"
      ]
     },
     "execution_count": 119,
     "metadata": {},
     "output_type": "execute_result"
    }
   ],
   "source": [
    "biotec[biotec['órgão'] == 'DEPARTAMENTO DE LOGISTICA EM SAUDE - DLOG'] \n",
    "\n",
    "# A empresa não fornece para "
   ]
  },
  {
   "cell_type": "code",
   "execution_count": 120,
   "metadata": {},
   "outputs": [
    {
     "data": {
      "text/plain": [
       "órgão            5\n",
       "Subordinado a    5\n",
       "Montante         5\n",
       "Ano              5\n",
       "dtype: int64"
      ]
     },
     "execution_count": 120,
     "metadata": {},
     "output_type": "execute_result"
    }
   ],
   "source": [
    "biotec.count()"
   ]
  },
  {
   "cell_type": "code",
   "execution_count": 121,
   "metadata": {},
   "outputs": [
    {
     "data": {
      "text/plain": [
       "81639"
      ]
     },
     "execution_count": 121,
     "metadata": {},
     "output_type": "execute_result"
    }
   ],
   "source": [
    "biotec.Montante.sum()"
   ]
  },
  {
   "cell_type": "code",
   "execution_count": 122,
   "metadata": {},
   "outputs": [
    {
     "data": {
      "text/html": [
       "<div>\n",
       "<style scoped>\n",
       "    .dataframe tbody tr th:only-of-type {\n",
       "        vertical-align: middle;\n",
       "    }\n",
       "\n",
       "    .dataframe tbody tr th {\n",
       "        vertical-align: top;\n",
       "    }\n",
       "\n",
       "    .dataframe thead th {\n",
       "        text-align: right;\n",
       "    }\n",
       "</style>\n",
       "<table border=\"1\" class=\"dataframe\">\n",
       "  <thead>\n",
       "    <tr style=\"text-align: right;\">\n",
       "      <th></th>\n",
       "      <th>órgão</th>\n",
       "      <th>Montante</th>\n",
       "    </tr>\n",
       "  </thead>\n",
       "  <tbody>\n",
       "    <tr>\n",
       "      <th>0</th>\n",
       "      <td>HOSPITAL DE CLINICAS DE PORTO ALEGRE</td>\n",
       "      <td>33324</td>\n",
       "    </tr>\n",
       "    <tr>\n",
       "      <th>1</th>\n",
       "      <td>HOSPITAL UNIVERSITARIO</td>\n",
       "      <td>22919</td>\n",
       "    </tr>\n",
       "    <tr>\n",
       "      <th>2</th>\n",
       "      <td>HOSPITAL UNIVERSITARIO LAURO WANDERLEY-UFPB</td>\n",
       "      <td>23144</td>\n",
       "    </tr>\n",
       "    <tr>\n",
       "      <th>3</th>\n",
       "      <td>UNIVERSIDADE FEDERAL DO PARANA</td>\n",
       "      <td>2252</td>\n",
       "    </tr>\n",
       "  </tbody>\n",
       "</table>\n",
       "</div>"
      ],
      "text/plain": [
       "                                         órgão  Montante\n",
       "0         HOSPITAL DE CLINICAS DE PORTO ALEGRE     33324\n",
       "1                       HOSPITAL UNIVERSITARIO     22919\n",
       "2  HOSPITAL UNIVERSITARIO LAURO WANDERLEY-UFPB     23144\n",
       "3               UNIVERSIDADE FEDERAL DO PARANA      2252"
      ]
     },
     "execution_count": 122,
     "metadata": {},
     "output_type": "execute_result"
    }
   ],
   "source": [
    "biotec.groupby('órgão')['Montante'].sum().reset_index() "
   ]
  },
  {
   "cell_type": "code",
   "execution_count": 123,
   "metadata": {},
   "outputs": [
    {
     "data": {
      "text/html": [
       "<div>\n",
       "<style scoped>\n",
       "    .dataframe tbody tr th:only-of-type {\n",
       "        vertical-align: middle;\n",
       "    }\n",
       "\n",
       "    .dataframe tbody tr th {\n",
       "        vertical-align: top;\n",
       "    }\n",
       "\n",
       "    .dataframe thead th {\n",
       "        text-align: right;\n",
       "    }\n",
       "</style>\n",
       "<table border=\"1\" class=\"dataframe\">\n",
       "  <thead>\n",
       "    <tr style=\"text-align: right;\">\n",
       "      <th></th>\n",
       "      <th>órgão</th>\n",
       "      <th>Subordinado a</th>\n",
       "      <th>Montante</th>\n",
       "      <th>Ano</th>\n",
       "    </tr>\n",
       "  </thead>\n",
       "  <tbody>\n",
       "    <tr>\n",
       "      <th>0</th>\n",
       "      <td>HOSPITAL UNIVERSITARIO LAURO WANDERLEY-UFPB</td>\n",
       "      <td>Ministério da Educação</td>\n",
       "      <td>23144</td>\n",
       "      <td>2014</td>\n",
       "    </tr>\n",
       "  </tbody>\n",
       "</table>\n",
       "</div>"
      ],
      "text/plain": [
       "                                         órgão           Subordinado a  \\\n",
       "0  HOSPITAL UNIVERSITARIO LAURO WANDERLEY-UFPB  Ministério da Educação   \n",
       "\n",
       "   Montante   Ano  \n",
       "0     23144  2014  "
      ]
     },
     "execution_count": 123,
     "metadata": {},
     "output_type": "execute_result"
    }
   ],
   "source": [
    "biotec[biotec['Montante'] == biotec['Montante'].max()]"
   ]
  },
  {
   "cell_type": "markdown",
   "metadata": {},
   "source": [
    "###### Ampliando o leque de empresas investigadas por fraude nas licitações de aquisição de medicamentos. Investigadas no Cade, no  Ministério Público Federal em Goiás, no Ministério Público Estadual (MP/GO), Ministério Público Federal no Pará (MPF/PA) \n",
    "###### Walter Prochnow Junior é sócio da  Comercial Cirúrgica Rioclarense Planilhas=2 pagto_rioclarense.csv\n",
    "##### ARTFIO COMERCIO E REPRESENTACOES LTDA 83.345.405/0001-99 fornecedora csv gerado\n",
    "##### CRISTALFARMA COMERCIO REPRESENTACAO IMPORTACAO E EXPORTACAO LTDA EPP 05.003.408/0001-30. CSV gerado\n",
    "##### MEDCOMERCE COMERCIAL DE MEDICAMENTOS E PRODUTOS HOSPITALARES LTDA 37.396.017/0001-10. Acusada de fraude em Goiás, terra do Perillo, junto com a Hospfar e continua a forncer para o governo federal. csv gerado\n",
    "##### COMERCIO E REPRESENTACOES PRADO LTDA 05.049.432/0001-00 Participou de fraude no Pará com a Hospfar\n",
    "##### CRISTALIA PRODUTOS QUIMICOS FARMACEUTICOS LTDA 44.734.671/0001-51 . CSV GERADO\n",
    "\n",
    "##### Pagamentos feitos pelo governo federal Atualizados pelo IPCA.\n",
    "###### Dados atualizados em 10.5.2018\t\t\n",
    "###### Exportado em 13.10.2018\t\t\n",
    "##### Fonte: Datascópio (dados.org)"
   ]
  },
  {
   "cell_type": "code",
   "execution_count": 124,
   "metadata": {},
   "outputs": [
    {
     "data": {
      "text/html": [
       "<div>\n",
       "<style scoped>\n",
       "    .dataframe tbody tr th:only-of-type {\n",
       "        vertical-align: middle;\n",
       "    }\n",
       "\n",
       "    .dataframe tbody tr th {\n",
       "        vertical-align: top;\n",
       "    }\n",
       "\n",
       "    .dataframe thead th {\n",
       "        text-align: right;\n",
       "    }\n",
       "</style>\n",
       "<table border=\"1\" class=\"dataframe\">\n",
       "  <thead>\n",
       "    <tr style=\"text-align: right;\">\n",
       "      <th></th>\n",
       "      <th>órgão</th>\n",
       "      <th>Subordinado a</th>\n",
       "      <th>Montante</th>\n",
       "      <th>Ano</th>\n",
       "    </tr>\n",
       "  </thead>\n",
       "  <tbody>\n",
       "    <tr>\n",
       "      <th>0</th>\n",
       "      <td>COMISSAO NACIONAL DE ENERGIA NUCLEAR-SEDE</td>\n",
       "      <td>Ministério da Ciência e Tecnologia</td>\n",
       "      <td>762</td>\n",
       "      <td>2016</td>\n",
       "    </tr>\n",
       "    <tr>\n",
       "      <th>1</th>\n",
       "      <td>INSTITUTO BENJAMIN CONSTANT-RJ</td>\n",
       "      <td>Ministério da Educação</td>\n",
       "      <td>2222</td>\n",
       "      <td>2016</td>\n",
       "    </tr>\n",
       "    <tr>\n",
       "      <th>2</th>\n",
       "      <td>FUND. UNIVERSIDADE FEDERAL VALE SAO FRANCISCO</td>\n",
       "      <td>Ministério da Educação</td>\n",
       "      <td>190</td>\n",
       "      <td>2016</td>\n",
       "    </tr>\n",
       "    <tr>\n",
       "      <th>3</th>\n",
       "      <td>MATERNIDADE CLIMERIO DE OLIVEIRA</td>\n",
       "      <td>Ministério da Educação</td>\n",
       "      <td>5889</td>\n",
       "      <td>2011</td>\n",
       "    </tr>\n",
       "    <tr>\n",
       "      <th>4</th>\n",
       "      <td>MATERNIDADE CLIMERIO DE OLIVEIRA</td>\n",
       "      <td>Ministério da Educação</td>\n",
       "      <td>17353</td>\n",
       "      <td>2012</td>\n",
       "    </tr>\n",
       "  </tbody>\n",
       "</table>\n",
       "</div>"
      ],
      "text/plain": [
       "                                           órgão  \\\n",
       "0      COMISSAO NACIONAL DE ENERGIA NUCLEAR-SEDE   \n",
       "1                 INSTITUTO BENJAMIN CONSTANT-RJ   \n",
       "2  FUND. UNIVERSIDADE FEDERAL VALE SAO FRANCISCO   \n",
       "3               MATERNIDADE CLIMERIO DE OLIVEIRA   \n",
       "4               MATERNIDADE CLIMERIO DE OLIVEIRA   \n",
       "\n",
       "                        Subordinado a  Montante   Ano  \n",
       "0  Ministério da Ciência e Tecnologia       762  2016  \n",
       "1              Ministério da Educação      2222  2016  \n",
       "2              Ministério da Educação       190  2016  \n",
       "3              Ministério da Educação      5889  2011  \n",
       "4              Ministério da Educação     17353  2012  "
      ]
     },
     "execution_count": 124,
     "metadata": {},
     "output_type": "execute_result"
    }
   ],
   "source": [
    "#### Rioclarense e DHL\n",
    "\n",
    "rioclarense = pd.read_csv('pagto_rioclarense.csv')\n",
    "rioclarense.head()"
   ]
  },
  {
   "cell_type": "code",
   "execution_count": 303,
   "metadata": {},
   "outputs": [
    {
     "data": {
      "text/plain": [
       "57888774"
      ]
     },
     "execution_count": 303,
     "metadata": {},
     "output_type": "execute_result"
    }
   ],
   "source": [
    "rioclarense.Montante.sum()"
   ]
  },
  {
   "cell_type": "code",
   "execution_count": 305,
   "metadata": {},
   "outputs": [
    {
     "data": {
      "text/plain": [
       "Ministério da Educação                257\n",
       "Ministério da Defesa                  232\n",
       "Ministério da Saúde                   127\n",
       "Órgão Genérico Geratriz                34\n",
       "Ministério da Justiça                   1\n",
       "Ministério da Ciência e Tecnologia      1\n",
       "Name: Subordinado a, dtype: int64"
      ]
     },
     "execution_count": 305,
     "metadata": {},
     "output_type": "execute_result"
    }
   ],
   "source": [
    "rioclarense['Subordinado a'].value_counts()"
   ]
  },
  {
   "cell_type": "code",
   "execution_count": 306,
   "metadata": {},
   "outputs": [
    {
     "data": {
      "text/plain": [
       "652"
      ]
     },
     "execution_count": 306,
     "metadata": {},
     "output_type": "execute_result"
    }
   ],
   "source": [
    "rioclarense['órgão'].count()"
   ]
  },
  {
   "cell_type": "code",
   "execution_count": 127,
   "metadata": {},
   "outputs": [
    {
     "data": {
      "text/plain": [
       "CENTRO DE OBTENCAO DA MARINHA NO R.J.          14\n",
       "HOSPITAL MILITAR DE AREA DE PORTO ALEGRE       11\n",
       "HOSPITAL UNIVERSITARIO                         10\n",
       "HOSPITAL GERAL DE JUIZ DE FORA                  9\n",
       "HOSPITAL DE GUARNICAO DE NATAL                  8\n",
       "HOSPITAL MILITAR DE AREA DE CAMPO GRANDE        8\n",
       "HOSPITAL UNIVERSITARIO ANTONIO PEDRO DA UFF     7\n",
       "HOSPITAL UNIVERSITARIO (HU/UFGD)                7\n",
       "HOSPITAL DE CLINICAS DA UFU                     7\n",
       "HOSPITAL DAS CLINICAS - UFPE                    7\n",
       "Name: órgão, dtype: int64"
      ]
     },
     "execution_count": 127,
     "metadata": {},
     "output_type": "execute_result"
    }
   ],
   "source": [
    "rioclarense['órgão'].value_counts().head(10)"
   ]
  },
  {
   "cell_type": "code",
   "execution_count": 128,
   "metadata": {},
   "outputs": [
    {
     "data": {
      "text/plain": [
       "57888774"
      ]
     },
     "execution_count": 128,
     "metadata": {},
     "output_type": "execute_result"
    }
   ],
   "source": [
    "rioclarense['Montante'].sum()"
   ]
  },
  {
   "cell_type": "code",
   "execution_count": 129,
   "metadata": {},
   "outputs": [
    {
     "data": {
      "text/plain": [
       "array([2016, 2011, 2012, 2013, 2015, 2017, 2014], dtype=int64)"
      ]
     },
     "execution_count": 129,
     "metadata": {},
     "output_type": "execute_result"
    }
   ],
   "source": [
    "rioclarense['Ano'].unique()"
   ]
  },
  {
   "cell_type": "code",
   "execution_count": 130,
   "metadata": {},
   "outputs": [
    {
     "data": {
      "text/plain": [
       "CENTRO DE OBTENCAO DA MARINHA NO R.J.          14\n",
       "HOSPITAL MILITAR DE AREA DE PORTO ALEGRE       11\n",
       "HOSPITAL UNIVERSITARIO                         10\n",
       "HOSPITAL GERAL DE JUIZ DE FORA                  9\n",
       "HOSPITAL DE GUARNICAO DE NATAL                  8\n",
       "HOSPITAL MILITAR DE AREA DE CAMPO GRANDE        8\n",
       "HOSPITAL UNIVERSITARIO ANTONIO PEDRO DA UFF     7\n",
       "HOSPITAL UNIVERSITARIO (HU/UFGD)                7\n",
       "HOSPITAL DE CLINICAS DA UFU                     7\n",
       "HOSPITAL DAS CLINICAS - UFPE                    7\n",
       "Name: órgão, dtype: int64"
      ]
     },
     "execution_count": 130,
     "metadata": {},
     "output_type": "execute_result"
    }
   ],
   "source": [
    "rioclarense['órgão'].value_counts().head(10)"
   ]
  },
  {
   "cell_type": "code",
   "execution_count": 131,
   "metadata": {},
   "outputs": [
    {
     "data": {
      "text/html": [
       "<div>\n",
       "<style scoped>\n",
       "    .dataframe tbody tr th:only-of-type {\n",
       "        vertical-align: middle;\n",
       "    }\n",
       "\n",
       "    .dataframe tbody tr th {\n",
       "        vertical-align: top;\n",
       "    }\n",
       "\n",
       "    .dataframe thead th {\n",
       "        text-align: right;\n",
       "    }\n",
       "</style>\n",
       "<table border=\"1\" class=\"dataframe\">\n",
       "  <thead>\n",
       "    <tr style=\"text-align: right;\">\n",
       "      <th></th>\n",
       "      <th>órgão</th>\n",
       "      <th>Montante</th>\n",
       "    </tr>\n",
       "  </thead>\n",
       "  <tbody>\n",
       "    <tr>\n",
       "      <th>0</th>\n",
       "      <td>11 BATALAHO DE ENGENHARIA DE CONSTRUCAO</td>\n",
       "      <td>8362</td>\n",
       "    </tr>\n",
       "    <tr>\n",
       "      <th>1</th>\n",
       "      <td>11.BATALHAO DE INFANTARIA DE MONTANHA</td>\n",
       "      <td>152</td>\n",
       "    </tr>\n",
       "    <tr>\n",
       "      <th>2</th>\n",
       "      <td>14 BATALHAO DE INFANTARIA MOTORIZADO</td>\n",
       "      <td>4097</td>\n",
       "    </tr>\n",
       "    <tr>\n",
       "      <th>3</th>\n",
       "      <td>17 BATALHAO LOGISTICO</td>\n",
       "      <td>167</td>\n",
       "    </tr>\n",
       "    <tr>\n",
       "      <th>4</th>\n",
       "      <td>18 BATALHAO LOGISTICO</td>\n",
       "      <td>966</td>\n",
       "    </tr>\n",
       "    <tr>\n",
       "      <th>5</th>\n",
       "      <td>2 BATALHAO DE ENGENHARIA DE CONSTRUCAO</td>\n",
       "      <td>5490</td>\n",
       "    </tr>\n",
       "    <tr>\n",
       "      <th>6</th>\n",
       "      <td>2 BATALHAO DE INFANTARIA LEVE</td>\n",
       "      <td>311</td>\n",
       "    </tr>\n",
       "    <tr>\n",
       "      <th>7</th>\n",
       "      <td>2 REGIMENTO DE CAVALARIA MECANIZADO</td>\n",
       "      <td>18464</td>\n",
       "    </tr>\n",
       "    <tr>\n",
       "      <th>8</th>\n",
       "      <td>20 REGIMENTO DE CAVALARIA BLINDADO</td>\n",
       "      <td>982</td>\n",
       "    </tr>\n",
       "    <tr>\n",
       "      <th>9</th>\n",
       "      <td>23 BATALHAO LOGISTICO DE SELVA</td>\n",
       "      <td>258</td>\n",
       "    </tr>\n",
       "    <tr>\n",
       "      <th>10</th>\n",
       "      <td>24 BATALHAO DE CACADORES</td>\n",
       "      <td>13021</td>\n",
       "    </tr>\n",
       "    <tr>\n",
       "      <th>11</th>\n",
       "      <td>36 BATALHAO DE INFANTARIA MOTORIZADO</td>\n",
       "      <td>4185</td>\n",
       "    </tr>\n",
       "    <tr>\n",
       "      <th>12</th>\n",
       "      <td>4 BATALHAO DE COMUNICACOES DO EXERCITO</td>\n",
       "      <td>784</td>\n",
       "    </tr>\n",
       "    <tr>\n",
       "      <th>13</th>\n",
       "      <td>4 BATALHAO DE ENGENHARIA DE CONSTRUCAO</td>\n",
       "      <td>7278</td>\n",
       "    </tr>\n",
       "    <tr>\n",
       "      <th>14</th>\n",
       "      <td>4 BATALHAO DE POLICIA DO EXERCITO</td>\n",
       "      <td>539</td>\n",
       "    </tr>\n",
       "    <tr>\n",
       "      <th>15</th>\n",
       "      <td>4 COMPANHIA DE COMUNICACOES</td>\n",
       "      <td>542</td>\n",
       "    </tr>\n",
       "    <tr>\n",
       "      <th>16</th>\n",
       "      <td>4 ESQUADRAO DE CAVALARIA MECANIZADO</td>\n",
       "      <td>116</td>\n",
       "    </tr>\n",
       "    <tr>\n",
       "      <th>17</th>\n",
       "      <td>4. DEPOSITO DE SUPRIMENTO</td>\n",
       "      <td>1758</td>\n",
       "    </tr>\n",
       "    <tr>\n",
       "      <th>18</th>\n",
       "      <td>40 BATALHAO DE INFANTARIA</td>\n",
       "      <td>832</td>\n",
       "    </tr>\n",
       "    <tr>\n",
       "      <th>19</th>\n",
       "      <td>50 BATALHAO DE INFANTARIA DE SELVA</td>\n",
       "      <td>5109</td>\n",
       "    </tr>\n",
       "    <tr>\n",
       "      <th>20</th>\n",
       "      <td>59  BATALHAO DE INFANTARIA MOTORIZADO</td>\n",
       "      <td>1409</td>\n",
       "    </tr>\n",
       "    <tr>\n",
       "      <th>21</th>\n",
       "      <td>7 BATALHAO DE INFANTARIA BLINDADO</td>\n",
       "      <td>1038</td>\n",
       "    </tr>\n",
       "    <tr>\n",
       "      <th>22</th>\n",
       "      <td>7.DEPOSITO DE SUPRIMENTO</td>\n",
       "      <td>21670</td>\n",
       "    </tr>\n",
       "    <tr>\n",
       "      <th>23</th>\n",
       "      <td>72 BATALHAO DE INFANTARIA MOTORIZADO</td>\n",
       "      <td>3729</td>\n",
       "    </tr>\n",
       "    <tr>\n",
       "      <th>24</th>\n",
       "      <td>9.BATALHAO DE SUPRIMENTO</td>\n",
       "      <td>7160</td>\n",
       "    </tr>\n",
       "    <tr>\n",
       "      <th>25</th>\n",
       "      <td>BASE AEREA DE CAMPO GRANDE</td>\n",
       "      <td>7830</td>\n",
       "    </tr>\n",
       "    <tr>\n",
       "      <th>26</th>\n",
       "      <td>BASE AEREA DE FORTALEZA</td>\n",
       "      <td>14727</td>\n",
       "    </tr>\n",
       "    <tr>\n",
       "      <th>27</th>\n",
       "      <td>BASE AEREA DE NATAL</td>\n",
       "      <td>30988</td>\n",
       "    </tr>\n",
       "    <tr>\n",
       "      <th>28</th>\n",
       "      <td>BASE AEREA DE RECIFE</td>\n",
       "      <td>4948</td>\n",
       "    </tr>\n",
       "    <tr>\n",
       "      <th>29</th>\n",
       "      <td>BASE AEREA DE SALVADOR</td>\n",
       "      <td>1811</td>\n",
       "    </tr>\n",
       "    <tr>\n",
       "      <th>...</th>\n",
       "      <td>...</td>\n",
       "      <td>...</td>\n",
       "    </tr>\n",
       "    <tr>\n",
       "      <th>184</th>\n",
       "      <td>MATERNIDADE ESCOLA ASSIS CHATEAUBRIAND</td>\n",
       "      <td>189976</td>\n",
       "    </tr>\n",
       "    <tr>\n",
       "      <th>185</th>\n",
       "      <td>MATERNIDADE ESCOLA JANUARIO CICCO DA UFRN</td>\n",
       "      <td>84816</td>\n",
       "    </tr>\n",
       "    <tr>\n",
       "      <th>186</th>\n",
       "      <td>NUCLEO DO GRUPAMENTO DE APOIO DE NATAL</td>\n",
       "      <td>7674</td>\n",
       "    </tr>\n",
       "    <tr>\n",
       "      <th>187</th>\n",
       "      <td>PARQUE DE MATERIAL AERONAUTICO DE RECIFE</td>\n",
       "      <td>709</td>\n",
       "    </tr>\n",
       "    <tr>\n",
       "      <th>188</th>\n",
       "      <td>PARQUE MATERIAL AERONAUTICO DE LAGOA SANTA</td>\n",
       "      <td>1877</td>\n",
       "    </tr>\n",
       "    <tr>\n",
       "      <th>189</th>\n",
       "      <td>PARQUE REGIONAL DE MANUTENCAO DA 9 REG.MILITA</td>\n",
       "      <td>519</td>\n",
       "    </tr>\n",
       "    <tr>\n",
       "      <th>190</th>\n",
       "      <td>PARQUE REGIONAL DE MANUTENCAO/7</td>\n",
       "      <td>2343</td>\n",
       "    </tr>\n",
       "    <tr>\n",
       "      <th>191</th>\n",
       "      <td>PENITENCIARIA FEDERAL EM MOSSORO - RN</td>\n",
       "      <td>1185</td>\n",
       "    </tr>\n",
       "    <tr>\n",
       "      <th>192</th>\n",
       "      <td>POLICLINICA MILITAR DE NITEROI</td>\n",
       "      <td>10614</td>\n",
       "    </tr>\n",
       "    <tr>\n",
       "      <th>193</th>\n",
       "      <td>POLICLINICA NAVAL NOSSA SENHORA DA GLORIA</td>\n",
       "      <td>689</td>\n",
       "    </tr>\n",
       "    <tr>\n",
       "      <th>194</th>\n",
       "      <td>PRO-REITORIA DE ADMINISTRACAO/UFF</td>\n",
       "      <td>3234</td>\n",
       "    </tr>\n",
       "    <tr>\n",
       "      <th>195</th>\n",
       "      <td>PRO-REITORIA DE PESQUISA/UFMG</td>\n",
       "      <td>8473</td>\n",
       "    </tr>\n",
       "    <tr>\n",
       "      <th>196</th>\n",
       "      <td>SEGUNDO CENTRO INT.DEF.AEREA CONTR.TFG.AEREO</td>\n",
       "      <td>1183</td>\n",
       "    </tr>\n",
       "    <tr>\n",
       "      <th>197</th>\n",
       "      <td>UNIDADE INTEGRADA DE SAUDE MENTAL</td>\n",
       "      <td>1974</td>\n",
       "    </tr>\n",
       "    <tr>\n",
       "      <th>198</th>\n",
       "      <td>UNIFESP-HOSP. UNIVERSITARIO</td>\n",
       "      <td>903076</td>\n",
       "    </tr>\n",
       "    <tr>\n",
       "      <th>199</th>\n",
       "      <td>UNIVERSIDADE FEDERAL DA PARAIBA</td>\n",
       "      <td>590</td>\n",
       "    </tr>\n",
       "    <tr>\n",
       "      <th>200</th>\n",
       "      <td>UNIVERSIDADE FEDERAL DE ALFENAS</td>\n",
       "      <td>999</td>\n",
       "    </tr>\n",
       "    <tr>\n",
       "      <th>201</th>\n",
       "      <td>UNIVERSIDADE FEDERAL DE JUIZ DE FORA</td>\n",
       "      <td>174</td>\n",
       "    </tr>\n",
       "    <tr>\n",
       "      <th>202</th>\n",
       "      <td>UNIVERSIDADE FEDERAL DE LAVRAS</td>\n",
       "      <td>1940</td>\n",
       "    </tr>\n",
       "    <tr>\n",
       "      <th>203</th>\n",
       "      <td>UNIVERSIDADE FEDERAL DE OURO PRETO</td>\n",
       "      <td>27232</td>\n",
       "    </tr>\n",
       "    <tr>\n",
       "      <th>204</th>\n",
       "      <td>UNIVERSIDADE FEDERAL DE SANTA CATARINA</td>\n",
       "      <td>1535</td>\n",
       "    </tr>\n",
       "    <tr>\n",
       "      <th>205</th>\n",
       "      <td>UNIVERSIDADE FEDERAL DE SANTA MARIA</td>\n",
       "      <td>8833</td>\n",
       "    </tr>\n",
       "    <tr>\n",
       "      <th>206</th>\n",
       "      <td>UNIVERSIDADE FEDERAL DE SANTA MARIA - HUSM</td>\n",
       "      <td>142287</td>\n",
       "    </tr>\n",
       "    <tr>\n",
       "      <th>207</th>\n",
       "      <td>UNIVERSIDADE FEDERAL DE VICOSA</td>\n",
       "      <td>1635</td>\n",
       "    </tr>\n",
       "    <tr>\n",
       "      <th>208</th>\n",
       "      <td>UNIVERSIDADE FEDERAL DO RECONCAVO DA BAHIA</td>\n",
       "      <td>1909</td>\n",
       "    </tr>\n",
       "    <tr>\n",
       "      <th>209</th>\n",
       "      <td>UNIVERSIDADE FEDERAL DO RIO GRANDE - FURG</td>\n",
       "      <td>426657</td>\n",
       "    </tr>\n",
       "    <tr>\n",
       "      <th>210</th>\n",
       "      <td>UNIVERSIDADE FEDERAL DO RIO GRANDE DO NORTE</td>\n",
       "      <td>9050</td>\n",
       "    </tr>\n",
       "    <tr>\n",
       "      <th>211</th>\n",
       "      <td>UNIVERSIDADE FEDERAL DO RIO GRANDE DO SUL</td>\n",
       "      <td>2961</td>\n",
       "    </tr>\n",
       "    <tr>\n",
       "      <th>212</th>\n",
       "      <td>UNIVERSIDADE FEDERAL RURAL DE PERNAMBUCO</td>\n",
       "      <td>10357</td>\n",
       "    </tr>\n",
       "    <tr>\n",
       "      <th>213</th>\n",
       "      <td>V COMANDO AEREO REGIONAL</td>\n",
       "      <td>1251</td>\n",
       "    </tr>\n",
       "  </tbody>\n",
       "</table>\n",
       "<p>214 rows × 2 columns</p>\n",
       "</div>"
      ],
      "text/plain": [
       "                                             órgão  Montante\n",
       "0          11 BATALAHO DE ENGENHARIA DE CONSTRUCAO      8362\n",
       "1            11.BATALHAO DE INFANTARIA DE MONTANHA       152\n",
       "2             14 BATALHAO DE INFANTARIA MOTORIZADO      4097\n",
       "3                            17 BATALHAO LOGISTICO       167\n",
       "4                            18 BATALHAO LOGISTICO       966\n",
       "5           2 BATALHAO DE ENGENHARIA DE CONSTRUCAO      5490\n",
       "6                    2 BATALHAO DE INFANTARIA LEVE       311\n",
       "7              2 REGIMENTO DE CAVALARIA MECANIZADO     18464\n",
       "8               20 REGIMENTO DE CAVALARIA BLINDADO       982\n",
       "9                   23 BATALHAO LOGISTICO DE SELVA       258\n",
       "10                        24 BATALHAO DE CACADORES     13021\n",
       "11            36 BATALHAO DE INFANTARIA MOTORIZADO      4185\n",
       "12          4 BATALHAO DE COMUNICACOES DO EXERCITO       784\n",
       "13          4 BATALHAO DE ENGENHARIA DE CONSTRUCAO      7278\n",
       "14               4 BATALHAO DE POLICIA DO EXERCITO       539\n",
       "15                     4 COMPANHIA DE COMUNICACOES       542\n",
       "16             4 ESQUADRAO DE CAVALARIA MECANIZADO       116\n",
       "17                       4. DEPOSITO DE SUPRIMENTO      1758\n",
       "18                       40 BATALHAO DE INFANTARIA       832\n",
       "19              50 BATALHAO DE INFANTARIA DE SELVA      5109\n",
       "20           59  BATALHAO DE INFANTARIA MOTORIZADO      1409\n",
       "21               7 BATALHAO DE INFANTARIA BLINDADO      1038\n",
       "22                        7.DEPOSITO DE SUPRIMENTO     21670\n",
       "23            72 BATALHAO DE INFANTARIA MOTORIZADO      3729\n",
       "24                        9.BATALHAO DE SUPRIMENTO      7160\n",
       "25                      BASE AEREA DE CAMPO GRANDE      7830\n",
       "26                         BASE AEREA DE FORTALEZA     14727\n",
       "27                             BASE AEREA DE NATAL     30988\n",
       "28                            BASE AEREA DE RECIFE      4948\n",
       "29                          BASE AEREA DE SALVADOR      1811\n",
       "..                                             ...       ...\n",
       "184         MATERNIDADE ESCOLA ASSIS CHATEAUBRIAND    189976\n",
       "185      MATERNIDADE ESCOLA JANUARIO CICCO DA UFRN     84816\n",
       "186         NUCLEO DO GRUPAMENTO DE APOIO DE NATAL      7674\n",
       "187       PARQUE DE MATERIAL AERONAUTICO DE RECIFE       709\n",
       "188     PARQUE MATERIAL AERONAUTICO DE LAGOA SANTA      1877\n",
       "189  PARQUE REGIONAL DE MANUTENCAO DA 9 REG.MILITA       519\n",
       "190                PARQUE REGIONAL DE MANUTENCAO/7      2343\n",
       "191          PENITENCIARIA FEDERAL EM MOSSORO - RN      1185\n",
       "192                 POLICLINICA MILITAR DE NITEROI     10614\n",
       "193      POLICLINICA NAVAL NOSSA SENHORA DA GLORIA       689\n",
       "194              PRO-REITORIA DE ADMINISTRACAO/UFF      3234\n",
       "195                  PRO-REITORIA DE PESQUISA/UFMG      8473\n",
       "196   SEGUNDO CENTRO INT.DEF.AEREA CONTR.TFG.AEREO      1183\n",
       "197              UNIDADE INTEGRADA DE SAUDE MENTAL      1974\n",
       "198                    UNIFESP-HOSP. UNIVERSITARIO    903076\n",
       "199                UNIVERSIDADE FEDERAL DA PARAIBA       590\n",
       "200                UNIVERSIDADE FEDERAL DE ALFENAS       999\n",
       "201           UNIVERSIDADE FEDERAL DE JUIZ DE FORA       174\n",
       "202                 UNIVERSIDADE FEDERAL DE LAVRAS      1940\n",
       "203             UNIVERSIDADE FEDERAL DE OURO PRETO     27232\n",
       "204         UNIVERSIDADE FEDERAL DE SANTA CATARINA      1535\n",
       "205            UNIVERSIDADE FEDERAL DE SANTA MARIA      8833\n",
       "206     UNIVERSIDADE FEDERAL DE SANTA MARIA - HUSM    142287\n",
       "207                 UNIVERSIDADE FEDERAL DE VICOSA      1635\n",
       "208     UNIVERSIDADE FEDERAL DO RECONCAVO DA BAHIA      1909\n",
       "209      UNIVERSIDADE FEDERAL DO RIO GRANDE - FURG    426657\n",
       "210    UNIVERSIDADE FEDERAL DO RIO GRANDE DO NORTE      9050\n",
       "211      UNIVERSIDADE FEDERAL DO RIO GRANDE DO SUL      2961\n",
       "212       UNIVERSIDADE FEDERAL RURAL DE PERNAMBUCO     10357\n",
       "213                       V COMANDO AEREO REGIONAL      1251\n",
       "\n",
       "[214 rows x 2 columns]"
      ]
     },
     "execution_count": 131,
     "metadata": {},
     "output_type": "execute_result"
    }
   ],
   "source": [
    "rioclarense.groupby('órgão')['Montante'].sum().reset_index()"
   ]
  },
  {
   "cell_type": "code",
   "execution_count": 132,
   "metadata": {},
   "outputs": [
    {
     "data": {
      "text/plain": [
       "'V COMANDO AEREO REGIONAL'"
      ]
     },
     "execution_count": 132,
     "metadata": {},
     "output_type": "execute_result"
    }
   ],
   "source": [
    "rioclarense['órgão'].max()"
   ]
  },
  {
   "cell_type": "code",
   "execution_count": 133,
   "metadata": {},
   "outputs": [
    {
     "data": {
      "text/plain": [
       "652"
      ]
     },
     "execution_count": 133,
     "metadata": {},
     "output_type": "execute_result"
    }
   ],
   "source": [
    "rioclarense['órgão'].count()"
   ]
  },
  {
   "cell_type": "code",
   "execution_count": 134,
   "metadata": {},
   "outputs": [
    {
     "data": {
      "text/html": [
       "<div>\n",
       "<style scoped>\n",
       "    .dataframe tbody tr th:only-of-type {\n",
       "        vertical-align: middle;\n",
       "    }\n",
       "\n",
       "    .dataframe tbody tr th {\n",
       "        vertical-align: top;\n",
       "    }\n",
       "\n",
       "    .dataframe thead th {\n",
       "        text-align: right;\n",
       "    }\n",
       "</style>\n",
       "<table border=\"1\" class=\"dataframe\">\n",
       "  <thead>\n",
       "    <tr style=\"text-align: right;\">\n",
       "      <th></th>\n",
       "      <th>órgão</th>\n",
       "      <th>Subordinado a</th>\n",
       "      <th>Montante</th>\n",
       "      <th>Ano</th>\n",
       "    </tr>\n",
       "  </thead>\n",
       "  <tbody>\n",
       "    <tr>\n",
       "      <th>248</th>\n",
       "      <td>FUNDACAO OSWALDO CRUZ</td>\n",
       "      <td>Ministério da Saúde</td>\n",
       "      <td>9465352</td>\n",
       "      <td>2012</td>\n",
       "    </tr>\n",
       "  </tbody>\n",
       "</table>\n",
       "</div>"
      ],
      "text/plain": [
       "                     órgão        Subordinado a  Montante   Ano\n",
       "248  FUNDACAO OSWALDO CRUZ  Ministério da Saúde   9465352  2012"
      ]
     },
     "execution_count": 134,
     "metadata": {},
     "output_type": "execute_result"
    }
   ],
   "source": [
    "rioclarense[rioclarense['Montante'] == rioclarense['Montante'].max()]"
   ]
  },
  {
   "cell_type": "markdown",
   "metadata": {},
   "source": [
    "#### Total de recebimentos da Rioclarense foi de 578.887.774,00 milhões (BRL) dos 652 órgãos de que é fornecedor."
   ]
  },
  {
   "cell_type": "code",
   "execution_count": 135,
   "metadata": {},
   "outputs": [
    {
     "data": {
      "text/plain": [
       "57888774"
      ]
     },
     "execution_count": 135,
     "metadata": {},
     "output_type": "execute_result"
    }
   ],
   "source": [
    "rioclarense['Montante'].sum()"
   ]
  },
  {
   "cell_type": "code",
   "execution_count": 136,
   "metadata": {},
   "outputs": [
    {
     "data": {
      "text/html": [
       "<div>\n",
       "<style scoped>\n",
       "    .dataframe tbody tr th:only-of-type {\n",
       "        vertical-align: middle;\n",
       "    }\n",
       "\n",
       "    .dataframe tbody tr th {\n",
       "        vertical-align: top;\n",
       "    }\n",
       "\n",
       "    .dataframe thead th {\n",
       "        text-align: right;\n",
       "    }\n",
       "</style>\n",
       "<table border=\"1\" class=\"dataframe\">\n",
       "  <thead>\n",
       "    <tr style=\"text-align: right;\">\n",
       "      <th></th>\n",
       "      <th>órgão</th>\n",
       "      <th>Subordinado a</th>\n",
       "      <th>Montante</th>\n",
       "      <th>Ano</th>\n",
       "    </tr>\n",
       "  </thead>\n",
       "  <tbody>\n",
       "    <tr>\n",
       "      <th>248</th>\n",
       "      <td>FUNDACAO OSWALDO CRUZ</td>\n",
       "      <td>Ministério da Saúde</td>\n",
       "      <td>9465352</td>\n",
       "      <td>2012</td>\n",
       "    </tr>\n",
       "    <tr>\n",
       "      <th>252</th>\n",
       "      <td>FUNDACAO OSWALDO CRUZ</td>\n",
       "      <td>Ministério da Saúde</td>\n",
       "      <td>3675052</td>\n",
       "      <td>2016</td>\n",
       "    </tr>\n",
       "    <tr>\n",
       "      <th>247</th>\n",
       "      <td>FUNDACAO OSWALDO CRUZ</td>\n",
       "      <td>Ministério da Saúde</td>\n",
       "      <td>3512963</td>\n",
       "      <td>2011</td>\n",
       "    </tr>\n",
       "    <tr>\n",
       "      <th>250</th>\n",
       "      <td>FUNDACAO OSWALDO CRUZ</td>\n",
       "      <td>Ministério da Saúde</td>\n",
       "      <td>2995796</td>\n",
       "      <td>2014</td>\n",
       "    </tr>\n",
       "    <tr>\n",
       "      <th>276</th>\n",
       "      <td>HOSPITAL NOSSA SENHORA DA CONCEICAO S/A</td>\n",
       "      <td>Ministério da Saúde</td>\n",
       "      <td>2931441</td>\n",
       "      <td>2017</td>\n",
       "    </tr>\n",
       "  </tbody>\n",
       "</table>\n",
       "</div>"
      ],
      "text/plain": [
       "                                       órgão        Subordinado a  Montante  \\\n",
       "248                    FUNDACAO OSWALDO CRUZ  Ministério da Saúde   9465352   \n",
       "252                    FUNDACAO OSWALDO CRUZ  Ministério da Saúde   3675052   \n",
       "247                    FUNDACAO OSWALDO CRUZ  Ministério da Saúde   3512963   \n",
       "250                    FUNDACAO OSWALDO CRUZ  Ministério da Saúde   2995796   \n",
       "276  HOSPITAL NOSSA SENHORA DA CONCEICAO S/A  Ministério da Saúde   2931441   \n",
       "\n",
       "      Ano  \n",
       "248  2012  \n",
       "252  2016  \n",
       "247  2011  \n",
       "250  2014  \n",
       "276  2017  "
      ]
     },
     "execution_count": 136,
     "metadata": {},
     "output_type": "execute_result"
    }
   ],
   "source": [
    "rioclarense.nlargest(5, 'Montante')"
   ]
  },
  {
   "cell_type": "code",
   "execution_count": 137,
   "metadata": {},
   "outputs": [
    {
     "data": {
      "text/plain": [
       "órgão            9\n",
       "Subordinado a    9\n",
       "Montante         9\n",
       "Ano              9\n",
       "dtype: int64"
      ]
     },
     "execution_count": 137,
     "metadata": {},
     "output_type": "execute_result"
    }
   ],
   "source": [
    "acima = rioclarense[(rioclarense['Montante'] > 1000000.0)].count()\n",
    "acima"
   ]
  },
  {
   "cell_type": "code",
   "execution_count": 138,
   "metadata": {},
   "outputs": [],
   "source": [
    "fatura_anual = rioclarense.groupby('Ano')['Montante'].sum()"
   ]
  },
  {
   "cell_type": "code",
   "execution_count": 139,
   "metadata": {},
   "outputs": [
    {
     "data": {
      "text/plain": [
       "Ano\n",
       "2011     8437487\n",
       "2012    14844668\n",
       "2013     3246242\n",
       "2014     4558774\n",
       "2015     5858962\n",
       "2016     8382369\n",
       "2017    12560272\n",
       "Name: Montante, dtype: int64"
      ]
     },
     "execution_count": 139,
     "metadata": {},
     "output_type": "execute_result"
    }
   ],
   "source": [
    "fatura_anual"
   ]
  },
  {
   "cell_type": "code",
   "execution_count": 140,
   "metadata": {},
   "outputs": [
    {
     "data": {
      "text/plain": [
       "<matplotlib.axes._subplots.AxesSubplot at 0x1c486ba97f0>"
      ]
     },
     "execution_count": 140,
     "metadata": {},
     "output_type": "execute_result"
    },
    {
     "data": {
      "image/png": "[encoded data removed]",
      "text/plain": [
       "<Figure size 432x288 with 1 Axes>"
      ]
     },
     "metadata": {},
     "output_type": "display_data"
    }
   ],
   "source": [
    "%matplotlib inline\n",
    "fatura_anual.plot.barh()"
   ]
  },
  {
   "cell_type": "code",
   "execution_count": 141,
   "metadata": {},
   "outputs": [],
   "source": [
    "#import requests\n",
    "#http://www.transparencia.gov.br/api-de-dados/ceis?nomeSancionado=Comercial%20Cirurgica%20Rioclarense&pagina=1\n",
    "#http://www.transparencia.gov.br/api-de-dados/cnep?nomeSancionado=Comercial%20Cirurgica%20Rioclarense&pagina=1"
   ]
  },
  {
   "cell_type": "code",
   "execution_count": 142,
   "metadata": {},
   "outputs": [],
   "source": [
    "#Pagamentos feitos pelo governo federal Atualizados pelo IPCA.\n",
    "#DHL DIAGNOSTICA E HOSPITALAR LTDA EPP 07.398.834/0001-46. Mesmos sócios da Comercial Cirúrgica RioClarense.\n",
    "\n",
    "dhl = pd.read_csv('pagto_dhl.csv')"
   ]
  },
  {
   "cell_type": "code",
   "execution_count": 143,
   "metadata": {},
   "outputs": [
    {
     "data": {
      "text/html": [
       "<div>\n",
       "<style scoped>\n",
       "    .dataframe tbody tr th:only-of-type {\n",
       "        vertical-align: middle;\n",
       "    }\n",
       "\n",
       "    .dataframe tbody tr th {\n",
       "        vertical-align: top;\n",
       "    }\n",
       "\n",
       "    .dataframe thead th {\n",
       "        text-align: right;\n",
       "    }\n",
       "</style>\n",
       "<table border=\"1\" class=\"dataframe\">\n",
       "  <thead>\n",
       "    <tr style=\"text-align: right;\">\n",
       "      <th></th>\n",
       "      <th>órgão</th>\n",
       "      <th>Subordinado a</th>\n",
       "      <th>Montante</th>\n",
       "      <th>Ano</th>\n",
       "    </tr>\n",
       "  </thead>\n",
       "  <tbody>\n",
       "    <tr>\n",
       "      <th>0</th>\n",
       "      <td>EMBRAPA/CNPGC</td>\n",
       "      <td>Ministério da Agricultura, Pecuária e Abasteci...</td>\n",
       "      <td>275084</td>\n",
       "      <td>2011</td>\n",
       "    </tr>\n",
       "    <tr>\n",
       "      <th>1</th>\n",
       "      <td>EMBRAPA/CNPGC</td>\n",
       "      <td>Ministério da Agricultura, Pecuária e Abasteci...</td>\n",
       "      <td>43701</td>\n",
       "      <td>2012</td>\n",
       "    </tr>\n",
       "    <tr>\n",
       "      <th>2</th>\n",
       "      <td>HOSPITAL UNIVERSITARIO (HU/UFGD)</td>\n",
       "      <td>Ministério da Educação</td>\n",
       "      <td>4725</td>\n",
       "      <td>2011</td>\n",
       "    </tr>\n",
       "    <tr>\n",
       "      <th>3</th>\n",
       "      <td>HOSPITAL UNIVERSITARIO (HU/UFGD)</td>\n",
       "      <td>Ministério da Educação</td>\n",
       "      <td>4514</td>\n",
       "      <td>2013</td>\n",
       "    </tr>\n",
       "    <tr>\n",
       "      <th>4</th>\n",
       "      <td>HOSPITAL UNIVERSITARIO (HU/UFGD)</td>\n",
       "      <td>Ministério da Educação</td>\n",
       "      <td>22596</td>\n",
       "      <td>2014</td>\n",
       "    </tr>\n",
       "  </tbody>\n",
       "</table>\n",
       "</div>"
      ],
      "text/plain": [
       "                              órgão  \\\n",
       "0                     EMBRAPA/CNPGC   \n",
       "1                     EMBRAPA/CNPGC   \n",
       "2  HOSPITAL UNIVERSITARIO (HU/UFGD)   \n",
       "3  HOSPITAL UNIVERSITARIO (HU/UFGD)   \n",
       "4  HOSPITAL UNIVERSITARIO (HU/UFGD)   \n",
       "\n",
       "                                       Subordinado a  Montante   Ano  \n",
       "0  Ministério da Agricultura, Pecuária e Abasteci...    275084  2011  \n",
       "1  Ministério da Agricultura, Pecuária e Abasteci...     43701  2012  \n",
       "2                             Ministério da Educação      4725  2011  \n",
       "3                             Ministério da Educação      4514  2013  \n",
       "4                             Ministério da Educação     22596  2014  "
      ]
     },
     "execution_count": 143,
     "metadata": {},
     "output_type": "execute_result"
    }
   ],
   "source": [
    "dhl.head()"
   ]
  },
  {
   "cell_type": "code",
   "execution_count": 144,
   "metadata": {},
   "outputs": [
    {
     "data": {
      "text/plain": [
       "órgão            16\n",
       "Subordinado a    16\n",
       "Montante         16\n",
       "Ano              16\n",
       "dtype: int64"
      ]
     },
     "execution_count": 144,
     "metadata": {},
     "output_type": "execute_result"
    }
   ],
   "source": [
    "dhl.count()"
   ]
  },
  {
   "cell_type": "code",
   "execution_count": 145,
   "metadata": {},
   "outputs": [
    {
     "data": {
      "text/plain": [
       "array(['Ministério da Agricultura, Pecuária e Abastecimento',\n",
       "       'Ministério da Educação', 'Ministério da Saúde',\n",
       "       'Ministério da Defesa'], dtype=object)"
      ]
     },
     "execution_count": 145,
     "metadata": {},
     "output_type": "execute_result"
    }
   ],
   "source": [
    "dhl['Subordinado a'].unique()"
   ]
  },
  {
   "cell_type": "code",
   "execution_count": 146,
   "metadata": {},
   "outputs": [
    {
     "data": {
      "text/html": [
       "<div>\n",
       "<style scoped>\n",
       "    .dataframe tbody tr th:only-of-type {\n",
       "        vertical-align: middle;\n",
       "    }\n",
       "\n",
       "    .dataframe tbody tr th {\n",
       "        vertical-align: top;\n",
       "    }\n",
       "\n",
       "    .dataframe thead th {\n",
       "        text-align: right;\n",
       "    }\n",
       "</style>\n",
       "<table border=\"1\" class=\"dataframe\">\n",
       "  <thead>\n",
       "    <tr style=\"text-align: right;\">\n",
       "      <th></th>\n",
       "      <th>órgão</th>\n",
       "      <th>Montante</th>\n",
       "    </tr>\n",
       "  </thead>\n",
       "  <tbody>\n",
       "    <tr>\n",
       "      <th>0</th>\n",
       "      <td>EMBRAPA/CNPGC</td>\n",
       "      <td>318785</td>\n",
       "    </tr>\n",
       "    <tr>\n",
       "      <th>1</th>\n",
       "      <td>FUNDACAO NACIONAL DE SAUDE - MT</td>\n",
       "      <td>1342</td>\n",
       "    </tr>\n",
       "    <tr>\n",
       "      <th>2</th>\n",
       "      <td>HOSPITAL MILITAR DE AREA DE CAMPO GRANDE</td>\n",
       "      <td>154352</td>\n",
       "    </tr>\n",
       "    <tr>\n",
       "      <th>3</th>\n",
       "      <td>HOSPITAL UNIVERSITARIO (HU/UFGD)</td>\n",
       "      <td>31835</td>\n",
       "    </tr>\n",
       "    <tr>\n",
       "      <th>4</th>\n",
       "      <td>HOSPITAL UNIVERSITARIO JULIO MULLER DA FUFMT</td>\n",
       "      <td>16155</td>\n",
       "    </tr>\n",
       "    <tr>\n",
       "      <th>5</th>\n",
       "      <td>HOSPITAL UNIVERSITARIO MARIA AP. PEDROSSIAM</td>\n",
       "      <td>15141</td>\n",
       "    </tr>\n",
       "  </tbody>\n",
       "</table>\n",
       "</div>"
      ],
      "text/plain": [
       "                                          órgão  Montante\n",
       "0                                 EMBRAPA/CNPGC    318785\n",
       "1               FUNDACAO NACIONAL DE SAUDE - MT      1342\n",
       "2      HOSPITAL MILITAR DE AREA DE CAMPO GRANDE    154352\n",
       "3              HOSPITAL UNIVERSITARIO (HU/UFGD)     31835\n",
       "4  HOSPITAL UNIVERSITARIO JULIO MULLER DA FUFMT     16155\n",
       "5   HOSPITAL UNIVERSITARIO MARIA AP. PEDROSSIAM     15141"
      ]
     },
     "execution_count": 146,
     "metadata": {},
     "output_type": "execute_result"
    }
   ],
   "source": [
    "dhl.groupby('órgão')['Montante'].sum().reset_index()"
   ]
  },
  {
   "cell_type": "code",
   "execution_count": 147,
   "metadata": {},
   "outputs": [
    {
     "data": {
      "text/html": [
       "<div>\n",
       "<style scoped>\n",
       "    .dataframe tbody tr th:only-of-type {\n",
       "        vertical-align: middle;\n",
       "    }\n",
       "\n",
       "    .dataframe tbody tr th {\n",
       "        vertical-align: top;\n",
       "    }\n",
       "\n",
       "    .dataframe thead th {\n",
       "        text-align: right;\n",
       "    }\n",
       "</style>\n",
       "<table border=\"1\" class=\"dataframe\">\n",
       "  <thead>\n",
       "    <tr style=\"text-align: right;\">\n",
       "      <th></th>\n",
       "      <th>index</th>\n",
       "      <th>órgão</th>\n",
       "    </tr>\n",
       "  </thead>\n",
       "  <tbody>\n",
       "    <tr>\n",
       "      <th>0</th>\n",
       "      <td>HOSPITAL MILITAR DE AREA DE CAMPO GRANDE</td>\n",
       "      <td>5</td>\n",
       "    </tr>\n",
       "    <tr>\n",
       "      <th>1</th>\n",
       "      <td>HOSPITAL UNIVERSITARIO (HU/UFGD)</td>\n",
       "      <td>3</td>\n",
       "    </tr>\n",
       "    <tr>\n",
       "      <th>2</th>\n",
       "      <td>HOSPITAL UNIVERSITARIO MARIA AP. PEDROSSIAM</td>\n",
       "      <td>3</td>\n",
       "    </tr>\n",
       "    <tr>\n",
       "      <th>3</th>\n",
       "      <td>EMBRAPA/CNPGC</td>\n",
       "      <td>2</td>\n",
       "    </tr>\n",
       "    <tr>\n",
       "      <th>4</th>\n",
       "      <td>HOSPITAL UNIVERSITARIO JULIO MULLER DA FUFMT</td>\n",
       "      <td>2</td>\n",
       "    </tr>\n",
       "    <tr>\n",
       "      <th>5</th>\n",
       "      <td>FUNDACAO NACIONAL DE SAUDE - MT</td>\n",
       "      <td>1</td>\n",
       "    </tr>\n",
       "  </tbody>\n",
       "</table>\n",
       "</div>"
      ],
      "text/plain": [
       "                                          index  órgão\n",
       "0      HOSPITAL MILITAR DE AREA DE CAMPO GRANDE      5\n",
       "1              HOSPITAL UNIVERSITARIO (HU/UFGD)      3\n",
       "2   HOSPITAL UNIVERSITARIO MARIA AP. PEDROSSIAM      3\n",
       "3                                 EMBRAPA/CNPGC      2\n",
       "4  HOSPITAL UNIVERSITARIO JULIO MULLER DA FUFMT      2\n",
       "5               FUNDACAO NACIONAL DE SAUDE - MT      1"
      ]
     },
     "execution_count": 147,
     "metadata": {},
     "output_type": "execute_result"
    }
   ],
   "source": [
    "dhl['órgão'].value_counts().reset_index()"
   ]
  },
  {
   "cell_type": "code",
   "execution_count": 148,
   "metadata": {},
   "outputs": [
    {
     "data": {
      "text/plain": [
       "'Ministério da Saúde'"
      ]
     },
     "execution_count": 148,
     "metadata": {},
     "output_type": "execute_result"
    }
   ],
   "source": [
    "dhl['Subordinado a'].max()"
   ]
  },
  {
   "cell_type": "code",
   "execution_count": 149,
   "metadata": {},
   "outputs": [
    {
     "data": {
      "text/plain": [
       "Subordinado a\n",
       "Ministério da Agricultura, Pecuária e Abastecimento    318785\n",
       "Ministério da Defesa                                   154352\n",
       "Ministério da Educação                                  63131\n",
       "Ministério da Saúde                                      1342\n",
       "Name: Montante, dtype: int64"
      ]
     },
     "execution_count": 149,
     "metadata": {},
     "output_type": "execute_result"
    }
   ],
   "source": [
    "dhl.groupby('Subordinado a')['Montante'].sum()"
   ]
  },
  {
   "cell_type": "code",
   "execution_count": 150,
   "metadata": {},
   "outputs": [
    {
     "data": {
      "text/plain": [
       "Subordinado a\n",
       "Ministério da Agricultura, Pecuária e Abastecimento    275084\n",
       "Ministério da Defesa                                   139675\n",
       "Ministério da Educação                                  22596\n",
       "Ministério da Saúde                                      1342\n",
       "Name: Montante, dtype: int64"
      ]
     },
     "execution_count": 150,
     "metadata": {},
     "output_type": "execute_result"
    }
   ],
   "source": [
    "dhl.groupby('Subordinado a')['Montante'].max()"
   ]
  },
  {
   "cell_type": "code",
   "execution_count": 151,
   "metadata": {},
   "outputs": [
    {
     "data": {
      "text/plain": [
       "Ano\n",
       "2011    300203\n",
       "2012    188148\n",
       "2013     14191\n",
       "2014     35068\n",
       "Name: Montante, dtype: int64"
      ]
     },
     "execution_count": 151,
     "metadata": {},
     "output_type": "execute_result"
    }
   ],
   "source": [
    "dhl.groupby('Ano')['Montante'].sum()"
   ]
  },
  {
   "cell_type": "code",
   "execution_count": 152,
   "metadata": {},
   "outputs": [
    {
     "data": {
      "text/plain": [
       "537610"
      ]
     },
     "execution_count": 152,
     "metadata": {},
     "output_type": "execute_result"
    }
   ],
   "source": [
    "dhl['Montante'].sum()"
   ]
  },
  {
   "cell_type": "code",
   "execution_count": 153,
   "metadata": {},
   "outputs": [
    {
     "data": {
      "text/plain": [
       "58426384"
      ]
     },
     "execution_count": 153,
     "metadata": {},
     "output_type": "execute_result"
    }
   ],
   "source": [
    "dhl['Montante'].sum() + rioclarense['Montante'].sum()"
   ]
  },
  {
   "cell_type": "code",
   "execution_count": 154,
   "metadata": {},
   "outputs": [],
   "source": [
    "fatura_dhl = dhl.groupby('Ano')['Montante'].sum()"
   ]
  },
  {
   "cell_type": "code",
   "execution_count": 155,
   "metadata": {},
   "outputs": [],
   "source": [
    "%matplotlib inline"
   ]
  },
  {
   "cell_type": "code",
   "execution_count": 156,
   "metadata": {},
   "outputs": [
    {
     "data": {
      "text/plain": [
       "<matplotlib.axes._subplots.AxesSubplot at 0x1c486c21e80>"
      ]
     },
     "execution_count": 156,
     "metadata": {},
     "output_type": "execute_result"
    },
    {
     "data": {
      "image/png": "[encoded data removed]",
      "text/plain": [
       "<Figure size 432x288 with 1 Axes>"
      ]
     },
     "metadata": {},
     "output_type": "display_data"
    }
   ],
   "source": [
    "fatura_dhl.plot.barh()"
   ]
  },
  {
   "cell_type": "code",
   "execution_count": 157,
   "metadata": {},
   "outputs": [
    {
     "name": "stdout",
     "output_type": "stream",
     "text": [
      "<class 'pandas.core.frame.DataFrame'>\n",
      "RangeIndex: 70 entries, 0 to 69\n",
      "Data columns (total 4 columns):\n",
      "órgão            69 non-null object\n",
      "Subordinado a    70 non-null object\n",
      "Montante         70 non-null int64\n",
      "Ano              69 non-null float64\n",
      "dtypes: float64(1), int64(1), object(2)\n",
      "memory usage: 2.3+ KB\n"
     ]
    }
   ],
   "source": [
    "#Pagamentos feitos pelo governo federal Atualizados pelo IPCA.\n",
    "#CRISTALFARMA COMERCIO REPRESENTACAO IMPORTACAO E EXPORTACAO LTDA EPP 05.003.408/0001-30 \n",
    "\n",
    "cristal = pd.read_csv('pagto_cristalfarma.csv')\n",
    "cristal.info()"
   ]
  },
  {
   "cell_type": "code",
   "execution_count": 307,
   "metadata": {},
   "outputs": [
    {
     "data": {
      "text/plain": [
       "2276530"
      ]
     },
     "execution_count": 307,
     "metadata": {},
     "output_type": "execute_result"
    }
   ],
   "source": [
    "cristal['Montante'].sum()\n"
   ]
  },
  {
   "cell_type": "code",
   "execution_count": 308,
   "metadata": {},
   "outputs": [
    {
     "data": {
      "text/plain": [
       "69"
      ]
     },
     "execution_count": 308,
     "metadata": {},
     "output_type": "execute_result"
    }
   ],
   "source": [
    "cristal['órgão'].count()"
   ]
  },
  {
   "cell_type": "code",
   "execution_count": 309,
   "metadata": {},
   "outputs": [
    {
     "data": {
      "text/plain": [
       "Ministério da Defesa      49\n",
       "Ministério da Educação    15\n",
       "Ministério da Saúde        6\n",
       "Name: Subordinado a, dtype: int64"
      ]
     },
     "execution_count": 309,
     "metadata": {},
     "output_type": "execute_result"
    }
   ],
   "source": [
    "cristal['Subordinado a'].value_counts()"
   ]
  },
  {
   "cell_type": "code",
   "execution_count": 159,
   "metadata": {},
   "outputs": [],
   "source": [
    "cristalfarma = cristal.groupby('Ano')['Montante'].sum()"
   ]
  },
  {
   "cell_type": "code",
   "execution_count": 160,
   "metadata": {},
   "outputs": [
    {
     "data": {
      "text/plain": [
       "<matplotlib.axes._subplots.AxesSubplot at 0x1c486c80278>"
      ]
     },
     "execution_count": 160,
     "metadata": {},
     "output_type": "execute_result"
    },
    {
     "data": {
      "image/png": "[encoded data removed]",
      "text/plain": [
       "<Figure size 432x288 with 1 Axes>"
      ]
     },
     "metadata": {},
     "output_type": "display_data"
    }
   ],
   "source": [
    "cristalfarma.plot.barh()"
   ]
  },
  {
   "cell_type": "code",
   "execution_count": 161,
   "metadata": {},
   "outputs": [
    {
     "data": {
      "text/html": [
       "<div>\n",
       "<style scoped>\n",
       "    .dataframe tbody tr th:only-of-type {\n",
       "        vertical-align: middle;\n",
       "    }\n",
       "\n",
       "    .dataframe tbody tr th {\n",
       "        vertical-align: top;\n",
       "    }\n",
       "\n",
       "    .dataframe thead th {\n",
       "        text-align: right;\n",
       "    }\n",
       "</style>\n",
       "<table border=\"1\" class=\"dataframe\">\n",
       "  <thead>\n",
       "    <tr style=\"text-align: right;\">\n",
       "      <th></th>\n",
       "      <th>órgão</th>\n",
       "      <th>Subordinado a</th>\n",
       "      <th>Montante</th>\n",
       "      <th>Ano</th>\n",
       "    </tr>\n",
       "    <tr>\n",
       "      <th>Montante</th>\n",
       "      <th></th>\n",
       "      <th></th>\n",
       "      <th></th>\n",
       "      <th></th>\n",
       "    </tr>\n",
       "  </thead>\n",
       "  <tbody>\n",
       "    <tr>\n",
       "      <th>22</th>\n",
       "      <td>I COMANDO AEREO REGIONAL</td>\n",
       "      <td>Ministério da Defesa</td>\n",
       "      <td>256309</td>\n",
       "      <td>2011.0</td>\n",
       "    </tr>\n",
       "    <tr>\n",
       "      <th>23</th>\n",
       "      <td>I COMANDO AEREO REGIONAL</td>\n",
       "      <td>Ministério da Defesa</td>\n",
       "      <td>281283</td>\n",
       "      <td>2012.0</td>\n",
       "    </tr>\n",
       "    <tr>\n",
       "      <th>24</th>\n",
       "      <td>I COMANDO AEREO REGIONAL</td>\n",
       "      <td>Ministério da Defesa</td>\n",
       "      <td>116102</td>\n",
       "      <td>2013.0</td>\n",
       "    </tr>\n",
       "    <tr>\n",
       "      <th>58</th>\n",
       "      <td>HOSPITAL GERAL DE BELEM</td>\n",
       "      <td>Ministério da Defesa</td>\n",
       "      <td>45150</td>\n",
       "      <td>2014.0</td>\n",
       "    </tr>\n",
       "    <tr>\n",
       "      <th>37</th>\n",
       "      <td>HOSPITAL GERAL DE BELEM</td>\n",
       "      <td>Ministério da Defesa</td>\n",
       "      <td>34187</td>\n",
       "      <td>2015.0</td>\n",
       "    </tr>\n",
       "    <tr>\n",
       "      <th>27</th>\n",
       "      <td>I COMANDO AEREO REGIONAL</td>\n",
       "      <td>Ministério da Defesa</td>\n",
       "      <td>110081</td>\n",
       "      <td>2016.0</td>\n",
       "    </tr>\n",
       "    <tr>\n",
       "      <th>8</th>\n",
       "      <td>HOSPITAL UNIVERSITARIO JOAO DE BARROS BARRETO</td>\n",
       "      <td>Ministério da Educação</td>\n",
       "      <td>272753</td>\n",
       "      <td>2017.0</td>\n",
       "    </tr>\n",
       "  </tbody>\n",
       "</table>\n",
       "</div>"
      ],
      "text/plain": [
       "                                                  órgão  \\\n",
       "Montante                                                  \n",
       "22                             I COMANDO AEREO REGIONAL   \n",
       "23                             I COMANDO AEREO REGIONAL   \n",
       "24                             I COMANDO AEREO REGIONAL   \n",
       "58                              HOSPITAL GERAL DE BELEM   \n",
       "37                              HOSPITAL GERAL DE BELEM   \n",
       "27                             I COMANDO AEREO REGIONAL   \n",
       "8         HOSPITAL UNIVERSITARIO JOAO DE BARROS BARRETO   \n",
       "\n",
       "                   Subordinado a  Montante     Ano  \n",
       "Montante                                            \n",
       "22          Ministério da Defesa    256309  2011.0  \n",
       "23          Ministério da Defesa    281283  2012.0  \n",
       "24          Ministério da Defesa    116102  2013.0  \n",
       "58          Ministério da Defesa     45150  2014.0  \n",
       "37          Ministério da Defesa     34187  2015.0  \n",
       "27          Ministério da Defesa    110081  2016.0  \n",
       "8         Ministério da Educação    272753  2017.0  "
      ]
     },
     "execution_count": 161,
     "metadata": {},
     "output_type": "execute_result"
    }
   ],
   "source": [
    "cristal.reindex(cristal.groupby('Ano')['Montante'].idxmax())"
   ]
  },
  {
   "cell_type": "code",
   "execution_count": 162,
   "metadata": {},
   "outputs": [
    {
     "data": {
      "text/html": [
       "<div>\n",
       "<style scoped>\n",
       "    .dataframe tbody tr th:only-of-type {\n",
       "        vertical-align: middle;\n",
       "    }\n",
       "\n",
       "    .dataframe tbody tr th {\n",
       "        vertical-align: top;\n",
       "    }\n",
       "\n",
       "    .dataframe thead th {\n",
       "        text-align: right;\n",
       "    }\n",
       "</style>\n",
       "<table border=\"1\" class=\"dataframe\">\n",
       "  <thead>\n",
       "    <tr style=\"text-align: right;\">\n",
       "      <th></th>\n",
       "      <th>órgão</th>\n",
       "      <th>Subordinado a</th>\n",
       "      <th>Montante</th>\n",
       "      <th>Ano</th>\n",
       "    </tr>\n",
       "  </thead>\n",
       "  <tbody>\n",
       "    <tr>\n",
       "      <th>23</th>\n",
       "      <td>I COMANDO AEREO REGIONAL</td>\n",
       "      <td>Ministério da Defesa</td>\n",
       "      <td>281283</td>\n",
       "      <td>2012.0</td>\n",
       "    </tr>\n",
       "    <tr>\n",
       "      <th>8</th>\n",
       "      <td>HOSPITAL UNIVERSITARIO JOAO DE BARROS BARRETO</td>\n",
       "      <td>Ministério da Educação</td>\n",
       "      <td>272753</td>\n",
       "      <td>2017.0</td>\n",
       "    </tr>\n",
       "    <tr>\n",
       "      <th>22</th>\n",
       "      <td>I COMANDO AEREO REGIONAL</td>\n",
       "      <td>Ministério da Defesa</td>\n",
       "      <td>256309</td>\n",
       "      <td>2011.0</td>\n",
       "    </tr>\n",
       "    <tr>\n",
       "      <th>50</th>\n",
       "      <td>HOSPITAL NAVAL DE BELEM</td>\n",
       "      <td>Ministério da Defesa</td>\n",
       "      <td>132728</td>\n",
       "      <td>2012.0</td>\n",
       "    </tr>\n",
       "    <tr>\n",
       "      <th>55</th>\n",
       "      <td>HOSPITAL NAVAL DE BELEM</td>\n",
       "      <td>Ministério da Defesa</td>\n",
       "      <td>123031</td>\n",
       "      <td>2017.0</td>\n",
       "    </tr>\n",
       "  </tbody>\n",
       "</table>\n",
       "</div>"
      ],
      "text/plain": [
       "                                            órgão           Subordinado a  \\\n",
       "23                       I COMANDO AEREO REGIONAL    Ministério da Defesa   \n",
       "8   HOSPITAL UNIVERSITARIO JOAO DE BARROS BARRETO  Ministério da Educação   \n",
       "22                       I COMANDO AEREO REGIONAL    Ministério da Defesa   \n",
       "50                        HOSPITAL NAVAL DE BELEM    Ministério da Defesa   \n",
       "55                        HOSPITAL NAVAL DE BELEM    Ministério da Defesa   \n",
       "\n",
       "    Montante     Ano  \n",
       "23    281283  2012.0  \n",
       "8     272753  2017.0  \n",
       "22    256309  2011.0  \n",
       "50    132728  2012.0  \n",
       "55    123031  2017.0  "
      ]
     },
     "execution_count": 162,
     "metadata": {},
     "output_type": "execute_result"
    }
   ],
   "source": [
    "cristal.nlargest(5, 'Montante')"
   ]
  },
  {
   "cell_type": "code",
   "execution_count": 163,
   "metadata": {},
   "outputs": [
    {
     "data": {
      "text/plain": [
       "HOSPITAL GERAL DE BELEM                          11\n",
       "HOSPITAL NAVAL DE BELEM                          11\n",
       "HOSPITAL UNIVERSITARIO JOAO DE BARROS BARRETO     7\n",
       "HOSPITAL DA GUARNICAO DE MARABA                   7\n",
       "I COMANDO AEREO REGIONAL                          6\n",
       "INSTITUTO EVANDRO CHAGAS                          4\n",
       "CENTRO DE INTENDENCIA DA MARINHA EM BELEM         3\n",
       "COMISSAO DE AEROPORTOS DA REGIAO AMAZONICA        3\n",
       "HOSPITAL UNIVERSITARIO BETTINA FERRO DE SOUZA     3\n",
       "HOSPITAL MILITAR DE AREA DE MANAUS                2\n",
       "HOSPITAL UNIVERSITARIO                            2\n",
       "VII COMANDO AEREO REGIONAL                        1\n",
       "2 BATALHAO DE INFANTARIA DE SELVA                 1\n",
       "FUNDACAO NACIONAL DE SAUDE - PA                   1\n",
       "HOSPITAL UNIVERSITARIO (HU/UFGD)                  1\n",
       "CENTRO DE LANCAMENTO DE ALCANTARA                 1\n",
       "1 GRUPO DE ARTILHARIA DE CAMPANHA DE SELVA        1\n",
       "51 BATALHAO DE INFANTARIA DE SELVA                1\n",
       "UNIVERSIDADE FEDERAL RURAL DA AMAZONIA            1\n",
       "8. DEPOSITO DE SUPRIMENTO                         1\n",
       "DISTRITO SANIT.ESP.INDIGENA GUAMA TOCANTINS       1\n",
       "Name: órgão, dtype: int64"
      ]
     },
     "execution_count": 163,
     "metadata": {},
     "output_type": "execute_result"
    }
   ],
   "source": [
    "cristal['órgão'].value_counts()"
   ]
  },
  {
   "cell_type": "code",
   "execution_count": 164,
   "metadata": {},
   "outputs": [
    {
     "data": {
      "text/plain": [
       "Ministério da Defesa      49\n",
       "Ministério da Educação    15\n",
       "Ministério da Saúde        6\n",
       "Name: Subordinado a, dtype: int64"
      ]
     },
     "execution_count": 164,
     "metadata": {},
     "output_type": "execute_result"
    }
   ],
   "source": [
    "cristal['Subordinado a'].value_counts()"
   ]
  },
  {
   "cell_type": "code",
   "execution_count": 165,
   "metadata": {},
   "outputs": [
    {
     "data": {
      "text/html": [
       "<div>\n",
       "<style scoped>\n",
       "    .dataframe tbody tr th:only-of-type {\n",
       "        vertical-align: middle;\n",
       "    }\n",
       "\n",
       "    .dataframe tbody tr th {\n",
       "        vertical-align: top;\n",
       "    }\n",
       "\n",
       "    .dataframe thead th {\n",
       "        text-align: right;\n",
       "    }\n",
       "</style>\n",
       "<table border=\"1\" class=\"dataframe\">\n",
       "  <thead>\n",
       "    <tr style=\"text-align: right;\">\n",
       "      <th></th>\n",
       "      <th>Subordinado a</th>\n",
       "      <th>Montante</th>\n",
       "    </tr>\n",
       "  </thead>\n",
       "  <tbody>\n",
       "    <tr>\n",
       "      <th>0</th>\n",
       "      <td>Ministério da Defesa</td>\n",
       "      <td>1608076</td>\n",
       "    </tr>\n",
       "    <tr>\n",
       "      <th>1</th>\n",
       "      <td>Ministério da Educação</td>\n",
       "      <td>606757</td>\n",
       "    </tr>\n",
       "    <tr>\n",
       "      <th>2</th>\n",
       "      <td>Ministério da Saúde</td>\n",
       "      <td>61697</td>\n",
       "    </tr>\n",
       "  </tbody>\n",
       "</table>\n",
       "</div>"
      ],
      "text/plain": [
       "            Subordinado a  Montante\n",
       "0    Ministério da Defesa   1608076\n",
       "1  Ministério da Educação    606757\n",
       "2     Ministério da Saúde     61697"
      ]
     },
     "execution_count": 165,
     "metadata": {},
     "output_type": "execute_result"
    }
   ],
   "source": [
    "cristal.groupby('Subordinado a')['Montante'].sum().reset_index() "
   ]
  },
  {
   "cell_type": "code",
   "execution_count": 166,
   "metadata": {},
   "outputs": [
    {
     "data": {
      "text/html": [
       "<div>\n",
       "<style scoped>\n",
       "    .dataframe tbody tr th:only-of-type {\n",
       "        vertical-align: middle;\n",
       "    }\n",
       "\n",
       "    .dataframe tbody tr th {\n",
       "        vertical-align: top;\n",
       "    }\n",
       "\n",
       "    .dataframe thead th {\n",
       "        text-align: right;\n",
       "    }\n",
       "</style>\n",
       "<table border=\"1\" class=\"dataframe\">\n",
       "  <thead>\n",
       "    <tr style=\"text-align: right;\">\n",
       "      <th></th>\n",
       "      <th>órgão</th>\n",
       "      <th>Montante</th>\n",
       "    </tr>\n",
       "  </thead>\n",
       "  <tbody>\n",
       "    <tr>\n",
       "      <th>0</th>\n",
       "      <td>1 GRUPO DE ARTILHARIA DE CAMPANHA DE SELVA</td>\n",
       "      <td>54</td>\n",
       "    </tr>\n",
       "    <tr>\n",
       "      <th>1</th>\n",
       "      <td>2 BATALHAO DE INFANTARIA DE SELVA</td>\n",
       "      <td>5101</td>\n",
       "    </tr>\n",
       "    <tr>\n",
       "      <th>2</th>\n",
       "      <td>51 BATALHAO DE INFANTARIA DE SELVA</td>\n",
       "      <td>2745</td>\n",
       "    </tr>\n",
       "    <tr>\n",
       "      <th>3</th>\n",
       "      <td>8. DEPOSITO DE SUPRIMENTO</td>\n",
       "      <td>4762</td>\n",
       "    </tr>\n",
       "    <tr>\n",
       "      <th>4</th>\n",
       "      <td>CENTRO DE INTENDENCIA DA MARINHA EM BELEM</td>\n",
       "      <td>15951</td>\n",
       "    </tr>\n",
       "    <tr>\n",
       "      <th>5</th>\n",
       "      <td>CENTRO DE LANCAMENTO DE ALCANTARA</td>\n",
       "      <td>17716</td>\n",
       "    </tr>\n",
       "    <tr>\n",
       "      <th>6</th>\n",
       "      <td>COMISSAO DE AEROPORTOS DA REGIAO AMAZONICA</td>\n",
       "      <td>13386</td>\n",
       "    </tr>\n",
       "    <tr>\n",
       "      <th>7</th>\n",
       "      <td>DISTRITO SANIT.ESP.INDIGENA GUAMA TOCANTINS</td>\n",
       "      <td>24571</td>\n",
       "    </tr>\n",
       "    <tr>\n",
       "      <th>8</th>\n",
       "      <td>FUNDACAO NACIONAL DE SAUDE - PA</td>\n",
       "      <td>6058</td>\n",
       "    </tr>\n",
       "    <tr>\n",
       "      <th>9</th>\n",
       "      <td>HOSPITAL DA GUARNICAO DE MARABA</td>\n",
       "      <td>16622</td>\n",
       "    </tr>\n",
       "    <tr>\n",
       "      <th>10</th>\n",
       "      <td>HOSPITAL GERAL DE BELEM</td>\n",
       "      <td>329004</td>\n",
       "    </tr>\n",
       "    <tr>\n",
       "      <th>11</th>\n",
       "      <td>HOSPITAL MILITAR DE AREA DE MANAUS</td>\n",
       "      <td>23484</td>\n",
       "    </tr>\n",
       "    <tr>\n",
       "      <th>12</th>\n",
       "      <td>HOSPITAL NAVAL DE BELEM</td>\n",
       "      <td>389095</td>\n",
       "    </tr>\n",
       "    <tr>\n",
       "      <th>13</th>\n",
       "      <td>HOSPITAL UNIVERSITARIO</td>\n",
       "      <td>40096</td>\n",
       "    </tr>\n",
       "    <tr>\n",
       "      <th>14</th>\n",
       "      <td>HOSPITAL UNIVERSITARIO (HU/UFGD)</td>\n",
       "      <td>38932</td>\n",
       "    </tr>\n",
       "    <tr>\n",
       "      <th>15</th>\n",
       "      <td>HOSPITAL UNIVERSITARIO BETTINA FERRO DE SOUZA</td>\n",
       "      <td>108953</td>\n",
       "    </tr>\n",
       "    <tr>\n",
       "      <th>16</th>\n",
       "      <td>HOSPITAL UNIVERSITARIO JOAO DE BARROS BARRETO</td>\n",
       "      <td>404428</td>\n",
       "    </tr>\n",
       "    <tr>\n",
       "      <th>17</th>\n",
       "      <td>I COMANDO AEREO REGIONAL</td>\n",
       "      <td>789827</td>\n",
       "    </tr>\n",
       "    <tr>\n",
       "      <th>18</th>\n",
       "      <td>INSTITUTO EVANDRO CHAGAS</td>\n",
       "      <td>31068</td>\n",
       "    </tr>\n",
       "    <tr>\n",
       "      <th>19</th>\n",
       "      <td>UNIVERSIDADE FEDERAL RURAL DA AMAZONIA</td>\n",
       "      <td>7174</td>\n",
       "    </tr>\n",
       "    <tr>\n",
       "      <th>20</th>\n",
       "      <td>VII COMANDO AEREO REGIONAL</td>\n",
       "      <td>329</td>\n",
       "    </tr>\n",
       "  </tbody>\n",
       "</table>\n",
       "</div>"
      ],
      "text/plain": [
       "                                            órgão  Montante\n",
       "0      1 GRUPO DE ARTILHARIA DE CAMPANHA DE SELVA        54\n",
       "1               2 BATALHAO DE INFANTARIA DE SELVA      5101\n",
       "2              51 BATALHAO DE INFANTARIA DE SELVA      2745\n",
       "3                       8. DEPOSITO DE SUPRIMENTO      4762\n",
       "4       CENTRO DE INTENDENCIA DA MARINHA EM BELEM     15951\n",
       "5               CENTRO DE LANCAMENTO DE ALCANTARA     17716\n",
       "6      COMISSAO DE AEROPORTOS DA REGIAO AMAZONICA     13386\n",
       "7     DISTRITO SANIT.ESP.INDIGENA GUAMA TOCANTINS     24571\n",
       "8                 FUNDACAO NACIONAL DE SAUDE - PA      6058\n",
       "9                 HOSPITAL DA GUARNICAO DE MARABA     16622\n",
       "10                        HOSPITAL GERAL DE BELEM    329004\n",
       "11             HOSPITAL MILITAR DE AREA DE MANAUS     23484\n",
       "12                        HOSPITAL NAVAL DE BELEM    389095\n",
       "13                         HOSPITAL UNIVERSITARIO     40096\n",
       "14               HOSPITAL UNIVERSITARIO (HU/UFGD)     38932\n",
       "15  HOSPITAL UNIVERSITARIO BETTINA FERRO DE SOUZA    108953\n",
       "16  HOSPITAL UNIVERSITARIO JOAO DE BARROS BARRETO    404428\n",
       "17                       I COMANDO AEREO REGIONAL    789827\n",
       "18                       INSTITUTO EVANDRO CHAGAS     31068\n",
       "19         UNIVERSIDADE FEDERAL RURAL DA AMAZONIA      7174\n",
       "20                     VII COMANDO AEREO REGIONAL       329"
      ]
     },
     "execution_count": 166,
     "metadata": {},
     "output_type": "execute_result"
    }
   ],
   "source": [
    "cristal.groupby('órgão')['Montante'].sum().reset_index() "
   ]
  },
  {
   "cell_type": "code",
   "execution_count": 167,
   "metadata": {},
   "outputs": [
    {
     "data": {
      "text/html": [
       "<div>\n",
       "<style scoped>\n",
       "    .dataframe tbody tr th:only-of-type {\n",
       "        vertical-align: middle;\n",
       "    }\n",
       "\n",
       "    .dataframe tbody tr th {\n",
       "        vertical-align: top;\n",
       "    }\n",
       "\n",
       "    .dataframe thead th {\n",
       "        text-align: right;\n",
       "    }\n",
       "</style>\n",
       "<table border=\"1\" class=\"dataframe\">\n",
       "  <thead>\n",
       "    <tr style=\"text-align: right;\">\n",
       "      <th></th>\n",
       "      <th>órgão</th>\n",
       "      <th>Subordinado a</th>\n",
       "      <th>Montante</th>\n",
       "      <th>Ano</th>\n",
       "    </tr>\n",
       "  </thead>\n",
       "  <tbody>\n",
       "    <tr>\n",
       "      <th>23</th>\n",
       "      <td>I COMANDO AEREO REGIONAL</td>\n",
       "      <td>Ministério da Defesa</td>\n",
       "      <td>281283</td>\n",
       "      <td>2012.0</td>\n",
       "    </tr>\n",
       "  </tbody>\n",
       "</table>\n",
       "</div>"
      ],
      "text/plain": [
       "                       órgão         Subordinado a  Montante     Ano\n",
       "23  I COMANDO AEREO REGIONAL  Ministério da Defesa    281283  2012.0"
      ]
     },
     "execution_count": 167,
     "metadata": {},
     "output_type": "execute_result"
    }
   ],
   "source": [
    "cristal[cristal['Montante'] == cristal['Montante'].max()]"
   ]
  },
  {
   "cell_type": "code",
   "execution_count": 168,
   "metadata": {},
   "outputs": [
    {
     "data": {
      "text/plain": [
       "2276530"
      ]
     },
     "execution_count": 168,
     "metadata": {},
     "output_type": "execute_result"
    }
   ],
   "source": [
    "cristal['Montante'].sum()"
   ]
  },
  {
   "cell_type": "code",
   "execution_count": 169,
   "metadata": {},
   "outputs": [
    {
     "data": {
      "text/plain": [
       "array(['Ministério da Educação', 'Ministério da Saúde',\n",
       "       'Ministério da Defesa'], dtype=object)"
      ]
     },
     "execution_count": 169,
     "metadata": {},
     "output_type": "execute_result"
    }
   ],
   "source": [
    "cristal['Subordinado a'].unique()"
   ]
  },
  {
   "cell_type": "code",
   "execution_count": 170,
   "metadata": {},
   "outputs": [
    {
     "data": {
      "text/html": [
       "<div>\n",
       "<style scoped>\n",
       "    .dataframe tbody tr th:only-of-type {\n",
       "        vertical-align: middle;\n",
       "    }\n",
       "\n",
       "    .dataframe tbody tr th {\n",
       "        vertical-align: top;\n",
       "    }\n",
       "\n",
       "    .dataframe thead th {\n",
       "        text-align: right;\n",
       "    }\n",
       "</style>\n",
       "<table border=\"1\" class=\"dataframe\">\n",
       "  <thead>\n",
       "    <tr style=\"text-align: right;\">\n",
       "      <th></th>\n",
       "      <th>órgão</th>\n",
       "      <th>Subordinado a</th>\n",
       "      <th>Montante</th>\n",
       "      <th>Ano</th>\n",
       "    </tr>\n",
       "  </thead>\n",
       "  <tbody>\n",
       "    <tr>\n",
       "      <th>8</th>\n",
       "      <td>HOSPITAL UNIVERSITARIO JOAO DE BARROS BARRETO</td>\n",
       "      <td>Ministério da Educação</td>\n",
       "      <td>272753</td>\n",
       "      <td>2017.0</td>\n",
       "    </tr>\n",
       "    <tr>\n",
       "      <th>22</th>\n",
       "      <td>I COMANDO AEREO REGIONAL</td>\n",
       "      <td>Ministério da Defesa</td>\n",
       "      <td>256309</td>\n",
       "      <td>2011.0</td>\n",
       "    </tr>\n",
       "    <tr>\n",
       "      <th>23</th>\n",
       "      <td>I COMANDO AEREO REGIONAL</td>\n",
       "      <td>Ministério da Defesa</td>\n",
       "      <td>281283</td>\n",
       "      <td>2012.0</td>\n",
       "    </tr>\n",
       "  </tbody>\n",
       "</table>\n",
       "</div>"
      ],
      "text/plain": [
       "                                            órgão           Subordinado a  \\\n",
       "8   HOSPITAL UNIVERSITARIO JOAO DE BARROS BARRETO  Ministério da Educação   \n",
       "22                       I COMANDO AEREO REGIONAL    Ministério da Defesa   \n",
       "23                       I COMANDO AEREO REGIONAL    Ministério da Defesa   \n",
       "\n",
       "    Montante     Ano  \n",
       "8     272753  2017.0  \n",
       "22    256309  2011.0  \n",
       "23    281283  2012.0  "
      ]
     },
     "execution_count": 170,
     "metadata": {},
     "output_type": "execute_result"
    }
   ],
   "source": [
    "acima_cristal = cristal[(cristal['Montante'] > 200000.0)]\n",
    "acima_cristal"
   ]
  },
  {
   "cell_type": "code",
   "execution_count": 171,
   "metadata": {},
   "outputs": [
    {
     "name": "stdout",
     "output_type": "stream",
     "text": [
      "<class 'pandas.core.frame.DataFrame'>\n",
      "RangeIndex: 1613 entries, 0 to 1612\n",
      "Data columns (total 4 columns):\n",
      "órgão            1613 non-null object\n",
      "Subordinado a    1613 non-null object\n",
      "Montante         1613 non-null int64\n",
      "Ano              1613 non-null int64\n",
      "dtypes: int64(2), object(2)\n",
      "memory usage: 50.5+ KB\n"
     ]
    }
   ],
   "source": [
    "#Pagamentos feitos pelo governo federal Atualizados pelo IPCA.\n",
    "#CRISTALIA PRODUTOS QUIMICOS FARMACEUTICOS LTDA 44.734.671/0001-51 \n",
    "\n",
    "cristalia = pd.read_csv('pagto_cristalia.csv')\n",
    "cristalia.info()\n"
   ]
  },
  {
   "cell_type": "code",
   "execution_count": 310,
   "metadata": {},
   "outputs": [
    {
     "data": {
      "text/plain": [
       "1820247396"
      ]
     },
     "execution_count": 310,
     "metadata": {},
     "output_type": "execute_result"
    }
   ],
   "source": [
    "cristalia['Montante'].sum()"
   ]
  },
  {
   "cell_type": "code",
   "execution_count": 311,
   "metadata": {},
   "outputs": [
    {
     "data": {
      "text/plain": [
       "1613"
      ]
     },
     "execution_count": 311,
     "metadata": {},
     "output_type": "execute_result"
    }
   ],
   "source": [
    "cristalia['órgão'].count()"
   ]
  },
  {
   "cell_type": "code",
   "execution_count": 316,
   "metadata": {},
   "outputs": [
    {
     "data": {
      "text/plain": [
       "array(['Presidência da República', 'Ministério da Ciência e Tecnologia',\n",
       "       'Transferências a Estados, Distrito Federal e Municípios',\n",
       "       'Ministério da Educação', 'Ministério da Saúde',\n",
       "       'Ministério do Meio Ambiente', 'Ministério da Defesa',\n",
       "       'Órgão Genérico Geratriz'], dtype=object)"
      ]
     },
     "execution_count": 316,
     "metadata": {},
     "output_type": "execute_result"
    }
   ],
   "source": [
    "cristalia['Subordinado a'].unique()"
   ]
  },
  {
   "cell_type": "code",
   "execution_count": 175,
   "metadata": {},
   "outputs": [
    {
     "data": {
      "text/html": [
       "<div>\n",
       "<style scoped>\n",
       "    .dataframe tbody tr th:only-of-type {\n",
       "        vertical-align: middle;\n",
       "    }\n",
       "\n",
       "    .dataframe tbody tr th {\n",
       "        vertical-align: top;\n",
       "    }\n",
       "\n",
       "    .dataframe thead th {\n",
       "        text-align: right;\n",
       "    }\n",
       "</style>\n",
       "<table border=\"1\" class=\"dataframe\">\n",
       "  <thead>\n",
       "    <tr style=\"text-align: right;\">\n",
       "      <th></th>\n",
       "      <th>órgão</th>\n",
       "      <th>Subordinado a</th>\n",
       "      <th>Montante</th>\n",
       "      <th>Ano</th>\n",
       "    </tr>\n",
       "    <tr>\n",
       "      <th>Montante</th>\n",
       "      <th></th>\n",
       "      <th></th>\n",
       "      <th></th>\n",
       "      <th></th>\n",
       "    </tr>\n",
       "  </thead>\n",
       "  <tbody>\n",
       "    <tr>\n",
       "      <th>445</th>\n",
       "      <td>INSTITUTO DE TECNOLOGIA EM FARMACOS</td>\n",
       "      <td>Ministério da Saúde</td>\n",
       "      <td>17053601</td>\n",
       "      <td>2011</td>\n",
       "    </tr>\n",
       "    <tr>\n",
       "      <th>446</th>\n",
       "      <td>INSTITUTO DE TECNOLOGIA EM FARMACOS</td>\n",
       "      <td>Ministério da Saúde</td>\n",
       "      <td>29142517</td>\n",
       "      <td>2012</td>\n",
       "    </tr>\n",
       "    <tr>\n",
       "      <th>481</th>\n",
       "      <td>DEPARTAMENTO DE LOGISTICA EM SAUDE - DLOG</td>\n",
       "      <td>Ministério da Saúde</td>\n",
       "      <td>39849110</td>\n",
       "      <td>2013</td>\n",
       "    </tr>\n",
       "    <tr>\n",
       "      <th>448</th>\n",
       "      <td>INSTITUTO DE TECNOLOGIA EM FARMACOS</td>\n",
       "      <td>Ministério da Saúde</td>\n",
       "      <td>144385783</td>\n",
       "      <td>2014</td>\n",
       "    </tr>\n",
       "    <tr>\n",
       "      <th>449</th>\n",
       "      <td>INSTITUTO DE TECNOLOGIA EM FARMACOS</td>\n",
       "      <td>Ministério da Saúde</td>\n",
       "      <td>151810745</td>\n",
       "      <td>2015</td>\n",
       "    </tr>\n",
       "    <tr>\n",
       "      <th>484</th>\n",
       "      <td>DEPARTAMENTO DE LOGISTICA EM SAUDE - DLOG</td>\n",
       "      <td>Ministério da Saúde</td>\n",
       "      <td>75605456</td>\n",
       "      <td>2016</td>\n",
       "    </tr>\n",
       "    <tr>\n",
       "      <th>451</th>\n",
       "      <td>INSTITUTO DE TECNOLOGIA EM FARMACOS</td>\n",
       "      <td>Ministério da Saúde</td>\n",
       "      <td>515093556</td>\n",
       "      <td>2017</td>\n",
       "    </tr>\n",
       "  </tbody>\n",
       "</table>\n",
       "</div>"
      ],
      "text/plain": [
       "                                              órgão        Subordinado a  \\\n",
       "Montante                                                                   \n",
       "445             INSTITUTO DE TECNOLOGIA EM FARMACOS  Ministério da Saúde   \n",
       "446             INSTITUTO DE TECNOLOGIA EM FARMACOS  Ministério da Saúde   \n",
       "481       DEPARTAMENTO DE LOGISTICA EM SAUDE - DLOG  Ministério da Saúde   \n",
       "448             INSTITUTO DE TECNOLOGIA EM FARMACOS  Ministério da Saúde   \n",
       "449             INSTITUTO DE TECNOLOGIA EM FARMACOS  Ministério da Saúde   \n",
       "484       DEPARTAMENTO DE LOGISTICA EM SAUDE - DLOG  Ministério da Saúde   \n",
       "451             INSTITUTO DE TECNOLOGIA EM FARMACOS  Ministério da Saúde   \n",
       "\n",
       "           Montante   Ano  \n",
       "Montante                   \n",
       "445        17053601  2011  \n",
       "446        29142517  2012  \n",
       "481        39849110  2013  \n",
       "448       144385783  2014  \n",
       "449       151810745  2015  \n",
       "484        75605456  2016  \n",
       "451       515093556  2017  "
      ]
     },
     "execution_count": 175,
     "metadata": {},
     "output_type": "execute_result"
    }
   ],
   "source": [
    "cristalia.reindex(cristalia.groupby('Ano')['Montante'].idxmax())"
   ]
  },
  {
   "cell_type": "code",
   "execution_count": 176,
   "metadata": {},
   "outputs": [
    {
     "data": {
      "text/plain": [
       "343781360"
      ]
     },
     "execution_count": 176,
     "metadata": {},
     "output_type": "execute_result"
    }
   ],
   "source": [
    "# DEPARTAMENTO DE LOGISTICA EM SAUDE - DLOG também mantém contratos com a Cristalia e recebeu \n",
    "\n",
    "cristalia[cristalia['órgão'] == 'DEPARTAMENTO DE LOGISTICA EM SAUDE - DLOG'].Montante.sum() "
   ]
  },
  {
   "cell_type": "code",
   "execution_count": 177,
   "metadata": {},
   "outputs": [
    {
     "data": {
      "text/plain": [
       "515093556"
      ]
     },
     "execution_count": 177,
     "metadata": {},
     "output_type": "execute_result"
    }
   ],
   "source": [
    "cristalia['Montante'].max()"
   ]
  },
  {
   "cell_type": "code",
   "execution_count": 178,
   "metadata": {},
   "outputs": [
    {
     "data": {
      "text/plain": [
       "1820247396"
      ]
     },
     "execution_count": 178,
     "metadata": {},
     "output_type": "execute_result"
    }
   ],
   "source": [
    "cristalia['Montante'].sum()"
   ]
  },
  {
   "cell_type": "code",
   "execution_count": 179,
   "metadata": {},
   "outputs": [
    {
     "data": {
      "text/plain": [
       "'VII COMANDO AEREO REGIONAL'"
      ]
     },
     "execution_count": 179,
     "metadata": {},
     "output_type": "execute_result"
    }
   ],
   "source": [
    "cristalia['órgão'].max()"
   ]
  },
  {
   "cell_type": "code",
   "execution_count": 180,
   "metadata": {},
   "outputs": [
    {
     "data": {
      "text/plain": [
       "'Órgão Genérico Geratriz'"
      ]
     },
     "execution_count": 180,
     "metadata": {},
     "output_type": "execute_result"
    }
   ],
   "source": [
    "cristalia['Subordinado a'].max()"
   ]
  },
  {
   "cell_type": "code",
   "execution_count": 181,
   "metadata": {},
   "outputs": [
    {
     "data": {
      "text/plain": [
       "Ano\n",
       "2011      58350625\n",
       "2012      80715907\n",
       "2013     101037007\n",
       "2014     202813183\n",
       "2015     193179683\n",
       "2016     179581940\n",
       "2017    1004569051\n",
       "Name: Montante, dtype: int64"
      ]
     },
     "execution_count": 181,
     "metadata": {},
     "output_type": "execute_result"
    }
   ],
   "source": [
    "cristalia.groupby('Ano')['Montante'].sum()\n"
   ]
  },
  {
   "cell_type": "code",
   "execution_count": 182,
   "metadata": {},
   "outputs": [
    {
     "data": {
      "text/plain": [
       "<matplotlib.axes._subplots.AxesSubplot at 0x1c486d1cc18>"
      ]
     },
     "execution_count": 182,
     "metadata": {},
     "output_type": "execute_result"
    },
    {
     "data": {
      "image/png": "[encoded data removed]",
      "text/plain": [
       "<Figure size 432x288 with 1 Axes>"
      ]
     },
     "metadata": {},
     "output_type": "display_data"
    }
   ],
   "source": [
    "fat = cristalia.groupby('Ano')['Montante'].sum()\n",
    "fat.plot.bar()"
   ]
  },
  {
   "cell_type": "code",
   "execution_count": 183,
   "metadata": {},
   "outputs": [
    {
     "data": {
      "text/plain": [
       "Ano\n",
       "2011     17053601\n",
       "2012     29142517\n",
       "2013     39849110\n",
       "2014    144385783\n",
       "2015    151810745\n",
       "2016     75605456\n",
       "2017    515093556\n",
       "Name: Montante, dtype: int64"
      ]
     },
     "execution_count": 183,
     "metadata": {},
     "output_type": "execute_result"
    }
   ],
   "source": [
    "cristalia.groupby('Ano')['Montante'].max()"
   ]
  },
  {
   "cell_type": "code",
   "execution_count": 184,
   "metadata": {},
   "outputs": [
    {
     "data": {
      "text/plain": [
       "<matplotlib.axes._subplots.AxesSubplot at 0x1c486d81ba8>"
      ]
     },
     "execution_count": 184,
     "metadata": {},
     "output_type": "execute_result"
    },
    {
     "data": {
      "image/png": "[encoded data removed]",
      "text/plain": [
       "<Figure size 432x288 with 1 Axes>"
      ]
     },
     "metadata": {},
     "output_type": "display_data"
    }
   ],
   "source": [
    "total = cristalia.groupby('Ano')['Montante'].max()\n",
    "total.plot.bar()"
   ]
  },
  {
   "cell_type": "code",
   "execution_count": 185,
   "metadata": {},
   "outputs": [
    {
     "data": {
      "text/plain": [
       "órgão            23\n",
       "Subordinado a    23\n",
       "Montante         23\n",
       "Ano              23\n",
       "dtype: int64"
      ]
     },
     "execution_count": 185,
     "metadata": {},
     "output_type": "execute_result"
    }
   ],
   "source": [
    "\n",
    "cristalia[(cristalia['Montante'] > 5000000.0)].count()"
   ]
  },
  {
   "cell_type": "code",
   "execution_count": 186,
   "metadata": {},
   "outputs": [
    {
     "data": {
      "text/html": [
       "<div>\n",
       "<style scoped>\n",
       "    .dataframe tbody tr th:only-of-type {\n",
       "        vertical-align: middle;\n",
       "    }\n",
       "\n",
       "    .dataframe tbody tr th {\n",
       "        vertical-align: top;\n",
       "    }\n",
       "\n",
       "    .dataframe thead th {\n",
       "        text-align: right;\n",
       "    }\n",
       "</style>\n",
       "<table border=\"1\" class=\"dataframe\">\n",
       "  <thead>\n",
       "    <tr style=\"text-align: right;\">\n",
       "      <th></th>\n",
       "      <th>órgão</th>\n",
       "      <th>Subordinado a</th>\n",
       "      <th>Montante</th>\n",
       "      <th>Ano</th>\n",
       "    </tr>\n",
       "  </thead>\n",
       "  <tbody>\n",
       "    <tr>\n",
       "      <th>280</th>\n",
       "      <td>HOSPITAL DE CLINICAS DE PORTO ALEGRE</td>\n",
       "      <td>Ministério da Educação</td>\n",
       "      <td>16184752</td>\n",
       "      <td>2017</td>\n",
       "    </tr>\n",
       "    <tr>\n",
       "      <th>445</th>\n",
       "      <td>INSTITUTO DE TECNOLOGIA EM FARMACOS</td>\n",
       "      <td>Ministério da Saúde</td>\n",
       "      <td>17053601</td>\n",
       "      <td>2011</td>\n",
       "    </tr>\n",
       "    <tr>\n",
       "      <th>446</th>\n",
       "      <td>INSTITUTO DE TECNOLOGIA EM FARMACOS</td>\n",
       "      <td>Ministério da Saúde</td>\n",
       "      <td>29142517</td>\n",
       "      <td>2012</td>\n",
       "    </tr>\n",
       "    <tr>\n",
       "      <th>447</th>\n",
       "      <td>INSTITUTO DE TECNOLOGIA EM FARMACOS</td>\n",
       "      <td>Ministério da Saúde</td>\n",
       "      <td>22128664</td>\n",
       "      <td>2013</td>\n",
       "    </tr>\n",
       "    <tr>\n",
       "      <th>448</th>\n",
       "      <td>INSTITUTO DE TECNOLOGIA EM FARMACOS</td>\n",
       "      <td>Ministério da Saúde</td>\n",
       "      <td>144385783</td>\n",
       "      <td>2014</td>\n",
       "    </tr>\n",
       "    <tr>\n",
       "      <th>449</th>\n",
       "      <td>INSTITUTO DE TECNOLOGIA EM FARMACOS</td>\n",
       "      <td>Ministério da Saúde</td>\n",
       "      <td>151810745</td>\n",
       "      <td>2015</td>\n",
       "    </tr>\n",
       "    <tr>\n",
       "      <th>450</th>\n",
       "      <td>INSTITUTO DE TECNOLOGIA EM FARMACOS</td>\n",
       "      <td>Ministério da Saúde</td>\n",
       "      <td>14700073</td>\n",
       "      <td>2016</td>\n",
       "    </tr>\n",
       "    <tr>\n",
       "      <th>451</th>\n",
       "      <td>INSTITUTO DE TECNOLOGIA EM FARMACOS</td>\n",
       "      <td>Ministério da Saúde</td>\n",
       "      <td>515093556</td>\n",
       "      <td>2017</td>\n",
       "    </tr>\n",
       "    <tr>\n",
       "      <th>475</th>\n",
       "      <td>HOSPITAL NOSSA SENHORA DA CONCEICAO S/A</td>\n",
       "      <td>Ministério da Saúde</td>\n",
       "      <td>19894893</td>\n",
       "      <td>2017</td>\n",
       "    </tr>\n",
       "    <tr>\n",
       "      <th>480</th>\n",
       "      <td>DEPARTAMENTO DE LOGISTICA EM SAUDE - DLOG</td>\n",
       "      <td>Ministério da Saúde</td>\n",
       "      <td>13937642</td>\n",
       "      <td>2012</td>\n",
       "    </tr>\n",
       "    <tr>\n",
       "      <th>481</th>\n",
       "      <td>DEPARTAMENTO DE LOGISTICA EM SAUDE - DLOG</td>\n",
       "      <td>Ministério da Saúde</td>\n",
       "      <td>39849110</td>\n",
       "      <td>2013</td>\n",
       "    </tr>\n",
       "    <tr>\n",
       "      <th>482</th>\n",
       "      <td>DEPARTAMENTO DE LOGISTICA EM SAUDE - DLOG</td>\n",
       "      <td>Ministério da Saúde</td>\n",
       "      <td>21205944</td>\n",
       "      <td>2014</td>\n",
       "    </tr>\n",
       "    <tr>\n",
       "      <th>484</th>\n",
       "      <td>DEPARTAMENTO DE LOGISTICA EM SAUDE - DLOG</td>\n",
       "      <td>Ministério da Saúde</td>\n",
       "      <td>75605456</td>\n",
       "      <td>2016</td>\n",
       "    </tr>\n",
       "    <tr>\n",
       "      <th>485</th>\n",
       "      <td>DEPARTAMENTO DE LOGISTICA EM SAUDE - DLOG</td>\n",
       "      <td>Ministério da Saúde</td>\n",
       "      <td>182733683</td>\n",
       "      <td>2017</td>\n",
       "    </tr>\n",
       "    <tr>\n",
       "      <th>499</th>\n",
       "      <td>INSTITUTO NACIONAL DO CANCER - RJ</td>\n",
       "      <td>Ministério da Saúde</td>\n",
       "      <td>15198647</td>\n",
       "      <td>2017</td>\n",
       "    </tr>\n",
       "    <tr>\n",
       "      <th>995</th>\n",
       "      <td>LABORATORIO FARMACEUTICO DA MARINHA</td>\n",
       "      <td>Ministério da Defesa</td>\n",
       "      <td>50594646</td>\n",
       "      <td>2016</td>\n",
       "    </tr>\n",
       "    <tr>\n",
       "      <th>996</th>\n",
       "      <td>LABORATORIO FARMACEUTICO DA MARINHA</td>\n",
       "      <td>Ministério da Defesa</td>\n",
       "      <td>139264094</td>\n",
       "      <td>2017</td>\n",
       "    </tr>\n",
       "  </tbody>\n",
       "</table>\n",
       "</div>"
      ],
      "text/plain": [
       "                                         órgão           Subordinado a  \\\n",
       "280       HOSPITAL DE CLINICAS DE PORTO ALEGRE  Ministério da Educação   \n",
       "445        INSTITUTO DE TECNOLOGIA EM FARMACOS     Ministério da Saúde   \n",
       "446        INSTITUTO DE TECNOLOGIA EM FARMACOS     Ministério da Saúde   \n",
       "447        INSTITUTO DE TECNOLOGIA EM FARMACOS     Ministério da Saúde   \n",
       "448        INSTITUTO DE TECNOLOGIA EM FARMACOS     Ministério da Saúde   \n",
       "449        INSTITUTO DE TECNOLOGIA EM FARMACOS     Ministério da Saúde   \n",
       "450        INSTITUTO DE TECNOLOGIA EM FARMACOS     Ministério da Saúde   \n",
       "451        INSTITUTO DE TECNOLOGIA EM FARMACOS     Ministério da Saúde   \n",
       "475    HOSPITAL NOSSA SENHORA DA CONCEICAO S/A     Ministério da Saúde   \n",
       "480  DEPARTAMENTO DE LOGISTICA EM SAUDE - DLOG     Ministério da Saúde   \n",
       "481  DEPARTAMENTO DE LOGISTICA EM SAUDE - DLOG     Ministério da Saúde   \n",
       "482  DEPARTAMENTO DE LOGISTICA EM SAUDE - DLOG     Ministério da Saúde   \n",
       "484  DEPARTAMENTO DE LOGISTICA EM SAUDE - DLOG     Ministério da Saúde   \n",
       "485  DEPARTAMENTO DE LOGISTICA EM SAUDE - DLOG     Ministério da Saúde   \n",
       "499          INSTITUTO NACIONAL DO CANCER - RJ     Ministério da Saúde   \n",
       "995        LABORATORIO FARMACEUTICO DA MARINHA    Ministério da Defesa   \n",
       "996        LABORATORIO FARMACEUTICO DA MARINHA    Ministério da Defesa   \n",
       "\n",
       "      Montante   Ano  \n",
       "280   16184752  2017  \n",
       "445   17053601  2011  \n",
       "446   29142517  2012  \n",
       "447   22128664  2013  \n",
       "448  144385783  2014  \n",
       "449  151810745  2015  \n",
       "450   14700073  2016  \n",
       "451  515093556  2017  \n",
       "475   19894893  2017  \n",
       "480   13937642  2012  \n",
       "481   39849110  2013  \n",
       "482   21205944  2014  \n",
       "484   75605456  2016  \n",
       "485  182733683  2017  \n",
       "499   15198647  2017  \n",
       "995   50594646  2016  \n",
       "996  139264094  2017  "
      ]
     },
     "execution_count": 186,
     "metadata": {},
     "output_type": "execute_result"
    }
   ],
   "source": [
    "cristalia[(cristalia['Montante'] > 10000000.0)]"
   ]
  },
  {
   "cell_type": "code",
   "execution_count": 187,
   "metadata": {},
   "outputs": [
    {
     "data": {
      "text/plain": [
       "órgão            13\n",
       "Subordinado a    13\n",
       "Montante         13\n",
       "Ano              13\n",
       "dtype: int64"
      ]
     },
     "execution_count": 187,
     "metadata": {},
     "output_type": "execute_result"
    }
   ],
   "source": [
    "major = cristalia[(cristalia['Montante'] > 2000000.0) & (cristalia['Montante'] >= 17000000.0)]\n",
    "major.count()"
   ]
  },
  {
   "cell_type": "code",
   "execution_count": 188,
   "metadata": {},
   "outputs": [
    {
     "data": {
      "text/plain": [
       "515093556"
      ]
     },
     "execution_count": 188,
     "metadata": {},
     "output_type": "execute_result"
    }
   ],
   "source": [
    "major['Montante'].max()"
   ]
  },
  {
   "cell_type": "code",
   "execution_count": 189,
   "metadata": {},
   "outputs": [
    {
     "data": {
      "text/html": [
       "<div>\n",
       "<style scoped>\n",
       "    .dataframe tbody tr th:only-of-type {\n",
       "        vertical-align: middle;\n",
       "    }\n",
       "\n",
       "    .dataframe tbody tr th {\n",
       "        vertical-align: top;\n",
       "    }\n",
       "\n",
       "    .dataframe thead th {\n",
       "        text-align: right;\n",
       "    }\n",
       "</style>\n",
       "<table border=\"1\" class=\"dataframe\">\n",
       "  <thead>\n",
       "    <tr style=\"text-align: right;\">\n",
       "      <th></th>\n",
       "      <th>órgão</th>\n",
       "      <th>Montante</th>\n",
       "    </tr>\n",
       "  </thead>\n",
       "  <tbody>\n",
       "    <tr>\n",
       "      <th>0</th>\n",
       "      <td>DEPARTAMENTO DE LOGISTICA EM SAUDE - DLOG</td>\n",
       "      <td>319394193</td>\n",
       "    </tr>\n",
       "    <tr>\n",
       "      <th>1</th>\n",
       "      <td>HOSPITAL NOSSA SENHORA DA CONCEICAO S/A</td>\n",
       "      <td>19894893</td>\n",
       "    </tr>\n",
       "    <tr>\n",
       "      <th>2</th>\n",
       "      <td>INSTITUTO DE TECNOLOGIA EM FARMACOS</td>\n",
       "      <td>879614866</td>\n",
       "    </tr>\n",
       "    <tr>\n",
       "      <th>3</th>\n",
       "      <td>LABORATORIO FARMACEUTICO DA MARINHA</td>\n",
       "      <td>189858740</td>\n",
       "    </tr>\n",
       "  </tbody>\n",
       "</table>\n",
       "</div>"
      ],
      "text/plain": [
       "                                       órgão   Montante\n",
       "0  DEPARTAMENTO DE LOGISTICA EM SAUDE - DLOG  319394193\n",
       "1    HOSPITAL NOSSA SENHORA DA CONCEICAO S/A   19894893\n",
       "2        INSTITUTO DE TECNOLOGIA EM FARMACOS  879614866\n",
       "3        LABORATORIO FARMACEUTICO DA MARINHA  189858740"
      ]
     },
     "execution_count": 189,
     "metadata": {},
     "output_type": "execute_result"
    }
   ],
   "source": [
    "major.groupby('órgão')['Montante'].sum().reset_index()"
   ]
  },
  {
   "cell_type": "code",
   "execution_count": 190,
   "metadata": {},
   "outputs": [
    {
     "data": {
      "text/plain": [
       "343781360"
      ]
     },
     "execution_count": 190,
     "metadata": {},
     "output_type": "execute_result"
    }
   ],
   "source": [
    "cristalia[cristalia['órgão'] == 'DEPARTAMENTO DE LOGISTICA EM SAUDE - DLOG'].Montante.sum() "
   ]
  },
  {
   "cell_type": "code",
   "execution_count": 191,
   "metadata": {},
   "outputs": [
    {
     "data": {
      "text/plain": [
       "182733683"
      ]
     },
     "execution_count": 191,
     "metadata": {},
     "output_type": "execute_result"
    }
   ],
   "source": [
    "cristalia[cristalia['órgão'] == 'DEPARTAMENTO DE LOGISTICA EM SAUDE - DLOG'].Montante.max()"
   ]
  },
  {
   "cell_type": "code",
   "execution_count": 192,
   "metadata": {},
   "outputs": [
    {
     "data": {
      "text/plain": [
       "2017"
      ]
     },
     "execution_count": 192,
     "metadata": {},
     "output_type": "execute_result"
    }
   ],
   "source": [
    "cristalia[cristalia['órgão'] == 'DEPARTAMENTO DE LOGISTICA EM SAUDE - DLOG'].Ano.max()"
   ]
  },
  {
   "cell_type": "code",
   "execution_count": 193,
   "metadata": {},
   "outputs": [
    {
     "data": {
      "text/plain": [
       "'VII COMANDO AEREO REGIONAL'"
      ]
     },
     "execution_count": 193,
     "metadata": {},
     "output_type": "execute_result"
    }
   ],
   "source": [
    "cristalia['órgão'].max()"
   ]
  },
  {
   "cell_type": "code",
   "execution_count": 194,
   "metadata": {},
   "outputs": [
    {
     "data": {
      "text/plain": [
       "Ano\n",
       "2011      58350625\n",
       "2012      80715907\n",
       "2013     101037007\n",
       "2014     202813183\n",
       "2015     193179683\n",
       "2016     179581940\n",
       "2017    1004569051\n",
       "Name: Montante, dtype: int64"
      ]
     },
     "execution_count": 194,
     "metadata": {},
     "output_type": "execute_result"
    }
   ],
   "source": [
    "cristalia.groupby('Ano')['Montante'].sum()"
   ]
  },
  {
   "cell_type": "code",
   "execution_count": 195,
   "metadata": {},
   "outputs": [
    {
     "data": {
      "text/plain": [
       "<matplotlib.axes._subplots.AxesSubplot at 0x1c486dee978>"
      ]
     },
     "execution_count": 195,
     "metadata": {},
     "output_type": "execute_result"
    },
    {
     "data": {
      "image/png": "[encoded data removed]",
      "text/plain": [
       "<Figure size 432x288 with 1 Axes>"
      ]
     },
     "metadata": {},
     "output_type": "display_data"
    }
   ],
   "source": [
    "fat_ano = cristalia.groupby('Ano')['Montante'].sum()\n",
    "fat_ano.plot.barh()"
   ]
  },
  {
   "cell_type": "code",
   "execution_count": 196,
   "metadata": {},
   "outputs": [
    {
     "name": "stdout",
     "output_type": "stream",
     "text": [
      "<class 'pandas.core.frame.DataFrame'>\n",
      "RangeIndex: 313 entries, 0 to 312\n",
      "Data columns (total 4 columns):\n",
      "órgão            313 non-null object\n",
      "Subordinado a    313 non-null object\n",
      "Montante         313 non-null int64\n",
      "Ano              313 non-null int64\n",
      "dtypes: int64(2), object(2)\n",
      "memory usage: 9.9+ KB\n"
     ]
    }
   ],
   "source": [
    "#Pagamentos feitos pelo governo federal Atualizados pelo IPCA.\n",
    "#MEDCOMERCE COMERCIAL DE MEDICAMENTOS E PRODUTOS HOSPITALARES LTDA 37.396.017/0001-10 \n",
    "\n",
    "med = pd.read_csv('pagto_medcomerce.csv')\n",
    "med.info()"
   ]
  },
  {
   "cell_type": "code",
   "execution_count": 197,
   "metadata": {},
   "outputs": [
    {
     "data": {
      "text/plain": [
       "array(['Ministério da Ciência e Tecnologia',\n",
       "       'Transferências a Estados, Distrito Federal e Municípios',\n",
       "       'Ministério da Educação', 'Ministério da Saúde',\n",
       "       'Ministério da Defesa', 'Órgão Genérico Geratriz'], dtype=object)"
      ]
     },
     "execution_count": 197,
     "metadata": {},
     "output_type": "execute_result"
    }
   ],
   "source": [
    "med['Subordinado a'].unique()"
   ]
  },
  {
   "cell_type": "code",
   "execution_count": 317,
   "metadata": {},
   "outputs": [
    {
     "data": {
      "text/plain": [
       "229671846"
      ]
     },
     "execution_count": 317,
     "metadata": {},
     "output_type": "execute_result"
    }
   ],
   "source": [
    "med['Montante'].sum()"
   ]
  },
  {
   "cell_type": "code",
   "execution_count": 318,
   "metadata": {},
   "outputs": [
    {
     "data": {
      "text/plain": [
       "313"
      ]
     },
     "execution_count": 318,
     "metadata": {},
     "output_type": "execute_result"
    }
   ],
   "source": [
    "med['Subordinado a'].count()"
   ]
  },
  {
   "cell_type": "code",
   "execution_count": 199,
   "metadata": {},
   "outputs": [
    {
     "data": {
      "text/plain": [
       "HOSPITAL MILITAR DE AREA DE BRASILIA            14\n",
       "HOSPITAL MILITAR DE AREA DE CAMPO GRANDE        14\n",
       "HOSPITAL NAVAL DE BRASILIA                      10\n",
       "HOSPITAL NAVAL MARCILIO DIAS                     7\n",
       "HOSPITAL NAVAL DE LADARIO                        7\n",
       "DEPARTAMENTO DE LOGISTICA EM SAUDE - DLOG        7\n",
       "HOSPITAL UNIVERSITARIO JULIO MULLER DA FUFMT     7\n",
       "HOSPITAL DAS CLINICAS DA UFGO                    7\n",
       "HOSPITAL DAS FORCAS ARMADAS                      7\n",
       "HOSPITAL UNIVERSITARIO (HU/UFGD)                 7\n",
       "Name: órgão, dtype: int64"
      ]
     },
     "execution_count": 199,
     "metadata": {},
     "output_type": "execute_result"
    }
   ],
   "source": [
    "med.groupby('Montante')['órgão'].max().value_counts(ascending=False).head(10)"
   ]
  },
  {
   "cell_type": "code",
   "execution_count": 200,
   "metadata": {},
   "outputs": [
    {
     "data": {
      "text/plain": [
       "Ministério da Defesa                                       131\n",
       "Ministério da Educação                                     111\n",
       "Ministério da Saúde                                         44\n",
       "Órgão Genérico Geratriz                                     19\n",
       "Transferências a Estados, Distrito Federal e Municípios      4\n",
       "Ministério da Ciência e Tecnologia                           1\n",
       "Name: Subordinado a, dtype: int64"
      ]
     },
     "execution_count": 200,
     "metadata": {},
     "output_type": "execute_result"
    }
   ],
   "source": [
    "med.groupby('Montante')['Subordinado a'].max().value_counts(ascending=False).head(10)"
   ]
  },
  {
   "cell_type": "code",
   "execution_count": 201,
   "metadata": {},
   "outputs": [
    {
     "data": {
      "text/html": [
       "<div>\n",
       "<style scoped>\n",
       "    .dataframe tbody tr th:only-of-type {\n",
       "        vertical-align: middle;\n",
       "    }\n",
       "\n",
       "    .dataframe tbody tr th {\n",
       "        vertical-align: top;\n",
       "    }\n",
       "\n",
       "    .dataframe thead th {\n",
       "        text-align: right;\n",
       "    }\n",
       "</style>\n",
       "<table border=\"1\" class=\"dataframe\">\n",
       "  <thead>\n",
       "    <tr style=\"text-align: right;\">\n",
       "      <th></th>\n",
       "      <th>órgão</th>\n",
       "      <th>Subordinado a</th>\n",
       "      <th>Montante</th>\n",
       "      <th>Ano</th>\n",
       "    </tr>\n",
       "    <tr>\n",
       "      <th>Montante</th>\n",
       "      <th></th>\n",
       "      <th></th>\n",
       "      <th></th>\n",
       "      <th></th>\n",
       "    </tr>\n",
       "  </thead>\n",
       "  <tbody>\n",
       "    <tr>\n",
       "      <th>19</th>\n",
       "      <td>HOSPITAL DAS CLINICAS DA UFGO</td>\n",
       "      <td>Ministério da Educação</td>\n",
       "      <td>2854817</td>\n",
       "      <td>2011</td>\n",
       "    </tr>\n",
       "    <tr>\n",
       "      <th>20</th>\n",
       "      <td>HOSPITAL DAS CLINICAS DA UFGO</td>\n",
       "      <td>Ministério da Educação</td>\n",
       "      <td>3283148</td>\n",
       "      <td>2012</td>\n",
       "    </tr>\n",
       "    <tr>\n",
       "      <th>21</th>\n",
       "      <td>HOSPITAL DAS CLINICAS DA UFGO</td>\n",
       "      <td>Ministério da Educação</td>\n",
       "      <td>2257261</td>\n",
       "      <td>2013</td>\n",
       "    </tr>\n",
       "    <tr>\n",
       "      <th>117</th>\n",
       "      <td>DEPARTAMENTO DE LOGISTICA EM SAUDE - DLOG</td>\n",
       "      <td>Ministério da Saúde</td>\n",
       "      <td>1991333</td>\n",
       "      <td>2014</td>\n",
       "    </tr>\n",
       "    <tr>\n",
       "      <th>118</th>\n",
       "      <td>DEPARTAMENTO DE LOGISTICA EM SAUDE - DLOG</td>\n",
       "      <td>Ministério da Saúde</td>\n",
       "      <td>2060249</td>\n",
       "      <td>2015</td>\n",
       "    </tr>\n",
       "    <tr>\n",
       "      <th>297</th>\n",
       "      <td>EBSERH - HOSPITAL UNIVERSITARIO DE BRASILIA</td>\n",
       "      <td>Órgão Genérico Geratriz</td>\n",
       "      <td>2162076</td>\n",
       "      <td>2016</td>\n",
       "    </tr>\n",
       "    <tr>\n",
       "      <th>120</th>\n",
       "      <td>DEPARTAMENTO DE LOGISTICA EM SAUDE - DLOG</td>\n",
       "      <td>Ministério da Saúde</td>\n",
       "      <td>155455049</td>\n",
       "      <td>2017</td>\n",
       "    </tr>\n",
       "  </tbody>\n",
       "</table>\n",
       "</div>"
      ],
      "text/plain": [
       "                                                órgão  \\\n",
       "Montante                                                \n",
       "19                      HOSPITAL DAS CLINICAS DA UFGO   \n",
       "20                      HOSPITAL DAS CLINICAS DA UFGO   \n",
       "21                      HOSPITAL DAS CLINICAS DA UFGO   \n",
       "117         DEPARTAMENTO DE LOGISTICA EM SAUDE - DLOG   \n",
       "118         DEPARTAMENTO DE LOGISTICA EM SAUDE - DLOG   \n",
       "297       EBSERH - HOSPITAL UNIVERSITARIO DE BRASILIA   \n",
       "120         DEPARTAMENTO DE LOGISTICA EM SAUDE - DLOG   \n",
       "\n",
       "                    Subordinado a   Montante   Ano  \n",
       "Montante                                            \n",
       "19         Ministério da Educação    2854817  2011  \n",
       "20         Ministério da Educação    3283148  2012  \n",
       "21         Ministério da Educação    2257261  2013  \n",
       "117           Ministério da Saúde    1991333  2014  \n",
       "118           Ministério da Saúde    2060249  2015  \n",
       "297       Órgão Genérico Geratriz    2162076  2016  \n",
       "120           Ministério da Saúde  155455049  2017  "
      ]
     },
     "execution_count": 201,
     "metadata": {},
     "output_type": "execute_result"
    }
   ],
   "source": [
    "med.reindex(med.groupby('Ano')['Montante'].idxmax())"
   ]
  },
  {
   "cell_type": "code",
   "execution_count": 202,
   "metadata": {},
   "outputs": [
    {
     "data": {
      "text/plain": [
       "164616375"
      ]
     },
     "execution_count": 202,
     "metadata": {},
     "output_type": "execute_result"
    }
   ],
   "source": [
    "med[med['órgão'] == 'DEPARTAMENTO DE LOGISTICA EM SAUDE - DLOG'].Montante.sum() "
   ]
  },
  {
   "cell_type": "code",
   "execution_count": 203,
   "metadata": {},
   "outputs": [
    {
     "data": {
      "text/html": [
       "<div>\n",
       "<style scoped>\n",
       "    .dataframe tbody tr th:only-of-type {\n",
       "        vertical-align: middle;\n",
       "    }\n",
       "\n",
       "    .dataframe tbody tr th {\n",
       "        vertical-align: top;\n",
       "    }\n",
       "\n",
       "    .dataframe thead th {\n",
       "        text-align: right;\n",
       "    }\n",
       "</style>\n",
       "<table border=\"1\" class=\"dataframe\">\n",
       "  <thead>\n",
       "    <tr style=\"text-align: right;\">\n",
       "      <th></th>\n",
       "      <th>órgão</th>\n",
       "      <th>Subordinado a</th>\n",
       "      <th>Montante</th>\n",
       "      <th>Ano</th>\n",
       "    </tr>\n",
       "  </thead>\n",
       "  <tbody>\n",
       "    <tr>\n",
       "      <th>120</th>\n",
       "      <td>DEPARTAMENTO DE LOGISTICA EM SAUDE - DLOG</td>\n",
       "      <td>Ministério da Saúde</td>\n",
       "      <td>155455049</td>\n",
       "      <td>2017</td>\n",
       "    </tr>\n",
       "  </tbody>\n",
       "</table>\n",
       "</div>"
      ],
      "text/plain": [
       "                                         órgão        Subordinado a  \\\n",
       "120  DEPARTAMENTO DE LOGISTICA EM SAUDE - DLOG  Ministério da Saúde   \n",
       "\n",
       "      Montante   Ano  \n",
       "120  155455049  2017  "
      ]
     },
     "execution_count": 203,
     "metadata": {},
     "output_type": "execute_result"
    }
   ],
   "source": [
    "med[med['Montante'] == med['Montante'].max()]"
   ]
  },
  {
   "cell_type": "code",
   "execution_count": 204,
   "metadata": {},
   "outputs": [
    {
     "data": {
      "text/plain": [
       "229671846"
      ]
     },
     "execution_count": 204,
     "metadata": {},
     "output_type": "execute_result"
    }
   ],
   "source": [
    "med.Montante.sum()    #Entre 2011 e 2017 recebeu um total de 229.671.846,00"
   ]
  },
  {
   "cell_type": "code",
   "execution_count": 205,
   "metadata": {},
   "outputs": [
    {
     "data": {
      "text/html": [
       "<div>\n",
       "<style scoped>\n",
       "    .dataframe tbody tr th:only-of-type {\n",
       "        vertical-align: middle;\n",
       "    }\n",
       "\n",
       "    .dataframe tbody tr th {\n",
       "        vertical-align: top;\n",
       "    }\n",
       "\n",
       "    .dataframe thead th {\n",
       "        text-align: right;\n",
       "    }\n",
       "</style>\n",
       "<table border=\"1\" class=\"dataframe\">\n",
       "  <thead>\n",
       "    <tr style=\"text-align: right;\">\n",
       "      <th></th>\n",
       "      <th>órgão</th>\n",
       "      <th>Subordinado a</th>\n",
       "      <th>Montante</th>\n",
       "      <th>Ano</th>\n",
       "    </tr>\n",
       "  </thead>\n",
       "  <tbody>\n",
       "    <tr>\n",
       "      <th>120</th>\n",
       "      <td>DEPARTAMENTO DE LOGISTICA EM SAUDE - DLOG</td>\n",
       "      <td>Ministério da Saúde</td>\n",
       "      <td>155455049</td>\n",
       "      <td>2017</td>\n",
       "    </tr>\n",
       "    <tr>\n",
       "      <th>298</th>\n",
       "      <td>EBSERH - HOSPITAL UNIVERSITARIO DE BRASILIA</td>\n",
       "      <td>Órgão Genérico Geratriz</td>\n",
       "      <td>4598771</td>\n",
       "      <td>2017</td>\n",
       "    </tr>\n",
       "    <tr>\n",
       "      <th>20</th>\n",
       "      <td>HOSPITAL DAS CLINICAS DA UFGO</td>\n",
       "      <td>Ministério da Educação</td>\n",
       "      <td>3283148</td>\n",
       "      <td>2012</td>\n",
       "    </tr>\n",
       "    <tr>\n",
       "      <th>212</th>\n",
       "      <td>HOSPITAL DAS FORCAS ARMADAS</td>\n",
       "      <td>Ministério da Defesa</td>\n",
       "      <td>3000223</td>\n",
       "      <td>2017</td>\n",
       "    </tr>\n",
       "    <tr>\n",
       "      <th>19</th>\n",
       "      <td>HOSPITAL DAS CLINICAS DA UFGO</td>\n",
       "      <td>Ministério da Educação</td>\n",
       "      <td>2854817</td>\n",
       "      <td>2011</td>\n",
       "    </tr>\n",
       "  </tbody>\n",
       "</table>\n",
       "</div>"
      ],
      "text/plain": [
       "                                           órgão            Subordinado a  \\\n",
       "120    DEPARTAMENTO DE LOGISTICA EM SAUDE - DLOG      Ministério da Saúde   \n",
       "298  EBSERH - HOSPITAL UNIVERSITARIO DE BRASILIA  Órgão Genérico Geratriz   \n",
       "20                 HOSPITAL DAS CLINICAS DA UFGO   Ministério da Educação   \n",
       "212                  HOSPITAL DAS FORCAS ARMADAS     Ministério da Defesa   \n",
       "19                 HOSPITAL DAS CLINICAS DA UFGO   Ministério da Educação   \n",
       "\n",
       "      Montante   Ano  \n",
       "120  155455049  2017  \n",
       "298    4598771  2017  \n",
       "20     3283148  2012  \n",
       "212    3000223  2017  \n",
       "19     2854817  2011  "
      ]
     },
     "execution_count": 205,
     "metadata": {},
     "output_type": "execute_result"
    }
   ],
   "source": [
    "med.nlargest(5, 'Montante')"
   ]
  },
  {
   "cell_type": "code",
   "execution_count": 206,
   "metadata": {},
   "outputs": [],
   "source": [
    "totalf = med.groupby('Ano')['Montante'].sum()"
   ]
  },
  {
   "cell_type": "code",
   "execution_count": 207,
   "metadata": {},
   "outputs": [
    {
     "data": {
      "text/plain": [
       "<matplotlib.axes._subplots.AxesSubplot at 0x1c486e5dfd0>"
      ]
     },
     "execution_count": 207,
     "metadata": {},
     "output_type": "execute_result"
    },
    {
     "data": {
      "image/png": "[encoded data removed]",
      "text/plain": [
       "<Figure size 432x288 with 1 Axes>"
      ]
     },
     "metadata": {},
     "output_type": "display_data"
    }
   ],
   "source": [
    "totalf.plot.barh()"
   ]
  },
  {
   "cell_type": "code",
   "execution_count": 208,
   "metadata": {},
   "outputs": [
    {
     "data": {
      "text/html": [
       "<div>\n",
       "<style scoped>\n",
       "    .dataframe tbody tr th:only-of-type {\n",
       "        vertical-align: middle;\n",
       "    }\n",
       "\n",
       "    .dataframe tbody tr th {\n",
       "        vertical-align: top;\n",
       "    }\n",
       "\n",
       "    .dataframe thead th {\n",
       "        text-align: right;\n",
       "    }\n",
       "</style>\n",
       "<table border=\"1\" class=\"dataframe\">\n",
       "  <thead>\n",
       "    <tr style=\"text-align: right;\">\n",
       "      <th></th>\n",
       "      <th>Subordinado a</th>\n",
       "      <th>Montante</th>\n",
       "    </tr>\n",
       "  </thead>\n",
       "  <tbody>\n",
       "    <tr>\n",
       "      <th>0</th>\n",
       "      <td>Ministério da Ciência e Tecnologia</td>\n",
       "      <td>1319</td>\n",
       "    </tr>\n",
       "    <tr>\n",
       "      <th>1</th>\n",
       "      <td>Ministério da Defesa</td>\n",
       "      <td>24542177</td>\n",
       "    </tr>\n",
       "    <tr>\n",
       "      <th>2</th>\n",
       "      <td>Ministério da Educação</td>\n",
       "      <td>27525416</td>\n",
       "    </tr>\n",
       "    <tr>\n",
       "      <th>3</th>\n",
       "      <td>Ministério da Saúde</td>\n",
       "      <td>167543978</td>\n",
       "    </tr>\n",
       "    <tr>\n",
       "      <th>4</th>\n",
       "      <td>Transferências a Estados, Distrito Federal e M...</td>\n",
       "      <td>30324</td>\n",
       "    </tr>\n",
       "    <tr>\n",
       "      <th>5</th>\n",
       "      <td>Órgão Genérico Geratriz</td>\n",
       "      <td>10028632</td>\n",
       "    </tr>\n",
       "  </tbody>\n",
       "</table>\n",
       "</div>"
      ],
      "text/plain": [
       "                                       Subordinado a   Montante\n",
       "0                 Ministério da Ciência e Tecnologia       1319\n",
       "1                               Ministério da Defesa   24542177\n",
       "2                             Ministério da Educação   27525416\n",
       "3                                Ministério da Saúde  167543978\n",
       "4  Transferências a Estados, Distrito Federal e M...      30324\n",
       "5                            Órgão Genérico Geratriz   10028632"
      ]
     },
     "execution_count": 208,
     "metadata": {},
     "output_type": "execute_result"
    }
   ],
   "source": [
    "med.groupby('Subordinado a')['Montante'].sum().reset_index() "
   ]
  },
  {
   "cell_type": "code",
   "execution_count": 209,
   "metadata": {},
   "outputs": [
    {
     "name": "stdout",
     "output_type": "stream",
     "text": [
      "<class 'pandas.core.frame.DataFrame'>\n",
      "RangeIndex: 73 entries, 0 to 72\n",
      "Data columns (total 4 columns):\n",
      "órgão            73 non-null object\n",
      "Subordinado a    73 non-null object\n",
      "Montante         73 non-null int64\n",
      "Ano              73 non-null int64\n",
      "dtypes: int64(2), object(2)\n",
      "memory usage: 2.4+ KB\n"
     ]
    }
   ],
   "source": [
    "#Prado.: Pagamentos feitos pelo governo federal Atualizados pelo IPCA/ Dados atualizados em 10.5.2018,exportado em 13.10.2018\n",
    "#Fonte: dados.org\n",
    "\n",
    "prado = pd.read_csv('pagto_prado.csv')\n",
    "prado.info()"
   ]
  },
  {
   "cell_type": "code",
   "execution_count": 210,
   "metadata": {},
   "outputs": [
    {
     "data": {
      "text/plain": [
       "array(['Ministério da Agricultura, Pecuária e Abastecimento',\n",
       "       'Ministério da Educação', 'Ministério da Justiça',\n",
       "       'Ministério da Saúde', 'Ministério da Defesa'], dtype=object)"
      ]
     },
     "execution_count": 210,
     "metadata": {},
     "output_type": "execute_result"
    }
   ],
   "source": [
    "prado['Subordinado a'].unique()"
   ]
  },
  {
   "cell_type": "code",
   "execution_count": 319,
   "metadata": {},
   "outputs": [
    {
     "data": {
      "text/plain": [
       "73"
      ]
     },
     "execution_count": 319,
     "metadata": {},
     "output_type": "execute_result"
    }
   ],
   "source": [
    "prado['órgão'].count()"
   ]
  },
  {
   "cell_type": "code",
   "execution_count": 320,
   "metadata": {},
   "outputs": [
    {
     "data": {
      "text/plain": [
       "9533561"
      ]
     },
     "execution_count": 320,
     "metadata": {},
     "output_type": "execute_result"
    }
   ],
   "source": [
    "prado.Montante.sum()"
   ]
  },
  {
   "cell_type": "code",
   "execution_count": 212,
   "metadata": {},
   "outputs": [
    {
     "data": {
      "text/html": [
       "<div>\n",
       "<style scoped>\n",
       "    .dataframe tbody tr th:only-of-type {\n",
       "        vertical-align: middle;\n",
       "    }\n",
       "\n",
       "    .dataframe tbody tr th {\n",
       "        vertical-align: top;\n",
       "    }\n",
       "\n",
       "    .dataframe thead th {\n",
       "        text-align: right;\n",
       "    }\n",
       "</style>\n",
       "<table border=\"1\" class=\"dataframe\">\n",
       "  <thead>\n",
       "    <tr style=\"text-align: right;\">\n",
       "      <th></th>\n",
       "      <th>órgão</th>\n",
       "      <th>Subordinado a</th>\n",
       "      <th>Montante</th>\n",
       "      <th>Ano</th>\n",
       "    </tr>\n",
       "  </thead>\n",
       "  <tbody>\n",
       "    <tr>\n",
       "      <th>26</th>\n",
       "      <td>SUPERINTENDENCIA REGIONAL NO ESTADO DO PA</td>\n",
       "      <td>Ministério da Justiça</td>\n",
       "      <td>1896575</td>\n",
       "      <td>2017</td>\n",
       "    </tr>\n",
       "  </tbody>\n",
       "</table>\n",
       "</div>"
      ],
      "text/plain": [
       "                                        órgão          Subordinado a  \\\n",
       "26  SUPERINTENDENCIA REGIONAL NO ESTADO DO PA  Ministério da Justiça   \n",
       "\n",
       "    Montante   Ano  \n",
       "26   1896575  2017  "
      ]
     },
     "execution_count": 212,
     "metadata": {},
     "output_type": "execute_result"
    }
   ],
   "source": [
    "prado[prado['Montante'] == prado['Montante'].max()]"
   ]
  },
  {
   "cell_type": "code",
   "execution_count": 213,
   "metadata": {},
   "outputs": [
    {
     "data": {
      "text/html": [
       "<div>\n",
       "<style scoped>\n",
       "    .dataframe tbody tr th:only-of-type {\n",
       "        vertical-align: middle;\n",
       "    }\n",
       "\n",
       "    .dataframe tbody tr th {\n",
       "        vertical-align: top;\n",
       "    }\n",
       "\n",
       "    .dataframe thead th {\n",
       "        text-align: right;\n",
       "    }\n",
       "</style>\n",
       "<table border=\"1\" class=\"dataframe\">\n",
       "  <thead>\n",
       "    <tr style=\"text-align: right;\">\n",
       "      <th></th>\n",
       "      <th>órgão</th>\n",
       "      <th>Subordinado a</th>\n",
       "      <th>Montante</th>\n",
       "      <th>Ano</th>\n",
       "    </tr>\n",
       "    <tr>\n",
       "      <th>Montante</th>\n",
       "      <th></th>\n",
       "      <th></th>\n",
       "      <th></th>\n",
       "      <th></th>\n",
       "    </tr>\n",
       "  </thead>\n",
       "  <tbody>\n",
       "    <tr>\n",
       "      <th>20</th>\n",
       "      <td>SUPERINTENDENCIA REGIONAL NO ESTADO DO PA</td>\n",
       "      <td>Ministério da Justiça</td>\n",
       "      <td>586273</td>\n",
       "      <td>2011</td>\n",
       "    </tr>\n",
       "    <tr>\n",
       "      <th>21</th>\n",
       "      <td>SUPERINTENDENCIA REGIONAL NO ESTADO DO PA</td>\n",
       "      <td>Ministério da Justiça</td>\n",
       "      <td>598737</td>\n",
       "      <td>2012</td>\n",
       "    </tr>\n",
       "    <tr>\n",
       "      <th>22</th>\n",
       "      <td>SUPERINTENDENCIA REGIONAL NO ESTADO DO PA</td>\n",
       "      <td>Ministério da Justiça</td>\n",
       "      <td>604654</td>\n",
       "      <td>2013</td>\n",
       "    </tr>\n",
       "    <tr>\n",
       "      <th>23</th>\n",
       "      <td>SUPERINTENDENCIA REGIONAL NO ESTADO DO PA</td>\n",
       "      <td>Ministério da Justiça</td>\n",
       "      <td>478500</td>\n",
       "      <td>2014</td>\n",
       "    </tr>\n",
       "    <tr>\n",
       "      <th>24</th>\n",
       "      <td>SUPERINTENDENCIA REGIONAL NO ESTADO DO PA</td>\n",
       "      <td>Ministério da Justiça</td>\n",
       "      <td>551543</td>\n",
       "      <td>2015</td>\n",
       "    </tr>\n",
       "    <tr>\n",
       "      <th>25</th>\n",
       "      <td>SUPERINTENDENCIA REGIONAL NO ESTADO DO PA</td>\n",
       "      <td>Ministério da Justiça</td>\n",
       "      <td>641101</td>\n",
       "      <td>2016</td>\n",
       "    </tr>\n",
       "    <tr>\n",
       "      <th>26</th>\n",
       "      <td>SUPERINTENDENCIA REGIONAL NO ESTADO DO PA</td>\n",
       "      <td>Ministério da Justiça</td>\n",
       "      <td>1896575</td>\n",
       "      <td>2017</td>\n",
       "    </tr>\n",
       "  </tbody>\n",
       "</table>\n",
       "</div>"
      ],
      "text/plain": [
       "                                              órgão          Subordinado a  \\\n",
       "Montante                                                                     \n",
       "20        SUPERINTENDENCIA REGIONAL NO ESTADO DO PA  Ministério da Justiça   \n",
       "21        SUPERINTENDENCIA REGIONAL NO ESTADO DO PA  Ministério da Justiça   \n",
       "22        SUPERINTENDENCIA REGIONAL NO ESTADO DO PA  Ministério da Justiça   \n",
       "23        SUPERINTENDENCIA REGIONAL NO ESTADO DO PA  Ministério da Justiça   \n",
       "24        SUPERINTENDENCIA REGIONAL NO ESTADO DO PA  Ministério da Justiça   \n",
       "25        SUPERINTENDENCIA REGIONAL NO ESTADO DO PA  Ministério da Justiça   \n",
       "26        SUPERINTENDENCIA REGIONAL NO ESTADO DO PA  Ministério da Justiça   \n",
       "\n",
       "          Montante   Ano  \n",
       "Montante                  \n",
       "20          586273  2011  \n",
       "21          598737  2012  \n",
       "22          604654  2013  \n",
       "23          478500  2014  \n",
       "24          551543  2015  \n",
       "25          641101  2016  \n",
       "26         1896575  2017  "
      ]
     },
     "execution_count": 213,
     "metadata": {},
     "output_type": "execute_result"
    }
   ],
   "source": [
    "prado.reindex(prado.groupby('Ano')['Montante'].idxmax())\n"
   ]
  },
  {
   "cell_type": "code",
   "execution_count": 214,
   "metadata": {},
   "outputs": [
    {
     "data": {
      "text/plain": [
       "5357383"
      ]
     },
     "execution_count": 214,
     "metadata": {},
     "output_type": "execute_result"
    }
   ],
   "source": [
    "prado[prado['órgão'] == 'SUPERINTENDENCIA REGIONAL NO ESTADO DO PA'].Montante.sum()"
   ]
  },
  {
   "cell_type": "code",
   "execution_count": 215,
   "metadata": {},
   "outputs": [
    {
     "data": {
      "text/plain": [
       "9533561"
      ]
     },
     "execution_count": 215,
     "metadata": {},
     "output_type": "execute_result"
    }
   ],
   "source": [
    "prado.Montante.sum()"
   ]
  },
  {
   "cell_type": "code",
   "execution_count": 216,
   "metadata": {},
   "outputs": [
    {
     "data": {
      "text/plain": [
       "Ano\n",
       "2011    1168629\n",
       "2012    1222579\n",
       "2013    1140357\n",
       "2014    1090006\n",
       "2015     841541\n",
       "2016     933769\n",
       "2017    3136680\n",
       "Name: Montante, dtype: int64"
      ]
     },
     "execution_count": 216,
     "metadata": {},
     "output_type": "execute_result"
    }
   ],
   "source": [
    "prado.groupby('Ano')['Montante'].sum()"
   ]
  },
  {
   "cell_type": "code",
   "execution_count": 217,
   "metadata": {},
   "outputs": [],
   "source": [
    "totalp = prado.groupby('Ano')['Montante'].sum()"
   ]
  },
  {
   "cell_type": "code",
   "execution_count": 218,
   "metadata": {},
   "outputs": [
    {
     "data": {
      "text/plain": [
       "<matplotlib.axes._subplots.AxesSubplot at 0x1c486ee5898>"
      ]
     },
     "execution_count": 218,
     "metadata": {},
     "output_type": "execute_result"
    },
    {
     "data": {
      "image/png": "[encoded data removed]",
      "text/plain": [
       "<Figure size 432x288 with 1 Axes>"
      ]
     },
     "metadata": {},
     "output_type": "display_data"
    }
   ],
   "source": [
    "totalp.plot.barh()"
   ]
  },
  {
   "cell_type": "code",
   "execution_count": 219,
   "metadata": {},
   "outputs": [
    {
     "data": {
      "text/html": [
       "<div>\n",
       "<style scoped>\n",
       "    .dataframe tbody tr th:only-of-type {\n",
       "        vertical-align: middle;\n",
       "    }\n",
       "\n",
       "    .dataframe tbody tr th {\n",
       "        vertical-align: top;\n",
       "    }\n",
       "\n",
       "    .dataframe thead th {\n",
       "        text-align: right;\n",
       "    }\n",
       "</style>\n",
       "<table border=\"1\" class=\"dataframe\">\n",
       "  <thead>\n",
       "    <tr style=\"text-align: right;\">\n",
       "      <th></th>\n",
       "      <th>órgão</th>\n",
       "      <th>Subordinado a</th>\n",
       "      <th>Montante</th>\n",
       "      <th>Ano</th>\n",
       "    </tr>\n",
       "  </thead>\n",
       "  <tbody>\n",
       "    <tr>\n",
       "      <th>26</th>\n",
       "      <td>SUPERINTENDENCIA REGIONAL NO ESTADO DO PA</td>\n",
       "      <td>Ministério da Justiça</td>\n",
       "      <td>1896575</td>\n",
       "      <td>2017</td>\n",
       "    </tr>\n",
       "    <tr>\n",
       "      <th>25</th>\n",
       "      <td>SUPERINTENDENCIA REGIONAL NO ESTADO DO PA</td>\n",
       "      <td>Ministério da Justiça</td>\n",
       "      <td>641101</td>\n",
       "      <td>2016</td>\n",
       "    </tr>\n",
       "    <tr>\n",
       "      <th>22</th>\n",
       "      <td>SUPERINTENDENCIA REGIONAL NO ESTADO DO PA</td>\n",
       "      <td>Ministério da Justiça</td>\n",
       "      <td>604654</td>\n",
       "      <td>2013</td>\n",
       "    </tr>\n",
       "    <tr>\n",
       "      <th>21</th>\n",
       "      <td>SUPERINTENDENCIA REGIONAL NO ESTADO DO PA</td>\n",
       "      <td>Ministério da Justiça</td>\n",
       "      <td>598737</td>\n",
       "      <td>2012</td>\n",
       "    </tr>\n",
       "    <tr>\n",
       "      <th>10</th>\n",
       "      <td>HOSPITAL UNIVERSITARIO JOAO DE BARROS BARRETO</td>\n",
       "      <td>Ministério da Educação</td>\n",
       "      <td>586486</td>\n",
       "      <td>2017</td>\n",
       "    </tr>\n",
       "  </tbody>\n",
       "</table>\n",
       "</div>"
      ],
      "text/plain": [
       "                                            órgão           Subordinado a  \\\n",
       "26      SUPERINTENDENCIA REGIONAL NO ESTADO DO PA   Ministério da Justiça   \n",
       "25      SUPERINTENDENCIA REGIONAL NO ESTADO DO PA   Ministério da Justiça   \n",
       "22      SUPERINTENDENCIA REGIONAL NO ESTADO DO PA   Ministério da Justiça   \n",
       "21      SUPERINTENDENCIA REGIONAL NO ESTADO DO PA   Ministério da Justiça   \n",
       "10  HOSPITAL UNIVERSITARIO JOAO DE BARROS BARRETO  Ministério da Educação   \n",
       "\n",
       "    Montante   Ano  \n",
       "26   1896575  2017  \n",
       "25    641101  2016  \n",
       "22    604654  2013  \n",
       "21    598737  2012  \n",
       "10    586486  2017  "
      ]
     },
     "execution_count": 219,
     "metadata": {},
     "output_type": "execute_result"
    }
   ],
   "source": [
    "prado.nlargest(5, 'Montante')\n"
   ]
  },
  {
   "cell_type": "code",
   "execution_count": 220,
   "metadata": {},
   "outputs": [
    {
     "name": "stdout",
     "output_type": "stream",
     "text": [
      "<class 'pandas.core.frame.DataFrame'>\n",
      "RangeIndex: 20 entries, 0 to 19\n",
      "Data columns (total 4 columns):\n",
      "Órgão            20 non-null object\n",
      "Subordinado a    20 non-null object\n",
      "Montante         20 non-null int64\n",
      "Ano              20 non-null int64\n",
      "dtypes: int64(2), object(2)\n",
      "memory usage: 720.0+ bytes\n"
     ]
    }
   ],
   "source": [
    "#ARTFIO COMERCIO E REPRESENTACOES LTDA 83.345.405/0001-99\n",
    "\n",
    "artfio = pd.read_csv('pagto_artfio.csv')\n",
    "artfio.info()"
   ]
  },
  {
   "cell_type": "code",
   "execution_count": 321,
   "metadata": {},
   "outputs": [
    {
     "data": {
      "text/plain": [
       "323866"
      ]
     },
     "execution_count": 321,
     "metadata": {},
     "output_type": "execute_result"
    }
   ],
   "source": [
    "artfio.Montante.sum()"
   ]
  },
  {
   "cell_type": "code",
   "execution_count": 322,
   "metadata": {},
   "outputs": [
    {
     "data": {
      "text/plain": [
       "20"
      ]
     },
     "execution_count": 322,
     "metadata": {},
     "output_type": "execute_result"
    }
   ],
   "source": [
    "artfio['Órgão'].count()"
   ]
  },
  {
   "cell_type": "code",
   "execution_count": 323,
   "metadata": {},
   "outputs": [
    {
     "data": {
      "text/plain": [
       "array(['Ministério da Educação', 'Ministério da Defesa'], dtype=object)"
      ]
     },
     "execution_count": 323,
     "metadata": {},
     "output_type": "execute_result"
    }
   ],
   "source": [
    "artfio['Subordinado a'].unique()"
   ]
  },
  {
   "cell_type": "code",
   "execution_count": 221,
   "metadata": {},
   "outputs": [
    {
     "data": {
      "text/html": [
       "<div>\n",
       "<style scoped>\n",
       "    .dataframe tbody tr th:only-of-type {\n",
       "        vertical-align: middle;\n",
       "    }\n",
       "\n",
       "    .dataframe tbody tr th {\n",
       "        vertical-align: top;\n",
       "    }\n",
       "\n",
       "    .dataframe thead th {\n",
       "        text-align: right;\n",
       "    }\n",
       "</style>\n",
       "<table border=\"1\" class=\"dataframe\">\n",
       "  <thead>\n",
       "    <tr style=\"text-align: right;\">\n",
       "      <th></th>\n",
       "      <th>Órgão</th>\n",
       "      <th>Montante</th>\n",
       "    </tr>\n",
       "  </thead>\n",
       "  <tbody>\n",
       "    <tr>\n",
       "      <th>0</th>\n",
       "      <td>COMANDO DE FRONTEIRA - AMAPA E 34 BIS</td>\n",
       "      <td>2284</td>\n",
       "    </tr>\n",
       "    <tr>\n",
       "      <th>1</th>\n",
       "      <td>HOSPITAL DA GUARNICAO DE MARABA</td>\n",
       "      <td>6571</td>\n",
       "    </tr>\n",
       "    <tr>\n",
       "      <th>2</th>\n",
       "      <td>HOSPITAL GERAL DE BELEM</td>\n",
       "      <td>201874</td>\n",
       "    </tr>\n",
       "    <tr>\n",
       "      <th>3</th>\n",
       "      <td>HOSPITAL GERAL DE FORTALEZA</td>\n",
       "      <td>3578</td>\n",
       "    </tr>\n",
       "    <tr>\n",
       "      <th>4</th>\n",
       "      <td>HOSPITAL NAVAL DE BELEM</td>\n",
       "      <td>2229</td>\n",
       "    </tr>\n",
       "    <tr>\n",
       "      <th>5</th>\n",
       "      <td>HOSPITAL UNIVERSITARIO BETTINA FERRO DE SOUZA</td>\n",
       "      <td>9875</td>\n",
       "    </tr>\n",
       "    <tr>\n",
       "      <th>6</th>\n",
       "      <td>HOSPITAL UNIVERSITARIO JOAO DE BARROS BARRETO</td>\n",
       "      <td>77882</td>\n",
       "    </tr>\n",
       "    <tr>\n",
       "      <th>7</th>\n",
       "      <td>I COMANDO AEREO REGIONAL</td>\n",
       "      <td>19573</td>\n",
       "    </tr>\n",
       "  </tbody>\n",
       "</table>\n",
       "</div>"
      ],
      "text/plain": [
       "                                           Órgão  Montante\n",
       "0          COMANDO DE FRONTEIRA - AMAPA E 34 BIS      2284\n",
       "1                HOSPITAL DA GUARNICAO DE MARABA      6571\n",
       "2                        HOSPITAL GERAL DE BELEM    201874\n",
       "3                    HOSPITAL GERAL DE FORTALEZA      3578\n",
       "4                        HOSPITAL NAVAL DE BELEM      2229\n",
       "5  HOSPITAL UNIVERSITARIO BETTINA FERRO DE SOUZA      9875\n",
       "6  HOSPITAL UNIVERSITARIO JOAO DE BARROS BARRETO     77882\n",
       "7                       I COMANDO AEREO REGIONAL     19573"
      ]
     },
     "execution_count": 221,
     "metadata": {},
     "output_type": "execute_result"
    }
   ],
   "source": [
    "artfio.groupby('Órgão')['Montante'].sum().reset_index()"
   ]
  },
  {
   "cell_type": "code",
   "execution_count": 222,
   "metadata": {},
   "outputs": [
    {
     "data": {
      "text/html": [
       "<div>\n",
       "<style scoped>\n",
       "    .dataframe tbody tr th:only-of-type {\n",
       "        vertical-align: middle;\n",
       "    }\n",
       "\n",
       "    .dataframe tbody tr th {\n",
       "        vertical-align: top;\n",
       "    }\n",
       "\n",
       "    .dataframe thead th {\n",
       "        text-align: right;\n",
       "    }\n",
       "</style>\n",
       "<table border=\"1\" class=\"dataframe\">\n",
       "  <thead>\n",
       "    <tr style=\"text-align: right;\">\n",
       "      <th></th>\n",
       "      <th>Subordinado a</th>\n",
       "      <th>Montante</th>\n",
       "    </tr>\n",
       "  </thead>\n",
       "  <tbody>\n",
       "    <tr>\n",
       "      <th>0</th>\n",
       "      <td>Ministério da Defesa</td>\n",
       "      <td>236109</td>\n",
       "    </tr>\n",
       "    <tr>\n",
       "      <th>1</th>\n",
       "      <td>Ministério da Educação</td>\n",
       "      <td>87757</td>\n",
       "    </tr>\n",
       "  </tbody>\n",
       "</table>\n",
       "</div>"
      ],
      "text/plain": [
       "            Subordinado a  Montante\n",
       "0    Ministério da Defesa    236109\n",
       "1  Ministério da Educação     87757"
      ]
     },
     "execution_count": 222,
     "metadata": {},
     "output_type": "execute_result"
    }
   ],
   "source": [
    "artfio.groupby('Subordinado a')['Montante'].sum().reset_index()"
   ]
  },
  {
   "cell_type": "code",
   "execution_count": 223,
   "metadata": {},
   "outputs": [
    {
     "data": {
      "text/plain": [
       "323866"
      ]
     },
     "execution_count": 223,
     "metadata": {},
     "output_type": "execute_result"
    }
   ],
   "source": [
    "artfio.Montante.sum()"
   ]
  },
  {
   "cell_type": "code",
   "execution_count": 224,
   "metadata": {},
   "outputs": [
    {
     "data": {
      "text/html": [
       "<div>\n",
       "<style scoped>\n",
       "    .dataframe tbody tr th:only-of-type {\n",
       "        vertical-align: middle;\n",
       "    }\n",
       "\n",
       "    .dataframe tbody tr th {\n",
       "        vertical-align: top;\n",
       "    }\n",
       "\n",
       "    .dataframe thead th {\n",
       "        text-align: right;\n",
       "    }\n",
       "</style>\n",
       "<table border=\"1\" class=\"dataframe\">\n",
       "  <thead>\n",
       "    <tr style=\"text-align: right;\">\n",
       "      <th></th>\n",
       "      <th>Órgão</th>\n",
       "      <th>Subordinado a</th>\n",
       "      <th>Montante</th>\n",
       "      <th>Ano</th>\n",
       "    </tr>\n",
       "    <tr>\n",
       "      <th>Montante</th>\n",
       "      <th></th>\n",
       "      <th></th>\n",
       "      <th></th>\n",
       "      <th></th>\n",
       "    </tr>\n",
       "  </thead>\n",
       "  <tbody>\n",
       "    <tr>\n",
       "      <th>14</th>\n",
       "      <td>HOSPITAL GERAL DE BELEM</td>\n",
       "      <td>Ministério da Defesa</td>\n",
       "      <td>97771</td>\n",
       "      <td>2011</td>\n",
       "    </tr>\n",
       "    <tr>\n",
       "      <th>1</th>\n",
       "      <td>HOSPITAL UNIVERSITARIO JOAO DE BARROS BARRETO</td>\n",
       "      <td>Ministério da Educação</td>\n",
       "      <td>56222</td>\n",
       "      <td>2012</td>\n",
       "    </tr>\n",
       "    <tr>\n",
       "      <th>10</th>\n",
       "      <td>HOSPITAL GERAL DE BELEM</td>\n",
       "      <td>Ministério da Defesa</td>\n",
       "      <td>19148</td>\n",
       "      <td>2013</td>\n",
       "    </tr>\n",
       "    <tr>\n",
       "      <th>16</th>\n",
       "      <td>HOSPITAL GERAL DE BELEM</td>\n",
       "      <td>Ministério da Defesa</td>\n",
       "      <td>44014</td>\n",
       "      <td>2014</td>\n",
       "    </tr>\n",
       "  </tbody>\n",
       "</table>\n",
       "</div>"
      ],
      "text/plain": [
       "                                                  Órgão  \\\n",
       "Montante                                                  \n",
       "14                              HOSPITAL GERAL DE BELEM   \n",
       "1         HOSPITAL UNIVERSITARIO JOAO DE BARROS BARRETO   \n",
       "10                              HOSPITAL GERAL DE BELEM   \n",
       "16                              HOSPITAL GERAL DE BELEM   \n",
       "\n",
       "                   Subordinado a  Montante   Ano  \n",
       "Montante                                          \n",
       "14          Ministério da Defesa     97771  2011  \n",
       "1         Ministério da Educação     56222  2012  \n",
       "10          Ministério da Defesa     19148  2013  \n",
       "16          Ministério da Defesa     44014  2014  "
      ]
     },
     "execution_count": 224,
     "metadata": {},
     "output_type": "execute_result"
    }
   ],
   "source": [
    "artfio.reindex(artfio.groupby('Ano')['Montante'].idxmax())"
   ]
  },
  {
   "cell_type": "code",
   "execution_count": 225,
   "metadata": {},
   "outputs": [
    {
     "data": {
      "text/html": [
       "<div>\n",
       "<style scoped>\n",
       "    .dataframe tbody tr th:only-of-type {\n",
       "        vertical-align: middle;\n",
       "    }\n",
       "\n",
       "    .dataframe tbody tr th {\n",
       "        vertical-align: top;\n",
       "    }\n",
       "\n",
       "    .dataframe thead th {\n",
       "        text-align: right;\n",
       "    }\n",
       "</style>\n",
       "<table border=\"1\" class=\"dataframe\">\n",
       "  <thead>\n",
       "    <tr style=\"text-align: right;\">\n",
       "      <th></th>\n",
       "      <th>Órgão</th>\n",
       "      <th>Subordinado a</th>\n",
       "      <th>Montante</th>\n",
       "      <th>Ano</th>\n",
       "    </tr>\n",
       "  </thead>\n",
       "  <tbody>\n",
       "    <tr>\n",
       "      <th>14</th>\n",
       "      <td>HOSPITAL GERAL DE BELEM</td>\n",
       "      <td>Ministério da Defesa</td>\n",
       "      <td>97771</td>\n",
       "      <td>2011</td>\n",
       "    </tr>\n",
       "  </tbody>\n",
       "</table>\n",
       "</div>"
      ],
      "text/plain": [
       "                      Órgão         Subordinado a  Montante   Ano\n",
       "14  HOSPITAL GERAL DE BELEM  Ministério da Defesa     97771  2011"
      ]
     },
     "execution_count": 225,
     "metadata": {},
     "output_type": "execute_result"
    }
   ],
   "source": [
    "artfio[artfio['Montante'] == artfio['Montante'].max()]"
   ]
  },
  {
   "cell_type": "code",
   "execution_count": 226,
   "metadata": {},
   "outputs": [
    {
     "data": {
      "text/plain": [
       "<matplotlib.axes._subplots.AxesSubplot at 0x1c486f5c588>"
      ]
     },
     "execution_count": 226,
     "metadata": {},
     "output_type": "execute_result"
    },
    {
     "data": {
      "image/png": "[encoded data removed]",
      "text/plain": [
       "<Figure size 432x288 with 1 Axes>"
      ]
     },
     "metadata": {},
     "output_type": "display_data"
    }
   ],
   "source": [
    "art_fat = artfio.groupby('Ano')['Montante'].sum()\n",
    "art_fat.plot.bar()"
   ]
  },
  {
   "cell_type": "code",
   "execution_count": 327,
   "metadata": {},
   "outputs": [
    {
     "name": "stdout",
     "output_type": "stream",
     "text": [
      "<class 'pandas.core.frame.DataFrame'>\n",
      "RangeIndex: 59 entries, 0 to 58\n",
      "Data columns (total 4 columns):\n",
      "órgão          59 non-null object\n",
      "subordinado    59 non-null object\n",
      "montante       59 non-null int64\n",
      "ano            59 non-null int64\n",
      "dtypes: int64(2), object(2)\n",
      "memory usage: 1.9+ KB\n"
     ]
    }
   ],
   "source": [
    "#Pagamentos feitos pelo governo federal Atualizados pelo IPCA.\n",
    "#LABORATORIO TEUTO BRASILEIRO S/A 17.159.229/0001-76 \n",
    "#Dados atualizados em 10.5.2018\n",
    "#Exportado em 13.10.2018\n",
    "#Fonte.: Datascópio (dados.org)\n",
    "\n",
    "teuto = pd.read_csv('pagto_teuto.csv')\n",
    "teuto.info()\n"
   ]
  },
  {
   "cell_type": "code",
   "execution_count": 324,
   "metadata": {},
   "outputs": [
    {
     "data": {
      "text/plain": [
       "26512107"
      ]
     },
     "execution_count": 324,
     "metadata": {},
     "output_type": "execute_result"
    }
   ],
   "source": [
    "teuto.montante.sum()"
   ]
  },
  {
   "cell_type": "code",
   "execution_count": 325,
   "metadata": {},
   "outputs": [
    {
     "data": {
      "text/plain": [
       "59"
      ]
     },
     "execution_count": 325,
     "metadata": {},
     "output_type": "execute_result"
    }
   ],
   "source": [
    "teuto['órgão'].count()"
   ]
  },
  {
   "cell_type": "code",
   "execution_count": 229,
   "metadata": {},
   "outputs": [],
   "source": [
    "faturat = teuto.groupby('ano')['montante'].sum()"
   ]
  },
  {
   "cell_type": "code",
   "execution_count": 230,
   "metadata": {},
   "outputs": [],
   "source": [
    "%matplotlib inline"
   ]
  },
  {
   "cell_type": "code",
   "execution_count": 231,
   "metadata": {},
   "outputs": [
    {
     "data": {
      "text/plain": [
       "<matplotlib.axes._subplots.AxesSubplot at 0x1c486f1f9b0>"
      ]
     },
     "execution_count": 231,
     "metadata": {},
     "output_type": "execute_result"
    },
    {
     "data": {
      "image/png": "[encoded data removed]",
      "text/plain": [
       "<Figure size 432x288 with 1 Axes>"
      ]
     },
     "metadata": {},
     "output_type": "display_data"
    }
   ],
   "source": [
    "faturat.plot.barh()"
   ]
  },
  {
   "cell_type": "code",
   "execution_count": 232,
   "metadata": {},
   "outputs": [
    {
     "data": {
      "text/html": [
       "<div>\n",
       "<style scoped>\n",
       "    .dataframe tbody tr th:only-of-type {\n",
       "        vertical-align: middle;\n",
       "    }\n",
       "\n",
       "    .dataframe tbody tr th {\n",
       "        vertical-align: top;\n",
       "    }\n",
       "\n",
       "    .dataframe thead th {\n",
       "        text-align: right;\n",
       "    }\n",
       "</style>\n",
       "<table border=\"1\" class=\"dataframe\">\n",
       "  <thead>\n",
       "    <tr style=\"text-align: right;\">\n",
       "      <th></th>\n",
       "      <th>órgão</th>\n",
       "      <th>montante</th>\n",
       "    </tr>\n",
       "  </thead>\n",
       "  <tbody>\n",
       "    <tr>\n",
       "      <th>0</th>\n",
       "      <td>CENTRO DE OBTENCAO DA MARINHA NO R.J.</td>\n",
       "      <td>219018</td>\n",
       "    </tr>\n",
       "    <tr>\n",
       "      <th>1</th>\n",
       "      <td>DEPARTAMENTO DE LOGISTICA EM SAUDE - DLOG</td>\n",
       "      <td>2092299</td>\n",
       "    </tr>\n",
       "    <tr>\n",
       "      <th>2</th>\n",
       "      <td>FUNDACAO NACIONAL DE SAUDE - DF</td>\n",
       "      <td>9348</td>\n",
       "    </tr>\n",
       "    <tr>\n",
       "      <th>3</th>\n",
       "      <td>FUNDACAO OSWALDO CRUZ</td>\n",
       "      <td>21784702</td>\n",
       "    </tr>\n",
       "    <tr>\n",
       "      <th>4</th>\n",
       "      <td>HOSPITAL CLINICAS/UFMG</td>\n",
       "      <td>93293</td>\n",
       "    </tr>\n",
       "    <tr>\n",
       "      <th>5</th>\n",
       "      <td>HOSPITAL DE CLINICAS DA UFPR</td>\n",
       "      <td>50275</td>\n",
       "    </tr>\n",
       "    <tr>\n",
       "      <th>6</th>\n",
       "      <td>HOSPITAL DE CLINICAS DA UFTM</td>\n",
       "      <td>15607</td>\n",
       "    </tr>\n",
       "    <tr>\n",
       "      <th>7</th>\n",
       "      <td>HOSPITAL DE CLINICAS DA UFU</td>\n",
       "      <td>144307</td>\n",
       "    </tr>\n",
       "    <tr>\n",
       "      <th>8</th>\n",
       "      <td>HOSPITAL DE CLINICAS DE PORTO ALEGRE</td>\n",
       "      <td>229530</td>\n",
       "    </tr>\n",
       "    <tr>\n",
       "      <th>9</th>\n",
       "      <td>HOSPITAL FEDERAL CARDOSO FONTES</td>\n",
       "      <td>17564</td>\n",
       "    </tr>\n",
       "    <tr>\n",
       "      <th>10</th>\n",
       "      <td>HOSPITAL FEDERAL DA LAGOA</td>\n",
       "      <td>264133</td>\n",
       "    </tr>\n",
       "    <tr>\n",
       "      <th>11</th>\n",
       "      <td>HOSPITAL FEDERAL DE BONSUCESSO</td>\n",
       "      <td>202205</td>\n",
       "    </tr>\n",
       "    <tr>\n",
       "      <th>12</th>\n",
       "      <td>HOSPITAL FEDERAL DE IPANEMA</td>\n",
       "      <td>11588</td>\n",
       "    </tr>\n",
       "    <tr>\n",
       "      <th>13</th>\n",
       "      <td>HOSPITAL FEDERAL DO ANDARAI</td>\n",
       "      <td>43706</td>\n",
       "    </tr>\n",
       "    <tr>\n",
       "      <th>14</th>\n",
       "      <td>HOSPITAL PROF. EDGARD SANTOS DA UFBA</td>\n",
       "      <td>60835</td>\n",
       "    </tr>\n",
       "    <tr>\n",
       "      <th>15</th>\n",
       "      <td>HOSPITAL UNIVERSITARIO (HU/UFGD)</td>\n",
       "      <td>29850</td>\n",
       "    </tr>\n",
       "    <tr>\n",
       "      <th>16</th>\n",
       "      <td>HOSPITAL UNIVERSITARIO MARIA AP. PEDROSSIAM</td>\n",
       "      <td>49177</td>\n",
       "    </tr>\n",
       "    <tr>\n",
       "      <th>17</th>\n",
       "      <td>HOSPITAL VITOR DO AMARAL</td>\n",
       "      <td>2129</td>\n",
       "    </tr>\n",
       "    <tr>\n",
       "      <th>18</th>\n",
       "      <td>INST. NACIONAL DE TRAUMATOLOGIA E ORTOPEDIA</td>\n",
       "      <td>42553</td>\n",
       "    </tr>\n",
       "    <tr>\n",
       "      <th>19</th>\n",
       "      <td>INSTITUTO DE TECNOLOGIA EM FARMACOS</td>\n",
       "      <td>406477</td>\n",
       "    </tr>\n",
       "    <tr>\n",
       "      <th>20</th>\n",
       "      <td>INSTITUTO NACIONAL DO CANCER - RJ</td>\n",
       "      <td>743511</td>\n",
       "    </tr>\n",
       "  </tbody>\n",
       "</table>\n",
       "</div>"
      ],
      "text/plain": [
       "                                          órgão  montante\n",
       "0         CENTRO DE OBTENCAO DA MARINHA NO R.J.    219018\n",
       "1     DEPARTAMENTO DE LOGISTICA EM SAUDE - DLOG   2092299\n",
       "2               FUNDACAO NACIONAL DE SAUDE - DF      9348\n",
       "3                         FUNDACAO OSWALDO CRUZ  21784702\n",
       "4                        HOSPITAL CLINICAS/UFMG     93293\n",
       "5                  HOSPITAL DE CLINICAS DA UFPR     50275\n",
       "6                  HOSPITAL DE CLINICAS DA UFTM     15607\n",
       "7                   HOSPITAL DE CLINICAS DA UFU    144307\n",
       "8          HOSPITAL DE CLINICAS DE PORTO ALEGRE    229530\n",
       "9               HOSPITAL FEDERAL CARDOSO FONTES     17564\n",
       "10                    HOSPITAL FEDERAL DA LAGOA    264133\n",
       "11               HOSPITAL FEDERAL DE BONSUCESSO    202205\n",
       "12                  HOSPITAL FEDERAL DE IPANEMA     11588\n",
       "13                  HOSPITAL FEDERAL DO ANDARAI     43706\n",
       "14         HOSPITAL PROF. EDGARD SANTOS DA UFBA     60835\n",
       "15             HOSPITAL UNIVERSITARIO (HU/UFGD)     29850\n",
       "16  HOSPITAL UNIVERSITARIO MARIA AP. PEDROSSIAM     49177\n",
       "17                     HOSPITAL VITOR DO AMARAL      2129\n",
       "18  INST. NACIONAL DE TRAUMATOLOGIA E ORTOPEDIA     42553\n",
       "19          INSTITUTO DE TECNOLOGIA EM FARMACOS    406477\n",
       "20            INSTITUTO NACIONAL DO CANCER - RJ    743511"
      ]
     },
     "execution_count": 232,
     "metadata": {},
     "output_type": "execute_result"
    }
   ],
   "source": [
    "teuto.groupby('órgão')['montante'].sum().reset_index()"
   ]
  },
  {
   "cell_type": "code",
   "execution_count": 233,
   "metadata": {},
   "outputs": [
    {
     "data": {
      "text/html": [
       "<div>\n",
       "<style scoped>\n",
       "    .dataframe tbody tr th:only-of-type {\n",
       "        vertical-align: middle;\n",
       "    }\n",
       "\n",
       "    .dataframe tbody tr th {\n",
       "        vertical-align: top;\n",
       "    }\n",
       "\n",
       "    .dataframe thead th {\n",
       "        text-align: right;\n",
       "    }\n",
       "</style>\n",
       "<table border=\"1\" class=\"dataframe\">\n",
       "  <thead>\n",
       "    <tr style=\"text-align: right;\">\n",
       "      <th></th>\n",
       "      <th>órgão</th>\n",
       "      <th>subordinado</th>\n",
       "      <th>montante</th>\n",
       "      <th>ano</th>\n",
       "    </tr>\n",
       "  </thead>\n",
       "  <tbody>\n",
       "    <tr>\n",
       "      <th>29</th>\n",
       "      <td>FUNDACAO OSWALDO CRUZ</td>\n",
       "      <td>Ministério da Saúde</td>\n",
       "      <td>7646560</td>\n",
       "      <td>2017</td>\n",
       "    </tr>\n",
       "  </tbody>\n",
       "</table>\n",
       "</div>"
      ],
      "text/plain": [
       "                    órgão          subordinado  montante   ano\n",
       "29  FUNDACAO OSWALDO CRUZ  Ministério da Saúde   7646560  2017"
      ]
     },
     "execution_count": 233,
     "metadata": {},
     "output_type": "execute_result"
    }
   ],
   "source": [
    "teuto[teuto['montante'] == teuto['montante'].max()]"
   ]
  },
  {
   "cell_type": "code",
   "execution_count": 234,
   "metadata": {},
   "outputs": [
    {
     "data": {
      "text/html": [
       "<div>\n",
       "<style scoped>\n",
       "    .dataframe tbody tr th:only-of-type {\n",
       "        vertical-align: middle;\n",
       "    }\n",
       "\n",
       "    .dataframe tbody tr th {\n",
       "        vertical-align: top;\n",
       "    }\n",
       "\n",
       "    .dataframe thead th {\n",
       "        text-align: right;\n",
       "    }\n",
       "</style>\n",
       "<table border=\"1\" class=\"dataframe\">\n",
       "  <thead>\n",
       "    <tr style=\"text-align: right;\">\n",
       "      <th></th>\n",
       "      <th>órgão</th>\n",
       "      <th>subordinado</th>\n",
       "      <th>montante</th>\n",
       "      <th>ano</th>\n",
       "    </tr>\n",
       "  </thead>\n",
       "  <tbody>\n",
       "    <tr>\n",
       "      <th>29</th>\n",
       "      <td>FUNDACAO OSWALDO CRUZ</td>\n",
       "      <td>Ministério da Saúde</td>\n",
       "      <td>7646560</td>\n",
       "      <td>2017</td>\n",
       "    </tr>\n",
       "    <tr>\n",
       "      <th>27</th>\n",
       "      <td>FUNDACAO OSWALDO CRUZ</td>\n",
       "      <td>Ministério da Saúde</td>\n",
       "      <td>3693451</td>\n",
       "      <td>2014</td>\n",
       "    </tr>\n",
       "    <tr>\n",
       "      <th>28</th>\n",
       "      <td>FUNDACAO OSWALDO CRUZ</td>\n",
       "      <td>Ministério da Saúde</td>\n",
       "      <td>3472709</td>\n",
       "      <td>2015</td>\n",
       "    </tr>\n",
       "    <tr>\n",
       "      <th>25</th>\n",
       "      <td>FUNDACAO OSWALDO CRUZ</td>\n",
       "      <td>Ministério da Saúde</td>\n",
       "      <td>3218199</td>\n",
       "      <td>2012</td>\n",
       "    </tr>\n",
       "    <tr>\n",
       "      <th>26</th>\n",
       "      <td>FUNDACAO OSWALDO CRUZ</td>\n",
       "      <td>Ministério da Saúde</td>\n",
       "      <td>3009035</td>\n",
       "      <td>2013</td>\n",
       "    </tr>\n",
       "  </tbody>\n",
       "</table>\n",
       "</div>"
      ],
      "text/plain": [
       "                    órgão          subordinado  montante   ano\n",
       "29  FUNDACAO OSWALDO CRUZ  Ministério da Saúde   7646560  2017\n",
       "27  FUNDACAO OSWALDO CRUZ  Ministério da Saúde   3693451  2014\n",
       "28  FUNDACAO OSWALDO CRUZ  Ministério da Saúde   3472709  2015\n",
       "25  FUNDACAO OSWALDO CRUZ  Ministério da Saúde   3218199  2012\n",
       "26  FUNDACAO OSWALDO CRUZ  Ministério da Saúde   3009035  2013"
      ]
     },
     "execution_count": 234,
     "metadata": {},
     "output_type": "execute_result"
    }
   ],
   "source": [
    "teuto.nlargest(5, 'montante')"
   ]
  },
  {
   "cell_type": "code",
   "execution_count": 235,
   "metadata": {},
   "outputs": [
    {
     "data": {
      "text/html": [
       "<div>\n",
       "<style scoped>\n",
       "    .dataframe tbody tr th:only-of-type {\n",
       "        vertical-align: middle;\n",
       "    }\n",
       "\n",
       "    .dataframe tbody tr th {\n",
       "        vertical-align: top;\n",
       "    }\n",
       "\n",
       "    .dataframe thead th {\n",
       "        text-align: right;\n",
       "    }\n",
       "</style>\n",
       "<table border=\"1\" class=\"dataframe\">\n",
       "  <thead>\n",
       "    <tr style=\"text-align: right;\">\n",
       "      <th></th>\n",
       "      <th>órgão</th>\n",
       "      <th>subordinado</th>\n",
       "      <th>montante</th>\n",
       "      <th>ano</th>\n",
       "    </tr>\n",
       "  </thead>\n",
       "  <tbody>\n",
       "    <tr>\n",
       "      <th>25</th>\n",
       "      <td>FUNDACAO OSWALDO CRUZ</td>\n",
       "      <td>Ministério da Saúde</td>\n",
       "      <td>3218199</td>\n",
       "      <td>2012</td>\n",
       "    </tr>\n",
       "    <tr>\n",
       "      <th>26</th>\n",
       "      <td>FUNDACAO OSWALDO CRUZ</td>\n",
       "      <td>Ministério da Saúde</td>\n",
       "      <td>3009035</td>\n",
       "      <td>2013</td>\n",
       "    </tr>\n",
       "    <tr>\n",
       "      <th>27</th>\n",
       "      <td>FUNDACAO OSWALDO CRUZ</td>\n",
       "      <td>Ministério da Saúde</td>\n",
       "      <td>3693451</td>\n",
       "      <td>2014</td>\n",
       "    </tr>\n",
       "    <tr>\n",
       "      <th>28</th>\n",
       "      <td>FUNDACAO OSWALDO CRUZ</td>\n",
       "      <td>Ministério da Saúde</td>\n",
       "      <td>3472709</td>\n",
       "      <td>2015</td>\n",
       "    </tr>\n",
       "    <tr>\n",
       "      <th>29</th>\n",
       "      <td>FUNDACAO OSWALDO CRUZ</td>\n",
       "      <td>Ministério da Saúde</td>\n",
       "      <td>7646560</td>\n",
       "      <td>2017</td>\n",
       "    </tr>\n",
       "  </tbody>\n",
       "</table>\n",
       "</div>"
      ],
      "text/plain": [
       "                    órgão          subordinado  montante   ano\n",
       "25  FUNDACAO OSWALDO CRUZ  Ministério da Saúde   3218199  2012\n",
       "26  FUNDACAO OSWALDO CRUZ  Ministério da Saúde   3009035  2013\n",
       "27  FUNDACAO OSWALDO CRUZ  Ministério da Saúde   3693451  2014\n",
       "28  FUNDACAO OSWALDO CRUZ  Ministério da Saúde   3472709  2015\n",
       "29  FUNDACAO OSWALDO CRUZ  Ministério da Saúde   7646560  2017"
      ]
     },
     "execution_count": 235,
     "metadata": {},
     "output_type": "execute_result"
    }
   ],
   "source": [
    "teuto[(teuto['montante'] >= 3000000.0)]"
   ]
  },
  {
   "cell_type": "code",
   "execution_count": 236,
   "metadata": {},
   "outputs": [
    {
     "data": {
      "text/plain": [
       "26512107"
      ]
     },
     "execution_count": 236,
     "metadata": {},
     "output_type": "execute_result"
    }
   ],
   "source": [
    "teuto.montante.sum()"
   ]
  },
  {
   "cell_type": "code",
   "execution_count": 237,
   "metadata": {},
   "outputs": [
    {
     "data": {
      "text/plain": [
       "CENTRO DE OBTENCAO DA MARINHA NO R.J.          7\n",
       "FUNDACAO OSWALDO CRUZ                          6\n",
       "HOSPITAL DE CLINICAS DE PORTO ALEGRE           5\n",
       "HOSPITAL UNIVERSITARIO (HU/UFGD)               3\n",
       "INSTITUTO NACIONAL DO CANCER - RJ              3\n",
       "HOSPITAL CLINICAS/UFMG                         3\n",
       "HOSPITAL DE CLINICAS DA UFPR                   3\n",
       "HOSPITAL FEDERAL DA LAGOA                      3\n",
       "HOSPITAL FEDERAL DE IPANEMA                    3\n",
       "DEPARTAMENTO DE LOGISTICA EM SAUDE - DLOG      3\n",
       "HOSPITAL PROF. EDGARD SANTOS DA UFBA           3\n",
       "HOSPITAL DE CLINICAS DA UFTM                   2\n",
       "HOSPITAL FEDERAL DE BONSUCESSO                 2\n",
       "HOSPITAL FEDERAL CARDOSO FONTES                2\n",
       "HOSPITAL FEDERAL DO ANDARAI                    2\n",
       "HOSPITAL UNIVERSITARIO MARIA AP. PEDROSSIAM    2\n",
       "HOSPITAL DE CLINICAS DA UFU                    2\n",
       "INST. NACIONAL DE TRAUMATOLOGIA E ORTOPEDIA    2\n",
       "FUNDACAO NACIONAL DE SAUDE - DF                1\n",
       "HOSPITAL VITOR DO AMARAL                       1\n",
       "INSTITUTO DE TECNOLOGIA EM FARMACOS            1\n",
       "Name: órgão, dtype: int64"
      ]
     },
     "execution_count": 237,
     "metadata": {},
     "output_type": "execute_result"
    }
   ],
   "source": [
    "teuto['órgão'].value_counts()"
   ]
  },
  {
   "cell_type": "code",
   "execution_count": 238,
   "metadata": {},
   "outputs": [
    {
     "data": {
      "text/plain": [
       "2092299"
      ]
     },
     "execution_count": 238,
     "metadata": {},
     "output_type": "execute_result"
    }
   ],
   "source": [
    "teuto[teuto['órgão'] == 'DEPARTAMENTO DE LOGISTICA EM SAUDE - DLOG'].montante.sum() "
   ]
  },
  {
   "cell_type": "code",
   "execution_count": 239,
   "metadata": {},
   "outputs": [
    {
     "data": {
      "text/plain": [
       "59"
      ]
     },
     "execution_count": 239,
     "metadata": {},
     "output_type": "execute_result"
    }
   ],
   "source": [
    "teuto.subordinado.count()"
   ]
  },
  {
   "cell_type": "code",
   "execution_count": 240,
   "metadata": {},
   "outputs": [
    {
     "data": {
      "text/plain": [
       "array(['Ministério da Educação', 'Ministério da Saúde',\n",
       "       'Ministério da Defesa'], dtype=object)"
      ]
     },
     "execution_count": 240,
     "metadata": {},
     "output_type": "execute_result"
    }
   ],
   "source": [
    "teuto.subordinado.unique()"
   ]
  },
  {
   "cell_type": "code",
   "execution_count": 241,
   "metadata": {},
   "outputs": [],
   "source": [
    "#Pagamentos feitos pelo governo federal Atualizados pelo IPCA.\n",
    "#DIMACI MATERIAL CIRURGICO LTDA 90.251.109/0001-94 \n",
    "#DROGAFONTE LTDA 08.778.201/0001-26 \n",
    "#HIPOLABOR FARMACEUTICA LTDA 19.570.720/0001-10\n",
    "#MERRIAM-FARMA COMERCIO DE PRODUTOS FARMACEUTICOS LTDA.-ME. 05.896.551/0001-07 \n",
    "#NOVAFARMA INDUSTRIA FARMACEUTICA LTDA 06.629.745/0001-09 \n",
    "#SANVAL COMERCIO E INDUSTRIA LTDA 61.068.755/0001-12 \n",
    "\n",
    "\n",
    "#Exportado em 20.10.2018\n",
    "#Fonte: Datascópio (dados.org)\n",
    "\n"
   ]
  },
  {
   "cell_type": "code",
   "execution_count": 242,
   "metadata": {},
   "outputs": [],
   "source": [
    "dimaci = pd.read_csv('pagto_dimaci.csv')"
   ]
  },
  {
   "cell_type": "code",
   "execution_count": 243,
   "metadata": {},
   "outputs": [
    {
     "name": "stdout",
     "output_type": "stream",
     "text": [
      "<class 'pandas.core.frame.DataFrame'>\n",
      "RangeIndex: 118 entries, 0 to 117\n",
      "Data columns (total 4 columns):\n",
      "órgão            118 non-null object\n",
      "Subordinado a    118 non-null object\n",
      "Montante         118 non-null int64\n",
      "Ano              118 non-null int64\n",
      "dtypes: int64(2), object(2)\n",
      "memory usage: 3.8+ KB\n"
     ]
    }
   ],
   "source": [
    "dimaci.info()"
   ]
  },
  {
   "cell_type": "code",
   "execution_count": 245,
   "metadata": {},
   "outputs": [
    {
     "data": {
      "text/plain": [
       "21560400"
      ]
     },
     "execution_count": 245,
     "metadata": {},
     "output_type": "execute_result"
    }
   ],
   "source": [
    "dimaci.Montante.sum()"
   ]
  },
  {
   "cell_type": "code",
   "execution_count": 246,
   "metadata": {},
   "outputs": [
    {
     "data": {
      "text/plain": [
       "118"
      ]
     },
     "execution_count": 246,
     "metadata": {},
     "output_type": "execute_result"
    }
   ],
   "source": [
    "dimaci['Subordinado a'].count()"
   ]
  },
  {
   "cell_type": "code",
   "execution_count": 247,
   "metadata": {},
   "outputs": [
    {
     "data": {
      "text/plain": [
       "array(['Ministério da Educação', 'Ministério da Saúde',\n",
       "       'Ministério da Defesa'], dtype=object)"
      ]
     },
     "execution_count": 247,
     "metadata": {},
     "output_type": "execute_result"
    }
   ],
   "source": [
    "dimaci['Subordinado a'].unique()"
   ]
  },
  {
   "cell_type": "code",
   "execution_count": 331,
   "metadata": {},
   "outputs": [
    {
     "data": {
      "text/plain": [
       "118"
      ]
     },
     "execution_count": 331,
     "metadata": {},
     "output_type": "execute_result"
    }
   ],
   "source": [
    "dimaci['órgão'].count()"
   ]
  },
  {
   "cell_type": "code",
   "execution_count": 249,
   "metadata": {},
   "outputs": [
    {
     "data": {
      "text/html": [
       "<div>\n",
       "<style scoped>\n",
       "    .dataframe tbody tr th:only-of-type {\n",
       "        vertical-align: middle;\n",
       "    }\n",
       "\n",
       "    .dataframe tbody tr th {\n",
       "        vertical-align: top;\n",
       "    }\n",
       "\n",
       "    .dataframe thead th {\n",
       "        text-align: right;\n",
       "    }\n",
       "</style>\n",
       "<table border=\"1\" class=\"dataframe\">\n",
       "  <thead>\n",
       "    <tr style=\"text-align: right;\">\n",
       "      <th></th>\n",
       "      <th>órgão</th>\n",
       "      <th>Subordinado a</th>\n",
       "      <th>Montante</th>\n",
       "      <th>Ano</th>\n",
       "    </tr>\n",
       "  </thead>\n",
       "  <tbody>\n",
       "    <tr>\n",
       "      <th>53</th>\n",
       "      <td>HOSPITAL NOSSA SENHORA DA CONCEICAO S/A</td>\n",
       "      <td>Ministério da Saúde</td>\n",
       "      <td>4230153</td>\n",
       "      <td>2011</td>\n",
       "    </tr>\n",
       "  </tbody>\n",
       "</table>\n",
       "</div>"
      ],
      "text/plain": [
       "                                      órgão        Subordinado a  Montante  \\\n",
       "53  HOSPITAL NOSSA SENHORA DA CONCEICAO S/A  Ministério da Saúde   4230153   \n",
       "\n",
       "     Ano  \n",
       "53  2011  "
      ]
     },
     "execution_count": 249,
     "metadata": {},
     "output_type": "execute_result"
    }
   ],
   "source": [
    "dimaci[dimaci['Montante'] == dimaci['Montante'].max()]"
   ]
  },
  {
   "cell_type": "code",
   "execution_count": 250,
   "metadata": {},
   "outputs": [
    {
     "data": {
      "text/html": [
       "<div>\n",
       "<style scoped>\n",
       "    .dataframe tbody tr th:only-of-type {\n",
       "        vertical-align: middle;\n",
       "    }\n",
       "\n",
       "    .dataframe tbody tr th {\n",
       "        vertical-align: top;\n",
       "    }\n",
       "\n",
       "    .dataframe thead th {\n",
       "        text-align: right;\n",
       "    }\n",
       "</style>\n",
       "<table border=\"1\" class=\"dataframe\">\n",
       "  <thead>\n",
       "    <tr style=\"text-align: right;\">\n",
       "      <th></th>\n",
       "      <th>órgão</th>\n",
       "      <th>Subordinado a</th>\n",
       "      <th>Montante</th>\n",
       "      <th>Ano</th>\n",
       "    </tr>\n",
       "  </thead>\n",
       "  <tbody>\n",
       "    <tr>\n",
       "      <th>53</th>\n",
       "      <td>HOSPITAL NOSSA SENHORA DA CONCEICAO S/A</td>\n",
       "      <td>Ministério da Saúde</td>\n",
       "      <td>4230153</td>\n",
       "      <td>2011</td>\n",
       "    </tr>\n",
       "    <tr>\n",
       "      <th>42</th>\n",
       "      <td>FUNDACAO OSWALDO CRUZ</td>\n",
       "      <td>Ministério da Saúde</td>\n",
       "      <td>3683661</td>\n",
       "      <td>2011</td>\n",
       "    </tr>\n",
       "    <tr>\n",
       "      <th>23</th>\n",
       "      <td>HOSPITAL DE CLINICAS DE PORTO ALEGRE</td>\n",
       "      <td>Ministério da Educação</td>\n",
       "      <td>1973099</td>\n",
       "      <td>2011</td>\n",
       "    </tr>\n",
       "    <tr>\n",
       "      <th>24</th>\n",
       "      <td>HOSPITAL DE CLINICAS DE PORTO ALEGRE</td>\n",
       "      <td>Ministério da Educação</td>\n",
       "      <td>1866165</td>\n",
       "      <td>2012</td>\n",
       "    </tr>\n",
       "    <tr>\n",
       "      <th>12</th>\n",
       "      <td>UNIVERSIDADE FEDERAL DE SANTA MARIA - HUSM</td>\n",
       "      <td>Ministério da Educação</td>\n",
       "      <td>1546051</td>\n",
       "      <td>2011</td>\n",
       "    </tr>\n",
       "  </tbody>\n",
       "</table>\n",
       "</div>"
      ],
      "text/plain": [
       "                                         órgão           Subordinado a  \\\n",
       "53     HOSPITAL NOSSA SENHORA DA CONCEICAO S/A     Ministério da Saúde   \n",
       "42                       FUNDACAO OSWALDO CRUZ     Ministério da Saúde   \n",
       "23        HOSPITAL DE CLINICAS DE PORTO ALEGRE  Ministério da Educação   \n",
       "24        HOSPITAL DE CLINICAS DE PORTO ALEGRE  Ministério da Educação   \n",
       "12  UNIVERSIDADE FEDERAL DE SANTA MARIA - HUSM  Ministério da Educação   \n",
       "\n",
       "    Montante   Ano  \n",
       "53   4230153  2011  \n",
       "42   3683661  2011  \n",
       "23   1973099  2011  \n",
       "24   1866165  2012  \n",
       "12   1546051  2011  "
      ]
     },
     "execution_count": 250,
     "metadata": {},
     "output_type": "execute_result"
    }
   ],
   "source": [
    "dimaci.nlargest(5, 'Montante')"
   ]
  },
  {
   "cell_type": "code",
   "execution_count": 251,
   "metadata": {},
   "outputs": [
    {
     "data": {
      "text/plain": [
       "array([2011, 2012, 2013, 2014, 2015, 2016], dtype=int64)"
      ]
     },
     "execution_count": 251,
     "metadata": {},
     "output_type": "execute_result"
    }
   ],
   "source": [
    "dimaci['Ano'].unique()"
   ]
  },
  {
   "cell_type": "code",
   "execution_count": 252,
   "metadata": {},
   "outputs": [
    {
     "name": "stdout",
     "output_type": "stream",
     "text": [
      "<class 'pandas.core.frame.DataFrame'>\n",
      "RangeIndex: 5 entries, 0 to 4\n",
      "Data columns (total 4 columns):\n",
      "órgão            5 non-null object\n",
      "Subordinado a    5 non-null object\n",
      "Montante         5 non-null int64\n",
      "Ano              5 non-null int64\n",
      "dtypes: int64(2), object(2)\n",
      "memory usage: 240.0+ bytes\n"
     ]
    }
   ],
   "source": [
    "sanval = pd.read_csv('pagto_sanval.csv')\n",
    "sanval.info()"
   ]
  },
  {
   "cell_type": "code",
   "execution_count": 253,
   "metadata": {},
   "outputs": [
    {
     "data": {
      "text/plain": [
       "4599816"
      ]
     },
     "execution_count": 253,
     "metadata": {},
     "output_type": "execute_result"
    }
   ],
   "source": [
    "sanval.Montante.sum()"
   ]
  },
  {
   "cell_type": "code",
   "execution_count": 254,
   "metadata": {},
   "outputs": [
    {
     "data": {
      "text/plain": [
       "array([2011, 2012, 2017], dtype=int64)"
      ]
     },
     "execution_count": 254,
     "metadata": {},
     "output_type": "execute_result"
    }
   ],
   "source": [
    "sanval['Ano'].unique()"
   ]
  },
  {
   "cell_type": "code",
   "execution_count": 332,
   "metadata": {},
   "outputs": [
    {
     "data": {
      "text/plain": [
       "5"
      ]
     },
     "execution_count": 332,
     "metadata": {},
     "output_type": "execute_result"
    }
   ],
   "source": [
    "sanval['órgão'].count()"
   ]
  },
  {
   "cell_type": "code",
   "execution_count": 333,
   "metadata": {},
   "outputs": [
    {
     "data": {
      "text/plain": [
       "array(['Ministério da Saúde', 'Ministério da Defesa'], dtype=object)"
      ]
     },
     "execution_count": 333,
     "metadata": {},
     "output_type": "execute_result"
    }
   ],
   "source": [
    "sanval['Subordinado a'].unique()"
   ]
  },
  {
   "cell_type": "code",
   "execution_count": 258,
   "metadata": {},
   "outputs": [
    {
     "name": "stdout",
     "output_type": "stream",
     "text": [
      "<class 'pandas.core.frame.DataFrame'>\n",
      "RangeIndex: 97 entries, 0 to 96\n",
      "Data columns (total 4 columns):\n",
      "Órgão            97 non-null object\n",
      "Subordinado a    97 non-null object\n",
      "Montante         97 non-null int64\n",
      "Ano              97 non-null int64\n",
      "dtypes: int64(2), object(2)\n",
      "memory usage: 3.1+ KB\n"
     ]
    }
   ],
   "source": [
    "hipolabor = pd.read_csv('pagto_hipolabor.csv')\n",
    "hipolabor.info()"
   ]
  },
  {
   "cell_type": "code",
   "execution_count": 334,
   "metadata": {},
   "outputs": [
    {
     "data": {
      "text/plain": [
       "5615127"
      ]
     },
     "execution_count": 334,
     "metadata": {},
     "output_type": "execute_result"
    }
   ],
   "source": [
    "hipolabor.Montante.sum()"
   ]
  },
  {
   "cell_type": "code",
   "execution_count": 335,
   "metadata": {},
   "outputs": [
    {
     "data": {
      "text/plain": [
       "97"
      ]
     },
     "execution_count": 335,
     "metadata": {},
     "output_type": "execute_result"
    }
   ],
   "source": [
    "hipolabor['Órgão'].count()"
   ]
  },
  {
   "cell_type": "code",
   "execution_count": 337,
   "metadata": {},
   "outputs": [
    {
     "data": {
      "text/plain": [
       "Ministério da Saúde        45\n",
       "Ministério da Educação     29\n",
       "Ministério da Defesa       16\n",
       "Órgão Genérico Geratriz     7\n",
       "Name: Subordinado a, dtype: int64"
      ]
     },
     "execution_count": 337,
     "metadata": {},
     "output_type": "execute_result"
    }
   ],
   "source": [
    "hipolabor['Subordinado a'].value_counts()"
   ]
  },
  {
   "cell_type": "code",
   "execution_count": 259,
   "metadata": {},
   "outputs": [
    {
     "data": {
      "text/plain": [
       "Ano\n",
       "2011    2487007\n",
       "2012     184950\n",
       "2013    1094601\n",
       "2014     197743\n",
       "2015       5667\n",
       "2016      96646\n",
       "2017    1548513\n",
       "Name: Montante, dtype: int64"
      ]
     },
     "execution_count": 259,
     "metadata": {},
     "output_type": "execute_result"
    }
   ],
   "source": [
    "hipolabor.groupby('Ano')['Montante'].sum()"
   ]
  },
  {
   "cell_type": "code",
   "execution_count": 260,
   "metadata": {},
   "outputs": [],
   "source": [
    "%matplotlib inline"
   ]
  },
  {
   "cell_type": "code",
   "execution_count": 261,
   "metadata": {},
   "outputs": [
    {
     "data": {
      "text/plain": [
       "<matplotlib.axes._subplots.AxesSubplot at 0x1c487044470>"
      ]
     },
     "execution_count": 261,
     "metadata": {},
     "output_type": "execute_result"
    },
    {
     "data": {
      "image/png": "[encoded data removed]",
      "text/plain": [
       "<Figure size 432x288 with 1 Axes>"
      ]
     },
     "metadata": {},
     "output_type": "display_data"
    }
   ],
   "source": [
    "grupo = hipolabor.groupby('Ano')['Montante'].sum()\n",
    "grupo.plot.barh()"
   ]
  },
  {
   "cell_type": "code",
   "execution_count": 262,
   "metadata": {},
   "outputs": [
    {
     "data": {
      "text/plain": [
       "5615127"
      ]
     },
     "execution_count": 262,
     "metadata": {},
     "output_type": "execute_result"
    }
   ],
   "source": [
    "hipolabor.Montante.sum()"
   ]
  },
  {
   "cell_type": "code",
   "execution_count": 263,
   "metadata": {},
   "outputs": [
    {
     "data": {
      "text/html": [
       "<div>\n",
       "<style scoped>\n",
       "    .dataframe tbody tr th:only-of-type {\n",
       "        vertical-align: middle;\n",
       "    }\n",
       "\n",
       "    .dataframe tbody tr th {\n",
       "        vertical-align: top;\n",
       "    }\n",
       "\n",
       "    .dataframe thead th {\n",
       "        text-align: right;\n",
       "    }\n",
       "</style>\n",
       "<table border=\"1\" class=\"dataframe\">\n",
       "  <thead>\n",
       "    <tr style=\"text-align: right;\">\n",
       "      <th></th>\n",
       "      <th>Órgão</th>\n",
       "      <th>Subordinado a</th>\n",
       "      <th>Montante</th>\n",
       "      <th>Ano</th>\n",
       "    </tr>\n",
       "  </thead>\n",
       "  <tbody>\n",
       "    <tr>\n",
       "      <th>35</th>\n",
       "      <td>HOSPITAL NOSSA SENHORA DA CONCEICAO S/A</td>\n",
       "      <td>Ministério da Saúde</td>\n",
       "      <td>779398</td>\n",
       "      <td>2011</td>\n",
       "    </tr>\n",
       "  </tbody>\n",
       "</table>\n",
       "</div>"
      ],
      "text/plain": [
       "                                      Órgão        Subordinado a  Montante  \\\n",
       "35  HOSPITAL NOSSA SENHORA DA CONCEICAO S/A  Ministério da Saúde    779398   \n",
       "\n",
       "     Ano  \n",
       "35  2011  "
      ]
     },
     "execution_count": 263,
     "metadata": {},
     "output_type": "execute_result"
    }
   ],
   "source": [
    "hipolabor[hipolabor['Montante'] == hipolabor['Montante'].max()]"
   ]
  },
  {
   "cell_type": "code",
   "execution_count": 264,
   "metadata": {},
   "outputs": [
    {
     "data": {
      "text/plain": [
       "array([2011, 2012, 2013, 2016, 2014, 2017, 2015], dtype=int64)"
      ]
     },
     "execution_count": 264,
     "metadata": {},
     "output_type": "execute_result"
    }
   ],
   "source": [
    "hipolabor['Ano'].unique()"
   ]
  },
  {
   "cell_type": "code",
   "execution_count": 265,
   "metadata": {},
   "outputs": [
    {
     "data": {
      "text/plain": [
       "array(['Ministério da Educação', 'Ministério da Saúde',\n",
       "       'Ministério da Defesa', 'Órgão Genérico Geratriz'], dtype=object)"
      ]
     },
     "execution_count": 265,
     "metadata": {},
     "output_type": "execute_result"
    }
   ],
   "source": [
    "hipolabor['Subordinado a'].unique()"
   ]
  },
  {
   "cell_type": "code",
   "execution_count": 266,
   "metadata": {},
   "outputs": [
    {
     "data": {
      "text/plain": [
       "97"
      ]
     },
     "execution_count": 266,
     "metadata": {},
     "output_type": "execute_result"
    }
   ],
   "source": [
    "hipolabor['Órgão'].count()"
   ]
  },
  {
   "cell_type": "code",
   "execution_count": 338,
   "metadata": {},
   "outputs": [
    {
     "name": "stdout",
     "output_type": "stream",
     "text": [
      "<class 'pandas.core.frame.DataFrame'>\n",
      "RangeIndex: 125 entries, 0 to 124\n",
      "Data columns (total 4 columns):\n",
      "órgão            125 non-null object\n",
      "Subordinado a    125 non-null object\n",
      "Montante         125 non-null int64\n",
      "Ano              125 non-null int64\n",
      "dtypes: int64(2), object(2)\n",
      "memory usage: 4.0+ KB\n"
     ]
    }
   ],
   "source": [
    "merriam = pd.read_csv('pagto_merrian.csv')\n",
    "merriam.info()"
   ]
  },
  {
   "cell_type": "code",
   "execution_count": 339,
   "metadata": {},
   "outputs": [
    {
     "data": {
      "text/plain": [
       "1944143"
      ]
     },
     "execution_count": 339,
     "metadata": {},
     "output_type": "execute_result"
    }
   ],
   "source": [
    "merriam['Montante'].sum()"
   ]
  },
  {
   "cell_type": "code",
   "execution_count": 269,
   "metadata": {},
   "outputs": [
    {
     "data": {
      "text/plain": [
       "1944143"
      ]
     },
     "execution_count": 269,
     "metadata": {},
     "output_type": "execute_result"
    }
   ],
   "source": [
    "merriam.Montante.sum()"
   ]
  },
  {
   "cell_type": "code",
   "execution_count": 270,
   "metadata": {},
   "outputs": [
    {
     "data": {
      "text/plain": [
       "125"
      ]
     },
     "execution_count": 270,
     "metadata": {},
     "output_type": "execute_result"
    }
   ],
   "source": [
    "merriam['órgão'].count()"
   ]
  },
  {
   "cell_type": "code",
   "execution_count": 271,
   "metadata": {},
   "outputs": [
    {
     "data": {
      "text/plain": [
       "array(['Ministério da Educação', 'Ministério da Saúde',\n",
       "       'Ministério da Defesa', 'Ministerio da Saúde'], dtype=object)"
      ]
     },
     "execution_count": 271,
     "metadata": {},
     "output_type": "execute_result"
    }
   ],
   "source": [
    "merriam['Subordinado a'].unique()"
   ]
  },
  {
   "cell_type": "code",
   "execution_count": 272,
   "metadata": {},
   "outputs": [
    {
     "data": {
      "text/html": [
       "<div>\n",
       "<style scoped>\n",
       "    .dataframe tbody tr th:only-of-type {\n",
       "        vertical-align: middle;\n",
       "    }\n",
       "\n",
       "    .dataframe tbody tr th {\n",
       "        vertical-align: top;\n",
       "    }\n",
       "\n",
       "    .dataframe thead th {\n",
       "        text-align: right;\n",
       "    }\n",
       "</style>\n",
       "<table border=\"1\" class=\"dataframe\">\n",
       "  <thead>\n",
       "    <tr style=\"text-align: right;\">\n",
       "      <th></th>\n",
       "      <th>órgão</th>\n",
       "      <th>Subordinado a</th>\n",
       "      <th>Montante</th>\n",
       "      <th>Ano</th>\n",
       "    </tr>\n",
       "  </thead>\n",
       "  <tbody>\n",
       "    <tr>\n",
       "      <th>65</th>\n",
       "      <td>INSTITUTO DE PSIQUIATRIA DA UFRJ</td>\n",
       "      <td>Ministério da Educação</td>\n",
       "      <td>639279</td>\n",
       "      <td>2013</td>\n",
       "    </tr>\n",
       "  </tbody>\n",
       "</table>\n",
       "</div>"
      ],
      "text/plain": [
       "                               órgão           Subordinado a  Montante   Ano\n",
       "65  INSTITUTO DE PSIQUIATRIA DA UFRJ  Ministério da Educação    639279  2013"
      ]
     },
     "execution_count": 272,
     "metadata": {},
     "output_type": "execute_result"
    }
   ],
   "source": [
    "merriam[merriam['Montante'] == merriam['Montante'].max()]"
   ]
  },
  {
   "cell_type": "code",
   "execution_count": 273,
   "metadata": {},
   "outputs": [
    {
     "data": {
      "text/plain": [
       "array([2011, 2012, 2014, 2015, 2016, 2013, 2017], dtype=int64)"
      ]
     },
     "execution_count": 273,
     "metadata": {},
     "output_type": "execute_result"
    }
   ],
   "source": [
    "merriam['Ano'].unique()"
   ]
  },
  {
   "cell_type": "code",
   "execution_count": 274,
   "metadata": {},
   "outputs": [],
   "source": [
    "#TORRENT DO BRASIL LTDA 33.078.528/0001-32 \n",
    "#PRODIET FARMACEUTICA LTDA 81.887.838/0001-40 "
   ]
  },
  {
   "cell_type": "code",
   "execution_count": 275,
   "metadata": {},
   "outputs": [
    {
     "name": "stdout",
     "output_type": "stream",
     "text": [
      "<class 'pandas.core.frame.DataFrame'>\n",
      "RangeIndex: 79 entries, 0 to 78\n",
      "Data columns (total 4 columns):\n",
      "órgão            79 non-null object\n",
      "Subordinado a    79 non-null object\n",
      "Montante         79 non-null int64\n",
      "Ano              79 non-null int64\n",
      "dtypes: int64(2), object(2)\n",
      "memory usage: 2.5+ KB\n"
     ]
    }
   ],
   "source": [
    "tor = pd.read_csv('pagto_torrent.csv')\n",
    "tor.info()"
   ]
  },
  {
   "cell_type": "code",
   "execution_count": 276,
   "metadata": {},
   "outputs": [
    {
     "data": {
      "text/plain": [
       "Ano\n",
       "2011    223509\n",
       "2012    851443\n",
       "2013    420655\n",
       "2014    156961\n",
       "2015    183027\n",
       "2016      1948\n",
       "Name: Montante, dtype: int64"
      ]
     },
     "execution_count": 276,
     "metadata": {},
     "output_type": "execute_result"
    }
   ],
   "source": [
    "tor.groupby('Ano')['Montante'].sum()"
   ]
  },
  {
   "cell_type": "code",
   "execution_count": 277,
   "metadata": {},
   "outputs": [
    {
     "data": {
      "text/plain": [
       "array(['Ministério da Educação', 'Ministério da Saúde',\n",
       "       'Ministério da Defesa'], dtype=object)"
      ]
     },
     "execution_count": 277,
     "metadata": {},
     "output_type": "execute_result"
    }
   ],
   "source": [
    "tor['Subordinado a'].unique()"
   ]
  },
  {
   "cell_type": "code",
   "execution_count": 278,
   "metadata": {},
   "outputs": [
    {
     "data": {
      "text/plain": [
       "1837543"
      ]
     },
     "execution_count": 278,
     "metadata": {},
     "output_type": "execute_result"
    }
   ],
   "source": [
    "tor.Montante.sum()"
   ]
  },
  {
   "cell_type": "code",
   "execution_count": 279,
   "metadata": {},
   "outputs": [
    {
     "data": {
      "text/plain": [
       "array([2012, 2013, 2011, 2015, 2016, 2014], dtype=int64)"
      ]
     },
     "execution_count": 279,
     "metadata": {},
     "output_type": "execute_result"
    }
   ],
   "source": [
    "tor['Ano'].unique()"
   ]
  },
  {
   "cell_type": "code",
   "execution_count": 280,
   "metadata": {},
   "outputs": [
    {
     "data": {
      "text/plain": [
       "79"
      ]
     },
     "execution_count": 280,
     "metadata": {},
     "output_type": "execute_result"
    }
   ],
   "source": [
    "tor['órgão'].count()\n"
   ]
  },
  {
   "cell_type": "code",
   "execution_count": 281,
   "metadata": {},
   "outputs": [
    {
     "data": {
      "text/html": [
       "<div>\n",
       "<style scoped>\n",
       "    .dataframe tbody tr th:only-of-type {\n",
       "        vertical-align: middle;\n",
       "    }\n",
       "\n",
       "    .dataframe tbody tr th {\n",
       "        vertical-align: top;\n",
       "    }\n",
       "\n",
       "    .dataframe thead th {\n",
       "        text-align: right;\n",
       "    }\n",
       "</style>\n",
       "<table border=\"1\" class=\"dataframe\">\n",
       "  <thead>\n",
       "    <tr style=\"text-align: right;\">\n",
       "      <th></th>\n",
       "      <th>órgão</th>\n",
       "      <th>Subordinado a</th>\n",
       "      <th>Montante</th>\n",
       "      <th>Ano</th>\n",
       "    </tr>\n",
       "  </thead>\n",
       "  <tbody>\n",
       "    <tr>\n",
       "      <th>66</th>\n",
       "      <td>CENTRO DE OBTENCAO DA MARINHA NO R.J.</td>\n",
       "      <td>Ministério da Defesa</td>\n",
       "      <td>440084</td>\n",
       "      <td>2012</td>\n",
       "    </tr>\n",
       "  </tbody>\n",
       "</table>\n",
       "</div>"
      ],
      "text/plain": [
       "                                    órgão         Subordinado a  Montante  \\\n",
       "66  CENTRO DE OBTENCAO DA MARINHA NO R.J.  Ministério da Defesa    440084   \n",
       "\n",
       "     Ano  \n",
       "66  2012  "
      ]
     },
     "execution_count": 281,
     "metadata": {},
     "output_type": "execute_result"
    }
   ],
   "source": [
    "tor[tor['Montante'] == tor['Montante'].max()]"
   ]
  },
  {
   "cell_type": "code",
   "execution_count": 282,
   "metadata": {},
   "outputs": [
    {
     "data": {
      "text/html": [
       "<div>\n",
       "<style scoped>\n",
       "    .dataframe tbody tr th:only-of-type {\n",
       "        vertical-align: middle;\n",
       "    }\n",
       "\n",
       "    .dataframe tbody tr th {\n",
       "        vertical-align: top;\n",
       "    }\n",
       "\n",
       "    .dataframe thead th {\n",
       "        text-align: right;\n",
       "    }\n",
       "</style>\n",
       "<table border=\"1\" class=\"dataframe\">\n",
       "  <thead>\n",
       "    <tr style=\"text-align: right;\">\n",
       "      <th></th>\n",
       "      <th>órgão</th>\n",
       "      <th>Subordinado a</th>\n",
       "      <th>Montante</th>\n",
       "      <th>Ano</th>\n",
       "    </tr>\n",
       "  </thead>\n",
       "  <tbody>\n",
       "    <tr>\n",
       "      <th>66</th>\n",
       "      <td>CENTRO DE OBTENCAO DA MARINHA NO R.J.</td>\n",
       "      <td>Ministério da Defesa</td>\n",
       "      <td>440084</td>\n",
       "      <td>2012</td>\n",
       "    </tr>\n",
       "    <tr>\n",
       "      <th>67</th>\n",
       "      <td>CENTRO DE OBTENCAO DA MARINHA NO R.J.</td>\n",
       "      <td>Ministério da Defesa</td>\n",
       "      <td>251890</td>\n",
       "      <td>2013</td>\n",
       "    </tr>\n",
       "    <tr>\n",
       "      <th>57</th>\n",
       "      <td>CENTRO DE OBTENCAO DA MARINHA NO R.J.</td>\n",
       "      <td>Ministério da Defesa</td>\n",
       "      <td>163014</td>\n",
       "      <td>2012</td>\n",
       "    </tr>\n",
       "    <tr>\n",
       "      <th>69</th>\n",
       "      <td>CENTRO DE OBTENCAO DA MARINHA NO R.J.</td>\n",
       "      <td>Ministério da Defesa</td>\n",
       "      <td>157923</td>\n",
       "      <td>2015</td>\n",
       "    </tr>\n",
       "    <tr>\n",
       "      <th>61</th>\n",
       "      <td>DIRETORIA DE SAUDE DA MARINHA</td>\n",
       "      <td>Ministério da Defesa</td>\n",
       "      <td>131334</td>\n",
       "      <td>2011</td>\n",
       "    </tr>\n",
       "  </tbody>\n",
       "</table>\n",
       "</div>"
      ],
      "text/plain": [
       "                                    órgão         Subordinado a  Montante  \\\n",
       "66  CENTRO DE OBTENCAO DA MARINHA NO R.J.  Ministério da Defesa    440084   \n",
       "67  CENTRO DE OBTENCAO DA MARINHA NO R.J.  Ministério da Defesa    251890   \n",
       "57  CENTRO DE OBTENCAO DA MARINHA NO R.J.  Ministério da Defesa    163014   \n",
       "69  CENTRO DE OBTENCAO DA MARINHA NO R.J.  Ministério da Defesa    157923   \n",
       "61          DIRETORIA DE SAUDE DA MARINHA  Ministério da Defesa    131334   \n",
       "\n",
       "     Ano  \n",
       "66  2012  \n",
       "67  2013  \n",
       "57  2012  \n",
       "69  2015  \n",
       "61  2011  "
      ]
     },
     "execution_count": 282,
     "metadata": {},
     "output_type": "execute_result"
    }
   ],
   "source": [
    "tor.nlargest(5, 'Montante')"
   ]
  },
  {
   "cell_type": "code",
   "execution_count": 283,
   "metadata": {},
   "outputs": [
    {
     "name": "stdout",
     "output_type": "stream",
     "text": [
      "<class 'pandas.core.frame.DataFrame'>\n",
      "RangeIndex: 582 entries, 0 to 581\n",
      "Data columns (total 4 columns):\n",
      "Órgão            582 non-null object\n",
      "Subordinado a    582 non-null object\n",
      "Montante         582 non-null int64\n",
      "Ano              582 non-null int64\n",
      "dtypes: int64(2), object(2)\n",
      "memory usage: 18.3+ KB\n"
     ]
    }
   ],
   "source": [
    "prodiet = pd.read_csv('pagto_prodiet.csv')\n",
    "prodiet.info()"
   ]
  },
  {
   "cell_type": "code",
   "execution_count": 284,
   "metadata": {},
   "outputs": [
    {
     "data": {
      "text/plain": [
       "582"
      ]
     },
     "execution_count": 284,
     "metadata": {},
     "output_type": "execute_result"
    }
   ],
   "source": [
    "prodiet['Órgão'].count()"
   ]
  },
  {
   "cell_type": "code",
   "execution_count": 285,
   "metadata": {},
   "outputs": [
    {
     "data": {
      "text/plain": [
       "array(['Ministério do Planejamento, Orçamento e Gestão',\n",
       "       'Ministério da Agricultura, Pecuária e Abastecimento',\n",
       "       'Transferencias a Estados, Distrito Federal e Municípios',\n",
       "       'Ministério da Educação', 'Ministério da Saúde',\n",
       "       'Ministério do Esporte', 'Ministério da Defesa',\n",
       "       'Ministério das Cidades', 'Órgão Genérico Geratriz'], dtype=object)"
      ]
     },
     "execution_count": 285,
     "metadata": {},
     "output_type": "execute_result"
    }
   ],
   "source": [
    "prodiet['Subordinado a'].unique()"
   ]
  },
  {
   "cell_type": "code",
   "execution_count": 286,
   "metadata": {},
   "outputs": [
    {
     "data": {
      "text/plain": [
       "64452552"
      ]
     },
     "execution_count": 286,
     "metadata": {},
     "output_type": "execute_result"
    }
   ],
   "source": [
    "prodiet['Montante'].sum()"
   ]
  },
  {
   "cell_type": "code",
   "execution_count": 287,
   "metadata": {},
   "outputs": [
    {
     "data": {
      "text/plain": [
       "array([2011, 2012, 2013, 2014, 2015, 2016, 2017], dtype=int64)"
      ]
     },
     "execution_count": 287,
     "metadata": {},
     "output_type": "execute_result"
    }
   ],
   "source": [
    "prodiet['Ano'].unique()"
   ]
  },
  {
   "cell_type": "code",
   "execution_count": 288,
   "metadata": {},
   "outputs": [
    {
     "data": {
      "text/html": [
       "<div>\n",
       "<style scoped>\n",
       "    .dataframe tbody tr th:only-of-type {\n",
       "        vertical-align: middle;\n",
       "    }\n",
       "\n",
       "    .dataframe tbody tr th {\n",
       "        vertical-align: top;\n",
       "    }\n",
       "\n",
       "    .dataframe thead th {\n",
       "        text-align: right;\n",
       "    }\n",
       "</style>\n",
       "<table border=\"1\" class=\"dataframe\">\n",
       "  <thead>\n",
       "    <tr style=\"text-align: right;\">\n",
       "      <th></th>\n",
       "      <th>Órgão</th>\n",
       "      <th>Subordinado a</th>\n",
       "      <th>Montante</th>\n",
       "      <th>Ano</th>\n",
       "    </tr>\n",
       "  </thead>\n",
       "  <tbody>\n",
       "    <tr>\n",
       "      <th>255</th>\n",
       "      <td>INSTITUTO NACIONAL DO CANCER - RJ</td>\n",
       "      <td>Ministério da Saúde</td>\n",
       "      <td>5433179</td>\n",
       "      <td>2017</td>\n",
       "    </tr>\n",
       "  </tbody>\n",
       "</table>\n",
       "</div>"
      ],
      "text/plain": [
       "                                 Órgão        Subordinado a  Montante   Ano\n",
       "255  INSTITUTO NACIONAL DO CANCER - RJ  Ministério da Saúde   5433179  2017"
      ]
     },
     "execution_count": 288,
     "metadata": {},
     "output_type": "execute_result"
    }
   ],
   "source": [
    "prodiet[prodiet['Montante'] == prodiet['Montante'].max()]"
   ]
  },
  {
   "cell_type": "code",
   "execution_count": 289,
   "metadata": {},
   "outputs": [
    {
     "data": {
      "text/html": [
       "<div>\n",
       "<style scoped>\n",
       "    .dataframe tbody tr th:only-of-type {\n",
       "        vertical-align: middle;\n",
       "    }\n",
       "\n",
       "    .dataframe tbody tr th {\n",
       "        vertical-align: top;\n",
       "    }\n",
       "\n",
       "    .dataframe thead th {\n",
       "        text-align: right;\n",
       "    }\n",
       "</style>\n",
       "<table border=\"1\" class=\"dataframe\">\n",
       "  <thead>\n",
       "    <tr style=\"text-align: right;\">\n",
       "      <th></th>\n",
       "      <th>Órgão</th>\n",
       "      <th>Subordinado a</th>\n",
       "      <th>Montante</th>\n",
       "      <th>Ano</th>\n",
       "    </tr>\n",
       "  </thead>\n",
       "  <tbody>\n",
       "    <tr>\n",
       "      <th>255</th>\n",
       "      <td>INSTITUTO NACIONAL DO CANCER - RJ</td>\n",
       "      <td>Ministério da Saúde</td>\n",
       "      <td>5433179</td>\n",
       "      <td>2017</td>\n",
       "    </tr>\n",
       "    <tr>\n",
       "      <th>272</th>\n",
       "      <td>HOSPITAL FEDERAL DOS SERVIDORES DO ESTADO</td>\n",
       "      <td>Ministério da Saúde</td>\n",
       "      <td>2574970</td>\n",
       "      <td>2014</td>\n",
       "    </tr>\n",
       "    <tr>\n",
       "      <th>449</th>\n",
       "      <td>HOSPITAL NAVAL MARCILIO DIAS</td>\n",
       "      <td>Ministério da Defesa</td>\n",
       "      <td>2323215</td>\n",
       "      <td>2016</td>\n",
       "    </tr>\n",
       "    <tr>\n",
       "      <th>254</th>\n",
       "      <td>INSTITUTO NACIONAL DO CANCER - RJ</td>\n",
       "      <td>Ministério da Saúde</td>\n",
       "      <td>1995329</td>\n",
       "      <td>2016</td>\n",
       "    </tr>\n",
       "    <tr>\n",
       "      <th>561</th>\n",
       "      <td>GRUPAMENTO DE APOIO DA SAUDE</td>\n",
       "      <td>Ministério da Defesa</td>\n",
       "      <td>1747099</td>\n",
       "      <td>2017</td>\n",
       "    </tr>\n",
       "  </tbody>\n",
       "</table>\n",
       "</div>"
      ],
      "text/plain": [
       "                                         Órgão         Subordinado a  \\\n",
       "255          INSTITUTO NACIONAL DO CANCER - RJ   Ministério da Saúde   \n",
       "272  HOSPITAL FEDERAL DOS SERVIDORES DO ESTADO   Ministério da Saúde   \n",
       "449               HOSPITAL NAVAL MARCILIO DIAS  Ministério da Defesa   \n",
       "254          INSTITUTO NACIONAL DO CANCER - RJ   Ministério da Saúde   \n",
       "561               GRUPAMENTO DE APOIO DA SAUDE  Ministério da Defesa   \n",
       "\n",
       "     Montante   Ano  \n",
       "255   5433179  2017  \n",
       "272   2574970  2014  \n",
       "449   2323215  2016  \n",
       "254   1995329  2016  \n",
       "561   1747099  2017  "
      ]
     },
     "execution_count": 289,
     "metadata": {},
     "output_type": "execute_result"
    }
   ],
   "source": [
    "prodiet.nlargest(5, 'Montante')"
   ]
  },
  {
   "cell_type": "code",
   "execution_count": 290,
   "metadata": {},
   "outputs": [],
   "source": [
    "nova = pd.read_csv('pagto_novafarma.csv')"
   ]
  },
  {
   "cell_type": "code",
   "execution_count": 291,
   "metadata": {},
   "outputs": [
    {
     "name": "stdout",
     "output_type": "stream",
     "text": [
      "<class 'pandas.core.frame.DataFrame'>\n",
      "RangeIndex: 360 entries, 0 to 359\n",
      "Data columns (total 4 columns):\n",
      "órgão            360 non-null object\n",
      "Subordinado a    360 non-null object\n",
      "Montante         360 non-null int64\n",
      "Ano              360 non-null int64\n",
      "dtypes: int64(2), object(2)\n",
      "memory usage: 11.3+ KB\n"
     ]
    }
   ],
   "source": [
    "nova.info()"
   ]
  },
  {
   "cell_type": "code",
   "execution_count": 292,
   "metadata": {},
   "outputs": [
    {
     "data": {
      "text/plain": [
       "53509493"
      ]
     },
     "execution_count": 292,
     "metadata": {},
     "output_type": "execute_result"
    }
   ],
   "source": [
    "nova.Montante.sum()"
   ]
  },
  {
   "cell_type": "code",
   "execution_count": 340,
   "metadata": {},
   "outputs": [
    {
     "data": {
      "text/plain": [
       "360"
      ]
     },
     "execution_count": 340,
     "metadata": {},
     "output_type": "execute_result"
    }
   ],
   "source": [
    "nova['órgão'].count()"
   ]
  },
  {
   "cell_type": "code",
   "execution_count": 342,
   "metadata": {},
   "outputs": [
    {
     "data": {
      "text/plain": [
       "array(['Ministério da Educação', 'Ministério da Saúde',\n",
       "       'Ministério da Defesa', 'Órgão Genérico Geratriz'], dtype=object)"
      ]
     },
     "execution_count": 342,
     "metadata": {},
     "output_type": "execute_result"
    }
   ],
   "source": [
    "nova['Subordinado a'].unique()"
   ]
  },
  {
   "cell_type": "code",
   "execution_count": 293,
   "metadata": {},
   "outputs": [
    {
     "data": {
      "text/plain": [
       "Ano\n",
       "2011     6106908\n",
       "2012     4007651\n",
       "2013     3174168\n",
       "2014     2948101\n",
       "2015     4101072\n",
       "2016     4625090\n",
       "2017    28546503\n",
       "Name: Montante, dtype: int64"
      ]
     },
     "execution_count": 293,
     "metadata": {},
     "output_type": "execute_result"
    }
   ],
   "source": [
    "nova.groupby('Ano')['Montante'].sum()"
   ]
  },
  {
   "cell_type": "code",
   "execution_count": 294,
   "metadata": {},
   "outputs": [],
   "source": [
    "%matplotlib inline"
   ]
  },
  {
   "cell_type": "code",
   "execution_count": 295,
   "metadata": {},
   "outputs": [
    {
     "data": {
      "text/plain": [
       "<matplotlib.axes._subplots.AxesSubplot at 0x1c4870d9748>"
      ]
     },
     "execution_count": 295,
     "metadata": {},
     "output_type": "execute_result"
    },
    {
     "data": {
      "image/png": "[encoded data removed]",
      "text/plain": [
       "<Figure size 432x288 with 1 Axes>"
      ]
     },
     "metadata": {},
     "output_type": "display_data"
    }
   ],
   "source": [
    "total = nova.groupby('Ano')['Montante'].sum()\n",
    "total.plot.bar()"
   ]
  },
  {
   "cell_type": "code",
   "execution_count": 296,
   "metadata": {},
   "outputs": [
    {
     "data": {
      "text/html": [
       "<div>\n",
       "<style scoped>\n",
       "    .dataframe tbody tr th:only-of-type {\n",
       "        vertical-align: middle;\n",
       "    }\n",
       "\n",
       "    .dataframe tbody tr th {\n",
       "        vertical-align: top;\n",
       "    }\n",
       "\n",
       "    .dataframe thead th {\n",
       "        text-align: right;\n",
       "    }\n",
       "</style>\n",
       "<table border=\"1\" class=\"dataframe\">\n",
       "  <thead>\n",
       "    <tr style=\"text-align: right;\">\n",
       "      <th></th>\n",
       "      <th>órgão</th>\n",
       "      <th>Subordinado a</th>\n",
       "      <th>Montante</th>\n",
       "      <th>Ano</th>\n",
       "    </tr>\n",
       "  </thead>\n",
       "  <tbody>\n",
       "    <tr>\n",
       "      <th>204</th>\n",
       "      <td>HOSPITAL FEDERAL DE BONSUCESSO</td>\n",
       "      <td>Ministério da Saúde</td>\n",
       "      <td>4408264</td>\n",
       "      <td>2017</td>\n",
       "    </tr>\n",
       "  </tbody>\n",
       "</table>\n",
       "</div>"
      ],
      "text/plain": [
       "                              órgão        Subordinado a  Montante   Ano\n",
       "204  HOSPITAL FEDERAL DE BONSUCESSO  Ministério da Saúde   4408264  2017"
      ]
     },
     "execution_count": 296,
     "metadata": {},
     "output_type": "execute_result"
    }
   ],
   "source": [
    "nova[nova['Montante'] == nova['Montante'].max()]"
   ]
  },
  {
   "cell_type": "code",
   "execution_count": 297,
   "metadata": {},
   "outputs": [
    {
     "data": {
      "text/plain": [
       "array(['Ministério da Educação', 'Ministério da Saúde',\n",
       "       'Ministério da Defesa', 'Órgão Genérico Geratriz'], dtype=object)"
      ]
     },
     "execution_count": 297,
     "metadata": {},
     "output_type": "execute_result"
    }
   ],
   "source": [
    "nova['Subordinado a'].unique()"
   ]
  },
  {
   "cell_type": "code",
   "execution_count": 298,
   "metadata": {},
   "outputs": [
    {
     "data": {
      "text/plain": [
       "360"
      ]
     },
     "execution_count": 298,
     "metadata": {},
     "output_type": "execute_result"
    }
   ],
   "source": [
    "nova['órgão'].count()"
   ]
  },
  {
   "cell_type": "code",
   "execution_count": 299,
   "metadata": {},
   "outputs": [
    {
     "data": {
      "text/html": [
       "<div>\n",
       "<style scoped>\n",
       "    .dataframe tbody tr th:only-of-type {\n",
       "        vertical-align: middle;\n",
       "    }\n",
       "\n",
       "    .dataframe tbody tr th {\n",
       "        vertical-align: top;\n",
       "    }\n",
       "\n",
       "    .dataframe thead th {\n",
       "        text-align: right;\n",
       "    }\n",
       "</style>\n",
       "<table border=\"1\" class=\"dataframe\">\n",
       "  <thead>\n",
       "    <tr style=\"text-align: right;\">\n",
       "      <th></th>\n",
       "      <th>órgão</th>\n",
       "      <th>Subordinado a</th>\n",
       "      <th>Montante</th>\n",
       "      <th>Ano</th>\n",
       "    </tr>\n",
       "  </thead>\n",
       "  <tbody>\n",
       "    <tr>\n",
       "      <th>204</th>\n",
       "      <td>HOSPITAL FEDERAL DE BONSUCESSO</td>\n",
       "      <td>Ministério da Saúde</td>\n",
       "      <td>4408264</td>\n",
       "      <td>2017</td>\n",
       "    </tr>\n",
       "    <tr>\n",
       "      <th>211</th>\n",
       "      <td>INSTITUTO NACIONAL DO CANCER - RJ</td>\n",
       "      <td>Ministério da Saúde</td>\n",
       "      <td>3594426</td>\n",
       "      <td>2017</td>\n",
       "    </tr>\n",
       "    <tr>\n",
       "      <th>348</th>\n",
       "      <td>EBSERH HUSM-UFSM</td>\n",
       "      <td>Órgão Genérico Geratriz</td>\n",
       "      <td>2401007</td>\n",
       "      <td>2017</td>\n",
       "    </tr>\n",
       "    <tr>\n",
       "      <th>113</th>\n",
       "      <td>HOSPITAL CLINICAS/UFMG</td>\n",
       "      <td>Ministério da Educação</td>\n",
       "      <td>1824346</td>\n",
       "      <td>2017</td>\n",
       "    </tr>\n",
       "    <tr>\n",
       "      <th>216</th>\n",
       "      <td>INST. NACIONAL DE TRAUMATOLOGIA E ORTOPEDIA</td>\n",
       "      <td>Ministério da Saúde</td>\n",
       "      <td>1264559</td>\n",
       "      <td>2017</td>\n",
       "    </tr>\n",
       "    <tr>\n",
       "      <th>120</th>\n",
       "      <td>HOSPITAL UNIVERSITARIO JOAO DE BARROS BARRETO</td>\n",
       "      <td>Ministério da Educação</td>\n",
       "      <td>996619</td>\n",
       "      <td>2017</td>\n",
       "    </tr>\n",
       "    <tr>\n",
       "      <th>188</th>\n",
       "      <td>HOSPITAL NOSSA SENHORA DA CONCEICAO S/A</td>\n",
       "      <td>Ministério da Saúde</td>\n",
       "      <td>956175</td>\n",
       "      <td>2011</td>\n",
       "    </tr>\n",
       "    <tr>\n",
       "      <th>78</th>\n",
       "      <td>HOSPITAL DE CLINICAS DA UFU</td>\n",
       "      <td>Ministério da Educação</td>\n",
       "      <td>934304</td>\n",
       "      <td>2017</td>\n",
       "    </tr>\n",
       "    <tr>\n",
       "      <th>60</th>\n",
       "      <td>HOSPITAL UNIVERSITARIO DA UFRJ</td>\n",
       "      <td>Ministério da Educação</td>\n",
       "      <td>813118</td>\n",
       "      <td>2017</td>\n",
       "    </tr>\n",
       "    <tr>\n",
       "      <th>15</th>\n",
       "      <td>MATERNIDADE ESCOLA ASSIS CHATEAUBRIAND</td>\n",
       "      <td>Ministério da Educação</td>\n",
       "      <td>812698</td>\n",
       "      <td>2017</td>\n",
       "    </tr>\n",
       "    <tr>\n",
       "      <th>344</th>\n",
       "      <td>EBSERH - HOSPITAL UNIVERSITARIO DE NATAL</td>\n",
       "      <td>Órgão Genérico Geratriz</td>\n",
       "      <td>789758</td>\n",
       "      <td>2017</td>\n",
       "    </tr>\n",
       "    <tr>\n",
       "      <th>13</th>\n",
       "      <td>HOSPITAL UNIVERSITARIO WALTER CANTIDIO</td>\n",
       "      <td>Ministério da Educação</td>\n",
       "      <td>789278</td>\n",
       "      <td>2017</td>\n",
       "    </tr>\n",
       "    <tr>\n",
       "      <th>192</th>\n",
       "      <td>HOSPITAL NOSSA SENHORA DA CONCEICAO S/A</td>\n",
       "      <td>Ministério da Saúde</td>\n",
       "      <td>732764</td>\n",
       "      <td>2017</td>\n",
       "    </tr>\n",
       "    <tr>\n",
       "      <th>283</th>\n",
       "      <td>CENTRO DE OBTENCAO DA MARINHA NO R.J.</td>\n",
       "      <td>Ministério da Defesa</td>\n",
       "      <td>723624</td>\n",
       "      <td>2017</td>\n",
       "    </tr>\n",
       "    <tr>\n",
       "      <th>229</th>\n",
       "      <td>HOSPITAL FEDERAL DOS SERVIDORES DO ESTADO</td>\n",
       "      <td>Ministério da Saúde</td>\n",
       "      <td>688783</td>\n",
       "      <td>2017</td>\n",
       "    </tr>\n",
       "    <tr>\n",
       "      <th>84</th>\n",
       "      <td>HOSPITAL DE CLINICAS DE PORTO ALEGRE</td>\n",
       "      <td>Ministério da Educação</td>\n",
       "      <td>687713</td>\n",
       "      <td>2014</td>\n",
       "    </tr>\n",
       "    <tr>\n",
       "      <th>255</th>\n",
       "      <td>HOSPITAL FEDERAL DO ANDARAI</td>\n",
       "      <td>Ministério da Saúde</td>\n",
       "      <td>686014</td>\n",
       "      <td>2017</td>\n",
       "    </tr>\n",
       "    <tr>\n",
       "      <th>87</th>\n",
       "      <td>HOSPITAL DE CLINICAS DE PORTO ALEGRE</td>\n",
       "      <td>Ministério da Educação</td>\n",
       "      <td>683293</td>\n",
       "      <td>2017</td>\n",
       "    </tr>\n",
       "    <tr>\n",
       "      <th>154</th>\n",
       "      <td>HOSPITAL DE CLINICAS DA UFTM</td>\n",
       "      <td>Ministério da Educação</td>\n",
       "      <td>637325</td>\n",
       "      <td>2017</td>\n",
       "    </tr>\n",
       "    <tr>\n",
       "      <th>79</th>\n",
       "      <td>FUNDACAO UNIVERSIDADE FEDERAL DE UBERLANDIA</td>\n",
       "      <td>Ministério da Educação</td>\n",
       "      <td>609189</td>\n",
       "      <td>2017</td>\n",
       "    </tr>\n",
       "    <tr>\n",
       "      <th>353</th>\n",
       "      <td>EBSERH HUMAP-UFMS</td>\n",
       "      <td>Órgão Genérico Geratriz</td>\n",
       "      <td>560991</td>\n",
       "      <td>2017</td>\n",
       "    </tr>\n",
       "    <tr>\n",
       "      <th>131</th>\n",
       "      <td>HOSPITAL DAS CLINICAS - UFPE</td>\n",
       "      <td>Ministério da Educação</td>\n",
       "      <td>544573</td>\n",
       "      <td>2017</td>\n",
       "    </tr>\n",
       "    <tr>\n",
       "      <th>356</th>\n",
       "      <td>EBSERH HU-UFJF</td>\n",
       "      <td>Órgão Genérico Geratriz</td>\n",
       "      <td>500867</td>\n",
       "      <td>2017</td>\n",
       "    </tr>\n",
       "    <tr>\n",
       "      <th>8</th>\n",
       "      <td>HOSPITAL UNIVERSITARIO WALTER CANTIDIO</td>\n",
       "      <td>Ministério da Educação</td>\n",
       "      <td>498870</td>\n",
       "      <td>2011</td>\n",
       "    </tr>\n",
       "    <tr>\n",
       "      <th>21</th>\n",
       "      <td>HOSPITAL DAS CLINICAS DA UFGO</td>\n",
       "      <td>Ministério da Educação</td>\n",
       "      <td>485163</td>\n",
       "      <td>2017</td>\n",
       "    </tr>\n",
       "  </tbody>\n",
       "</table>\n",
       "</div>"
      ],
      "text/plain": [
       "                                             órgão            Subordinado a  \\\n",
       "204                 HOSPITAL FEDERAL DE BONSUCESSO      Ministério da Saúde   \n",
       "211              INSTITUTO NACIONAL DO CANCER - RJ      Ministério da Saúde   \n",
       "348                               EBSERH HUSM-UFSM  Órgão Genérico Geratriz   \n",
       "113                         HOSPITAL CLINICAS/UFMG   Ministério da Educação   \n",
       "216    INST. NACIONAL DE TRAUMATOLOGIA E ORTOPEDIA      Ministério da Saúde   \n",
       "120  HOSPITAL UNIVERSITARIO JOAO DE BARROS BARRETO   Ministério da Educação   \n",
       "188        HOSPITAL NOSSA SENHORA DA CONCEICAO S/A      Ministério da Saúde   \n",
       "78                     HOSPITAL DE CLINICAS DA UFU   Ministério da Educação   \n",
       "60                  HOSPITAL UNIVERSITARIO DA UFRJ   Ministério da Educação   \n",
       "15          MATERNIDADE ESCOLA ASSIS CHATEAUBRIAND   Ministério da Educação   \n",
       "344       EBSERH - HOSPITAL UNIVERSITARIO DE NATAL  Órgão Genérico Geratriz   \n",
       "13          HOSPITAL UNIVERSITARIO WALTER CANTIDIO   Ministério da Educação   \n",
       "192        HOSPITAL NOSSA SENHORA DA CONCEICAO S/A      Ministério da Saúde   \n",
       "283          CENTRO DE OBTENCAO DA MARINHA NO R.J.     Ministério da Defesa   \n",
       "229      HOSPITAL FEDERAL DOS SERVIDORES DO ESTADO      Ministério da Saúde   \n",
       "84            HOSPITAL DE CLINICAS DE PORTO ALEGRE   Ministério da Educação   \n",
       "255                    HOSPITAL FEDERAL DO ANDARAI      Ministério da Saúde   \n",
       "87            HOSPITAL DE CLINICAS DE PORTO ALEGRE   Ministério da Educação   \n",
       "154                   HOSPITAL DE CLINICAS DA UFTM   Ministério da Educação   \n",
       "79     FUNDACAO UNIVERSIDADE FEDERAL DE UBERLANDIA   Ministério da Educação   \n",
       "353                              EBSERH HUMAP-UFMS  Órgão Genérico Geratriz   \n",
       "131                   HOSPITAL DAS CLINICAS - UFPE   Ministério da Educação   \n",
       "356                                 EBSERH HU-UFJF  Órgão Genérico Geratriz   \n",
       "8           HOSPITAL UNIVERSITARIO WALTER CANTIDIO   Ministério da Educação   \n",
       "21                   HOSPITAL DAS CLINICAS DA UFGO   Ministério da Educação   \n",
       "\n",
       "     Montante   Ano  \n",
       "204   4408264  2017  \n",
       "211   3594426  2017  \n",
       "348   2401007  2017  \n",
       "113   1824346  2017  \n",
       "216   1264559  2017  \n",
       "120    996619  2017  \n",
       "188    956175  2011  \n",
       "78     934304  2017  \n",
       "60     813118  2017  \n",
       "15     812698  2017  \n",
       "344    789758  2017  \n",
       "13     789278  2017  \n",
       "192    732764  2017  \n",
       "283    723624  2017  \n",
       "229    688783  2017  \n",
       "84     687713  2014  \n",
       "255    686014  2017  \n",
       "87     683293  2017  \n",
       "154    637325  2017  \n",
       "79     609189  2017  \n",
       "353    560991  2017  \n",
       "131    544573  2017  \n",
       "356    500867  2017  \n",
       "8      498870  2011  \n",
       "21     485163  2017  "
      ]
     },
     "execution_count": 299,
     "metadata": {},
     "output_type": "execute_result"
    }
   ],
   "source": [
    "nova.nlargest(25, 'Montante')"
   ]
  },
  {
   "cell_type": "code",
   "execution_count": 300,
   "metadata": {},
   "outputs": [],
   "source": [
    "ano17 = nova.nlargest(25, 'Montante')"
   ]
  },
  {
   "cell_type": "code",
   "execution_count": 301,
   "metadata": {},
   "outputs": [
    {
     "data": {
      "text/plain": [
       "array(['Ministério da Saúde', 'Órgão Genérico Geratriz',\n",
       "       'Ministério da Educação', 'Ministério da Defesa'], dtype=object)"
      ]
     },
     "execution_count": 301,
     "metadata": {},
     "output_type": "execute_result"
    }
   ],
   "source": [
    "ano17['Subordinado a'].unique()"
   ]
  },
  {
   "cell_type": "code",
   "execution_count": 302,
   "metadata": {},
   "outputs": [
    {
     "data": {
      "text/html": [
       "<div>\n",
       "<style scoped>\n",
       "    .dataframe tbody tr th:only-of-type {\n",
       "        vertical-align: middle;\n",
       "    }\n",
       "\n",
       "    .dataframe tbody tr th {\n",
       "        vertical-align: top;\n",
       "    }\n",
       "\n",
       "    .dataframe thead th {\n",
       "        text-align: right;\n",
       "    }\n",
       "</style>\n",
       "<table border=\"1\" class=\"dataframe\">\n",
       "  <thead>\n",
       "    <tr style=\"text-align: right;\">\n",
       "      <th></th>\n",
       "      <th>órgão</th>\n",
       "      <th>Subordinado a</th>\n",
       "      <th>Montante</th>\n",
       "      <th>Ano</th>\n",
       "    </tr>\n",
       "  </thead>\n",
       "  <tbody>\n",
       "    <tr>\n",
       "      <th>204</th>\n",
       "      <td>HOSPITAL FEDERAL DE BONSUCESSO</td>\n",
       "      <td>Ministério da Saúde</td>\n",
       "      <td>4408264</td>\n",
       "      <td>2017</td>\n",
       "    </tr>\n",
       "  </tbody>\n",
       "</table>\n",
       "</div>"
      ],
      "text/plain": [
       "                              órgão        Subordinado a  Montante   Ano\n",
       "204  HOSPITAL FEDERAL DE BONSUCESSO  Ministério da Saúde   4408264  2017"
      ]
     },
     "execution_count": 302,
     "metadata": {},
     "output_type": "execute_result"
    }
   ],
   "source": [
    "ano17[ano17['Montante'] == ano17['Montante'].max()]"
   ]
  },
  {
   "cell_type": "code",
   "execution_count": null,
   "metadata": {},
   "outputs": [],
   "source": []
  }
 ],
 "metadata": {
  "kernelspec": {
   "display_name": "Python 3",
   "language": "python",
   "name": "python3"
  },
  "language_info": {
   "codemirror_mode": {
    "name": "ipython",
    "version": 3
   },
   "file_extension": ".py",
   "mimetype": "text/x-python",
   "name": "python",
   "nbconvert_exporter": "python",
   "pygments_lexer": "ipython3",
   "version": "3.6.5"
  }
 },
 "nbformat": 4,
 "nbformat_minor": 2
}
